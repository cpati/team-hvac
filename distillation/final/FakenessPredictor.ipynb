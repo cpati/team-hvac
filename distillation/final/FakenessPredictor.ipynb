{
 "cells": [
  {
   "cell_type": "markdown",
   "metadata": {},
   "source": [
    "## This is the MAIN notebook\n",
    "## It contains final equation, it calls other factor notebooks to get the individual factor score"
   ]
  },
  {
   "cell_type": "code",
   "execution_count": 8,
   "metadata": {},
   "outputs": [],
   "source": [
    "from SpellChecker import SpellChecker\n",
    "from PoliticalAffilicationDetector import PoliticalAffilicationDetector\n",
    "from SpamDetection import SpamDetection\n",
    "from StanceDetection import StanceDetection"
   ]
  },
  {
   "cell_type": "code",
   "execution_count": 9,
   "metadata": {},
   "outputs": [],
   "source": [
    "def fakeness(news):\n",
    "    sensationalism_factor=1\n",
    "    political_affilication_factor=PoliticalAffilicationDetector(news).predict()\n",
    "    political_affilication_factor=1\n",
    "    spam_detection_factor=SpamDetection(news).predict()\n",
    "    stance_detection_factor=StanceDetection(news).predict()\n",
    "    spelling_error_factor=SpellChecker(news).predict()\n",
    "    print('political_affilication_factor:',political_affilication_factor)\n",
    "    print('spelling_error_factor:',spelling_error_factor)\n",
    "    print('spam_detection_factor:',spam_detection_factor)\n",
    "    print('stance_detection_factor:',stance_detection_factor)\n",
    "    return weighted_percentage(sensationalism_factor,political_affilication_factor,\n",
    "                       spam_detection_factor,stance_detection_factor,\n",
    "                       spelling_error_factor)"
   ]
  },
  {
   "cell_type": "code",
   "execution_count": 10,
   "metadata": {},
   "outputs": [],
   "source": [
    "def weighted_percentage(sensationalism_factor,political_affilication_factor,\n",
    "                       spam_detection_factor,stance_detection_factor,\n",
    "                       spelling_error_factor):\n",
    "    sensationalism_weight=.9\n",
    "    political_affilication_weight=.85\n",
    "    spam_detection_weight=.65\n",
    "    stance_detection_weight=.75\n",
    "    spelling_error_weight=.8\n",
    "    total_weight=sensationalism_weight+political_affilication_weight+spam_detection_weight+stance_detection_weight+ spelling_error_weight\n",
    "    return (((sensationalism_factor*sensationalism_weight)+\n",
    "            (political_affilication_factor*political_affilication_weight)+\n",
    "            (spam_detection_factor*spam_detection_weight)+\n",
    "            (stance_detection_factor*stance_detection_weight)+\n",
    "            (spelling_error_factor*spelling_error_weight))/total_weight)*100"
   ]
  },
  {
   "cell_type": "code",
   "execution_count": 11,
   "metadata": {},
   "outputs": [
    {
     "name": "stdout",
     "output_type": "stream",
     "text": [
      "100.0\n"
     ]
    }
   ],
   "source": [
    "print(weighted_percentage(1,1,1,1,1))"
   ]
  },
  {
   "cell_type": "code",
   "execution_count": 12,
   "metadata": {},
   "outputs": [
    {
     "name": "stdout",
     "output_type": "stream",
     "text": [
      "0.0\n"
     ]
    }
   ],
   "source": [
    "print(weighted_percentage(0,0,0,0,0))"
   ]
  },
  {
   "cell_type": "code",
   "execution_count": 13,
   "metadata": {},
   "outputs": [
    {
     "name": "stdout",
     "output_type": "stream",
     "text": [
      "81.13924050632912\n"
     ]
    }
   ],
   "source": [
    "print(weighted_percentage(.8,.6,1,.7,1))"
   ]
  },
  {
   "cell_type": "markdown",
   "metadata": {},
   "source": [
    "## Check Fakeness of a news article"
   ]
  },
  {
   "cell_type": "code",
   "execution_count": 14,
   "metadata": {},
   "outputs": [
    {
     "name": "stdout",
     "output_type": "stream",
     "text": [
      "spelling_error_factor: 0\n",
      "spam_detection_factor: 0\n",
      "stance_detection_factor: 1\n"
     ]
    },
    {
     "data": {
      "text/plain": [
       "63.291139240506325"
      ]
     },
     "execution_count": 14,
     "metadata": {},
     "output_type": "execute_result"
    }
   ],
   "source": [
    "input_news='Obamacare will provide insurance to all non-U.S. residents, even if they are here illegally.'\n",
    "fakeness(input_news)"
   ]
  },
  {
   "cell_type": "code",
   "execution_count": 15,
   "metadata": {},
   "outputs": [
    {
     "name": "stdout",
     "output_type": "stream",
     "text": [
      "spelling_error_factor: 0\n",
      "spam_detection_factor: 0\n",
      "stance_detection_factor: 1\n"
     ]
    },
    {
     "data": {
      "text/plain": [
       "63.291139240506325"
      ]
     },
     "execution_count": 15,
     "metadata": {},
     "output_type": "execute_result"
    }
   ],
   "source": [
    "input_news='Hillary Clinton in 2005 co-sponsored legislation that would jail flag burners.'\n",
    "fakeness(input_news)"
   ]
  }
 ],
 "metadata": {
  "kernelspec": {
   "display_name": "Python 3",
   "language": "python",
   "name": "python3"
  },
  "language_info": {
   "codemirror_mode": {
    "name": "ipython",
    "version": 3
   },
   "file_extension": ".py",
   "mimetype": "text/x-python",
   "name": "python",
   "nbconvert_exporter": "python",
   "pygments_lexer": "ipython3",
   "version": "3.6.5"
  }
 },
 "nbformat": 4,
 "nbformat_minor": 2
}

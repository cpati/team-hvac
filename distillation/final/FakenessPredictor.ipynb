{
 "cells": [
  {
   "cell_type": "code",
   "execution_count": 1,
   "metadata": {},
   "outputs": [
    {
     "name": "stdout",
     "output_type": "stream",
     "text": [
      "[nltk_data] Downloading package stopwords to\n",
      "[nltk_data]     /Users/chidanandapati/nltk_data...\n",
      "[nltk_data]   Package stopwords is already up-to-date!\n",
      "[nltk_data] Downloading package punkt to\n",
      "[nltk_data]     /Users/chidanandapati/nltk_data...\n",
      "[nltk_data]   Package punkt is already up-to-date!\n",
      "[nltk_data] Downloading package wordnet to\n",
      "[nltk_data]     /Users/chidanandapati/nltk_data...\n",
      "[nltk_data]   Package wordnet is already up-to-date!\n",
      "[nltk_data] Downloading package stopwords to\n",
      "[nltk_data]     /Users/chidanandapati/nltk_data...\n",
      "[nltk_data]   Package stopwords is already up-to-date!\n",
      "[nltk_data] Downloading package punkt to\n",
      "[nltk_data]     /Users/chidanandapati/nltk_data...\n",
      "[nltk_data]   Package punkt is already up-to-date!\n",
      "[nltk_data] Downloading package wordnet to\n",
      "[nltk_data]     /Users/chidanandapati/nltk_data...\n",
      "[nltk_data]   Package wordnet is already up-to-date!\n",
      "Model Saved\n",
      "             precision    recall  f1-score   support\n",
      "\n",
      "          0       0.49      0.23      0.31      1331\n",
      "          1       0.58      0.82      0.68      1741\n",
      "\n",
      "avg / total       0.54      0.56      0.52      3072\n",
      "\n"
     ]
    }
   ],
   "source": [
    "from SpellChecker import SpellChecker\n",
    "from PoliticalAffilicationDetector import PoliticalAffilicationDetector"
   ]
  },
  {
   "cell_type": "code",
   "execution_count": 24,
   "metadata": {},
   "outputs": [],
   "source": [
    "def fakeness(news):\n",
    "    sensationalism_factor=1\n",
    "    political_affilication_factor=PoliticalAffilicationDetector(news).predict()\n",
    "    spam_detection_factor=1\n",
    "    stance_detection_factor=1\n",
    "    spelling_error_factor=SpellChecker(news).predict()\n",
    "    print('political_affilication_factor:',political_affilication_factor)\n",
    "    print('spelling_error_factor:',spelling_error_factor)\n",
    "    return weighted_percentage(sensationalism_factor,political_affilication_factor,\n",
    "                       spam_detection_factor,stance_detection_factor,\n",
    "                       spelling_error_factor)"
   ]
  },
  {
   "cell_type": "code",
   "execution_count": 33,
   "metadata": {},
   "outputs": [],
   "source": [
    "def weighted_percentage(sensationalism_factor,political_affilication_factor,\n",
    "                       spam_detection_factor,stance_detection_factor,\n",
    "                       spelling_error_factor):\n",
    "    sensationalism_weight=.9\n",
    "    political_affilication_weight=.85\n",
    "    spam_detection_weight=.65\n",
    "    stance_detection_weight=.75\n",
    "    spelling_error_weight=.8\n",
    "    total_weight=sensationalism_weight+political_affilication_weight+spam_detection_weight+stance_detection_weight+ spelling_error_weight\n",
    "    return (((sensationalism_factor*sensationalism_weight)+\n",
    "            (political_affilication_factor*political_affilication_weight)+\n",
    "            (spam_detection_factor*spam_detection_weight)+\n",
    "            (stance_detection_factor*stance_detection_weight)+\n",
    "            (spelling_error_factor*spelling_error_weight))/total_weight)*100"
   ]
  },
  {
   "cell_type": "code",
   "execution_count": 26,
   "metadata": {},
   "outputs": [
    {
     "name": "stdout",
     "output_type": "stream",
     "text": [
      "1.0\n"
     ]
    }
   ],
   "source": [
    "print(weighted_percentage(1,1,1,1,1))"
   ]
  },
  {
   "cell_type": "code",
   "execution_count": 27,
   "metadata": {},
   "outputs": [
    {
     "name": "stdout",
     "output_type": "stream",
     "text": [
      "0.0\n"
     ]
    }
   ],
   "source": [
    "print(weighted_percentage(0,0,0,0,0))"
   ]
  },
  {
   "cell_type": "code",
   "execution_count": 28,
   "metadata": {},
   "outputs": [
    {
     "name": "stdout",
     "output_type": "stream",
     "text": [
      "0.8113924050632911\n"
     ]
    }
   ],
   "source": [
    "print(weighted_percentage(.8,.6,1,.7,1))"
   ]
  },
  {
   "cell_type": "markdown",
   "metadata": {},
   "source": [
    "## Check Fakeness of a news article"
   ]
  },
  {
   "cell_type": "code",
   "execution_count": 34,
   "metadata": {},
   "outputs": [
    {
     "name": "stdout",
     "output_type": "stream",
     "text": [
      "political_affilication_factor: 0.3558976046076414\n",
      "spelling_error_factor: 0\n"
     ]
    },
    {
     "data": {
      "text/plain": [
       "65.88640414978468"
      ]
     },
     "execution_count": 34,
     "metadata": {},
     "output_type": "execute_result"
    }
   ],
   "source": [
    "input_news='Obamacare will provide insurance to all non-U.S. residents, even if they are here illegally.'\n",
    "fakeness(input_news)"
   ]
  },
  {
   "cell_type": "code",
   "execution_count": 35,
   "metadata": {},
   "outputs": [
    {
     "name": "stdout",
     "output_type": "stream",
     "text": [
      "political_affilication_factor: 0.24153751726726252\n",
      "spelling_error_factor: 0\n"
     ]
    },
    {
     "data": {
      "text/plain": [
       "63.42549087790312"
      ]
     },
     "execution_count": 35,
     "metadata": {},
     "output_type": "execute_result"
    }
   ],
   "source": [
    "input_news='Hillary Clinton in 2005 co-sponsored legislation that would jail flag burners.'\n",
    "fakeness(input_news)"
   ]
  },
  {
   "cell_type": "code",
   "execution_count": null,
   "metadata": {},
   "outputs": [],
   "source": []
  }
 ],
 "metadata": {
  "kernelspec": {
   "display_name": "Python 3",
   "language": "python",
   "name": "python3"
  },
  "language_info": {
   "codemirror_mode": {
    "name": "ipython",
    "version": 3
   },
   "file_extension": ".py",
   "mimetype": "text/x-python",
   "name": "python",
   "nbconvert_exporter": "python",
   "pygments_lexer": "ipython3",
   "version": "3.6.5"
  }
 },
 "nbformat": 4,
 "nbformat_minor": 2
}

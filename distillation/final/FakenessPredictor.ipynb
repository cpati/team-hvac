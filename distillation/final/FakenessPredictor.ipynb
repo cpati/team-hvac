{
 "cells": [
  {
   "cell_type": "markdown",
   "metadata": {},
   "source": [
    "#### This is the MAIN notebook\n",
    "#### It contains final equation, it calls other factor notebooks to get the individual factor score"
   ]
  },
  {
   "cell_type": "markdown",
   "metadata": {},
   "source": [
    "Before starting please install following if not installed\n",
    "- pip install pyenchant\n",
    "- pip install vaderSentiment"
   ]
  },
  {
   "cell_type": "code",
   "execution_count": 1,
   "metadata": {},
   "outputs": [
    {
     "name": "stdout",
     "output_type": "stream",
     "text": [
      "[nltk_data] Downloading package stopwords to\n",
      "[nltk_data]     /Users/chidanandapati/nltk_data...\n",
      "[nltk_data]   Package stopwords is already up-to-date!\n",
      "[nltk_data] Downloading package punkt to\n",
      "[nltk_data]     /Users/chidanandapati/nltk_data...\n",
      "[nltk_data]   Package punkt is already up-to-date!\n",
      "[nltk_data] Downloading package wordnet to\n",
      "[nltk_data]     /Users/chidanandapati/nltk_data...\n",
      "[nltk_data]   Package wordnet is already up-to-date!\n",
      "[nltk_data] Downloading package stopwords to\n",
      "[nltk_data]     /Users/chidanandapati/nltk_data...\n",
      "[nltk_data]   Package stopwords is already up-to-date!\n",
      "[nltk_data] Downloading package punkt to\n",
      "[nltk_data]     /Users/chidanandapati/nltk_data...\n",
      "[nltk_data]   Package punkt is already up-to-date!\n",
      "[nltk_data] Downloading package wordnet to\n",
      "[nltk_data]     /Users/chidanandapati/nltk_data...\n",
      "[nltk_data]   Package wordnet is already up-to-date!\n",
      "1\n",
      "At index 70026, Claim - Senegal closes border with Guinea to stop spread of deadly Ebola virus\n",
      "** Similar news articles **\n",
      "1003    BAGHDAD, Iraq – The Islamic State (ISIS) incin...\n",
      "Name: articleBody, dtype: object\n",
      "2\n",
      "At index 94671, Claim - What to expect: 'Game of Thrones' season 4 premiere\n",
      "** Similar news articles **\n",
      "716    Apple is in negotiations to make the Apple TV ...\n",
      "Name: articleBody, dtype: object\n",
      "3\n",
      "At index 94704, Claim - Game of Thrones season 4 premiere crashes HBO GO\n",
      "** Similar news articles **\n",
      "15    HBO's subscription streaming service will be c...\n",
      "Name: articleBody, dtype: object\n",
      "4\n",
      "At index 118208, Claim - David Fincher Probably Won't Direct The Steve Jobs Movie\n",
      "** Similar news articles **\n",
      "405    Batman as Steve Jobs? Sure. How about that guy...\n",
      "Name: articleBody, dtype: object\n",
      "5\n",
      "At index 118212, Claim - Steve Jobs Movie Will Not Be Directed By David Fincher\n",
      "** Similar news articles **\n",
      "272    Sony's high-profile biopic of Apple co-founder...\n",
      "Name: articleBody, dtype: object\n",
      "6\n",
      "At index 118220, Claim - David Fincher won't be doing that Steve Jobs biopic after all\n",
      "** Similar news articles **\n",
      "405    Batman as Steve Jobs? Sure. How about that guy...\n",
      "Name: articleBody, dtype: object\n",
      "7\n",
      "At index 118268, Claim - 'Social Network' Director David Fincher Will Not Helm Steve Jobs Movie\n",
      "** Similar news articles **\n",
      "660    Actor Seth Rogen, famous for comedic roles in ...\n",
      "Name: articleBody, dtype: object\n",
      "8\n",
      "At index 142890, Claim - Far More Asteroids Have Hit The Earth Than We Thought, Astronauts Say\n",
      "** Similar news articles **\n",
      "6    (CNN) -- A meteorite crashed down in Managua, ...\n",
      "Name: articleBody, dtype: object\n",
      "9\n",
      "At index 147439, Claim - Sony Steve Jobs movie may land Danny Boyle to direct and DiCaprio to star\n",
      "** Similar news articles **\n",
      "1634    Cristian Bale is eyeing — or i-ing, if you pre...\n",
      "Name: articleBody, dtype: object\n",
      "10\n",
      "At index 147451, Claim - Leonardo DiCaprio to Play Steve Jobs With Slumdog Millionaire's Danny Boyle  ...\n",
      "** Similar news articles **\n",
      "405    Batman as Steve Jobs? Sure. How about that guy...\n",
      "Name: articleBody, dtype: object\n",
      "11\n",
      "At index 147506, Claim - Danny Boyle May Direct Aaron Sorkin's Steve Jobs Biopic, With Leonardo  ...\n",
      "** Similar news articles **\n",
      "1634    Cristian Bale is eyeing — or i-ing, if you pre...\n",
      "Name: articleBody, dtype: object\n",
      "12\n",
      "At index 149600, Claim - iOS 7.1.1 update live, prompts passcode\n",
      "** Similar news articles **\n",
      "1438    It appears we have the world’s first hoax seri...\n",
      "Name: articleBody, dtype: object\n",
      "13\n",
      "At index 153799, Claim - Amazon will add older HBO shows to Prime Instant Video, HBO Go to Fire TV\n",
      "** Similar news articles **\n",
      "540    The new season of Game of Thrones starts next ...\n",
      "Name: articleBody, dtype: object\n",
      "14\n",
      "At index 164708, Claim - Netflix moves in on HBO's turf, gets its first cable TV box deal\n",
      "** Similar news articles **\n",
      "716    Apple is in negotiations to make the Apple TV ...\n",
      "Name: articleBody, dtype: object\n",
      "15\n",
      "At index 185231, Claim - Apple Inc. Finally Fills Its Retail Void\n",
      "** Similar news articles **\n",
      "503    The Apple Watch may be coming to your local Ap...\n",
      "Name: articleBody, dtype: object\n",
      "16\n",
      "At index 218785, Claim - US reports first case of local transmission of MERS: CDC\n",
      "** Similar news articles **\n",
      "422    Claim: The town of Purdon, Texas was quarantin...\n",
      "Name: articleBody, dtype: object\n",
      "17\n",
      "At index 267855, Claim - Hands on: First tablet with Intel's Broadwell thinner than iPad Air\n",
      "** Similar news articles **\n",
      "734    In a set of artist renditions, 9to5Mac offers ...\n",
      "Name: articleBody, dtype: object\n",
      "18\n",
      "At index 274941, Claim - Gwar Frontman David Brockie Died Of Heroin Overdose\n",
      "** Similar news articles **\n",
      "1663    News that the ‘Home Alone’ star has allegedly ...\n",
      "Name: articleBody, dtype: object\n",
      "19\n",
      "At index 284947, Claim - Obit: Ruby Dee's legacy of activism, acting remembered\n",
      "** Similar news articles **\n",
      "1350    Big Bank Hank ... the Sugarhill Gang rapper be...\n",
      "Name: articleBody, dtype: object\n",
      "20\n",
      "At index 367480, Claim - Samsung, Dell, Intel to Set IoT Standards\n",
      "** Similar news articles **\n",
      "734    In a set of artist renditions, 9to5Mac offers ...\n",
      "Name: articleBody, dtype: object\n",
      "21\n",
      "At index 399495, Claim - Apple's Upgrades 13in and 15in MacBook Pro Range Ahead of 12in MacBook  ...\n",
      "** Similar news articles **\n",
      "909    Our Retina MacBook Air rumour article brings t...\n",
      "Name: articleBody, dtype: object\n",
      "[nltk_data] Downloading package stopwords to\n",
      "[nltk_data]     /Users/chidanandapati/nltk_data...\n",
      "[nltk_data]   Package stopwords is already up-to-date!\n",
      "[nltk_data] Downloading package stopwords to\n",
      "[nltk_data]     /Users/chidanandapati/nltk_data...\n",
      "[nltk_data]   Package stopwords is already up-to-date!\n"
     ]
    }
   ],
   "source": [
    "from SpellChecker import SpellChecker\n",
    "from PoliticalAffilicationDetector import PoliticalAffilicationDetector\n",
    "from SpamDetection import SpamDetection\n",
    "from StanceDetection import StanceDetection\n",
    "from Sensationalism import Sensationalism"
   ]
  },
  {
   "cell_type": "markdown",
   "metadata": {},
   "source": [
    "#### This function calculates fakeness percentage using the weighted_percentage function passing all factors fakeness score. It calls respective factors class to get the fakeness score of individual factor"
   ]
  },
  {
   "cell_type": "code",
   "execution_count": 20,
   "metadata": {},
   "outputs": [],
   "source": [
    "def fakeness(news):\n",
    "    sensationalism_factor=Sensationalism(news).predict()\n",
    "    political_affilication_factor=PoliticalAffilicationDetector(news).predict()\n",
    "    spam_detection_factor=SpamDetection(news).predict()\n",
    "    stance_detection_factor=StanceDetection(news).predict()\n",
    "    spelling_error_factor=SpellChecker(news).predict()\n",
    "    print('sensationalism_factor:',sensationalism_factor)    \n",
    "    print('political_affilication_factor:',political_affilication_factor)\n",
    "    print('spelling_error_factor:',spelling_error_factor)\n",
    "    print('spam_detection_factor:',spam_detection_factor)\n",
    "    print('stance_detection_factor:',stance_detection_factor)\n",
    "    return weighted_percentage(sensationalism_factor,political_affilication_factor,\n",
    "                       spam_detection_factor,stance_detection_factor,\n",
    "                       spelling_error_factor)"
   ]
  },
  {
   "cell_type": "markdown",
   "metadata": {},
   "source": [
    "#### This function uses the final equation to give the weighted percentage"
   ]
  },
  {
   "cell_type": "code",
   "execution_count": 21,
   "metadata": {},
   "outputs": [],
   "source": [
    "def weighted_percentage(sensationalism_factor,political_affilication_factor,\n",
    "                       spam_detection_factor,stance_detection_factor,\n",
    "                       spelling_error_factor):\n",
    "    sensationalism_weight=.9\n",
    "    political_affilication_weight=.85\n",
    "    spam_detection_weight=.65\n",
    "    stance_detection_weight=.75\n",
    "    spelling_error_weight=.8\n",
    "    total_weight=sensationalism_weight+political_affilication_weight+spam_detection_weight+stance_detection_weight+ spelling_error_weight\n",
    "    return (((sensationalism_factor*sensationalism_weight)+\n",
    "            (political_affilication_factor*political_affilication_weight)+\n",
    "            (spam_detection_factor*spam_detection_weight)+\n",
    "            (stance_detection_factor*stance_detection_weight)+\n",
    "            (spelling_error_factor*spelling_error_weight))/total_weight)*100"
   ]
  },
  {
   "cell_type": "code",
   "execution_count": 22,
   "metadata": {},
   "outputs": [
    {
     "name": "stdout",
     "output_type": "stream",
     "text": [
      "100.0\n"
     ]
    }
   ],
   "source": [
    "print(weighted_percentage(1,1,1,1,1))"
   ]
  },
  {
   "cell_type": "code",
   "execution_count": 23,
   "metadata": {},
   "outputs": [
    {
     "name": "stdout",
     "output_type": "stream",
     "text": [
      "0.0\n"
     ]
    }
   ],
   "source": [
    "print(weighted_percentage(0,0,0,0,0))"
   ]
  },
  {
   "cell_type": "code",
   "execution_count": 24,
   "metadata": {},
   "outputs": [
    {
     "name": "stdout",
     "output_type": "stream",
     "text": [
      "81.13924050632912\n"
     ]
    }
   ],
   "source": [
    "print(weighted_percentage(.8,.6,1,.7,1))"
   ]
  },
  {
   "cell_type": "markdown",
   "metadata": {},
   "source": [
    "## Check Fakeness of a news article"
   ]
  },
  {
   "cell_type": "code",
   "execution_count": 25,
   "metadata": {},
   "outputs": [
    {
     "name": "stdout",
     "output_type": "stream",
     "text": [
      "sensationalism_factor: 1\n",
      "political_affilication_factor: 0.5141797923171151\n",
      "spelling_error_factor: 0\n",
      "spam_detection_factor: 1\n",
      "stance_detection_factor: 1\n"
     ]
    },
    {
     "data": {
      "text/plain": [
       "69.29247654353286"
      ]
     },
     "execution_count": 25,
     "metadata": {},
     "output_type": "execute_result"
    }
   ],
   "source": [
    "input_news='Obamacare will provide insurance to all non-U.S. residents, even if they are here illegally.'\n",
    "fakeness(input_news)"
   ]
  },
  {
   "cell_type": "code",
   "execution_count": 26,
   "metadata": {},
   "outputs": [
    {
     "name": "stdout",
     "output_type": "stream",
     "text": [
      "sensationalism_factor: 1\n",
      "political_affilication_factor: 0.4913655601312241\n",
      "spelling_error_factor: 0\n",
      "spam_detection_factor: 1\n",
      "stance_detection_factor: 1\n"
     ]
    },
    {
     "data": {
      "text/plain": [
       "68.80153736991241"
      ]
     },
     "execution_count": 26,
     "metadata": {},
     "output_type": "execute_result"
    }
   ],
   "source": [
    "input_news='Hillary Clinton in 2005 co-sponsored legislation that would jail flag burners.'\n",
    "fakeness(input_news)"
   ]
  },
  {
   "cell_type": "code",
   "execution_count": null,
   "metadata": {},
   "outputs": [],
   "source": []
  }
 ],
 "metadata": {
  "kernelspec": {
   "display_name": "Python 3",
   "language": "python",
   "name": "python3"
  },
  "language_info": {
   "codemirror_mode": {
    "name": "ipython",
    "version": 3
   },
   "file_extension": ".py",
   "mimetype": "text/x-python",
   "name": "python",
   "nbconvert_exporter": "python",
   "pygments_lexer": "ipython3",
   "version": "3.6.5"
  }
 },
 "nbformat": 4,
 "nbformat_minor": 2
}

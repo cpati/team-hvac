{
 "cells": [
  {
   "cell_type": "markdown",
   "metadata": {},
   "source": [
    "#### This is the MAIN notebook\n",
    "#### It contains final equation, it calls other factor notebooks to get the individual factor score"
   ]
  },
  {
   "cell_type": "markdown",
   "metadata": {},
   "source": [
    "Before starting please install following if not installed\n",
    "- pip install pyenchant\n",
    "- pip install vaderSentiment"
   ]
  },
  {
   "cell_type": "code",
   "execution_count": 1,
   "metadata": {},
   "outputs": [
    {
     "name": "stdout",
     "output_type": "stream",
     "text": [
      "[nltk_data] Downloading package stopwords to\n",
      "[nltk_data]     /Users/chidanandapati/nltk_data...\n",
      "[nltk_data]   Package stopwords is already up-to-date!\n",
      "[nltk_data] Downloading package punkt to\n",
      "[nltk_data]     /Users/chidanandapati/nltk_data...\n",
      "[nltk_data]   Package punkt is already up-to-date!\n",
      "[nltk_data] Downloading package wordnet to\n",
      "[nltk_data]     /Users/chidanandapati/nltk_data...\n",
      "[nltk_data]   Package wordnet is already up-to-date!\n",
      "[nltk_data] Downloading package stopwords to\n",
      "[nltk_data]     /Users/chidanandapati/nltk_data...\n",
      "[nltk_data]   Package stopwords is already up-to-date!\n",
      "[nltk_data] Downloading package punkt to\n",
      "[nltk_data]     /Users/chidanandapati/nltk_data...\n",
      "[nltk_data]   Package punkt is already up-to-date!\n",
      "[nltk_data] Downloading package wordnet to\n",
      "[nltk_data]     /Users/chidanandapati/nltk_data...\n",
      "[nltk_data]   Package wordnet is already up-to-date!\n"
     ]
    }
   ],
   "source": [
    "from SpellChecker import SpellChecker\n",
    "from PoliticalAffilicationDetector import PoliticalAffilicationDetector\n",
    "from SpamDetection import SpamDetection\n",
    "from StanceDetection import StanceDetection\n",
    "from Sensationalism import Sensationalism"
   ]
  },
  {
   "cell_type": "markdown",
   "metadata": {},
   "source": [
    "#### This function calculates fakeness percentage using the weighted_percentage function passing all factors fakeness score. It calls respective factors class to get the fakeness score of individual factor"
   ]
  },
  {
   "cell_type": "code",
   "execution_count": 2,
   "metadata": {},
   "outputs": [],
   "source": [
    "def fakeness(news):\n",
    "    sensationalism_factor=Sensationalism(news).predict()\n",
    "    political_affilication_factor=PoliticalAffilicationDetector(news).predict()\n",
    "    spam_detection_factor=SpamDetection(news).predict()\n",
    "    stance_detection_factor=StanceDetection(news).predict()\n",
    "    spelling_error_factor=SpellChecker(news).predict()\n",
    "    print('sensationalism_factor:',sensationalism_factor)    \n",
    "    print('political_affilication_factor:',political_affilication_factor)\n",
    "    print('spelling_error_factor:',spelling_error_factor)\n",
    "    print('spam_detection_factor:',spam_detection_factor)\n",
    "    print('stance_detection_factor:',stance_detection_factor)\n",
    "    return weighted_percentage(sensationalism_factor,political_affilication_factor,\n",
    "                       spam_detection_factor,stance_detection_factor,\n",
    "                       spelling_error_factor)"
   ]
  },
  {
   "cell_type": "markdown",
   "metadata": {},
   "source": [
    "#### This function uses the final equation to give the weighted percentage"
   ]
  },
  {
   "cell_type": "code",
   "execution_count": 14,
   "metadata": {},
   "outputs": [],
   "source": [
    "def weighted_percentage(sensationalism_factor,political_affilication_factor,\n",
    "                       spam_detection_factor,stance_detection_factor,\n",
    "                       spelling_error_factor):\n",
    "    sensationalism_weight=.9\n",
    "    political_affilication_weight=.85\n",
    "    spam_detection_weight=.65\n",
    "    stance_detection_weight=.75\n",
    "    spelling_error_weight=.8\n",
    "    total_weight=sensationalism_weight+political_affilication_weight+spam_detection_weight+stance_detection_weight+ spelling_error_weight\n",
    "    return round((((sensationalism_factor*sensationalism_weight)+\n",
    "            (political_affilication_factor*political_affilication_weight)+\n",
    "            (spam_detection_factor*spam_detection_weight)+\n",
    "            (stance_detection_factor*stance_detection_weight)+\n",
    "            (spelling_error_factor*spelling_error_weight))/total_weight)*100,2)"
   ]
  },
  {
   "cell_type": "code",
   "execution_count": 15,
   "metadata": {},
   "outputs": [
    {
     "name": "stdout",
     "output_type": "stream",
     "text": [
      "100.0\n"
     ]
    }
   ],
   "source": [
    "print(weighted_percentage(1,1,1,1,1))"
   ]
  },
  {
   "cell_type": "code",
   "execution_count": 16,
   "metadata": {},
   "outputs": [
    {
     "name": "stdout",
     "output_type": "stream",
     "text": [
      "0.0\n"
     ]
    }
   ],
   "source": [
    "print(weighted_percentage(0,0,0,0,0))"
   ]
  },
  {
   "cell_type": "code",
   "execution_count": 17,
   "metadata": {},
   "outputs": [
    {
     "name": "stdout",
     "output_type": "stream",
     "text": [
      "81.14\n"
     ]
    }
   ],
   "source": [
    "print(weighted_percentage(.8,.6,1,.7,1))"
   ]
  },
  {
   "cell_type": "markdown",
   "metadata": {},
   "source": [
    "## Check Fakeness of a news article"
   ]
  },
  {
   "cell_type": "code",
   "execution_count": 19,
   "metadata": {},
   "outputs": [
    {
     "name": "stdout",
     "output_type": "stream",
     "text": [
      "sensationalism_factor: 0.17900000000000005\n",
      "political_affilication_factor: 0.8503326898195654\n",
      "spelling_error_factor: 1\n",
      "spam_detection_factor: 1\n",
      "stance_detection_factor: 0\n"
     ]
    },
    {
     "data": {
      "text/plain": [
       "59.09"
      ]
     },
     "execution_count": 19,
     "metadata": {},
     "output_type": "execute_result"
    }
   ],
   "source": [
    "input_news='Obamacare will provide insurance to all non-U.S. residents, even if they are here illegally.A strong bipartisan majority in the House of Representatives voted to defund Obamacare.07732584351 - Rodger Burns - MSG = We tried to call you re your reply to our sms for a free nokia mobile + free camcorder. Please call now 08000930705 for delivery tomorrow.Amazon Enters eBook Subscription Market with Kindle Unlimited'\n",
    "fakeness(input_news)"
   ]
  },
  {
   "cell_type": "code",
   "execution_count": 8,
   "metadata": {},
   "outputs": [
    {
     "name": "stdout",
     "output_type": "stream",
     "text": [
      "sensationalism_factor: 0\n",
      "political_affilication_factor: 0.7147204843024396\n",
      "spelling_error_factor: 0\n",
      "spam_detection_factor: 0\n",
      "stance_detection_factor: 0\n"
     ]
    },
    {
     "data": {
      "text/plain": [
       "15.38006105460946"
      ]
     },
     "execution_count": 8,
     "metadata": {},
     "output_type": "execute_result"
    }
   ],
   "source": [
    "input_news='Hillary Clinton in 2005 co-sponsored legislation that would jail flag burners.'\n",
    "fakeness(input_news)"
   ]
  },
  {
   "cell_type": "code",
   "execution_count": null,
   "metadata": {},
   "outputs": [],
   "source": []
  }
 ],
 "metadata": {
  "kernelspec": {
   "display_name": "Python 3",
   "language": "python",
   "name": "python3"
  },
  "language_info": {
   "codemirror_mode": {
    "name": "ipython",
    "version": 3
   },
   "file_extension": ".py",
   "mimetype": "text/x-python",
   "name": "python",
   "nbconvert_exporter": "python",
   "pygments_lexer": "ipython3",
   "version": "3.6.5"
  }
 },
 "nbformat": 4,
 "nbformat_minor": 2
}

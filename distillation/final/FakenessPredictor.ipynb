{
 "cells": [
  {
   "cell_type": "markdown",
   "metadata": {},
   "source": [
    "## This is the MAIN notebook\n",
    "## It contains final equation, it calls other factor notebooks to get the individual factor score"
   ]
  },
  {
   "cell_type": "code",
   "execution_count": 40,
   "metadata": {},
   "outputs": [],
   "source": [
    "from SpellChecker import SpellChecker\n",
    "from PoliticalAffilicationDetector import PoliticalAffilicationDetector"
   ]
  },
  {
   "cell_type": "markdown",
   "metadata": {},
   "source": [
    "### Function to calculate the FINAL fakeness score"
   ]
  },
  {
   "cell_type": "code",
   "execution_count": 24,
   "metadata": {},
   "outputs": [],
   "source": [
    "def fakeness(news):\n",
    "    sensationalism_factor=1\n",
    "    political_affilication_factor=PoliticalAffilicationDetector(news).predict()\n",
    "    spam_detection_factor=1\n",
    "    stance_detection_factor=1\n",
    "    spelling_error_factor=SpellChecker(news).predict()\n",
    "    print('political_affilication_factor:',political_affilication_factor)\n",
    "    print('spelling_error_factor:',spelling_error_factor)\n",
    "    return weighted_percentage(sensationalism_factor,political_affilication_factor,\n",
    "                       spam_detection_factor,stance_detection_factor,\n",
    "                       spelling_error_factor)"
   ]
  },
  {
   "cell_type": "markdown",
   "metadata": {},
   "source": [
    "### Function to calculate the weighted percentage"
   ]
  },
  {
   "cell_type": "code",
   "execution_count": 36,
   "metadata": {},
   "outputs": [],
   "source": [
    "def weighted_percentage(sensationalism_factor,political_affilication_factor,\n",
    "                       spam_detection_factor,stance_detection_factor,\n",
    "                       spelling_error_factor):\n",
    "    sensationalism_weight=.9\n",
    "    political_affilication_weight=.85\n",
    "    spam_detection_weight=.65\n",
    "    stance_detection_weight=.75\n",
    "    spelling_error_weight=.8\n",
    "    total_weight=sensationalism_weight+political_affilication_weight+spam_detection_weight+stance_detection_weight+ spelling_error_weight\n",
    "    return round((((sensationalism_factor*sensationalism_weight)+\n",
    "            (political_affilication_factor*political_affilication_weight)+\n",
    "            (spam_detection_factor*spam_detection_weight)+\n",
    "            (stance_detection_factor*stance_detection_weight)+\n",
    "            (spelling_error_factor*spelling_error_weight))/total_weight)*100,2)"
   ]
  },
  {
   "cell_type": "code",
   "execution_count": 26,
   "metadata": {},
   "outputs": [
    {
     "name": "stdout",
     "output_type": "stream",
     "text": [
      "1.0\n"
     ]
    }
   ],
   "source": [
    "print(weighted_percentage(1,1,1,1,1))"
   ]
  },
  {
   "cell_type": "code",
   "execution_count": 27,
   "metadata": {},
   "outputs": [
    {
     "name": "stdout",
     "output_type": "stream",
     "text": [
      "0.0\n"
     ]
    }
   ],
   "source": [
    "print(weighted_percentage(0,0,0,0,0))"
   ]
  },
  {
   "cell_type": "code",
   "execution_count": 28,
   "metadata": {},
   "outputs": [
    {
     "name": "stdout",
     "output_type": "stream",
     "text": [
      "0.8113924050632911\n"
     ]
    }
   ],
   "source": [
    "print(weighted_percentage(.8,.6,1,.7,1))"
   ]
  },
  {
   "cell_type": "markdown",
   "metadata": {},
   "source": [
    "## Check Fakeness of a news article"
   ]
  },
  {
   "cell_type": "code",
   "execution_count": 38,
   "metadata": {},
   "outputs": [
    {
     "name": "stdout",
     "output_type": "stream",
     "text": [
      "political_affilication_factor: 0.41624478466088705\n",
      "spelling_error_factor: 0\n",
      "Fakeness Score: 67.19\n"
     ]
    }
   ],
   "source": [
    "input_news='Obamacare will provide insurance to all non-U.S. residents, even if they are here illegally.'\n",
    "fakeness_score=fakeness(input_news)\n",
    "print('Fakeness Score:',fakeness_score)"
   ]
  },
  {
   "cell_type": "code",
   "execution_count": 39,
   "metadata": {},
   "outputs": [
    {
     "name": "stdout",
     "output_type": "stream",
     "text": [
      "political_affilication_factor: 0.41440930240112717\n",
      "spelling_error_factor: 0\n",
      "Fakeness Score: 67.15\n"
     ]
    }
   ],
   "source": [
    "fakeness_score=fakeness(input_news)\n",
    "print('Fakeness Score:',fakeness_score)"
   ]
  },
  {
   "cell_type": "code",
   "execution_count": null,
   "metadata": {},
   "outputs": [],
   "source": []
  }
 ],
 "metadata": {
  "kernelspec": {
   "display_name": "Python 3",
   "language": "python",
   "name": "python3"
  },
  "language_info": {
   "codemirror_mode": {
    "name": "ipython",
    "version": 3
   },
   "file_extension": ".py",
   "mimetype": "text/x-python",
   "name": "python",
   "nbconvert_exporter": "python",
   "pygments_lexer": "ipython3",
   "version": "3.6.5"
  }
 },
 "nbformat": 4,
 "nbformat_minor": 2
}

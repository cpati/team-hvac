{
 "cells": [
  {
   "cell_type": "code",
   "execution_count": 12,
   "metadata": {},
   "outputs": [],
   "source": [
    "from vaderSentiment.vaderSentiment import SentimentIntensityAnalyzer\n"
   ]
  },
  {
   "cell_type": "code",
   "execution_count": 13,
   "metadata": {},
   "outputs": [],
   "source": [
    "def Sensationalism(sentence):\n",
    "    analyser = SentimentIntensityAnalyzer()\n",
    "    score = analyser.polarity_scores(sentence)\n",
    "    value=0\n",
    "    negative =score.get('neg')\n",
    "    positive =score.get('pos')\n",
    "    compund = score.get('compound')\n",
    "    neutral =score.get('neu')\n",
    "    if (neutral == 1):\n",
    "        value = 0\n",
    "        \n",
    "    elif (negative>0.7):\n",
    "        value = negative\n",
    "        \n",
    "    elif (positive>0.7):\n",
    "        value = positive\n",
    "        \n",
    "    elif ( neutral>0.65):\n",
    "        value = (1-neutral)\n",
    "        \n",
    "    elif ( negative<0.7 and  positive<0.7 and (positive - negative>0)):\n",
    "        value = (positive - negative)\n",
    "        \n",
    "    elif (  negative<0.7 and  positive<0.7 and  negative>0.4 and (positive - negative<0.5)  ):\n",
    "        if(abs(compund)>negative):\n",
    "            value = (1- abs(compund))\n",
    "            \n",
    "        else:\n",
    "            value = (1- negative)\n",
    "            \n",
    "    else:\n",
    "        value = abs(compund)\n",
    "    return value"
   ]
  },
  {
   "cell_type": "code",
   "execution_count": 14,
   "metadata": {},
   "outputs": [
    {
     "name": "stdout",
     "output_type": "stream",
     "text": [
      "0.23099999999999998\n"
     ]
    }
   ],
   "source": [
    "test = Sensationalism('A strong bipartisan majority in the House of Representatives voted to defund Obamacare.')\n",
    "print (test)"
   ]
  },
  {
   "cell_type": "code",
   "execution_count": 11,
   "metadata": {},
   "outputs": [],
   "source": []
  },
  {
   "cell_type": "code",
   "execution_count": null,
   "metadata": {},
   "outputs": [],
   "source": []
  }
 ],
 "metadata": {
  "kernelspec": {
   "display_name": "Python 3",
   "language": "python",
   "name": "python3"
  },
  "language_info": {
   "codemirror_mode": {
    "name": "ipython",
    "version": 3
   },
   "file_extension": ".py",
   "mimetype": "text/x-python",
   "name": "python",
   "nbconvert_exporter": "python",
   "pygments_lexer": "ipython3",
   "version": "3.6.5"
  }
 },
 "nbformat": 4,
 "nbformat_minor": 2
}

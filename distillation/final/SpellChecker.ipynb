{
 "cells": [
  {
   "cell_type": "markdown",
   "metadata": {},
   "source": [
    "## Contribution of Chidananda Pati/012506949\n",
    "## Spell Check Factor"
   ]
  },
  {
   "cell_type": "code",
   "execution_count": null,
   "metadata": {},
   "outputs": [],
   "source": [
    "import nltk\n",
    "from nltk.corpus import stopwords\n",
    "nltk.download('stopwords')\n",
    "nltk.download('punkt')\n",
    "nltk.download('wordnet')\n",
    "stop_words=set(stopwords.words('english'))"
   ]
  },
  {
   "cell_type": "markdown",
   "metadata": {},
   "source": [
    "## Spelling Error Check Factor\n",
    "### using nltk wordnet and enchant\n",
    "function spell_check_article - It takes an article as input and returns number of words with spelling error in an article and % of words with errors\n",
    "- pip install pyenchant"
   ]
  },
  {
   "cell_type": "code",
   "execution_count": null,
   "metadata": {},
   "outputs": [],
   "source": [
    "from nltk.corpus import wordnet\n",
    "import enchant\n",
    "enchant = enchant.Dict(\"en_US\")\n",
    "def spell_check_article(article):\n",
    "    fake=0\n",
    "    article=article.replace('-',' ');\n",
    "    article_tokenized=nltk.word_tokenize(article)\n",
    "    total_word_count=len(article_tokenized)\n",
    "    words_with_error_count=0\n",
    "    for w in article_tokenized:\n",
    "        if (not wordnet.synsets(w)) and (not enchant.check(w)):\n",
    "            words_with_error_count+=1\n",
    "            if words_with_error_count > 3:\n",
    "                fake=1\n",
    "    return fake"
   ]
  },
  {
   "cell_type": "code",
   "execution_count": null,
   "metadata": {},
   "outputs": [],
   "source": [
    "class SpellChecker:\n",
    "    def __init__(self,news):\n",
    "        self.news=news\n",
    "    def predict(self):\n",
    "        return spell_check_article(self.news)"
   ]
  }
 ],
 "metadata": {
  "kernelspec": {
   "display_name": "Python 3",
   "language": "python",
   "name": "python3"
  },
  "language_info": {
   "codemirror_mode": {
    "name": "ipython",
    "version": 3
   },
   "file_extension": ".py",
   "mimetype": "text/x-python",
   "name": "python",
   "nbconvert_exporter": "python",
   "pygments_lexer": "ipython3",
   "version": "3.6.5"
  }
 },
 "nbformat": 4,
 "nbformat_minor": 2
}

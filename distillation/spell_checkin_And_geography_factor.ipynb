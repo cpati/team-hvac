{
 "cells": [
  {
   "cell_type": "markdown",
   "metadata": {},
   "source": [
    "## It has code for 2 factors\n",
    "- Spell Checking - More spelling error means mostly writeen by un-professionals and may be a fake news\n",
    "- Political Affiliation - I initially thought of geography , but could not apply that to dataset"
   ]
  },
  {
   "cell_type": "code",
   "execution_count": 344,
   "metadata": {},
   "outputs": [],
   "source": [
    "import numpy as np\n",
    "import pandas as pd"
   ]
  },
  {
   "cell_type": "code",
   "execution_count": 345,
   "metadata": {},
   "outputs": [
    {
     "data": {
      "text/html": [
       "<div>\n",
       "<style scoped>\n",
       "    .dataframe tbody tr th:only-of-type {\n",
       "        vertical-align: middle;\n",
       "    }\n",
       "\n",
       "    .dataframe tbody tr th {\n",
       "        vertical-align: top;\n",
       "    }\n",
       "\n",
       "    .dataframe thead th {\n",
       "        text-align: right;\n",
       "    }\n",
       "</style>\n",
       "<table border=\"1\" class=\"dataframe\">\n",
       "  <thead>\n",
       "    <tr style=\"text-align: right;\">\n",
       "      <th></th>\n",
       "      <th>id</th>\n",
       "      <th>label</th>\n",
       "      <th>statement</th>\n",
       "      <th>subject</th>\n",
       "      <th>speaker</th>\n",
       "      <th>speaker_job</th>\n",
       "      <th>state</th>\n",
       "      <th>party_affiliation</th>\n",
       "      <th>barely_true_count</th>\n",
       "      <th>false_Count</th>\n",
       "      <th>half_true_count</th>\n",
       "      <th>mostly_true_count</th>\n",
       "      <th>pants_on_fire_count</th>\n",
       "      <th>venue_speach</th>\n",
       "    </tr>\n",
       "  </thead>\n",
       "  <tbody>\n",
       "    <tr>\n",
       "      <th>0</th>\n",
       "      <td>2635.json</td>\n",
       "      <td>false</td>\n",
       "      <td>Says the Annies List political group supports ...</td>\n",
       "      <td>abortion</td>\n",
       "      <td>dwayne-bohac</td>\n",
       "      <td>State representative</td>\n",
       "      <td>Texas</td>\n",
       "      <td>republican</td>\n",
       "      <td>0.0</td>\n",
       "      <td>1.0</td>\n",
       "      <td>0.0</td>\n",
       "      <td>0.0</td>\n",
       "      <td>0.0</td>\n",
       "      <td>a mailer</td>\n",
       "    </tr>\n",
       "    <tr>\n",
       "      <th>1</th>\n",
       "      <td>10540.json</td>\n",
       "      <td>half-true</td>\n",
       "      <td>When did the decline of coal start? It started...</td>\n",
       "      <td>energy,history,job-accomplishments</td>\n",
       "      <td>scott-surovell</td>\n",
       "      <td>State delegate</td>\n",
       "      <td>Virginia</td>\n",
       "      <td>democrat</td>\n",
       "      <td>0.0</td>\n",
       "      <td>0.0</td>\n",
       "      <td>1.0</td>\n",
       "      <td>1.0</td>\n",
       "      <td>0.0</td>\n",
       "      <td>a floor speech.</td>\n",
       "    </tr>\n",
       "    <tr>\n",
       "      <th>2</th>\n",
       "      <td>324.json</td>\n",
       "      <td>mostly-true</td>\n",
       "      <td>Hillary Clinton agrees with John McCain \"by vo...</td>\n",
       "      <td>foreign-policy</td>\n",
       "      <td>barack-obama</td>\n",
       "      <td>President</td>\n",
       "      <td>Illinois</td>\n",
       "      <td>democrat</td>\n",
       "      <td>70.0</td>\n",
       "      <td>71.0</td>\n",
       "      <td>160.0</td>\n",
       "      <td>163.0</td>\n",
       "      <td>9.0</td>\n",
       "      <td>Denver</td>\n",
       "    </tr>\n",
       "    <tr>\n",
       "      <th>3</th>\n",
       "      <td>1123.json</td>\n",
       "      <td>false</td>\n",
       "      <td>Health care reform legislation is likely to ma...</td>\n",
       "      <td>health-care</td>\n",
       "      <td>blog-posting</td>\n",
       "      <td>NaN</td>\n",
       "      <td>NaN</td>\n",
       "      <td>none</td>\n",
       "      <td>7.0</td>\n",
       "      <td>19.0</td>\n",
       "      <td>3.0</td>\n",
       "      <td>5.0</td>\n",
       "      <td>44.0</td>\n",
       "      <td>a news release</td>\n",
       "    </tr>\n",
       "    <tr>\n",
       "      <th>4</th>\n",
       "      <td>9028.json</td>\n",
       "      <td>half-true</td>\n",
       "      <td>The economic turnaround started at the end of ...</td>\n",
       "      <td>economy,jobs</td>\n",
       "      <td>charlie-crist</td>\n",
       "      <td>NaN</td>\n",
       "      <td>Florida</td>\n",
       "      <td>democrat</td>\n",
       "      <td>15.0</td>\n",
       "      <td>9.0</td>\n",
       "      <td>20.0</td>\n",
       "      <td>19.0</td>\n",
       "      <td>2.0</td>\n",
       "      <td>an interview on CNN</td>\n",
       "    </tr>\n",
       "  </tbody>\n",
       "</table>\n",
       "</div>"
      ],
      "text/plain": [
       "           id        label                                          statement  \\\n",
       "0   2635.json        false  Says the Annies List political group supports ...   \n",
       "1  10540.json    half-true  When did the decline of coal start? It started...   \n",
       "2    324.json  mostly-true  Hillary Clinton agrees with John McCain \"by vo...   \n",
       "3   1123.json        false  Health care reform legislation is likely to ma...   \n",
       "4   9028.json    half-true  The economic turnaround started at the end of ...   \n",
       "\n",
       "                              subject         speaker           speaker_job  \\\n",
       "0                            abortion    dwayne-bohac  State representative   \n",
       "1  energy,history,job-accomplishments  scott-surovell        State delegate   \n",
       "2                      foreign-policy    barack-obama             President   \n",
       "3                         health-care    blog-posting                   NaN   \n",
       "4                        economy,jobs   charlie-crist                   NaN   \n",
       "\n",
       "      state party_affiliation  barely_true_count  false_Count  \\\n",
       "0     Texas        republican                0.0          1.0   \n",
       "1  Virginia          democrat                0.0          0.0   \n",
       "2  Illinois          democrat               70.0         71.0   \n",
       "3       NaN              none                7.0         19.0   \n",
       "4   Florida          democrat               15.0          9.0   \n",
       "\n",
       "   half_true_count  mostly_true_count  pants_on_fire_count  \\\n",
       "0              0.0                0.0                  0.0   \n",
       "1              1.0                1.0                  0.0   \n",
       "2            160.0              163.0                  9.0   \n",
       "3              3.0                5.0                 44.0   \n",
       "4             20.0               19.0                  2.0   \n",
       "\n",
       "          venue_speach  \n",
       "0             a mailer  \n",
       "1      a floor speech.  \n",
       "2               Denver  \n",
       "3       a news release  \n",
       "4  an interview on CNN  "
      ]
     },
     "execution_count": 345,
     "metadata": {},
     "output_type": "execute_result"
    }
   ],
   "source": [
    "columns=['id','label','statement','subject','speaker','speaker_job','state',\n",
    "        'party_affiliation','barely_true_count','false_Count',\n",
    "        'half_true_count','mostly_true_count','pants_on_fire_count','venue_speach'];\n",
    "df_lair=pd.read_csv('train.tsv',sep='\\t',header=None,names=columns,index_col=False);\n",
    "df_lair.head()"
   ]
  },
  {
   "cell_type": "code",
   "execution_count": 346,
   "metadata": {},
   "outputs": [
    {
     "name": "stdout",
     "output_type": "stream",
     "text": [
      "[nltk_data] Downloading package stopwords to\n",
      "[nltk_data]     /Users/chidananda.pati/nltk_data...\n",
      "[nltk_data]   Package stopwords is already up-to-date!\n",
      "[nltk_data] Downloading package punkt to\n",
      "[nltk_data]     /Users/chidananda.pati/nltk_data...\n",
      "[nltk_data]   Package punkt is already up-to-date!\n",
      "[nltk_data] Downloading package wordnet to\n",
      "[nltk_data]     /Users/chidananda.pati/nltk_data...\n",
      "[nltk_data]   Package wordnet is already up-to-date!\n"
     ]
    }
   ],
   "source": [
    "import nltk\n",
    "from nltk.corpus import stopwords\n",
    "nltk.download('stopwords')\n",
    "nltk.download('punkt')\n",
    "nltk.download('wordnet')\n",
    "stop_words=set(stopwords.words('english'))"
   ]
  },
  {
   "cell_type": "markdown",
   "metadata": {},
   "source": [
    "## Text Proprocessing"
   ]
  },
  {
   "cell_type": "markdown",
   "metadata": {},
   "source": [
    "#### Function for text preprocessing\n",
    "- lowercase the text\n",
    "- word tokenization\n",
    "- remove stop words and non alphanumeric charaters\n",
    "- stemming"
   ]
  },
  {
   "cell_type": "code",
   "execution_count": 347,
   "metadata": {},
   "outputs": [],
   "source": [
    "from nltk.stem import PorterStemmer,WordNetLemmatizer\n",
    "def text_preprocessing(df_base):\n",
    "    df=df_base.copy()\n",
    "    # lowercase the text\n",
    "    df['statement']=df['statement'].str.lower()\n",
    "    # word tokenization\n",
    "    df['statement']=df['statement'].map(lambda x: nltk.word_tokenize(x))\n",
    "    # remove stop words and non alphanumeric charaters\n",
    "    df['statement']=df['statement'].map(lambda x: [w for w in x if (not w in stop_words) and w.isalpha()])\n",
    "    # lemmatization\n",
    "    wordnet_lemmatizer = WordNetLemmatizer()\n",
    "    df['statement']=df['statement'].map(lambda x: [ wordnet_lemmatizer.lemmatize(w) for w in x])    \n",
    "    # stemming\n",
    "    porter = PorterStemmer()\n",
    "    df['statement']=df['statement'].map(lambda x: [porter.stem(w) for w in x] )\n",
    "    return df"
   ]
  },
  {
   "cell_type": "markdown",
   "metadata": {},
   "source": [
    "#### Calling text_preprocessing function"
   ]
  },
  {
   "cell_type": "code",
   "execution_count": 348,
   "metadata": {},
   "outputs": [
    {
     "data": {
      "text/html": [
       "<div>\n",
       "<style scoped>\n",
       "    .dataframe tbody tr th:only-of-type {\n",
       "        vertical-align: middle;\n",
       "    }\n",
       "\n",
       "    .dataframe tbody tr th {\n",
       "        vertical-align: top;\n",
       "    }\n",
       "\n",
       "    .dataframe thead th {\n",
       "        text-align: right;\n",
       "    }\n",
       "</style>\n",
       "<table border=\"1\" class=\"dataframe\">\n",
       "  <thead>\n",
       "    <tr style=\"text-align: right;\">\n",
       "      <th></th>\n",
       "      <th>id</th>\n",
       "      <th>label</th>\n",
       "      <th>statement</th>\n",
       "      <th>subject</th>\n",
       "      <th>speaker</th>\n",
       "      <th>speaker_job</th>\n",
       "      <th>state</th>\n",
       "      <th>party_affiliation</th>\n",
       "      <th>barely_true_count</th>\n",
       "      <th>false_Count</th>\n",
       "      <th>half_true_count</th>\n",
       "      <th>mostly_true_count</th>\n",
       "      <th>pants_on_fire_count</th>\n",
       "      <th>venue_speach</th>\n",
       "    </tr>\n",
       "  </thead>\n",
       "  <tbody>\n",
       "    <tr>\n",
       "      <th>0</th>\n",
       "      <td>2635.json</td>\n",
       "      <td>false</td>\n",
       "      <td>[say, anni, list, polit, group, support, abort...</td>\n",
       "      <td>abortion</td>\n",
       "      <td>dwayne-bohac</td>\n",
       "      <td>State representative</td>\n",
       "      <td>Texas</td>\n",
       "      <td>republican</td>\n",
       "      <td>0.0</td>\n",
       "      <td>1.0</td>\n",
       "      <td>0.0</td>\n",
       "      <td>0.0</td>\n",
       "      <td>0.0</td>\n",
       "      <td>a mailer</td>\n",
       "    </tr>\n",
       "    <tr>\n",
       "      <th>1</th>\n",
       "      <td>10540.json</td>\n",
       "      <td>half-true</td>\n",
       "      <td>[declin, coal, start, start, natur, ga, took, ...</td>\n",
       "      <td>energy,history,job-accomplishments</td>\n",
       "      <td>scott-surovell</td>\n",
       "      <td>State delegate</td>\n",
       "      <td>Virginia</td>\n",
       "      <td>democrat</td>\n",
       "      <td>0.0</td>\n",
       "      <td>0.0</td>\n",
       "      <td>1.0</td>\n",
       "      <td>1.0</td>\n",
       "      <td>0.0</td>\n",
       "      <td>a floor speech.</td>\n",
       "    </tr>\n",
       "    <tr>\n",
       "      <th>2</th>\n",
       "      <td>324.json</td>\n",
       "      <td>mostly-true</td>\n",
       "      <td>[hillari, clinton, agre, john, mccain, vote, g...</td>\n",
       "      <td>foreign-policy</td>\n",
       "      <td>barack-obama</td>\n",
       "      <td>President</td>\n",
       "      <td>Illinois</td>\n",
       "      <td>democrat</td>\n",
       "      <td>70.0</td>\n",
       "      <td>71.0</td>\n",
       "      <td>160.0</td>\n",
       "      <td>163.0</td>\n",
       "      <td>9.0</td>\n",
       "      <td>Denver</td>\n",
       "    </tr>\n",
       "    <tr>\n",
       "      <th>3</th>\n",
       "      <td>1123.json</td>\n",
       "      <td>false</td>\n",
       "      <td>[health, care, reform, legisl, like, mandat, f...</td>\n",
       "      <td>health-care</td>\n",
       "      <td>blog-posting</td>\n",
       "      <td>NaN</td>\n",
       "      <td>NaN</td>\n",
       "      <td>none</td>\n",
       "      <td>7.0</td>\n",
       "      <td>19.0</td>\n",
       "      <td>3.0</td>\n",
       "      <td>5.0</td>\n",
       "      <td>44.0</td>\n",
       "      <td>a news release</td>\n",
       "    </tr>\n",
       "    <tr>\n",
       "      <th>4</th>\n",
       "      <td>9028.json</td>\n",
       "      <td>half-true</td>\n",
       "      <td>[econom, turnaround, start, end, term]</td>\n",
       "      <td>economy,jobs</td>\n",
       "      <td>charlie-crist</td>\n",
       "      <td>NaN</td>\n",
       "      <td>Florida</td>\n",
       "      <td>democrat</td>\n",
       "      <td>15.0</td>\n",
       "      <td>9.0</td>\n",
       "      <td>20.0</td>\n",
       "      <td>19.0</td>\n",
       "      <td>2.0</td>\n",
       "      <td>an interview on CNN</td>\n",
       "    </tr>\n",
       "  </tbody>\n",
       "</table>\n",
       "</div>"
      ],
      "text/plain": [
       "           id        label                                          statement  \\\n",
       "0   2635.json        false  [say, anni, list, polit, group, support, abort...   \n",
       "1  10540.json    half-true  [declin, coal, start, start, natur, ga, took, ...   \n",
       "2    324.json  mostly-true  [hillari, clinton, agre, john, mccain, vote, g...   \n",
       "3   1123.json        false  [health, care, reform, legisl, like, mandat, f...   \n",
       "4   9028.json    half-true             [econom, turnaround, start, end, term]   \n",
       "\n",
       "                              subject         speaker           speaker_job  \\\n",
       "0                            abortion    dwayne-bohac  State representative   \n",
       "1  energy,history,job-accomplishments  scott-surovell        State delegate   \n",
       "2                      foreign-policy    barack-obama             President   \n",
       "3                         health-care    blog-posting                   NaN   \n",
       "4                        economy,jobs   charlie-crist                   NaN   \n",
       "\n",
       "      state party_affiliation  barely_true_count  false_Count  \\\n",
       "0     Texas        republican                0.0          1.0   \n",
       "1  Virginia          democrat                0.0          0.0   \n",
       "2  Illinois          democrat               70.0         71.0   \n",
       "3       NaN              none                7.0         19.0   \n",
       "4   Florida          democrat               15.0          9.0   \n",
       "\n",
       "   half_true_count  mostly_true_count  pants_on_fire_count  \\\n",
       "0              0.0                0.0                  0.0   \n",
       "1              1.0                1.0                  0.0   \n",
       "2            160.0              163.0                  9.0   \n",
       "3              3.0                5.0                 44.0   \n",
       "4             20.0               19.0                  2.0   \n",
       "\n",
       "          venue_speach  \n",
       "0             a mailer  \n",
       "1      a floor speech.  \n",
       "2               Denver  \n",
       "3       a news release  \n",
       "4  an interview on CNN  "
      ]
     },
     "execution_count": 348,
     "metadata": {},
     "output_type": "execute_result"
    }
   ],
   "source": [
    "df_train=text_preprocessing(df_lair)\n",
    "df_train.head()"
   ]
  },
  {
   "cell_type": "markdown",
   "metadata": {},
   "source": [
    "## Spelling Error Check Factor\n",
    "### using nltk wordnet and enchant"
   ]
  },
  {
   "cell_type": "markdown",
   "metadata": {},
   "source": [
    "function spell_check_article - It takes an article as input and returns number of words with spelling error in an article and % of words with errors\n",
    "- pip install pyenchant"
   ]
  },
  {
   "cell_type": "code",
   "execution_count": 349,
   "metadata": {},
   "outputs": [],
   "source": [
    "from nltk.corpus import wordnet\n",
    "import enchant\n",
    "enchant = enchant.Dict(\"en_US\")\n",
    "def spell_check_article(article):\n",
    "    article=article.replace('-',' ');\n",
    "    article_tokenized=nltk.word_tokenize(article)\n",
    "    total_word_count=len(article_tokenized)\n",
    "    words_with_error_count=0\n",
    "    for w in article_tokenized:\n",
    "        if (not wordnet.synsets(w)) and (not enchant.check(w)):\n",
    "            words_with_error_count+=1\n",
    "    return words_with_error_count,(words_with_error_count/total_word_count*100)"
   ]
  },
  {
   "cell_type": "code",
   "execution_count": 350,
   "metadata": {},
   "outputs": [
    {
     "data": {
      "text/plain": [
       "(3, 75.0)"
      ]
     },
     "execution_count": 350,
     "metadata": {},
     "output_type": "execute_result"
    }
   ],
   "source": [
    "spell_check_article('kitten drining choclate malk')"
   ]
  },
  {
   "cell_type": "code",
   "execution_count": 351,
   "metadata": {},
   "outputs": [
    {
     "data": {
      "text/plain": [
       "(2, 50.0)"
      ]
     },
     "execution_count": 351,
     "metadata": {},
     "output_type": "execute_result"
    }
   ],
   "source": [
    "spell_check_article('kitten drining choclate milk')"
   ]
  },
  {
   "cell_type": "code",
   "execution_count": 352,
   "metadata": {},
   "outputs": [
    {
     "data": {
      "text/html": [
       "<div>\n",
       "<style scoped>\n",
       "    .dataframe tbody tr th:only-of-type {\n",
       "        vertical-align: middle;\n",
       "    }\n",
       "\n",
       "    .dataframe tbody tr th {\n",
       "        vertical-align: top;\n",
       "    }\n",
       "\n",
       "    .dataframe thead th {\n",
       "        text-align: right;\n",
       "    }\n",
       "</style>\n",
       "<table border=\"1\" class=\"dataframe\">\n",
       "  <thead>\n",
       "    <tr style=\"text-align: right;\">\n",
       "      <th></th>\n",
       "      <th>statement</th>\n",
       "      <th>spell_error</th>\n",
       "    </tr>\n",
       "  </thead>\n",
       "  <tbody>\n",
       "    <tr>\n",
       "      <th>0</th>\n",
       "      <td>Says the Annies List political group supports ...</td>\n",
       "      <td>1</td>\n",
       "    </tr>\n",
       "    <tr>\n",
       "      <th>1</th>\n",
       "      <td>When did the decline of coal start? It started...</td>\n",
       "      <td>3</td>\n",
       "    </tr>\n",
       "    <tr>\n",
       "      <th>2</th>\n",
       "      <td>Hillary Clinton agrees with John McCain \"by vo...</td>\n",
       "      <td>2</td>\n",
       "    </tr>\n",
       "    <tr>\n",
       "      <th>3</th>\n",
       "      <td>Health care reform legislation is likely to ma...</td>\n",
       "      <td>0</td>\n",
       "    </tr>\n",
       "    <tr>\n",
       "      <th>4</th>\n",
       "      <td>The economic turnaround started at the end of ...</td>\n",
       "      <td>0</td>\n",
       "    </tr>\n",
       "  </tbody>\n",
       "</table>\n",
       "</div>"
      ],
      "text/plain": [
       "                                           statement  spell_error\n",
       "0  Says the Annies List political group supports ...            1\n",
       "1  When did the decline of coal start? It started...            3\n",
       "2  Hillary Clinton agrees with John McCain \"by vo...            2\n",
       "3  Health care reform legislation is likely to ma...            0\n",
       "4  The economic turnaround started at the end of ...            0"
      ]
     },
     "execution_count": 352,
     "metadata": {},
     "output_type": "execute_result"
    }
   ],
   "source": [
    "df_lair['spell_error']=df_lair['statement'].map(lambda x: spell_check_article(x)[0])\n",
    "df_lair[['statement','spell_error']].head()"
   ]
  },
  {
   "cell_type": "markdown",
   "metadata": {},
   "source": [
    "## Tag Cloud\n",
    "To understand most frequent words in the corpus\n",
    "- pip install wordcloud"
   ]
  },
  {
   "cell_type": "code",
   "execution_count": 353,
   "metadata": {},
   "outputs": [],
   "source": [
    "from wordcloud import WordCloud\n",
    "import matplotlib.pyplot as plt"
   ]
  },
  {
   "cell_type": "code",
   "execution_count": 354,
   "metadata": {},
   "outputs": [],
   "source": [
    "statements=''.join(df_lair['statement'].values.tolist())"
   ]
  },
  {
   "cell_type": "code",
   "execution_count": 355,
   "metadata": {},
   "outputs": [
    {
     "data": {
      "image/png": "[encoded data removed]",
      "text/plain": [
       "<Figure size 432x288 with 1 Axes>"
      ]
     },
     "metadata": {},
     "output_type": "display_data"
    }
   ],
   "source": [
    "# lower max_font_size, change the maximum number of word and lighten the background:\n",
    "wordcloud = WordCloud(max_font_size=50, max_words=100, background_color=\"white\").generate(statements)\n",
    "plt.figure()\n",
    "plt.imshow(wordcloud, interpolation=\"bilinear\")\n",
    "plt.axis(\"off\")\n",
    "plt.show()"
   ]
  },
  {
   "cell_type": "markdown",
   "metadata": {},
   "source": [
    "Conclusion is corpus looks like is mostly political and money related"
   ]
  },
  {
   "cell_type": "markdown",
   "metadata": {},
   "source": [
    "## Word2Vec to create a vector representation of processed words for every article\n",
    "- pip install gensim"
   ]
  },
  {
   "cell_type": "code",
   "execution_count": 356,
   "metadata": {},
   "outputs": [],
   "source": [
    "import gensim\n",
    "from gensim.models.word2vec import Word2Vec\n",
    "from gensim.models.doc2vec import TaggedDocument\n",
    "from sklearn.model_selection import train_test_split\n",
    "import warnings\n",
    "warnings.filterwarnings('ignore')"
   ]
  },
  {
   "cell_type": "code",
   "execution_count": 357,
   "metadata": {},
   "outputs": [],
   "source": [
    "LabeledSentence = gensim.models.doc2vec.LabeledSentence"
   ]
  },
  {
   "cell_type": "code",
   "execution_count": 358,
   "metadata": {},
   "outputs": [],
   "source": [
    "def labelled_sentences(articles, label_type):\n",
    "    labelledSentences = []\n",
    "    for i,_d in enumerate(articles):\n",
    "        labelledSentences.append(LabeledSentence(_d, label_type[i]))\n",
    "    return labelledSentences"
   ]
  },
  {
   "cell_type": "code",
   "execution_count": 359,
   "metadata": {},
   "outputs": [
    {
     "data": {
      "text/plain": [
       "LabeledSentence(words=['declin', 'coal', 'start', 'start', 'natur', 'ga', 'took', 'start', 'begin', 'presid', 'georg', 'bush', 'administr'], tags='half-true')"
      ]
     },
     "execution_count": 359,
     "metadata": {},
     "output_type": "execute_result"
    }
   ],
   "source": [
    "df_train_labelled=labelled_sentences(df_train['statement'],df_train['label'])\n",
    "df_train_labelled[1]"
   ]
  },
  {
   "cell_type": "code",
   "execution_count": 360,
   "metadata": {},
   "outputs": [],
   "source": [
    "tagged_data = [TaggedDocument(words=_d, tags=[str(i)]) for i, _d in enumerate(df_train['statement'])]"
   ]
  },
  {
   "cell_type": "code",
   "execution_count": 361,
   "metadata": {},
   "outputs": [],
   "source": [
    "tagged_data_words=[x.words for x in tagged_data]\n",
    "tagged_data_words_1D=[]\n",
    "for row in range(len(tagged_data_words)):\n",
    "    for col in range(len(tagged_data_words[row])):\n",
    "        tagged_data_words_1D.append(tagged_data_words[row][col]) "
   ]
  },
  {
   "cell_type": "code",
   "execution_count": 362,
   "metadata": {},
   "outputs": [
    {
     "data": {
      "text/plain": [
       "(475961, 524220)"
      ]
     },
     "execution_count": 362,
     "metadata": {},
     "output_type": "execute_result"
    }
   ],
   "source": [
    "n_dim=300\n",
    "w2v = Word2Vec(size=n_dim, min_count=0)\n",
    "w2v.build_vocab(tagged_data_words)\n",
    "w2v.train(tagged_data_words,total_examples=w2v.corpus_count,epochs=w2v.epochs)"
   ]
  },
  {
   "cell_type": "code",
   "execution_count": 363,
   "metadata": {},
   "outputs": [
    {
     "data": {
      "text/plain": [
       "[('washington', 0.9999654293060303),\n",
       " ('report', 0.9999611377716064),\n",
       " ('made', 0.9999591112136841),\n",
       " ('know', 0.9999569058418274),\n",
       " ('militari', 0.9999565482139587),\n",
       " ('thing', 0.9999565482139587),\n",
       " ('union', 0.9999564290046692),\n",
       " ('sent', 0.9999532699584961),\n",
       " ('rule', 0.9999518394470215),\n",
       " ('terrorist', 0.9999511241912842)]"
      ]
     },
     "execution_count": 363,
     "metadata": {},
     "output_type": "execute_result"
    }
   ],
   "source": [
    "w2v.most_similar('polit')"
   ]
  },
  {
   "cell_type": "code",
   "execution_count": 376,
   "metadata": {},
   "outputs": [],
   "source": [
    "df_train_statements=df_train[['statement','label']]\n",
    "df_train_statements_vectorized=df_train_statements['statement'].map(lambda x: [w2v[w] for w in x])"
   ]
  },
  {
   "cell_type": "code",
   "execution_count": 377,
   "metadata": {},
   "outputs": [],
   "source": [
    "df_train_statements['statement']=df_train_statements_vectorized"
   ]
  },
  {
   "cell_type": "code",
   "execution_count": 378,
   "metadata": {},
   "outputs": [],
   "source": [
    "from sklearn import preprocessing\n",
    "le = preprocessing.LabelEncoder()\n",
    "df_train_statements['label']=le.fit_transform(df_train_statements['label'])"
   ]
  },
  {
   "cell_type": "code",
   "execution_count": 379,
   "metadata": {},
   "outputs": [
    {
     "data": {
      "text/html": [
       "<div>\n",
       "<style scoped>\n",
       "    .dataframe tbody tr th:only-of-type {\n",
       "        vertical-align: middle;\n",
       "    }\n",
       "\n",
       "    .dataframe tbody tr th {\n",
       "        vertical-align: top;\n",
       "    }\n",
       "\n",
       "    .dataframe thead th {\n",
       "        text-align: right;\n",
       "    }\n",
       "</style>\n",
       "<table border=\"1\" class=\"dataframe\">\n",
       "  <thead>\n",
       "    <tr style=\"text-align: right;\">\n",
       "      <th></th>\n",
       "      <th>statement</th>\n",
       "      <th>label</th>\n",
       "    </tr>\n",
       "  </thead>\n",
       "  <tbody>\n",
       "    <tr>\n",
       "      <th>0</th>\n",
       "      <td>[[0.3633189, -0.20932719, -0.015843494, 0.2497...</td>\n",
       "      <td>1</td>\n",
       "    </tr>\n",
       "    <tr>\n",
       "      <th>1</th>\n",
       "      <td>[[0.064288534, -0.04812693, -0.0062397104, 0.0...</td>\n",
       "      <td>2</td>\n",
       "    </tr>\n",
       "    <tr>\n",
       "      <th>2</th>\n",
       "      <td>[[0.28765804, -0.10001419, 0.0049995263, 0.153...</td>\n",
       "      <td>3</td>\n",
       "    </tr>\n",
       "    <tr>\n",
       "      <th>3</th>\n",
       "      <td>[[0.17699249, -0.29522, 0.09164787, 0.1953922,...</td>\n",
       "      <td>1</td>\n",
       "    </tr>\n",
       "    <tr>\n",
       "      <th>4</th>\n",
       "      <td>[[0.21530126, -0.15957269, -0.017955817, 0.150...</td>\n",
       "      <td>2</td>\n",
       "    </tr>\n",
       "  </tbody>\n",
       "</table>\n",
       "</div>"
      ],
      "text/plain": [
       "                                           statement  label\n",
       "0  [[0.3633189, -0.20932719, -0.015843494, 0.2497...      1\n",
       "1  [[0.064288534, -0.04812693, -0.0062397104, 0.0...      2\n",
       "2  [[0.28765804, -0.10001419, 0.0049995263, 0.153...      3\n",
       "3  [[0.17699249, -0.29522, 0.09164787, 0.1953922,...      1\n",
       "4  [[0.21530126, -0.15957269, -0.017955817, 0.150...      2"
      ]
     },
     "execution_count": 379,
     "metadata": {},
     "output_type": "execute_result"
    }
   ],
   "source": [
    "df_train_statements.head()"
   ]
  },
  {
   "cell_type": "code",
   "execution_count": 380,
   "metadata": {},
   "outputs": [],
   "source": [
    "#list(le.inverse_transform(df_train_statements['label']))"
   ]
  },
  {
   "cell_type": "code",
   "execution_count": 381,
   "metadata": {},
   "outputs": [],
   "source": [
    "def document_vector(doc):\n",
    "    return np.mean(doc, axis=0)"
   ]
  },
  {
   "cell_type": "code",
   "execution_count": 382,
   "metadata": {},
   "outputs": [],
   "source": [
    "for row_idx in range(len(df_train_statements['statement'])):\n",
    "    for col_idx in range(len(df_train_statements['statement'][row_idx])):\n",
    "        df_train_statements['statement'][row_idx][col_idx]=document_vector(df_train_statements['statement'][row_idx][col_idx])"
   ]
  },
  {
   "cell_type": "code",
   "execution_count": 383,
   "metadata": {},
   "outputs": [
    {
     "data": {
      "text/html": [
       "<div>\n",
       "<style scoped>\n",
       "    .dataframe tbody tr th:only-of-type {\n",
       "        vertical-align: middle;\n",
       "    }\n",
       "\n",
       "    .dataframe tbody tr th {\n",
       "        vertical-align: top;\n",
       "    }\n",
       "\n",
       "    .dataframe thead th {\n",
       "        text-align: right;\n",
       "    }\n",
       "</style>\n",
       "<table border=\"1\" class=\"dataframe\">\n",
       "  <thead>\n",
       "    <tr style=\"text-align: right;\">\n",
       "      <th></th>\n",
       "      <th>statement</th>\n",
       "      <th>label</th>\n",
       "    </tr>\n",
       "  </thead>\n",
       "  <tbody>\n",
       "    <tr>\n",
       "      <th>0</th>\n",
       "      <td>[0.021604802, 0.0002024563, 0.005585308, 0.010...</td>\n",
       "      <td>1</td>\n",
       "    </tr>\n",
       "    <tr>\n",
       "      <th>1</th>\n",
       "      <td>[0.0035548727, 0.004597977, 0.011129816, 0.011...</td>\n",
       "      <td>2</td>\n",
       "    </tr>\n",
       "    <tr>\n",
       "      <th>2</th>\n",
       "      <td>[0.016630093, 0.025745373, 0.0058948766, 0.016...</td>\n",
       "      <td>3</td>\n",
       "    </tr>\n",
       "    <tr>\n",
       "      <th>3</th>\n",
       "      <td>[0.01993456, 0.015543409, 0.012205623, 0.01347...</td>\n",
       "      <td>1</td>\n",
       "    </tr>\n",
       "    <tr>\n",
       "      <th>4</th>\n",
       "      <td>[0.012149385, 0.0012879493, 0.011129816, 0.011...</td>\n",
       "      <td>2</td>\n",
       "    </tr>\n",
       "    <tr>\n",
       "      <th>5</th>\n",
       "      <td>[0.0024724388, 0.0027609733, 0.011129816, 0.00...</td>\n",
       "      <td>5</td>\n",
       "    </tr>\n",
       "    <tr>\n",
       "      <th>6</th>\n",
       "      <td>[0.0064215367, 0.00038952148, 0.012252209, 0.0...</td>\n",
       "      <td>0</td>\n",
       "    </tr>\n",
       "    <tr>\n",
       "      <th>7</th>\n",
       "      <td>[0.012156806, 0.003740972, 0.015015611, 0.0053...</td>\n",
       "      <td>2</td>\n",
       "    </tr>\n",
       "    <tr>\n",
       "      <th>8</th>\n",
       "      <td>[0.00037979402, 0.014680496, 0.015814679, 0.01...</td>\n",
       "      <td>2</td>\n",
       "    </tr>\n",
       "    <tr>\n",
       "      <th>9</th>\n",
       "      <td>[0.021604802, 0.0060035465, 0.007388552, 0.007...</td>\n",
       "      <td>3</td>\n",
       "    </tr>\n",
       "    <tr>\n",
       "      <th>10</th>\n",
       "      <td>[0.015879659, 0.016943509, 0.012872133, 0.0051...</td>\n",
       "      <td>3</td>\n",
       "    </tr>\n",
       "    <tr>\n",
       "      <th>11</th>\n",
       "      <td>[0.016312469, 0.01262074, 0.015814679, 0.01676...</td>\n",
       "      <td>2</td>\n",
       "    </tr>\n",
       "    <tr>\n",
       "      <th>12</th>\n",
       "      <td>[0.010598126, 0.014940055, 0.015980447, 0.0086...</td>\n",
       "      <td>1</td>\n",
       "    </tr>\n",
       "    <tr>\n",
       "      <th>13</th>\n",
       "      <td>[0.0131652, 0.00034333073, 0.014375437, 0.0096...</td>\n",
       "      <td>3</td>\n",
       "    </tr>\n",
       "    <tr>\n",
       "      <th>14</th>\n",
       "      <td>[0.008470592, 0.015543409, 0.015235465, 0.0112...</td>\n",
       "      <td>0</td>\n",
       "    </tr>\n",
       "    <tr>\n",
       "      <th>15</th>\n",
       "      <td>[0.014451517, 0.015659845, 0.002640961, 0.0160...</td>\n",
       "      <td>2</td>\n",
       "    </tr>\n",
       "    <tr>\n",
       "      <th>16</th>\n",
       "      <td>[0.0119521115, 0.011814234, 0.0131624965, 0.01...</td>\n",
       "      <td>5</td>\n",
       "    </tr>\n",
       "    <tr>\n",
       "      <th>17</th>\n",
       "      <td>[0.0036635809, 0.0073696286, 0.0032850008, 0.0...</td>\n",
       "      <td>0</td>\n",
       "    </tr>\n",
       "    <tr>\n",
       "      <th>18</th>\n",
       "      <td>[0.011631591, 0.014767215, 0.00030743238, 0.00...</td>\n",
       "      <td>2</td>\n",
       "    </tr>\n",
       "    <tr>\n",
       "      <th>19</th>\n",
       "      <td>[0.012356362, 0.016573934, 0.009140157, 0.0012...</td>\n",
       "      <td>3</td>\n",
       "    </tr>\n",
       "    <tr>\n",
       "      <th>20</th>\n",
       "      <td>[0.018066969, 0.007486407, 0.01669961, 0.01248...</td>\n",
       "      <td>1</td>\n",
       "    </tr>\n",
       "    <tr>\n",
       "      <th>21</th>\n",
       "      <td>[0.0143966, 0.016213508, 0.010448093, 0.009813...</td>\n",
       "      <td>3</td>\n",
       "    </tr>\n",
       "    <tr>\n",
       "      <th>22</th>\n",
       "      <td>[0.0071254205, 0.014983646, 0.004174876, 0.010...</td>\n",
       "      <td>3</td>\n",
       "    </tr>\n",
       "    <tr>\n",
       "      <th>23</th>\n",
       "      <td>[0.021604802, 0.013108236, 0.010528495, 0.0057...</td>\n",
       "      <td>2</td>\n",
       "    </tr>\n",
       "    <tr>\n",
       "      <th>24</th>\n",
       "      <td>[0.021604802, 0.010598126, 0.014940055, 0.0187...</td>\n",
       "      <td>0</td>\n",
       "    </tr>\n",
       "    <tr>\n",
       "      <th>25</th>\n",
       "      <td>[0.014538997, 0.014097704, 0.000248966, 0.0002...</td>\n",
       "      <td>1</td>\n",
       "    </tr>\n",
       "    <tr>\n",
       "      <th>26</th>\n",
       "      <td>[0.0031170722, 0.013697546, 0.016767537, 0.009...</td>\n",
       "      <td>3</td>\n",
       "    </tr>\n",
       "    <tr>\n",
       "      <th>27</th>\n",
       "      <td>[0.011394557, 0.009964938, 0.015897144, 0.0107...</td>\n",
       "      <td>2</td>\n",
       "    </tr>\n",
       "    <tr>\n",
       "      <th>28</th>\n",
       "      <td>[0.008712863, 0.018369362, 0.0018646348, 0.008...</td>\n",
       "      <td>1</td>\n",
       "    </tr>\n",
       "    <tr>\n",
       "      <th>29</th>\n",
       "      <td>[0.002185983, 0.012512361, 0.005158006, 0.0102...</td>\n",
       "      <td>3</td>\n",
       "    </tr>\n",
       "    <tr>\n",
       "      <th>...</th>\n",
       "      <td>...</td>\n",
       "      <td>...</td>\n",
       "    </tr>\n",
       "    <tr>\n",
       "      <th>10209</th>\n",
       "      <td>[0.016312469, 0.008470592, 0.015543409, 0.0152...</td>\n",
       "      <td>5</td>\n",
       "    </tr>\n",
       "    <tr>\n",
       "      <th>10210</th>\n",
       "      <td>[0.014474999, 0.012356362, 0.009156048, 0.0097...</td>\n",
       "      <td>5</td>\n",
       "    </tr>\n",
       "    <tr>\n",
       "      <th>10211</th>\n",
       "      <td>[0.00977728, 0.021604802, 0.016332518, 0.01641...</td>\n",
       "      <td>2</td>\n",
       "    </tr>\n",
       "    <tr>\n",
       "      <th>10212</th>\n",
       "      <td>[0.009928417, 0.0013165225, 0.014819966, 0.015...</td>\n",
       "      <td>0</td>\n",
       "    </tr>\n",
       "    <tr>\n",
       "      <th>10213</th>\n",
       "      <td>[0.014451517, 0.014983646, 0.01993456, 0.01554...</td>\n",
       "      <td>1</td>\n",
       "    </tr>\n",
       "    <tr>\n",
       "      <th>10214</th>\n",
       "      <td>[0.023638628, 0.015815815, 0.012017151, 0.0096...</td>\n",
       "      <td>0</td>\n",
       "    </tr>\n",
       "    <tr>\n",
       "      <th>10215</th>\n",
       "      <td>[0.0035906266, 0.007320611, 0.0059590666, 0.00...</td>\n",
       "      <td>1</td>\n",
       "    </tr>\n",
       "    <tr>\n",
       "      <th>10216</th>\n",
       "      <td>[0.006279221, 0.023638628, 0.015815815, 0.0047...</td>\n",
       "      <td>2</td>\n",
       "    </tr>\n",
       "    <tr>\n",
       "      <th>10217</th>\n",
       "      <td>[0.0071916915, 0.018191395, 0.010297708, 0.004...</td>\n",
       "      <td>1</td>\n",
       "    </tr>\n",
       "    <tr>\n",
       "      <th>10218</th>\n",
       "      <td>[0.013364805, 0.01567528, 0.012306675, 0.00556...</td>\n",
       "      <td>2</td>\n",
       "    </tr>\n",
       "    <tr>\n",
       "      <th>10219</th>\n",
       "      <td>[0.021604802, 0.010598126, 0.014940055, 0.0058...</td>\n",
       "      <td>3</td>\n",
       "    </tr>\n",
       "    <tr>\n",
       "      <th>10220</th>\n",
       "      <td>[0.012591599, 0.014305369, 0.008479896, 0.0093...</td>\n",
       "      <td>1</td>\n",
       "    </tr>\n",
       "    <tr>\n",
       "      <th>10221</th>\n",
       "      <td>[0.015879659, 0.016943509, 0.016312469, 0.0018...</td>\n",
       "      <td>5</td>\n",
       "    </tr>\n",
       "    <tr>\n",
       "      <th>10222</th>\n",
       "      <td>[0.021604802, 0.011394557, 0.009964938, 0.0093...</td>\n",
       "      <td>3</td>\n",
       "    </tr>\n",
       "    <tr>\n",
       "      <th>10223</th>\n",
       "      <td>[0.016213508, 0.015818408, 0.005006075, 0.0055...</td>\n",
       "      <td>0</td>\n",
       "    </tr>\n",
       "    <tr>\n",
       "      <th>10224</th>\n",
       "      <td>[0.016332518, 0.014656008, 0.010767078, 0.0158...</td>\n",
       "      <td>2</td>\n",
       "    </tr>\n",
       "    <tr>\n",
       "      <th>10225</th>\n",
       "      <td>[0.00018692431, 0.00092497637, 0.00228174, 0.0...</td>\n",
       "      <td>3</td>\n",
       "    </tr>\n",
       "    <tr>\n",
       "      <th>10226</th>\n",
       "      <td>[0.0106344875, 0.0044874167, 0.007229823, 0.01...</td>\n",
       "      <td>4</td>\n",
       "    </tr>\n",
       "    <tr>\n",
       "      <th>10227</th>\n",
       "      <td>[0.012510759, 0.00036294307, 0.0009896207, 0.0...</td>\n",
       "      <td>0</td>\n",
       "    </tr>\n",
       "    <tr>\n",
       "      <th>10228</th>\n",
       "      <td>[0.0049324124, 0.00022137482, 0.0119882375, 0....</td>\n",
       "      <td>3</td>\n",
       "    </tr>\n",
       "    <tr>\n",
       "      <th>10229</th>\n",
       "      <td>[0.009840147, 0.016055582, 0.0029973136, 0.004...</td>\n",
       "      <td>0</td>\n",
       "    </tr>\n",
       "    <tr>\n",
       "      <th>10230</th>\n",
       "      <td>[0.0134156225, 0.016213508, 0.010161207, 0.015...</td>\n",
       "      <td>2</td>\n",
       "    </tr>\n",
       "    <tr>\n",
       "      <th>10231</th>\n",
       "      <td>[0.0010449451, 0.016018266, 0.0035906266, 0.01...</td>\n",
       "      <td>2</td>\n",
       "    </tr>\n",
       "    <tr>\n",
       "      <th>10232</th>\n",
       "      <td>[0.012848505, 0.0013844492, 0.018782653, 0.001...</td>\n",
       "      <td>4</td>\n",
       "    </tr>\n",
       "    <tr>\n",
       "      <th>10233</th>\n",
       "      <td>[0.01196365, 0.009840147, 0.016055582, 0.00878...</td>\n",
       "      <td>2</td>\n",
       "    </tr>\n",
       "    <tr>\n",
       "      <th>10234</th>\n",
       "      <td>[0.0040486217, 0.014819966, 0.0004634118, 0.01...</td>\n",
       "      <td>3</td>\n",
       "    </tr>\n",
       "    <tr>\n",
       "      <th>10235</th>\n",
       "      <td>[0.018191395, 0.008612565, 0.014656008, 0.0092...</td>\n",
       "      <td>3</td>\n",
       "    </tr>\n",
       "    <tr>\n",
       "      <th>10236</th>\n",
       "      <td>[0.021604802, 0.001735699, 0.015062064, 0.0171...</td>\n",
       "      <td>2</td>\n",
       "    </tr>\n",
       "    <tr>\n",
       "      <th>10237</th>\n",
       "      <td>[0.00183862, 0.0013272737, 0.00070321537, 0.01...</td>\n",
       "      <td>1</td>\n",
       "    </tr>\n",
       "    <tr>\n",
       "      <th>10238</th>\n",
       "      <td>[0.014761797, 0.0104910005, 0.0025151637, 0.00...</td>\n",
       "      <td>4</td>\n",
       "    </tr>\n",
       "  </tbody>\n",
       "</table>\n",
       "<p>10239 rows × 2 columns</p>\n",
       "</div>"
      ],
      "text/plain": [
       "                                               statement  label\n",
       "0      [0.021604802, 0.0002024563, 0.005585308, 0.010...      1\n",
       "1      [0.0035548727, 0.004597977, 0.011129816, 0.011...      2\n",
       "2      [0.016630093, 0.025745373, 0.0058948766, 0.016...      3\n",
       "3      [0.01993456, 0.015543409, 0.012205623, 0.01347...      1\n",
       "4      [0.012149385, 0.0012879493, 0.011129816, 0.011...      2\n",
       "5      [0.0024724388, 0.0027609733, 0.011129816, 0.00...      5\n",
       "6      [0.0064215367, 0.00038952148, 0.012252209, 0.0...      0\n",
       "7      [0.012156806, 0.003740972, 0.015015611, 0.0053...      2\n",
       "8      [0.00037979402, 0.014680496, 0.015814679, 0.01...      2\n",
       "9      [0.021604802, 0.0060035465, 0.007388552, 0.007...      3\n",
       "10     [0.015879659, 0.016943509, 0.012872133, 0.0051...      3\n",
       "11     [0.016312469, 0.01262074, 0.015814679, 0.01676...      2\n",
       "12     [0.010598126, 0.014940055, 0.015980447, 0.0086...      1\n",
       "13     [0.0131652, 0.00034333073, 0.014375437, 0.0096...      3\n",
       "14     [0.008470592, 0.015543409, 0.015235465, 0.0112...      0\n",
       "15     [0.014451517, 0.015659845, 0.002640961, 0.0160...      2\n",
       "16     [0.0119521115, 0.011814234, 0.0131624965, 0.01...      5\n",
       "17     [0.0036635809, 0.0073696286, 0.0032850008, 0.0...      0\n",
       "18     [0.011631591, 0.014767215, 0.00030743238, 0.00...      2\n",
       "19     [0.012356362, 0.016573934, 0.009140157, 0.0012...      3\n",
       "20     [0.018066969, 0.007486407, 0.01669961, 0.01248...      1\n",
       "21     [0.0143966, 0.016213508, 0.010448093, 0.009813...      3\n",
       "22     [0.0071254205, 0.014983646, 0.004174876, 0.010...      3\n",
       "23     [0.021604802, 0.013108236, 0.010528495, 0.0057...      2\n",
       "24     [0.021604802, 0.010598126, 0.014940055, 0.0187...      0\n",
       "25     [0.014538997, 0.014097704, 0.000248966, 0.0002...      1\n",
       "26     [0.0031170722, 0.013697546, 0.016767537, 0.009...      3\n",
       "27     [0.011394557, 0.009964938, 0.015897144, 0.0107...      2\n",
       "28     [0.008712863, 0.018369362, 0.0018646348, 0.008...      1\n",
       "29     [0.002185983, 0.012512361, 0.005158006, 0.0102...      3\n",
       "...                                                  ...    ...\n",
       "10209  [0.016312469, 0.008470592, 0.015543409, 0.0152...      5\n",
       "10210  [0.014474999, 0.012356362, 0.009156048, 0.0097...      5\n",
       "10211  [0.00977728, 0.021604802, 0.016332518, 0.01641...      2\n",
       "10212  [0.009928417, 0.0013165225, 0.014819966, 0.015...      0\n",
       "10213  [0.014451517, 0.014983646, 0.01993456, 0.01554...      1\n",
       "10214  [0.023638628, 0.015815815, 0.012017151, 0.0096...      0\n",
       "10215  [0.0035906266, 0.007320611, 0.0059590666, 0.00...      1\n",
       "10216  [0.006279221, 0.023638628, 0.015815815, 0.0047...      2\n",
       "10217  [0.0071916915, 0.018191395, 0.010297708, 0.004...      1\n",
       "10218  [0.013364805, 0.01567528, 0.012306675, 0.00556...      2\n",
       "10219  [0.021604802, 0.010598126, 0.014940055, 0.0058...      3\n",
       "10220  [0.012591599, 0.014305369, 0.008479896, 0.0093...      1\n",
       "10221  [0.015879659, 0.016943509, 0.016312469, 0.0018...      5\n",
       "10222  [0.021604802, 0.011394557, 0.009964938, 0.0093...      3\n",
       "10223  [0.016213508, 0.015818408, 0.005006075, 0.0055...      0\n",
       "10224  [0.016332518, 0.014656008, 0.010767078, 0.0158...      2\n",
       "10225  [0.00018692431, 0.00092497637, 0.00228174, 0.0...      3\n",
       "10226  [0.0106344875, 0.0044874167, 0.007229823, 0.01...      4\n",
       "10227  [0.012510759, 0.00036294307, 0.0009896207, 0.0...      0\n",
       "10228  [0.0049324124, 0.00022137482, 0.0119882375, 0....      3\n",
       "10229  [0.009840147, 0.016055582, 0.0029973136, 0.004...      0\n",
       "10230  [0.0134156225, 0.016213508, 0.010161207, 0.015...      2\n",
       "10231  [0.0010449451, 0.016018266, 0.0035906266, 0.01...      2\n",
       "10232  [0.012848505, 0.0013844492, 0.018782653, 0.001...      4\n",
       "10233  [0.01196365, 0.009840147, 0.016055582, 0.00878...      2\n",
       "10234  [0.0040486217, 0.014819966, 0.0004634118, 0.01...      3\n",
       "10235  [0.018191395, 0.008612565, 0.014656008, 0.0092...      3\n",
       "10236  [0.021604802, 0.001735699, 0.015062064, 0.0171...      2\n",
       "10237  [0.00183862, 0.0013272737, 0.00070321537, 0.01...      1\n",
       "10238  [0.014761797, 0.0104910005, 0.0025151637, 0.00...      4\n",
       "\n",
       "[10239 rows x 2 columns]"
      ]
     },
     "execution_count": 383,
     "metadata": {},
     "output_type": "execute_result"
    }
   ],
   "source": [
    "#df_train_statements['statement']=df_train_statements['statement'].map(document_vector)\n",
    "df_train_statements.drop(index=4497,inplace=True)\n",
    "df_train_statements.reset_index(drop=True)"
   ]
  },
  {
   "cell_type": "markdown",
   "metadata": {},
   "source": [
    "##### Making word vec to features"
   ]
  },
  {
   "cell_type": "code",
   "execution_count": 384,
   "metadata": {},
   "outputs": [],
   "source": [
    "texts=[]\n",
    "for x in df_train_statements['statement'].values:\n",
    "    texts.append(x)   \n",
    "X=pd.DataFrame(texts)\n",
    "X=X.fillna(0)\n",
    "y=df_train_statements[['label']]\n",
    "X_train,X_test,y_train,y_test=train_test_split(X, y,test_size = .2, random_state = 1)"
   ]
  },
  {
   "cell_type": "code",
   "execution_count": 395,
   "metadata": {},
   "outputs": [
    {
     "data": {
      "text/html": [
       "<div>\n",
       "<style scoped>\n",
       "    .dataframe tbody tr th:only-of-type {\n",
       "        vertical-align: middle;\n",
       "    }\n",
       "\n",
       "    .dataframe tbody tr th {\n",
       "        vertical-align: top;\n",
       "    }\n",
       "\n",
       "    .dataframe thead th {\n",
       "        text-align: right;\n",
       "    }\n",
       "</style>\n",
       "<table border=\"1\" class=\"dataframe\">\n",
       "  <thead>\n",
       "    <tr style=\"text-align: right;\">\n",
       "      <th></th>\n",
       "      <th>0</th>\n",
       "      <th>1</th>\n",
       "      <th>2</th>\n",
       "      <th>3</th>\n",
       "      <th>4</th>\n",
       "      <th>5</th>\n",
       "      <th>6</th>\n",
       "      <th>7</th>\n",
       "      <th>8</th>\n",
       "      <th>9</th>\n",
       "      <th>...</th>\n",
       "      <th>235</th>\n",
       "      <th>236</th>\n",
       "      <th>237</th>\n",
       "      <th>238</th>\n",
       "      <th>239</th>\n",
       "      <th>240</th>\n",
       "      <th>241</th>\n",
       "      <th>242</th>\n",
       "      <th>243</th>\n",
       "      <th>244</th>\n",
       "    </tr>\n",
       "  </thead>\n",
       "  <tbody>\n",
       "    <tr>\n",
       "      <th>8893</th>\n",
       "      <td>0.010436</td>\n",
       "      <td>0.002506</td>\n",
       "      <td>0.016052</td>\n",
       "      <td>0.001775</td>\n",
       "      <td>0.015762</td>\n",
       "      <td>0.014749</td>\n",
       "      <td>0.005076</td>\n",
       "      <td>0.014820</td>\n",
       "      <td>0.014749</td>\n",
       "      <td>0.004573</td>\n",
       "      <td>...</td>\n",
       "      <td>0.0</td>\n",
       "      <td>0.0</td>\n",
       "      <td>0.0</td>\n",
       "      <td>0.0</td>\n",
       "      <td>0.0</td>\n",
       "      <td>0.0</td>\n",
       "      <td>0.0</td>\n",
       "      <td>0.0</td>\n",
       "      <td>0.0</td>\n",
       "      <td>0.0</td>\n",
       "    </tr>\n",
       "    <tr>\n",
       "      <th>2933</th>\n",
       "      <td>0.003821</td>\n",
       "      <td>0.004616</td>\n",
       "      <td>0.017296</td>\n",
       "      <td>0.005807</td>\n",
       "      <td>0.004852</td>\n",
       "      <td>0.016145</td>\n",
       "      <td>0.000000</td>\n",
       "      <td>0.000000</td>\n",
       "      <td>0.000000</td>\n",
       "      <td>0.000000</td>\n",
       "      <td>...</td>\n",
       "      <td>0.0</td>\n",
       "      <td>0.0</td>\n",
       "      <td>0.0</td>\n",
       "      <td>0.0</td>\n",
       "      <td>0.0</td>\n",
       "      <td>0.0</td>\n",
       "      <td>0.0</td>\n",
       "      <td>0.0</td>\n",
       "      <td>0.0</td>\n",
       "      <td>0.0</td>\n",
       "    </tr>\n",
       "    <tr>\n",
       "      <th>3933</th>\n",
       "      <td>0.003198</td>\n",
       "      <td>0.013464</td>\n",
       "      <td>0.013139</td>\n",
       "      <td>0.016214</td>\n",
       "      <td>0.014540</td>\n",
       "      <td>0.014375</td>\n",
       "      <td>0.014375</td>\n",
       "      <td>0.009797</td>\n",
       "      <td>0.010342</td>\n",
       "      <td>0.014540</td>\n",
       "      <td>...</td>\n",
       "      <td>0.0</td>\n",
       "      <td>0.0</td>\n",
       "      <td>0.0</td>\n",
       "      <td>0.0</td>\n",
       "      <td>0.0</td>\n",
       "      <td>0.0</td>\n",
       "      <td>0.0</td>\n",
       "      <td>0.0</td>\n",
       "      <td>0.0</td>\n",
       "      <td>0.0</td>\n",
       "    </tr>\n",
       "    <tr>\n",
       "      <th>3406</th>\n",
       "      <td>0.021711</td>\n",
       "      <td>0.023639</td>\n",
       "      <td>0.018783</td>\n",
       "      <td>0.003691</td>\n",
       "      <td>0.012512</td>\n",
       "      <td>0.000000</td>\n",
       "      <td>0.000000</td>\n",
       "      <td>0.000000</td>\n",
       "      <td>0.000000</td>\n",
       "      <td>0.000000</td>\n",
       "      <td>...</td>\n",
       "      <td>0.0</td>\n",
       "      <td>0.0</td>\n",
       "      <td>0.0</td>\n",
       "      <td>0.0</td>\n",
       "      <td>0.0</td>\n",
       "      <td>0.0</td>\n",
       "      <td>0.0</td>\n",
       "      <td>0.0</td>\n",
       "      <td>0.0</td>\n",
       "      <td>0.0</td>\n",
       "    </tr>\n",
       "    <tr>\n",
       "      <th>7210</th>\n",
       "      <td>0.021605</td>\n",
       "      <td>0.017930</td>\n",
       "      <td>0.004573</td>\n",
       "      <td>0.006458</td>\n",
       "      <td>0.000687</td>\n",
       "      <td>0.001480</td>\n",
       "      <td>0.003363</td>\n",
       "      <td>0.005370</td>\n",
       "      <td>0.005327</td>\n",
       "      <td>0.009119</td>\n",
       "      <td>...</td>\n",
       "      <td>0.0</td>\n",
       "      <td>0.0</td>\n",
       "      <td>0.0</td>\n",
       "      <td>0.0</td>\n",
       "      <td>0.0</td>\n",
       "      <td>0.0</td>\n",
       "      <td>0.0</td>\n",
       "      <td>0.0</td>\n",
       "      <td>0.0</td>\n",
       "      <td>0.0</td>\n",
       "    </tr>\n",
       "  </tbody>\n",
       "</table>\n",
       "<p>5 rows × 245 columns</p>\n",
       "</div>"
      ],
      "text/plain": [
       "           0         1         2         3         4         5         6    \\\n",
       "8893  0.010436  0.002506  0.016052  0.001775  0.015762  0.014749  0.005076   \n",
       "2933  0.003821  0.004616  0.017296  0.005807  0.004852  0.016145  0.000000   \n",
       "3933  0.003198  0.013464  0.013139  0.016214  0.014540  0.014375  0.014375   \n",
       "3406  0.021711  0.023639  0.018783  0.003691  0.012512  0.000000  0.000000   \n",
       "7210  0.021605  0.017930  0.004573  0.006458  0.000687  0.001480  0.003363   \n",
       "\n",
       "           7         8         9   ...   235  236  237  238  239  240  241  \\\n",
       "8893  0.014820  0.014749  0.004573 ...   0.0  0.0  0.0  0.0  0.0  0.0  0.0   \n",
       "2933  0.000000  0.000000  0.000000 ...   0.0  0.0  0.0  0.0  0.0  0.0  0.0   \n",
       "3933  0.009797  0.010342  0.014540 ...   0.0  0.0  0.0  0.0  0.0  0.0  0.0   \n",
       "3406  0.000000  0.000000  0.000000 ...   0.0  0.0  0.0  0.0  0.0  0.0  0.0   \n",
       "7210  0.005370  0.005327  0.009119 ...   0.0  0.0  0.0  0.0  0.0  0.0  0.0   \n",
       "\n",
       "      242  243  244  \n",
       "8893  0.0  0.0  0.0  \n",
       "2933  0.0  0.0  0.0  \n",
       "3933  0.0  0.0  0.0  \n",
       "3406  0.0  0.0  0.0  \n",
       "7210  0.0  0.0  0.0  \n",
       "\n",
       "[5 rows x 245 columns]"
      ]
     },
     "execution_count": 395,
     "metadata": {},
     "output_type": "execute_result"
    }
   ],
   "source": [
    "X_train.head()"
   ]
  },
  {
   "cell_type": "code",
   "execution_count": 396,
   "metadata": {},
   "outputs": [],
   "source": [
    "from sklearn.naive_bayes import GaussianNB\n",
    "gnb = GaussianNB().fit(X_train, y_train)\n",
    "gnb_pred = gnb.predict(X_test)"
   ]
  },
  {
   "cell_type": "code",
   "execution_count": 397,
   "metadata": {},
   "outputs": [
    {
     "name": "stdout",
     "output_type": "stream",
     "text": [
      "             precision    recall  f1-score   support\n",
      "\n",
      "          0       0.25      0.00      0.01       292\n",
      "          1       0.00      0.00      0.00       408\n",
      "          2       0.14      0.01      0.02       440\n",
      "          3       0.00      0.00      0.00       420\n",
      "          4       0.08      0.97      0.15       167\n",
      "          5       0.00      0.00      0.00       321\n",
      "\n",
      "avg / total       0.07      0.08      0.02      2048\n",
      "\n"
     ]
    }
   ],
   "source": [
    "print(metrics.classification_report(y_test,gnb_pred))"
   ]
  },
  {
   "cell_type": "code",
   "execution_count": 398,
   "metadata": {},
   "outputs": [],
   "source": [
    "from sklearn.ensemble import RandomForestClassifier\n",
    "# Lets try with 100 trees\n",
    "num_trees=100\n",
    "rf=RandomForestClassifier(n_estimators=num_trees)\n",
    "rf.fit(X_train, y_train)\n",
    "rf_pred=rf.predict(X_test)"
   ]
  },
  {
   "cell_type": "code",
   "execution_count": 399,
   "metadata": {},
   "outputs": [
    {
     "name": "stdout",
     "output_type": "stream",
     "text": [
      "             precision    recall  f1-score   support\n",
      "\n",
      "          0       0.16      0.14      0.15       292\n",
      "          1       0.25      0.27      0.26       408\n",
      "          2       0.25      0.35      0.29       440\n",
      "          3       0.21      0.23      0.22       420\n",
      "          4       0.12      0.02      0.04       167\n",
      "          5       0.17      0.13      0.15       321\n",
      "\n",
      "avg / total       0.21      0.22      0.21      2048\n",
      "\n"
     ]
    }
   ],
   "source": [
    "print(metrics.classification_report(y_test,rf_pred))"
   ]
  },
  {
   "cell_type": "markdown",
   "metadata": {},
   "source": [
    "## Doc2Vec"
   ]
  },
  {
   "cell_type": "code",
   "execution_count": 400,
   "metadata": {},
   "outputs": [],
   "source": [
    "from gensim.models.doc2vec import Doc2Vec"
   ]
  },
  {
   "cell_type": "code",
   "execution_count": 401,
   "metadata": {},
   "outputs": [],
   "source": [
    "df_train_statements_d2v=df_train[['statement','label']]"
   ]
  },
  {
   "cell_type": "code",
   "execution_count": 402,
   "metadata": {},
   "outputs": [
    {
     "name": "stdout",
     "output_type": "stream",
     "text": [
      "Model Saved\n"
     ]
    }
   ],
   "source": [
    "max_epochs = 100\n",
    "vec_size = 20\n",
    "alpha = 0.025\n",
    "\n",
    "model = Doc2Vec(size=vec_size,\n",
    "                alpha=alpha, \n",
    "                min_alpha=0.00025,\n",
    "                min_count=1,\n",
    "                dm =1)\n",
    "  \n",
    "model.build_vocab(tagged_data)\n",
    "\n",
    "for epoch in range(max_epochs):\n",
    "    #print('iteration {0}'.format(epoch))\n",
    "    model.train(tagged_data,\n",
    "                total_examples=model.corpus_count,\n",
    "                epochs=model.iter)\n",
    "    # decrease the learning rate\n",
    "    model.alpha -= 0.0002\n",
    "    # fix the learning rate, no decay\n",
    "    model.min_alpha = model.alpha\n",
    "    \n",
    "model.save(\"d2v.model\")\n",
    "print(\"Model Saved\")    "
   ]
  },
  {
   "cell_type": "code",
   "execution_count": 403,
   "metadata": {},
   "outputs": [],
   "source": [
    "model= Doc2Vec.load(\"d2v.model\")\n",
    "texts=[]\n",
    "for x in df_train_statements_d2v['statement']:\n",
    "    texts.append(model.infer_vector(x))"
   ]
  },
  {
   "cell_type": "code",
   "execution_count": 404,
   "metadata": {},
   "outputs": [],
   "source": [
    "X=pd.DataFrame(texts)\n",
    "y=df_train_statements_d2v[['label']]\n",
    "X_train,X_test,y_train,y_test=train_test_split(X, y,test_size = .3, random_state = 1)"
   ]
  },
  {
   "cell_type": "code",
   "execution_count": 405,
   "metadata": {},
   "outputs": [
    {
     "data": {
      "text/html": [
       "<div>\n",
       "<style scoped>\n",
       "    .dataframe tbody tr th:only-of-type {\n",
       "        vertical-align: middle;\n",
       "    }\n",
       "\n",
       "    .dataframe tbody tr th {\n",
       "        vertical-align: top;\n",
       "    }\n",
       "\n",
       "    .dataframe thead th {\n",
       "        text-align: right;\n",
       "    }\n",
       "</style>\n",
       "<table border=\"1\" class=\"dataframe\">\n",
       "  <thead>\n",
       "    <tr style=\"text-align: right;\">\n",
       "      <th></th>\n",
       "      <th>0</th>\n",
       "      <th>1</th>\n",
       "      <th>2</th>\n",
       "      <th>3</th>\n",
       "      <th>4</th>\n",
       "      <th>5</th>\n",
       "      <th>6</th>\n",
       "      <th>7</th>\n",
       "      <th>8</th>\n",
       "      <th>9</th>\n",
       "      <th>10</th>\n",
       "      <th>11</th>\n",
       "      <th>12</th>\n",
       "      <th>13</th>\n",
       "      <th>14</th>\n",
       "      <th>15</th>\n",
       "      <th>16</th>\n",
       "      <th>17</th>\n",
       "      <th>18</th>\n",
       "      <th>19</th>\n",
       "    </tr>\n",
       "  </thead>\n",
       "  <tbody>\n",
       "    <tr>\n",
       "      <th>3474</th>\n",
       "      <td>0.297424</td>\n",
       "      <td>-0.494376</td>\n",
       "      <td>0.504700</td>\n",
       "      <td>-0.022906</td>\n",
       "      <td>-0.141586</td>\n",
       "      <td>0.190958</td>\n",
       "      <td>-0.160766</td>\n",
       "      <td>-0.007874</td>\n",
       "      <td>-0.014250</td>\n",
       "      <td>-0.212981</td>\n",
       "      <td>0.321681</td>\n",
       "      <td>-0.323559</td>\n",
       "      <td>-0.105271</td>\n",
       "      <td>0.355406</td>\n",
       "      <td>0.032510</td>\n",
       "      <td>0.260020</td>\n",
       "      <td>-0.000886</td>\n",
       "      <td>0.003739</td>\n",
       "      <td>0.323817</td>\n",
       "      <td>0.039400</td>\n",
       "    </tr>\n",
       "    <tr>\n",
       "      <th>6202</th>\n",
       "      <td>0.007148</td>\n",
       "      <td>0.032191</td>\n",
       "      <td>0.020678</td>\n",
       "      <td>-0.030780</td>\n",
       "      <td>-0.114297</td>\n",
       "      <td>0.026094</td>\n",
       "      <td>0.041957</td>\n",
       "      <td>0.007013</td>\n",
       "      <td>-0.069188</td>\n",
       "      <td>-0.074388</td>\n",
       "      <td>-0.035606</td>\n",
       "      <td>-0.007954</td>\n",
       "      <td>-0.129842</td>\n",
       "      <td>0.045046</td>\n",
       "      <td>0.140375</td>\n",
       "      <td>0.113730</td>\n",
       "      <td>-0.016142</td>\n",
       "      <td>-0.102469</td>\n",
       "      <td>0.062706</td>\n",
       "      <td>0.097905</td>\n",
       "    </tr>\n",
       "    <tr>\n",
       "      <th>5868</th>\n",
       "      <td>0.250376</td>\n",
       "      <td>-0.483914</td>\n",
       "      <td>0.479165</td>\n",
       "      <td>-0.049031</td>\n",
       "      <td>-0.165506</td>\n",
       "      <td>-0.228796</td>\n",
       "      <td>-0.442139</td>\n",
       "      <td>0.134156</td>\n",
       "      <td>0.165140</td>\n",
       "      <td>-0.163247</td>\n",
       "      <td>0.028587</td>\n",
       "      <td>-0.177672</td>\n",
       "      <td>-0.507957</td>\n",
       "      <td>0.597177</td>\n",
       "      <td>0.138022</td>\n",
       "      <td>0.512237</td>\n",
       "      <td>-0.132059</td>\n",
       "      <td>0.044215</td>\n",
       "      <td>0.487921</td>\n",
       "      <td>-0.069746</td>\n",
       "    </tr>\n",
       "    <tr>\n",
       "      <th>7357</th>\n",
       "      <td>0.070637</td>\n",
       "      <td>-0.087275</td>\n",
       "      <td>0.068983</td>\n",
       "      <td>-0.024520</td>\n",
       "      <td>-0.098744</td>\n",
       "      <td>0.052397</td>\n",
       "      <td>-0.061659</td>\n",
       "      <td>0.031336</td>\n",
       "      <td>-0.087490</td>\n",
       "      <td>-0.073199</td>\n",
       "      <td>0.120813</td>\n",
       "      <td>-0.022100</td>\n",
       "      <td>-0.051640</td>\n",
       "      <td>0.262692</td>\n",
       "      <td>0.023924</td>\n",
       "      <td>0.169896</td>\n",
       "      <td>-0.095457</td>\n",
       "      <td>-0.002651</td>\n",
       "      <td>0.133761</td>\n",
       "      <td>0.038768</td>\n",
       "    </tr>\n",
       "    <tr>\n",
       "      <th>9514</th>\n",
       "      <td>0.106664</td>\n",
       "      <td>-0.174462</td>\n",
       "      <td>0.040475</td>\n",
       "      <td>0.149133</td>\n",
       "      <td>-0.186433</td>\n",
       "      <td>0.068184</td>\n",
       "      <td>-0.043129</td>\n",
       "      <td>0.100722</td>\n",
       "      <td>-0.043550</td>\n",
       "      <td>-0.027542</td>\n",
       "      <td>0.047767</td>\n",
       "      <td>-0.112149</td>\n",
       "      <td>-0.026784</td>\n",
       "      <td>0.212077</td>\n",
       "      <td>-0.028058</td>\n",
       "      <td>0.111285</td>\n",
       "      <td>0.064596</td>\n",
       "      <td>-0.046252</td>\n",
       "      <td>0.081631</td>\n",
       "      <td>-0.088983</td>\n",
       "    </tr>\n",
       "  </tbody>\n",
       "</table>\n",
       "</div>"
      ],
      "text/plain": [
       "            0         1         2         3         4         5         6   \\\n",
       "3474  0.297424 -0.494376  0.504700 -0.022906 -0.141586  0.190958 -0.160766   \n",
       "6202  0.007148  0.032191  0.020678 -0.030780 -0.114297  0.026094  0.041957   \n",
       "5868  0.250376 -0.483914  0.479165 -0.049031 -0.165506 -0.228796 -0.442139   \n",
       "7357  0.070637 -0.087275  0.068983 -0.024520 -0.098744  0.052397 -0.061659   \n",
       "9514  0.106664 -0.174462  0.040475  0.149133 -0.186433  0.068184 -0.043129   \n",
       "\n",
       "            7         8         9         10        11        12        13  \\\n",
       "3474 -0.007874 -0.014250 -0.212981  0.321681 -0.323559 -0.105271  0.355406   \n",
       "6202  0.007013 -0.069188 -0.074388 -0.035606 -0.007954 -0.129842  0.045046   \n",
       "5868  0.134156  0.165140 -0.163247  0.028587 -0.177672 -0.507957  0.597177   \n",
       "7357  0.031336 -0.087490 -0.073199  0.120813 -0.022100 -0.051640  0.262692   \n",
       "9514  0.100722 -0.043550 -0.027542  0.047767 -0.112149 -0.026784  0.212077   \n",
       "\n",
       "            14        15        16        17        18        19  \n",
       "3474  0.032510  0.260020 -0.000886  0.003739  0.323817  0.039400  \n",
       "6202  0.140375  0.113730 -0.016142 -0.102469  0.062706  0.097905  \n",
       "5868  0.138022  0.512237 -0.132059  0.044215  0.487921 -0.069746  \n",
       "7357  0.023924  0.169896 -0.095457 -0.002651  0.133761  0.038768  \n",
       "9514 -0.028058  0.111285  0.064596 -0.046252  0.081631 -0.088983  "
      ]
     },
     "execution_count": 405,
     "metadata": {},
     "output_type": "execute_result"
    }
   ],
   "source": [
    "X_train.head()"
   ]
  },
  {
   "cell_type": "code",
   "execution_count": 406,
   "metadata": {},
   "outputs": [],
   "source": [
    "from sklearn.linear_model import LogisticRegression\n",
    "logisticRegr = LogisticRegression(C=100)\n",
    "logisticRegr.fit(X_train, y_train)\n",
    "lr_pred = logisticRegr.predict(X_test)"
   ]
  },
  {
   "cell_type": "code",
   "execution_count": 408,
   "metadata": {},
   "outputs": [
    {
     "name": "stdout",
     "output_type": "stream",
     "text": [
      "             precision    recall  f1-score   support\n",
      "\n",
      "barely-true       0.16      0.08      0.11       467\n",
      "      false       0.22      0.40      0.29       612\n",
      "  half-true       0.24      0.35      0.28       649\n",
      "mostly-true       0.23      0.23      0.23       586\n",
      " pants-fire       0.00      0.00      0.00       252\n",
      "       true       0.26      0.08      0.12       506\n",
      "\n",
      "avg / total       0.20      0.22      0.20      3072\n",
      "\n"
     ]
    }
   ],
   "source": [
    "print(metrics.classification_report(y_test,lr_pred))"
   ]
  },
  {
   "cell_type": "code",
   "execution_count": 409,
   "metadata": {},
   "outputs": [],
   "source": [
    "from sklearn.ensemble import RandomForestClassifier\n",
    "# Lets try with 100 trees\n",
    "num_trees=100\n",
    "rf=RandomForestClassifier(n_estimators=num_trees)\n",
    "rf.fit(X_train, y_train)\n",
    "rf_pred=rf.predict(X_test)"
   ]
  },
  {
   "cell_type": "code",
   "execution_count": 410,
   "metadata": {},
   "outputs": [
    {
     "name": "stdout",
     "output_type": "stream",
     "text": [
      "             precision    recall  f1-score   support\n",
      "\n",
      "barely-true       0.19      0.18      0.19       467\n",
      "      false       0.22      0.26      0.23       612\n",
      "  half-true       0.23      0.34      0.27       649\n",
      "mostly-true       0.21      0.24      0.22       586\n",
      " pants-fire       0.09      0.00      0.01       252\n",
      "       true       0.17      0.09      0.12       506\n",
      "\n",
      "avg / total       0.20      0.21      0.20      3072\n",
      "\n"
     ]
    }
   ],
   "source": [
    "print(metrics.classification_report(y_test,rf_pred))"
   ]
  },
  {
   "cell_type": "code",
   "execution_count": 411,
   "metadata": {},
   "outputs": [
    {
     "name": "stdout",
     "output_type": "stream",
     "text": [
      "[('2625', 0.751284122467041), ('339', 0.7445544600486755), ('2491', 0.7444988489151001), ('8783', 0.7416277527809143), ('8059', 0.7405910491943359), ('4645', 0.7367343902587891), ('5714', 0.7319438457489014), ('5263', 0.7254881262779236), ('9679', 0.7244449853897095), ('4319', 0.7136104106903076)]\n"
     ]
    }
   ],
   "source": [
    "similar_doc = model.docvecs.most_similar('1')\n",
    "print(similar_doc)"
   ]
  },
  {
   "cell_type": "markdown",
   "metadata": {},
   "source": [
    "### K-means for vectorized docs"
   ]
  },
  {
   "cell_type": "code",
   "execution_count": 316,
   "metadata": {},
   "outputs": [],
   "source": [
    "from nltk.cluster import KMeansClusterer"
   ]
  },
  {
   "cell_type": "code",
   "execution_count": 317,
   "metadata": {},
   "outputs": [
    {
     "data": {
      "text/plain": [
       "4"
      ]
     },
     "execution_count": 317,
     "metadata": {},
     "output_type": "execute_result"
    }
   ],
   "source": [
    "#Taking a very long time\n",
    "kclusterer = KMeansClusterer(5, distance=nltk.cluster.util.cosine_distance, repeats=5)\n",
    "assigned_clusters = kclusterer.cluster(texts, assign_clusters=True)\n",
    "assigned_clusters[0]"
   ]
  },
  {
   "cell_type": "code",
   "execution_count": 1105,
   "metadata": {},
   "outputs": [
    {
     "name": "stdout",
     "output_type": "stream",
     "text": [
      "[ 0.14927846 -1.1621119  -0.9016655  -0.09167448 -0.43202588 -0.38233116\n",
      "  0.11902588 -0.24962123  0.80018884 -0.37761986 -1.2990891  -1.5778913\n",
      " -0.0123128  -0.65936774  0.76382226  1.6621412   0.89860374  0.6922449\n",
      "  2.2779279   0.04066165] 3\n"
     ]
    }
   ],
   "source": [
    "#for i, word in enumerate(texts):  \n",
    "#    print (texts[i] , assigned_clusters[i])\n",
    "print (texts[1] , assigned_clusters[1])"
   ]
  },
  {
   "cell_type": "code",
   "execution_count": 318,
   "metadata": {},
   "outputs": [],
   "source": [
    "from sklearn.cluster import KMeans as km\n",
    "import matplotlib.pyplot as plt\n",
    "def kmeans_plot(k):\n",
    "    kmeans=km(n_clusters=k,random_state=0).fit(texts)\n",
    "    labels=kmeans.labels_\n",
    "    centroids=kmeans.cluster_centers_    \n",
    "    colors = ['r','g','b','y','c','m','r','g','b','y','c','m','r','g','b','y','c','m']\n",
    "    fig, ax=plt.subplots()\n",
    "    \n",
    "    for i in range(k):\n",
    "        points=np.array([texts[j] for j in range(len(texts)) if labels[j]==i])\n",
    "        ax.scatter(points[:,0],points[:,1],s=7,c=colors[i])\n",
    "    ax.scatter(centroids[:,0],centroids[:,1],marker='*',s=200,c='#050505')     \n",
    "kmeans_plot(5)    "
   ]
  },
  {
   "cell_type": "markdown",
   "metadata": {},
   "source": [
    "## LDA Topic Modelling to see if we can find any topic"
   ]
  },
  {
   "cell_type": "code",
   "execution_count": 332,
   "metadata": {},
   "outputs": [],
   "source": [
    "from gensim import corpora, models"
   ]
  },
  {
   "cell_type": "code",
   "execution_count": 333,
   "metadata": {},
   "outputs": [],
   "source": [
    "texts=df_train['statement']"
   ]
  },
  {
   "cell_type": "code",
   "execution_count": 334,
   "metadata": {},
   "outputs": [],
   "source": [
    "dictionary = corpora.Dictionary(texts)"
   ]
  },
  {
   "cell_type": "code",
   "execution_count": 335,
   "metadata": {},
   "outputs": [],
   "source": [
    "corpus = [dictionary.doc2bow(text) for text in texts]"
   ]
  },
  {
   "cell_type": "code",
   "execution_count": 336,
   "metadata": {},
   "outputs": [],
   "source": [
    "ldamodel = gensim.models.ldamodel.LdaModel(corpus, num_topics=7, id2word = dictionary, passes=20)"
   ]
  },
  {
   "cell_type": "code",
   "execution_count": 337,
   "metadata": {},
   "outputs": [
    {
     "name": "stdout",
     "output_type": "stream",
     "text": [
      "Topic: 0 \n",
      "Words: 0.023*\"democrat\" + 0.020*\"say\" + 0.018*\"republican\" + 0.018*\"vote\" + 0.014*\"secur\" + 0.014*\"parti\" + 0.013*\"hous\" + 0.013*\"senat\" + 0.012*\"voter\" + 0.011*\"percent\"\n",
      "Topic: 1 \n",
      "Words: 0.017*\"school\" + 0.017*\"say\" + 0.015*\"student\" + 0.013*\"vote\" + 0.012*\"colleg\" + 0.010*\"public\" + 0.009*\"war\" + 0.009*\"day\" + 0.008*\"show\" + 0.008*\"go\"\n",
      "Topic: 2 \n",
      "Words: 0.047*\"job\" + 0.015*\"creat\" + 0.012*\"say\" + 0.012*\"lost\" + 0.011*\"year\" + 0.011*\"wisconsin\" + 0.010*\"million\" + 0.009*\"state\" + 0.008*\"sinc\" + 0.008*\"new\"\n",
      "Topic: 3 \n",
      "Words: 0.044*\"say\" + 0.041*\"obama\" + 0.032*\"presid\" + 0.017*\"barack\" + 0.012*\"clinton\" + 0.011*\"immigr\" + 0.011*\"trump\" + 0.010*\"bush\" + 0.010*\"illeg\" + 0.009*\"said\"\n",
      "Topic: 4 \n",
      "Words: 0.035*\"state\" + 0.030*\"year\" + 0.017*\"percent\" + 0.016*\"unit\" + 0.015*\"peopl\" + 0.014*\"everi\" + 0.013*\"countri\" + 0.011*\"last\" + 0.009*\"one\" + 0.009*\"american\"\n",
      "Topic: 5 \n",
      "Words: 0.050*\"tax\" + 0.032*\"percent\" + 0.027*\"say\" + 0.020*\"cut\" + 0.018*\"state\" + 0.016*\"billion\" + 0.015*\"rate\" + 0.014*\"budget\" + 0.014*\"pay\" + 0.014*\"increas\"\n",
      "Topic: 6 \n",
      "Words: 0.037*\"health\" + 0.033*\"care\" + 0.023*\"say\" + 0.018*\"law\" + 0.015*\"insur\" + 0.014*\"romney\" + 0.013*\"obamacar\" + 0.012*\"would\" + 0.010*\"mitt\" + 0.010*\"bill\"\n"
     ]
    }
   ],
   "source": [
    "for idx, topic in ldamodel.print_topics(-1):\n",
    "    print('Topic: {} \\nWords: {}'.format(idx, topic))"
   ]
  },
  {
   "cell_type": "markdown",
   "metadata": {},
   "source": [
    "### Topics Seems like are all related to Politics, broadly followings:\n",
    "- Tax Cut\n",
    "- Health Care\n",
    "- Immigration and Tax Policies\n",
    "- 2016 Presidential Campaigns"
   ]
  },
  {
   "cell_type": "markdown",
   "metadata": {},
   "source": [
    "## Factor Political Affiliation"
   ]
  },
  {
   "cell_type": "code",
   "execution_count": 112,
   "metadata": {},
   "outputs": [],
   "source": [
    "vocab_political_affiliation=['president','george','bushs','administration','republican','democrats','barack','obama','hillary','clinton','donald','trump','senate','house']\n",
    "#vocab_political_affiliation=['president','george','bushs','administration']"
   ]
  },
  {
   "cell_type": "code",
   "execution_count": 113,
   "metadata": {},
   "outputs": [],
   "source": [
    "l_statments=df_lair['statement'].str.lower().values.tolist()"
   ]
  },
  {
   "cell_type": "code",
   "execution_count": 114,
   "metadata": {},
   "outputs": [],
   "source": [
    "from sklearn.feature_extraction.text import TfidfVectorizer\n",
    "vectorizer = TfidfVectorizer(vocabulary=vocab_political_affiliation)\n",
    "#vectorizer = TfidfVectorizer()\n",
    "tfidf_matrix = vectorizer.fit_transform(l_statments)\n",
    "feature_names = vectorizer.get_feature_names()"
   ]
  },
  {
   "cell_type": "code",
   "execution_count": 115,
   "metadata": {},
   "outputs": [
    {
     "data": {
      "text/plain": [
       "10240"
      ]
     },
     "execution_count": 115,
     "metadata": {},
     "output_type": "execute_result"
    }
   ],
   "source": [
    "len(tfidf_matrix.toarray())"
   ]
  },
  {
   "cell_type": "code",
   "execution_count": 338,
   "metadata": {},
   "outputs": [
    {
     "data": {
      "text/plain": [
       "array([[0.45341211, 0.6517705 , 0.50286013, 0.34167875, 0.        ,\n",
       "        0.        , 0.        , 0.        , 0.        , 0.        ,\n",
       "        0.        , 0.        , 0.        , 0.        ],\n",
       "       [0.        , 0.        , 0.50286013, 0.        , 0.        ,\n",
       "        0.        , 0.        , 0.        , 0.        , 0.        ,\n",
       "        0.        , 0.        , 0.        , 0.        ],\n",
       "       [0.        , 0.45341211, 0.        , 0.        , 0.        ,\n",
       "        0.        , 0.        , 0.        , 0.        , 0.        ,\n",
       "        0.        , 0.        , 0.        , 0.        ],\n",
       "       [0.        , 0.50286013, 0.34167875, 0.        , 0.        ,\n",
       "        0.        , 0.        , 0.        , 0.        , 0.        ,\n",
       "        0.        , 0.        , 0.        , 0.        ],\n",
       "       [0.        , 0.        , 0.34167875, 0.        , 0.        ,\n",
       "        0.        , 0.        , 0.        , 0.        , 0.        ,\n",
       "        0.        , 0.        , 0.        , 0.        ],\n",
       "       [0.34167875, 0.        , 0.        , 0.        , 0.        ,\n",
       "        0.        , 0.        , 0.        , 0.        , 0.        ,\n",
       "        0.        , 0.        , 0.        , 0.        ],\n",
       "       [0.45341211, 0.        , 0.        , 0.        , 0.        ,\n",
       "        0.        , 0.        , 0.        , 0.        , 0.        ,\n",
       "        0.        , 0.        , 0.        , 0.        ],\n",
       "       [0.        , 0.34167875, 0.        , 0.        , 0.        ,\n",
       "        0.        , 0.        , 0.        , 0.        , 0.        ,\n",
       "        0.        , 0.        , 0.        , 0.        ],\n",
       "       [0.34167875, 0.        , 0.        , 0.        , 0.        ,\n",
       "        0.        , 0.        , 0.        , 0.        , 0.        ,\n",
       "        0.        , 0.        , 0.        , 0.        ],\n",
       "       [0.        , 0.34167875, 0.        , 0.        , 0.        ,\n",
       "        0.        , 0.        , 0.        , 0.        , 0.        ,\n",
       "        0.        , 0.        , 0.        , 0.        ]])"
      ]
     },
     "execution_count": 338,
     "metadata": {},
     "output_type": "execute_result"
    }
   ],
   "source": [
    "tf_idf_vals=[]\n",
    "for i in range(len(tfidf_matrix.toarray())):\n",
    "    tf_idf_doc=np.zeros(len(vocab_political_affiliation))\n",
    "    feature_index = tfidf_matrix[i,:].nonzero()[1]\n",
    "    tfidf_scores = zip(feature_index, [tfidf_matrix[doc, x] for x in feature_index])\n",
    "    count=0\n",
    "    for w, s in [(feature_names[i], s) for (i, s) in tfidf_scores]:\n",
    "        if (w in vocab_political_affiliation):\n",
    "            tf_idf_doc[count]=s\n",
    "            count+=1\n",
    "    tf_idf_vals.append(tf_idf_doc.tolist())   \n",
    "tf_idf_vals=np.array(tf_idf_vals)\n",
    "tf_idf_vals=tf_idf_vals[~(tf_idf_vals==0).all(1)]\n",
    "tf_idf_vals[0:10]\n",
    "#tf_idf_vals[np.all(tf_idf_vals == 0,axis=1)]"
   ]
  },
  {
   "cell_type": "markdown",
   "metadata": {},
   "source": [
    "## Conclusion: Document with higher tf-idf has higher political affilication"
   ]
  }
 ],
 "metadata": {
  "kernelspec": {
   "display_name": "Python 3",
   "language": "python",
   "name": "python3"
  },
  "language_info": {
   "codemirror_mode": {
    "name": "ipython",
    "version": 3
   },
   "file_extension": ".py",
   "mimetype": "text/x-python",
   "name": "python",
   "nbconvert_exporter": "python",
   "pygments_lexer": "ipython3",
   "version": "3.6.5"
  }
 },
 "nbformat": 4,
 "nbformat_minor": 2
}

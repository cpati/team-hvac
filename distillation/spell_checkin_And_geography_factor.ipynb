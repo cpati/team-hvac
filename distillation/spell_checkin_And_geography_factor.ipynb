{
 "cells": [
  {
   "cell_type": "markdown",
   "metadata": {},
   "source": [
    "## It has code for 2 factors\n",
    "- Spell Checking - More spelling error means mostly writeen by un-professionals and may be a fake news\n",
    "- Political Affiliation - I initially thought of geography , but could not apply that to dataset"
   ]
  },
  {
   "cell_type": "code",
   "execution_count": 115,
   "metadata": {},
   "outputs": [],
   "source": [
    "import numpy as np\n",
    "import pandas as pd"
   ]
  },
  {
   "cell_type": "code",
   "execution_count": 116,
   "metadata": {},
   "outputs": [
    {
     "data": {
      "text/html": [
       "<div>\n",
       "<style scoped>\n",
       "    .dataframe tbody tr th:only-of-type {\n",
       "        vertical-align: middle;\n",
       "    }\n",
       "\n",
       "    .dataframe tbody tr th {\n",
       "        vertical-align: top;\n",
       "    }\n",
       "\n",
       "    .dataframe thead th {\n",
       "        text-align: right;\n",
       "    }\n",
       "</style>\n",
       "<table border=\"1\" class=\"dataframe\">\n",
       "  <thead>\n",
       "    <tr style=\"text-align: right;\">\n",
       "      <th></th>\n",
       "      <th>id</th>\n",
       "      <th>label</th>\n",
       "      <th>statement</th>\n",
       "      <th>subject</th>\n",
       "      <th>speaker</th>\n",
       "      <th>speaker_job</th>\n",
       "      <th>state</th>\n",
       "      <th>party_affiliation</th>\n",
       "      <th>barely_true_count</th>\n",
       "      <th>false_Count</th>\n",
       "      <th>half_true_count</th>\n",
       "      <th>mostly_true_count</th>\n",
       "      <th>pants_on_fire_count</th>\n",
       "      <th>venue_speach</th>\n",
       "    </tr>\n",
       "  </thead>\n",
       "  <tbody>\n",
       "    <tr>\n",
       "      <th>0</th>\n",
       "      <td>2635.json</td>\n",
       "      <td>false</td>\n",
       "      <td>Says the Annies List political group supports ...</td>\n",
       "      <td>abortion</td>\n",
       "      <td>dwayne-bohac</td>\n",
       "      <td>State representative</td>\n",
       "      <td>Texas</td>\n",
       "      <td>republican</td>\n",
       "      <td>0.0</td>\n",
       "      <td>1.0</td>\n",
       "      <td>0.0</td>\n",
       "      <td>0.0</td>\n",
       "      <td>0.0</td>\n",
       "      <td>a mailer</td>\n",
       "    </tr>\n",
       "    <tr>\n",
       "      <th>1</th>\n",
       "      <td>10540.json</td>\n",
       "      <td>half-true</td>\n",
       "      <td>When did the decline of coal start? It started...</td>\n",
       "      <td>energy,history,job-accomplishments</td>\n",
       "      <td>scott-surovell</td>\n",
       "      <td>State delegate</td>\n",
       "      <td>Virginia</td>\n",
       "      <td>democrat</td>\n",
       "      <td>0.0</td>\n",
       "      <td>0.0</td>\n",
       "      <td>1.0</td>\n",
       "      <td>1.0</td>\n",
       "      <td>0.0</td>\n",
       "      <td>a floor speech.</td>\n",
       "    </tr>\n",
       "    <tr>\n",
       "      <th>2</th>\n",
       "      <td>324.json</td>\n",
       "      <td>mostly-true</td>\n",
       "      <td>Hillary Clinton agrees with John McCain \"by vo...</td>\n",
       "      <td>foreign-policy</td>\n",
       "      <td>barack-obama</td>\n",
       "      <td>President</td>\n",
       "      <td>Illinois</td>\n",
       "      <td>democrat</td>\n",
       "      <td>70.0</td>\n",
       "      <td>71.0</td>\n",
       "      <td>160.0</td>\n",
       "      <td>163.0</td>\n",
       "      <td>9.0</td>\n",
       "      <td>Denver</td>\n",
       "    </tr>\n",
       "    <tr>\n",
       "      <th>3</th>\n",
       "      <td>1123.json</td>\n",
       "      <td>false</td>\n",
       "      <td>Health care reform legislation is likely to ma...</td>\n",
       "      <td>health-care</td>\n",
       "      <td>blog-posting</td>\n",
       "      <td>NaN</td>\n",
       "      <td>NaN</td>\n",
       "      <td>none</td>\n",
       "      <td>7.0</td>\n",
       "      <td>19.0</td>\n",
       "      <td>3.0</td>\n",
       "      <td>5.0</td>\n",
       "      <td>44.0</td>\n",
       "      <td>a news release</td>\n",
       "    </tr>\n",
       "    <tr>\n",
       "      <th>4</th>\n",
       "      <td>9028.json</td>\n",
       "      <td>half-true</td>\n",
       "      <td>The economic turnaround started at the end of ...</td>\n",
       "      <td>economy,jobs</td>\n",
       "      <td>charlie-crist</td>\n",
       "      <td>NaN</td>\n",
       "      <td>Florida</td>\n",
       "      <td>democrat</td>\n",
       "      <td>15.0</td>\n",
       "      <td>9.0</td>\n",
       "      <td>20.0</td>\n",
       "      <td>19.0</td>\n",
       "      <td>2.0</td>\n",
       "      <td>an interview on CNN</td>\n",
       "    </tr>\n",
       "  </tbody>\n",
       "</table>\n",
       "</div>"
      ],
      "text/plain": [
       "           id        label                                          statement  \\\n",
       "0   2635.json        false  Says the Annies List political group supports ...   \n",
       "1  10540.json    half-true  When did the decline of coal start? It started...   \n",
       "2    324.json  mostly-true  Hillary Clinton agrees with John McCain \"by vo...   \n",
       "3   1123.json        false  Health care reform legislation is likely to ma...   \n",
       "4   9028.json    half-true  The economic turnaround started at the end of ...   \n",
       "\n",
       "                              subject         speaker           speaker_job  \\\n",
       "0                            abortion    dwayne-bohac  State representative   \n",
       "1  energy,history,job-accomplishments  scott-surovell        State delegate   \n",
       "2                      foreign-policy    barack-obama             President   \n",
       "3                         health-care    blog-posting                   NaN   \n",
       "4                        economy,jobs   charlie-crist                   NaN   \n",
       "\n",
       "      state party_affiliation  barely_true_count  false_Count  \\\n",
       "0     Texas        republican                0.0          1.0   \n",
       "1  Virginia          democrat                0.0          0.0   \n",
       "2  Illinois          democrat               70.0         71.0   \n",
       "3       NaN              none                7.0         19.0   \n",
       "4   Florida          democrat               15.0          9.0   \n",
       "\n",
       "   half_true_count  mostly_true_count  pants_on_fire_count  \\\n",
       "0              0.0                0.0                  0.0   \n",
       "1              1.0                1.0                  0.0   \n",
       "2            160.0              163.0                  9.0   \n",
       "3              3.0                5.0                 44.0   \n",
       "4             20.0               19.0                  2.0   \n",
       "\n",
       "          venue_speach  \n",
       "0             a mailer  \n",
       "1      a floor speech.  \n",
       "2               Denver  \n",
       "3       a news release  \n",
       "4  an interview on CNN  "
      ]
     },
     "execution_count": 116,
     "metadata": {},
     "output_type": "execute_result"
    }
   ],
   "source": [
    "columns=['id','label','statement','subject','speaker','speaker_job','state',\n",
    "        'party_affiliation','barely_true_count','false_Count',\n",
    "        'half_true_count','mostly_true_count','pants_on_fire_count','venue_speach'];\n",
    "df_lair=pd.read_csv('train.tsv',sep='\\t',header=None,names=columns,index_col=False);\n",
    "df_lair.head()"
   ]
  },
  {
   "cell_type": "code",
   "execution_count": 117,
   "metadata": {},
   "outputs": [
    {
     "name": "stdout",
     "output_type": "stream",
     "text": [
      "[nltk_data] Downloading package stopwords to\n",
      "[nltk_data]     /Users/chidanandapati/nltk_data...\n",
      "[nltk_data]   Package stopwords is already up-to-date!\n",
      "[nltk_data] Downloading package punkt to\n",
      "[nltk_data]     /Users/chidanandapati/nltk_data...\n",
      "[nltk_data]   Package punkt is already up-to-date!\n",
      "[nltk_data] Downloading package wordnet to\n",
      "[nltk_data]     /Users/chidanandapati/nltk_data...\n",
      "[nltk_data]   Package wordnet is already up-to-date!\n"
     ]
    }
   ],
   "source": [
    "import nltk\n",
    "from nltk.corpus import stopwords\n",
    "nltk.download('stopwords')\n",
    "nltk.download('punkt')\n",
    "nltk.download('wordnet')\n",
    "stop_words=set(stopwords.words('english'))"
   ]
  },
  {
   "cell_type": "markdown",
   "metadata": {},
   "source": [
    "## Text Proprocessing"
   ]
  },
  {
   "cell_type": "markdown",
   "metadata": {},
   "source": [
    "#### Function for text preprocessing\n",
    "- lowercase the text\n",
    "- word tokenization\n",
    "- remove stop words and non alphanumeric charaters\n",
    "- stemming"
   ]
  },
  {
   "cell_type": "code",
   "execution_count": 118,
   "metadata": {},
   "outputs": [],
   "source": [
    "from nltk.stem import PorterStemmer,WordNetLemmatizer\n",
    "def text_preprocessing(df_base,column):\n",
    "    df=df_base.copy()\n",
    "    # lowercase the text\n",
    "    df[column]=df[column].str.lower()\n",
    "    # word tokenization\n",
    "    df[column]=df[column].map(lambda x: nltk.word_tokenize(x))\n",
    "    # remove stop words and non alphanumeric charaters\n",
    "    df[column]=df[column].map(lambda x: [w for w in x if (not w in stop_words) and w.isalpha()])\n",
    "    # lemmatization\n",
    "    wordnet_lemmatizer = WordNetLemmatizer()\n",
    "    df[column]=df[column].map(lambda x: [ wordnet_lemmatizer.lemmatize(w) for w in x])    \n",
    "    # stemming\n",
    "    porter = PorterStemmer()\n",
    "    df[column]=df[column].map(lambda x: [porter.stem(w) for w in x] )\n",
    "    return df"
   ]
  },
  {
   "cell_type": "markdown",
   "metadata": {},
   "source": [
    "#### Calling text_preprocessing function"
   ]
  },
  {
   "cell_type": "code",
   "execution_count": 119,
   "metadata": {},
   "outputs": [
    {
     "data": {
      "text/html": [
       "<div>\n",
       "<style scoped>\n",
       "    .dataframe tbody tr th:only-of-type {\n",
       "        vertical-align: middle;\n",
       "    }\n",
       "\n",
       "    .dataframe tbody tr th {\n",
       "        vertical-align: top;\n",
       "    }\n",
       "\n",
       "    .dataframe thead th {\n",
       "        text-align: right;\n",
       "    }\n",
       "</style>\n",
       "<table border=\"1\" class=\"dataframe\">\n",
       "  <thead>\n",
       "    <tr style=\"text-align: right;\">\n",
       "      <th></th>\n",
       "      <th>id</th>\n",
       "      <th>label</th>\n",
       "      <th>statement</th>\n",
       "      <th>subject</th>\n",
       "      <th>speaker</th>\n",
       "      <th>speaker_job</th>\n",
       "      <th>state</th>\n",
       "      <th>party_affiliation</th>\n",
       "      <th>barely_true_count</th>\n",
       "      <th>false_Count</th>\n",
       "      <th>half_true_count</th>\n",
       "      <th>mostly_true_count</th>\n",
       "      <th>pants_on_fire_count</th>\n",
       "      <th>venue_speach</th>\n",
       "    </tr>\n",
       "  </thead>\n",
       "  <tbody>\n",
       "    <tr>\n",
       "      <th>0</th>\n",
       "      <td>2635.json</td>\n",
       "      <td>false</td>\n",
       "      <td>[say, anni, list, polit, group, support, abort...</td>\n",
       "      <td>abortion</td>\n",
       "      <td>dwayne-bohac</td>\n",
       "      <td>State representative</td>\n",
       "      <td>Texas</td>\n",
       "      <td>republican</td>\n",
       "      <td>0.0</td>\n",
       "      <td>1.0</td>\n",
       "      <td>0.0</td>\n",
       "      <td>0.0</td>\n",
       "      <td>0.0</td>\n",
       "      <td>a mailer</td>\n",
       "    </tr>\n",
       "    <tr>\n",
       "      <th>1</th>\n",
       "      <td>10540.json</td>\n",
       "      <td>half-true</td>\n",
       "      <td>[declin, coal, start, start, natur, ga, took, ...</td>\n",
       "      <td>energy,history,job-accomplishments</td>\n",
       "      <td>scott-surovell</td>\n",
       "      <td>State delegate</td>\n",
       "      <td>Virginia</td>\n",
       "      <td>democrat</td>\n",
       "      <td>0.0</td>\n",
       "      <td>0.0</td>\n",
       "      <td>1.0</td>\n",
       "      <td>1.0</td>\n",
       "      <td>0.0</td>\n",
       "      <td>a floor speech.</td>\n",
       "    </tr>\n",
       "    <tr>\n",
       "      <th>2</th>\n",
       "      <td>324.json</td>\n",
       "      <td>mostly-true</td>\n",
       "      <td>[hillari, clinton, agre, john, mccain, vote, g...</td>\n",
       "      <td>foreign-policy</td>\n",
       "      <td>barack-obama</td>\n",
       "      <td>President</td>\n",
       "      <td>Illinois</td>\n",
       "      <td>democrat</td>\n",
       "      <td>70.0</td>\n",
       "      <td>71.0</td>\n",
       "      <td>160.0</td>\n",
       "      <td>163.0</td>\n",
       "      <td>9.0</td>\n",
       "      <td>Denver</td>\n",
       "    </tr>\n",
       "    <tr>\n",
       "      <th>3</th>\n",
       "      <td>1123.json</td>\n",
       "      <td>false</td>\n",
       "      <td>[health, care, reform, legisl, like, mandat, f...</td>\n",
       "      <td>health-care</td>\n",
       "      <td>blog-posting</td>\n",
       "      <td>NaN</td>\n",
       "      <td>NaN</td>\n",
       "      <td>none</td>\n",
       "      <td>7.0</td>\n",
       "      <td>19.0</td>\n",
       "      <td>3.0</td>\n",
       "      <td>5.0</td>\n",
       "      <td>44.0</td>\n",
       "      <td>a news release</td>\n",
       "    </tr>\n",
       "    <tr>\n",
       "      <th>4</th>\n",
       "      <td>9028.json</td>\n",
       "      <td>half-true</td>\n",
       "      <td>[econom, turnaround, start, end, term]</td>\n",
       "      <td>economy,jobs</td>\n",
       "      <td>charlie-crist</td>\n",
       "      <td>NaN</td>\n",
       "      <td>Florida</td>\n",
       "      <td>democrat</td>\n",
       "      <td>15.0</td>\n",
       "      <td>9.0</td>\n",
       "      <td>20.0</td>\n",
       "      <td>19.0</td>\n",
       "      <td>2.0</td>\n",
       "      <td>an interview on CNN</td>\n",
       "    </tr>\n",
       "  </tbody>\n",
       "</table>\n",
       "</div>"
      ],
      "text/plain": [
       "           id        label                                          statement  \\\n",
       "0   2635.json        false  [say, anni, list, polit, group, support, abort...   \n",
       "1  10540.json    half-true  [declin, coal, start, start, natur, ga, took, ...   \n",
       "2    324.json  mostly-true  [hillari, clinton, agre, john, mccain, vote, g...   \n",
       "3   1123.json        false  [health, care, reform, legisl, like, mandat, f...   \n",
       "4   9028.json    half-true             [econom, turnaround, start, end, term]   \n",
       "\n",
       "                              subject         speaker           speaker_job  \\\n",
       "0                            abortion    dwayne-bohac  State representative   \n",
       "1  energy,history,job-accomplishments  scott-surovell        State delegate   \n",
       "2                      foreign-policy    barack-obama             President   \n",
       "3                         health-care    blog-posting                   NaN   \n",
       "4                        economy,jobs   charlie-crist                   NaN   \n",
       "\n",
       "      state party_affiliation  barely_true_count  false_Count  \\\n",
       "0     Texas        republican                0.0          1.0   \n",
       "1  Virginia          democrat                0.0          0.0   \n",
       "2  Illinois          democrat               70.0         71.0   \n",
       "3       NaN              none                7.0         19.0   \n",
       "4   Florida          democrat               15.0          9.0   \n",
       "\n",
       "   half_true_count  mostly_true_count  pants_on_fire_count  \\\n",
       "0              0.0                0.0                  0.0   \n",
       "1              1.0                1.0                  0.0   \n",
       "2            160.0              163.0                  9.0   \n",
       "3              3.0                5.0                 44.0   \n",
       "4             20.0               19.0                  2.0   \n",
       "\n",
       "          venue_speach  \n",
       "0             a mailer  \n",
       "1      a floor speech.  \n",
       "2               Denver  \n",
       "3       a news release  \n",
       "4  an interview on CNN  "
      ]
     },
     "execution_count": 119,
     "metadata": {},
     "output_type": "execute_result"
    }
   ],
   "source": [
    "df_train=text_preprocessing(df_lair,'statement')\n",
    "df_train.head()"
   ]
  },
  {
   "cell_type": "markdown",
   "metadata": {},
   "source": [
    "## Spelling Error Check Factor\n",
    "### using nltk wordnet and enchant"
   ]
  },
  {
   "cell_type": "markdown",
   "metadata": {},
   "source": [
    "function spell_check_article - It takes an article as input and returns number of words with spelling error in an article and % of words with errors\n",
    "- pip install pyenchant"
   ]
  },
  {
   "cell_type": "code",
   "execution_count": 120,
   "metadata": {},
   "outputs": [],
   "source": [
    "from nltk.corpus import wordnet\n",
    "import enchant\n",
    "enchant = enchant.Dict(\"en_US\")\n",
    "def spell_check_article(article):\n",
    "    article=article.replace('-',' ');\n",
    "    article_tokenized=nltk.word_tokenize(article)\n",
    "    total_word_count=len(article_tokenized)\n",
    "    words_with_error_count=0\n",
    "    for w in article_tokenized:\n",
    "        if (not wordnet.synsets(w)) and (not enchant.check(w)):\n",
    "            words_with_error_count+=1\n",
    "    return words_with_error_count,(words_with_error_count/total_word_count*100)"
   ]
  },
  {
   "cell_type": "code",
   "execution_count": 121,
   "metadata": {},
   "outputs": [
    {
     "data": {
      "text/plain": [
       "(3, 75.0)"
      ]
     },
     "execution_count": 121,
     "metadata": {},
     "output_type": "execute_result"
    }
   ],
   "source": [
    "spell_check_article('kitten drining choclate malk')"
   ]
  },
  {
   "cell_type": "code",
   "execution_count": 122,
   "metadata": {},
   "outputs": [
    {
     "data": {
      "text/plain": [
       "(2, 50.0)"
      ]
     },
     "execution_count": 122,
     "metadata": {},
     "output_type": "execute_result"
    }
   ],
   "source": [
    "spell_check_article('kitten drining choclate milk')"
   ]
  },
  {
   "cell_type": "markdown",
   "metadata": {},
   "source": [
    "##### Assumpation More than 5 errors fake"
   ]
  },
  {
   "cell_type": "code",
   "execution_count": 123,
   "metadata": {},
   "outputs": [
    {
     "data": {
      "text/plain": [
       "array([False,  True])"
      ]
     },
     "execution_count": 123,
     "metadata": {},
     "output_type": "execute_result"
    }
   ],
   "source": [
    "df_lair['fake_spell_error']=df_lair['statement'].map(lambda x: spell_check_article(x)[0] >5)\n",
    "np.unique(df_lair['fake_spell_error'])"
   ]
  },
  {
   "cell_type": "markdown",
   "metadata": {},
   "source": [
    "## Tag Cloud\n",
    "To understand most frequent words in the corpus\n",
    "- pip install wordcloud"
   ]
  },
  {
   "cell_type": "code",
   "execution_count": 124,
   "metadata": {},
   "outputs": [],
   "source": [
    "from wordcloud import WordCloud\n",
    "import matplotlib.pyplot as plt"
   ]
  },
  {
   "cell_type": "code",
   "execution_count": 125,
   "metadata": {},
   "outputs": [],
   "source": [
    "statements=''.join(df_lair['statement'].values.tolist())"
   ]
  },
  {
   "cell_type": "code",
   "execution_count": 126,
   "metadata": {},
   "outputs": [
    {
     "data": {
      "image/png": "[encoded data removed]",
      "text/plain": [
       "<Figure size 432x288 with 1 Axes>"
      ]
     },
     "metadata": {},
     "output_type": "display_data"
    }
   ],
   "source": [
    "# lower max_font_size, change the maximum number of word and lighten the background:\n",
    "wordcloud = WordCloud(max_font_size=50, max_words=100, background_color=\"white\").generate(statements)\n",
    "plt.figure()\n",
    "plt.imshow(wordcloud, interpolation=\"bilinear\")\n",
    "plt.axis(\"off\")\n",
    "plt.show()"
   ]
  },
  {
   "cell_type": "markdown",
   "metadata": {},
   "source": [
    "Conclusion is corpus looks like is mostly political and money related"
   ]
  },
  {
   "cell_type": "markdown",
   "metadata": {},
   "source": [
    "## Word2Vec to create a vector representation of processed words for every article\n",
    "- pip install gensim"
   ]
  },
  {
   "cell_type": "code",
   "execution_count": 127,
   "metadata": {},
   "outputs": [],
   "source": [
    "import gensim\n",
    "from gensim.models.word2vec import Word2Vec\n",
    "from gensim.models.doc2vec import TaggedDocument\n",
    "from sklearn.model_selection import train_test_split\n",
    "import warnings\n",
    "warnings.filterwarnings('ignore')"
   ]
  },
  {
   "cell_type": "code",
   "execution_count": 128,
   "metadata": {},
   "outputs": [],
   "source": [
    "LabeledSentence = gensim.models.doc2vec.LabeledSentence"
   ]
  },
  {
   "cell_type": "code",
   "execution_count": 129,
   "metadata": {},
   "outputs": [],
   "source": [
    "def labelled_sentences(articles, label_type):\n",
    "    labelledSentences = []\n",
    "    for i,_d in enumerate(articles):\n",
    "        labelledSentences.append(LabeledSentence(_d, label_type[i]))\n",
    "    return labelledSentences"
   ]
  },
  {
   "cell_type": "code",
   "execution_count": 130,
   "metadata": {},
   "outputs": [
    {
     "data": {
      "text/plain": [
       "LabeledSentence(words=['declin', 'coal', 'start', 'start', 'natur', 'ga', 'took', 'start', 'begin', 'presid', 'georg', 'bush', 'administr'], tags='half-true')"
      ]
     },
     "execution_count": 130,
     "metadata": {},
     "output_type": "execute_result"
    }
   ],
   "source": [
    "df_train_labelled=labelled_sentences(df_train['statement'],df_train['label'])\n",
    "df_train_labelled[1]"
   ]
  },
  {
   "cell_type": "code",
   "execution_count": 131,
   "metadata": {},
   "outputs": [],
   "source": [
    "tagged_data = [TaggedDocument(words=_d, tags=[str(i)]) for i, _d in enumerate(df_train['statement'])]"
   ]
  },
  {
   "cell_type": "code",
   "execution_count": 132,
   "metadata": {},
   "outputs": [],
   "source": [
    "tagged_data_words=[x.words for x in tagged_data]\n",
    "tagged_data_words_1D=[]\n",
    "for row in range(len(tagged_data_words)):\n",
    "    for col in range(len(tagged_data_words[row])):\n",
    "        tagged_data_words_1D.append(tagged_data_words[row][col]) "
   ]
  },
  {
   "cell_type": "code",
   "execution_count": 133,
   "metadata": {},
   "outputs": [
    {
     "data": {
      "text/plain": [
       "(475921, 524220)"
      ]
     },
     "execution_count": 133,
     "metadata": {},
     "output_type": "execute_result"
    }
   ],
   "source": [
    "n_dim=300\n",
    "w2v = Word2Vec(size=n_dim, min_count=0)\n",
    "w2v.build_vocab(tagged_data_words)\n",
    "w2v.train(tagged_data_words,total_examples=w2v.corpus_count,epochs=w2v.epochs)"
   ]
  },
  {
   "cell_type": "code",
   "execution_count": 134,
   "metadata": {},
   "outputs": [
    {
     "data": {
      "text/plain": [
       "[('report', 0.9999655485153198),\n",
       " ('group', 0.9999642372131348),\n",
       " ('know', 0.9999639391899109),\n",
       " ('made', 0.9999631643295288),\n",
       " ('washington', 0.9999630451202393),\n",
       " ('militari', 0.9999626874923706),\n",
       " ('mayor', 0.9999608993530273),\n",
       " ('think', 0.9999600052833557),\n",
       " ('rule', 0.999959409236908),\n",
       " ('terrorist', 0.9999588131904602)]"
      ]
     },
     "execution_count": 134,
     "metadata": {},
     "output_type": "execute_result"
    }
   ],
   "source": [
    "w2v.most_similar('polit')"
   ]
  },
  {
   "cell_type": "code",
   "execution_count": 135,
   "metadata": {},
   "outputs": [],
   "source": [
    "df_train_statements=df_train[['statement','label']]\n",
    "df_train_statements_vectorized=df_train_statements['statement'].map(lambda x: [w2v[w] for w in x])"
   ]
  },
  {
   "cell_type": "code",
   "execution_count": 136,
   "metadata": {},
   "outputs": [],
   "source": [
    "df_train_statements['statement']=df_train_statements_vectorized"
   ]
  },
  {
   "cell_type": "code",
   "execution_count": 137,
   "metadata": {},
   "outputs": [],
   "source": [
    "from sklearn import preprocessing\n",
    "le = preprocessing.LabelEncoder()\n",
    "df_train_statements['label']=le.fit_transform(df_train_statements['label'])"
   ]
  },
  {
   "cell_type": "code",
   "execution_count": 138,
   "metadata": {},
   "outputs": [
    {
     "data": {
      "text/html": [
       "<div>\n",
       "<style scoped>\n",
       "    .dataframe tbody tr th:only-of-type {\n",
       "        vertical-align: middle;\n",
       "    }\n",
       "\n",
       "    .dataframe tbody tr th {\n",
       "        vertical-align: top;\n",
       "    }\n",
       "\n",
       "    .dataframe thead th {\n",
       "        text-align: right;\n",
       "    }\n",
       "</style>\n",
       "<table border=\"1\" class=\"dataframe\">\n",
       "  <thead>\n",
       "    <tr style=\"text-align: right;\">\n",
       "      <th></th>\n",
       "      <th>statement</th>\n",
       "      <th>label</th>\n",
       "    </tr>\n",
       "  </thead>\n",
       "  <tbody>\n",
       "    <tr>\n",
       "      <th>0</th>\n",
       "      <td>[[-0.06590025, -0.42761156, 0.3239966, -0.4919...</td>\n",
       "      <td>1</td>\n",
       "    </tr>\n",
       "    <tr>\n",
       "      <th>1</th>\n",
       "      <td>[[-0.010835683, -0.07034314, 0.051301982, -0.0...</td>\n",
       "      <td>2</td>\n",
       "    </tr>\n",
       "    <tr>\n",
       "      <th>2</th>\n",
       "      <td>[[-0.0917467, -0.3394109, 0.27591947, -0.35085...</td>\n",
       "      <td>3</td>\n",
       "    </tr>\n",
       "    <tr>\n",
       "      <th>3</th>\n",
       "      <td>[[0.07553578, -0.40650657, 0.35143554, -0.3123...</td>\n",
       "      <td>1</td>\n",
       "    </tr>\n",
       "    <tr>\n",
       "      <th>4</th>\n",
       "      <td>[[-0.0384704, -0.26524997, 0.19840445, -0.3330...</td>\n",
       "      <td>2</td>\n",
       "    </tr>\n",
       "  </tbody>\n",
       "</table>\n",
       "</div>"
      ],
      "text/plain": [
       "                                           statement  label\n",
       "0  [[-0.06590025, -0.42761156, 0.3239966, -0.4919...      1\n",
       "1  [[-0.010835683, -0.07034314, 0.051301982, -0.0...      2\n",
       "2  [[-0.0917467, -0.3394109, 0.27591947, -0.35085...      3\n",
       "3  [[0.07553578, -0.40650657, 0.35143554, -0.3123...      1\n",
       "4  [[-0.0384704, -0.26524997, 0.19840445, -0.3330...      2"
      ]
     },
     "execution_count": 138,
     "metadata": {},
     "output_type": "execute_result"
    }
   ],
   "source": [
    "df_train_statements.head()"
   ]
  },
  {
   "cell_type": "code",
   "execution_count": 139,
   "metadata": {},
   "outputs": [],
   "source": [
    "#list(le.inverse_transform(df_train_statements['label']))"
   ]
  },
  {
   "cell_type": "code",
   "execution_count": 140,
   "metadata": {},
   "outputs": [],
   "source": [
    "def document_vector(doc):\n",
    "    return np.mean(doc, axis=0)"
   ]
  },
  {
   "cell_type": "code",
   "execution_count": 141,
   "metadata": {},
   "outputs": [],
   "source": [
    "for row_idx in range(len(df_train_statements['statement'])):\n",
    "    for col_idx in range(len(df_train_statements['statement'][row_idx])):\n",
    "        df_train_statements['statement'][row_idx][col_idx]=document_vector(df_train_statements['statement'][row_idx][col_idx])"
   ]
  },
  {
   "cell_type": "code",
   "execution_count": 142,
   "metadata": {},
   "outputs": [
    {
     "data": {
      "text/html": [
       "<div>\n",
       "<style scoped>\n",
       "    .dataframe tbody tr th:only-of-type {\n",
       "        vertical-align: middle;\n",
       "    }\n",
       "\n",
       "    .dataframe tbody tr th {\n",
       "        vertical-align: top;\n",
       "    }\n",
       "\n",
       "    .dataframe thead th {\n",
       "        text-align: right;\n",
       "    }\n",
       "</style>\n",
       "<table border=\"1\" class=\"dataframe\">\n",
       "  <thead>\n",
       "    <tr style=\"text-align: right;\">\n",
       "      <th></th>\n",
       "      <th>statement</th>\n",
       "      <th>label</th>\n",
       "    </tr>\n",
       "  </thead>\n",
       "  <tbody>\n",
       "    <tr>\n",
       "      <th>0</th>\n",
       "      <td>[0.012847255, 0.00018528287, 0.0044465717, 0.0...</td>\n",
       "      <td>1</td>\n",
       "    </tr>\n",
       "    <tr>\n",
       "      <th>1</th>\n",
       "      <td>[0.0023396881, 0.0029984706, 0.008015, 0.00801...</td>\n",
       "      <td>2</td>\n",
       "    </tr>\n",
       "    <tr>\n",
       "      <th>2</th>\n",
       "      <td>[0.0065215104, 0.011520169, 0.004103195, 0.011...</td>\n",
       "      <td>3</td>\n",
       "    </tr>\n",
       "    <tr>\n",
       "      <th>3</th>\n",
       "      <td>[0.007211051, 0.00721571, 0.0075952914, 0.0091...</td>\n",
       "      <td>1</td>\n",
       "    </tr>\n",
       "    <tr>\n",
       "      <th>4</th>\n",
       "      <td>[0.009104228, 0.0007597116, 0.008015, 0.008402...</td>\n",
       "      <td>2</td>\n",
       "    </tr>\n",
       "    <tr>\n",
       "      <th>5</th>\n",
       "      <td>[0.0018568421, 0.0019680082, 0.008015, 0.00052...</td>\n",
       "      <td>5</td>\n",
       "    </tr>\n",
       "    <tr>\n",
       "      <th>6</th>\n",
       "      <td>[0.0041104364, 0.00018019562, 0.008630672, 0.0...</td>\n",
       "      <td>0</td>\n",
       "    </tr>\n",
       "    <tr>\n",
       "      <th>7</th>\n",
       "      <td>[0.009246212, 0.0024760372, 0.011431678, 0.004...</td>\n",
       "      <td>2</td>\n",
       "    </tr>\n",
       "    <tr>\n",
       "      <th>8</th>\n",
       "      <td>[0.00037965438, 0.010647944, 0.012942289, 0.00...</td>\n",
       "      <td>2</td>\n",
       "    </tr>\n",
       "    <tr>\n",
       "      <th>9</th>\n",
       "      <td>[0.012847255, 0.0042857216, 0.0046925726, 0.00...</td>\n",
       "      <td>3</td>\n",
       "    </tr>\n",
       "    <tr>\n",
       "      <th>10</th>\n",
       "      <td>[0.010940331, 0.012657209, 0.009313165, 0.0036...</td>\n",
       "      <td>3</td>\n",
       "    </tr>\n",
       "    <tr>\n",
       "      <th>11</th>\n",
       "      <td>[0.012333938, 0.010029525, 0.012942289, 0.0119...</td>\n",
       "      <td>2</td>\n",
       "    </tr>\n",
       "    <tr>\n",
       "      <th>12</th>\n",
       "      <td>[0.0055943504, 0.010572205, 0.012307716, 0.005...</td>\n",
       "      <td>1</td>\n",
       "    </tr>\n",
       "    <tr>\n",
       "      <th>13</th>\n",
       "      <td>[0.010192719, 0.00010131933, 0.012108196, 0.00...</td>\n",
       "      <td>3</td>\n",
       "    </tr>\n",
       "    <tr>\n",
       "      <th>14</th>\n",
       "      <td>[0.005062898, 0.00721571, 0.009914062, 0.00803...</td>\n",
       "      <td>0</td>\n",
       "    </tr>\n",
       "    <tr>\n",
       "      <th>15</th>\n",
       "      <td>[0.012211005, 0.010847273, 0.002031617, 0.0130...</td>\n",
       "      <td>2</td>\n",
       "    </tr>\n",
       "    <tr>\n",
       "      <th>16</th>\n",
       "      <td>[0.0073841875, 0.008290435, 0.0094939405, 0.01...</td>\n",
       "      <td>5</td>\n",
       "    </tr>\n",
       "    <tr>\n",
       "      <th>17</th>\n",
       "      <td>[0.0026610966, 0.005188637, 0.002355436, 0.011...</td>\n",
       "      <td>0</td>\n",
       "    </tr>\n",
       "    <tr>\n",
       "      <th>18</th>\n",
       "      <td>[0.008726073, 0.012947372, 0.00024307976, 0.00...</td>\n",
       "      <td>2</td>\n",
       "    </tr>\n",
       "    <tr>\n",
       "      <th>19</th>\n",
       "      <td>[0.0099659525, 0.01181347, 0.006776994, 0.0008...</td>\n",
       "      <td>3</td>\n",
       "    </tr>\n",
       "    <tr>\n",
       "      <th>20</th>\n",
       "      <td>[0.012522651, 0.0055026324, 0.012206205, 0.009...</td>\n",
       "      <td>1</td>\n",
       "    </tr>\n",
       "    <tr>\n",
       "      <th>21</th>\n",
       "      <td>[0.011109777, 0.013311357, 0.008947928, 0.0072...</td>\n",
       "      <td>3</td>\n",
       "    </tr>\n",
       "    <tr>\n",
       "      <th>22</th>\n",
       "      <td>[0.0053930623, 0.013452721, 0.003366684, 0.007...</td>\n",
       "      <td>3</td>\n",
       "    </tr>\n",
       "    <tr>\n",
       "      <th>23</th>\n",
       "      <td>[0.012847255, 0.01337663, 0.011334188, 0.00405...</td>\n",
       "      <td>2</td>\n",
       "    </tr>\n",
       "    <tr>\n",
       "      <th>24</th>\n",
       "      <td>[0.012847255, 0.0055943504, 0.010572205, 0.011...</td>\n",
       "      <td>0</td>\n",
       "    </tr>\n",
       "    <tr>\n",
       "      <th>25</th>\n",
       "      <td>[0.010397026, 0.0096699465, 0.00021527518, 0.0...</td>\n",
       "      <td>1</td>\n",
       "    </tr>\n",
       "    <tr>\n",
       "      <th>26</th>\n",
       "      <td>[0.0023293411, 0.010177684, 0.011953513, 0.006...</td>\n",
       "      <td>3</td>\n",
       "    </tr>\n",
       "    <tr>\n",
       "      <th>27</th>\n",
       "      <td>[0.010106561, 0.008001173, 0.01077445, 0.00842...</td>\n",
       "      <td>2</td>\n",
       "    </tr>\n",
       "    <tr>\n",
       "      <th>28</th>\n",
       "      <td>[0.0060852417, 0.012094583, 0.001323202, 0.006...</td>\n",
       "      <td>1</td>\n",
       "    </tr>\n",
       "    <tr>\n",
       "      <th>29</th>\n",
       "      <td>[0.0017717362, 0.010185875, 0.0034658695, 0.00...</td>\n",
       "      <td>3</td>\n",
       "    </tr>\n",
       "    <tr>\n",
       "      <th>...</th>\n",
       "      <td>...</td>\n",
       "      <td>...</td>\n",
       "    </tr>\n",
       "    <tr>\n",
       "      <th>10209</th>\n",
       "      <td>[0.012333938, 0.005062898, 0.00721571, 0.00991...</td>\n",
       "      <td>5</td>\n",
       "    </tr>\n",
       "    <tr>\n",
       "      <th>10210</th>\n",
       "      <td>[0.010382178, 0.0099659525, 0.0067976443, 0.00...</td>\n",
       "      <td>5</td>\n",
       "    </tr>\n",
       "    <tr>\n",
       "      <th>10211</th>\n",
       "      <td>[0.0067767953, 0.012847255, 0.011148033, 0.011...</td>\n",
       "      <td>2</td>\n",
       "    </tr>\n",
       "    <tr>\n",
       "      <th>10212</th>\n",
       "      <td>[0.0071651284, 0.0008632355, 0.011157274, 0.01...</td>\n",
       "      <td>0</td>\n",
       "    </tr>\n",
       "    <tr>\n",
       "      <th>10213</th>\n",
       "      <td>[0.012211005, 0.013452721, 0.007211051, 0.0072...</td>\n",
       "      <td>1</td>\n",
       "    </tr>\n",
       "    <tr>\n",
       "      <th>10214</th>\n",
       "      <td>[0.0065080244, 0.010089244, 0.00912038, 0.0068...</td>\n",
       "      <td>0</td>\n",
       "    </tr>\n",
       "    <tr>\n",
       "      <th>10215</th>\n",
       "      <td>[0.0025767214, 0.00498946, 0.003965409, 0.0073...</td>\n",
       "      <td>1</td>\n",
       "    </tr>\n",
       "    <tr>\n",
       "      <th>10216</th>\n",
       "      <td>[0.004246254, 0.0065080244, 0.010089244, 0.002...</td>\n",
       "      <td>2</td>\n",
       "    </tr>\n",
       "    <tr>\n",
       "      <th>10217</th>\n",
       "      <td>[0.0055772685, 0.011847105, 0.0072787, 0.00270...</td>\n",
       "      <td>1</td>\n",
       "    </tr>\n",
       "    <tr>\n",
       "      <th>10218</th>\n",
       "      <td>[0.010626953, 0.012882544, 0.009038362, 0.0037...</td>\n",
       "      <td>2</td>\n",
       "    </tr>\n",
       "    <tr>\n",
       "      <th>10219</th>\n",
       "      <td>[0.012847255, 0.0055943504, 0.010572205, 0.004...</td>\n",
       "      <td>3</td>\n",
       "    </tr>\n",
       "    <tr>\n",
       "      <th>10220</th>\n",
       "      <td>[0.0087802075, 0.010346523, 0.0061542247, 0.00...</td>\n",
       "      <td>1</td>\n",
       "    </tr>\n",
       "    <tr>\n",
       "      <th>10221</th>\n",
       "      <td>[0.010940331, 0.012657209, 0.012333938, 0.0011...</td>\n",
       "      <td>5</td>\n",
       "    </tr>\n",
       "    <tr>\n",
       "      <th>10222</th>\n",
       "      <td>[0.012847255, 0.010106561, 0.008001173, 0.0065...</td>\n",
       "      <td>3</td>\n",
       "    </tr>\n",
       "    <tr>\n",
       "      <th>10223</th>\n",
       "      <td>[0.013311357, 0.011027914, 0.0035309196, 0.004...</td>\n",
       "      <td>0</td>\n",
       "    </tr>\n",
       "    <tr>\n",
       "      <th>10224</th>\n",
       "      <td>[0.011148033, 0.01012338, 0.0084207095, 0.0129...</td>\n",
       "      <td>2</td>\n",
       "    </tr>\n",
       "    <tr>\n",
       "      <th>10225</th>\n",
       "      <td>[9.99817e-05, 0.0006726118, 0.0017372976, 0.00...</td>\n",
       "      <td>3</td>\n",
       "    </tr>\n",
       "    <tr>\n",
       "      <th>10226</th>\n",
       "      <td>[0.0073134396, 0.003017907, 0.0049475213, 0.01...</td>\n",
       "      <td>4</td>\n",
       "    </tr>\n",
       "    <tr>\n",
       "      <th>10227</th>\n",
       "      <td>[0.00813677, 0.00029852978, 0.0006620746, 0.00...</td>\n",
       "      <td>0</td>\n",
       "    </tr>\n",
       "    <tr>\n",
       "      <th>10228</th>\n",
       "      <td>[0.0036221917, 6.687187e-05, 0.008776304, 0.00...</td>\n",
       "      <td>3</td>\n",
       "    </tr>\n",
       "    <tr>\n",
       "      <th>10229</th>\n",
       "      <td>[0.006650906, 0.011374097, 0.0018976314, 0.003...</td>\n",
       "      <td>0</td>\n",
       "    </tr>\n",
       "    <tr>\n",
       "      <th>10230</th>\n",
       "      <td>[0.009984296, 0.013311357, 0.0081589855, 0.013...</td>\n",
       "      <td>2</td>\n",
       "    </tr>\n",
       "    <tr>\n",
       "      <th>10231</th>\n",
       "      <td>[0.00085341366, 0.0130366115, 0.0025767214, 0....</td>\n",
       "      <td>2</td>\n",
       "    </tr>\n",
       "    <tr>\n",
       "      <th>10232</th>\n",
       "      <td>[0.008958844, 0.0010588542, 0.011277034, 0.001...</td>\n",
       "      <td>4</td>\n",
       "    </tr>\n",
       "    <tr>\n",
       "      <th>10233</th>\n",
       "      <td>[0.008485071, 0.006650906, 0.011374097, 0.0064...</td>\n",
       "      <td>2</td>\n",
       "    </tr>\n",
       "    <tr>\n",
       "      <th>10234</th>\n",
       "      <td>[0.002908208, 0.011157274, 0.00031869445, 0.00...</td>\n",
       "      <td>3</td>\n",
       "    </tr>\n",
       "    <tr>\n",
       "      <th>10235</th>\n",
       "      <td>[0.011847105, 0.005933474, 0.01012338, 0.00717...</td>\n",
       "      <td>3</td>\n",
       "    </tr>\n",
       "    <tr>\n",
       "      <th>10236</th>\n",
       "      <td>[0.012847255, 0.0008244469, 0.009791656, 0.011...</td>\n",
       "      <td>2</td>\n",
       "    </tr>\n",
       "    <tr>\n",
       "      <th>10237</th>\n",
       "      <td>[0.0015050808, 0.0011338023, 0.00061569415, 0....</td>\n",
       "      <td>1</td>\n",
       "    </tr>\n",
       "    <tr>\n",
       "      <th>10238</th>\n",
       "      <td>[0.01037316, 0.007093649, 0.0016286871, 0.0004...</td>\n",
       "      <td>4</td>\n",
       "    </tr>\n",
       "  </tbody>\n",
       "</table>\n",
       "<p>10239 rows × 2 columns</p>\n",
       "</div>"
      ],
      "text/plain": [
       "                                               statement  label\n",
       "0      [0.012847255, 0.00018528287, 0.0044465717, 0.0...      1\n",
       "1      [0.0023396881, 0.0029984706, 0.008015, 0.00801...      2\n",
       "2      [0.0065215104, 0.011520169, 0.004103195, 0.011...      3\n",
       "3      [0.007211051, 0.00721571, 0.0075952914, 0.0091...      1\n",
       "4      [0.009104228, 0.0007597116, 0.008015, 0.008402...      2\n",
       "5      [0.0018568421, 0.0019680082, 0.008015, 0.00052...      5\n",
       "6      [0.0041104364, 0.00018019562, 0.008630672, 0.0...      0\n",
       "7      [0.009246212, 0.0024760372, 0.011431678, 0.004...      2\n",
       "8      [0.00037965438, 0.010647944, 0.012942289, 0.00...      2\n",
       "9      [0.012847255, 0.0042857216, 0.0046925726, 0.00...      3\n",
       "10     [0.010940331, 0.012657209, 0.009313165, 0.0036...      3\n",
       "11     [0.012333938, 0.010029525, 0.012942289, 0.0119...      2\n",
       "12     [0.0055943504, 0.010572205, 0.012307716, 0.005...      1\n",
       "13     [0.010192719, 0.00010131933, 0.012108196, 0.00...      3\n",
       "14     [0.005062898, 0.00721571, 0.009914062, 0.00803...      0\n",
       "15     [0.012211005, 0.010847273, 0.002031617, 0.0130...      2\n",
       "16     [0.0073841875, 0.008290435, 0.0094939405, 0.01...      5\n",
       "17     [0.0026610966, 0.005188637, 0.002355436, 0.011...      0\n",
       "18     [0.008726073, 0.012947372, 0.00024307976, 0.00...      2\n",
       "19     [0.0099659525, 0.01181347, 0.006776994, 0.0008...      3\n",
       "20     [0.012522651, 0.0055026324, 0.012206205, 0.009...      1\n",
       "21     [0.011109777, 0.013311357, 0.008947928, 0.0072...      3\n",
       "22     [0.0053930623, 0.013452721, 0.003366684, 0.007...      3\n",
       "23     [0.012847255, 0.01337663, 0.011334188, 0.00405...      2\n",
       "24     [0.012847255, 0.0055943504, 0.010572205, 0.011...      0\n",
       "25     [0.010397026, 0.0096699465, 0.00021527518, 0.0...      1\n",
       "26     [0.0023293411, 0.010177684, 0.011953513, 0.006...      3\n",
       "27     [0.010106561, 0.008001173, 0.01077445, 0.00842...      2\n",
       "28     [0.0060852417, 0.012094583, 0.001323202, 0.006...      1\n",
       "29     [0.0017717362, 0.010185875, 0.0034658695, 0.00...      3\n",
       "...                                                  ...    ...\n",
       "10209  [0.012333938, 0.005062898, 0.00721571, 0.00991...      5\n",
       "10210  [0.010382178, 0.0099659525, 0.0067976443, 0.00...      5\n",
       "10211  [0.0067767953, 0.012847255, 0.011148033, 0.011...      2\n",
       "10212  [0.0071651284, 0.0008632355, 0.011157274, 0.01...      0\n",
       "10213  [0.012211005, 0.013452721, 0.007211051, 0.0072...      1\n",
       "10214  [0.0065080244, 0.010089244, 0.00912038, 0.0068...      0\n",
       "10215  [0.0025767214, 0.00498946, 0.003965409, 0.0073...      1\n",
       "10216  [0.004246254, 0.0065080244, 0.010089244, 0.002...      2\n",
       "10217  [0.0055772685, 0.011847105, 0.0072787, 0.00270...      1\n",
       "10218  [0.010626953, 0.012882544, 0.009038362, 0.0037...      2\n",
       "10219  [0.012847255, 0.0055943504, 0.010572205, 0.004...      3\n",
       "10220  [0.0087802075, 0.010346523, 0.0061542247, 0.00...      1\n",
       "10221  [0.010940331, 0.012657209, 0.012333938, 0.0011...      5\n",
       "10222  [0.012847255, 0.010106561, 0.008001173, 0.0065...      3\n",
       "10223  [0.013311357, 0.011027914, 0.0035309196, 0.004...      0\n",
       "10224  [0.011148033, 0.01012338, 0.0084207095, 0.0129...      2\n",
       "10225  [9.99817e-05, 0.0006726118, 0.0017372976, 0.00...      3\n",
       "10226  [0.0073134396, 0.003017907, 0.0049475213, 0.01...      4\n",
       "10227  [0.00813677, 0.00029852978, 0.0006620746, 0.00...      0\n",
       "10228  [0.0036221917, 6.687187e-05, 0.008776304, 0.00...      3\n",
       "10229  [0.006650906, 0.011374097, 0.0018976314, 0.003...      0\n",
       "10230  [0.009984296, 0.013311357, 0.0081589855, 0.013...      2\n",
       "10231  [0.00085341366, 0.0130366115, 0.0025767214, 0....      2\n",
       "10232  [0.008958844, 0.0010588542, 0.011277034, 0.001...      4\n",
       "10233  [0.008485071, 0.006650906, 0.011374097, 0.0064...      2\n",
       "10234  [0.002908208, 0.011157274, 0.00031869445, 0.00...      3\n",
       "10235  [0.011847105, 0.005933474, 0.01012338, 0.00717...      3\n",
       "10236  [0.012847255, 0.0008244469, 0.009791656, 0.011...      2\n",
       "10237  [0.0015050808, 0.0011338023, 0.00061569415, 0....      1\n",
       "10238  [0.01037316, 0.007093649, 0.0016286871, 0.0004...      4\n",
       "\n",
       "[10239 rows x 2 columns]"
      ]
     },
     "execution_count": 142,
     "metadata": {},
     "output_type": "execute_result"
    }
   ],
   "source": [
    "#df_train_statements['statement']=df_train_statements['statement'].map(document_vector)\n",
    "df_train_statements.drop(index=4497,inplace=True)\n",
    "df_train_statements.reset_index(drop=True)"
   ]
  },
  {
   "cell_type": "markdown",
   "metadata": {},
   "source": [
    "##### Making word vec to features"
   ]
  },
  {
   "cell_type": "code",
   "execution_count": 143,
   "metadata": {},
   "outputs": [],
   "source": [
    "texts=[]\n",
    "for x in df_train_statements['statement'].values:\n",
    "    texts.append(x)   \n",
    "X=pd.DataFrame(texts)\n",
    "X=X.fillna(0)\n",
    "y=df_train_statements[['label']]\n",
    "X_train,X_test,y_train,y_test=train_test_split(X, y,test_size = .2, random_state = 1)"
   ]
  },
  {
   "cell_type": "code",
   "execution_count": 144,
   "metadata": {},
   "outputs": [
    {
     "data": {
      "text/html": [
       "<div>\n",
       "<style scoped>\n",
       "    .dataframe tbody tr th:only-of-type {\n",
       "        vertical-align: middle;\n",
       "    }\n",
       "\n",
       "    .dataframe tbody tr th {\n",
       "        vertical-align: top;\n",
       "    }\n",
       "\n",
       "    .dataframe thead th {\n",
       "        text-align: right;\n",
       "    }\n",
       "</style>\n",
       "<table border=\"1\" class=\"dataframe\">\n",
       "  <thead>\n",
       "    <tr style=\"text-align: right;\">\n",
       "      <th></th>\n",
       "      <th>0</th>\n",
       "      <th>1</th>\n",
       "      <th>2</th>\n",
       "      <th>3</th>\n",
       "      <th>4</th>\n",
       "      <th>5</th>\n",
       "      <th>6</th>\n",
       "      <th>7</th>\n",
       "      <th>8</th>\n",
       "      <th>9</th>\n",
       "      <th>...</th>\n",
       "      <th>235</th>\n",
       "      <th>236</th>\n",
       "      <th>237</th>\n",
       "      <th>238</th>\n",
       "      <th>239</th>\n",
       "      <th>240</th>\n",
       "      <th>241</th>\n",
       "      <th>242</th>\n",
       "      <th>243</th>\n",
       "      <th>244</th>\n",
       "    </tr>\n",
       "  </thead>\n",
       "  <tbody>\n",
       "    <tr>\n",
       "      <th>8893</th>\n",
       "      <td>0.007512</td>\n",
       "      <td>0.001707</td>\n",
       "      <td>0.011291</td>\n",
       "      <td>0.001293</td>\n",
       "      <td>0.011688</td>\n",
       "      <td>0.010757</td>\n",
       "      <td>0.003610</td>\n",
       "      <td>0.011157</td>\n",
       "      <td>0.010757</td>\n",
       "      <td>0.003304</td>\n",
       "      <td>...</td>\n",
       "      <td>0.0</td>\n",
       "      <td>0.0</td>\n",
       "      <td>0.0</td>\n",
       "      <td>0.0</td>\n",
       "      <td>0.0</td>\n",
       "      <td>0.0</td>\n",
       "      <td>0.0</td>\n",
       "      <td>0.0</td>\n",
       "      <td>0.0</td>\n",
       "      <td>0.0</td>\n",
       "    </tr>\n",
       "    <tr>\n",
       "      <th>2933</th>\n",
       "      <td>0.002699</td>\n",
       "      <td>0.003261</td>\n",
       "      <td>0.012744</td>\n",
       "      <td>0.004400</td>\n",
       "      <td>0.003245</td>\n",
       "      <td>0.012579</td>\n",
       "      <td>0.000000</td>\n",
       "      <td>0.000000</td>\n",
       "      <td>0.000000</td>\n",
       "      <td>0.000000</td>\n",
       "      <td>...</td>\n",
       "      <td>0.0</td>\n",
       "      <td>0.0</td>\n",
       "      <td>0.0</td>\n",
       "      <td>0.0</td>\n",
       "      <td>0.0</td>\n",
       "      <td>0.0</td>\n",
       "      <td>0.0</td>\n",
       "      <td>0.0</td>\n",
       "      <td>0.0</td>\n",
       "      <td>0.0</td>\n",
       "    </tr>\n",
       "    <tr>\n",
       "      <th>3933</th>\n",
       "      <td>0.002572</td>\n",
       "      <td>0.011962</td>\n",
       "      <td>0.011471</td>\n",
       "      <td>0.013311</td>\n",
       "      <td>0.012009</td>\n",
       "      <td>0.012108</td>\n",
       "      <td>0.012108</td>\n",
       "      <td>0.007168</td>\n",
       "      <td>0.008206</td>\n",
       "      <td>0.012009</td>\n",
       "      <td>...</td>\n",
       "      <td>0.0</td>\n",
       "      <td>0.0</td>\n",
       "      <td>0.0</td>\n",
       "      <td>0.0</td>\n",
       "      <td>0.0</td>\n",
       "      <td>0.0</td>\n",
       "      <td>0.0</td>\n",
       "      <td>0.0</td>\n",
       "      <td>0.0</td>\n",
       "      <td>0.0</td>\n",
       "    </tr>\n",
       "    <tr>\n",
       "      <th>3406</th>\n",
       "      <td>0.008008</td>\n",
       "      <td>0.006508</td>\n",
       "      <td>0.011277</td>\n",
       "      <td>0.002545</td>\n",
       "      <td>0.009129</td>\n",
       "      <td>0.000000</td>\n",
       "      <td>0.000000</td>\n",
       "      <td>0.000000</td>\n",
       "      <td>0.000000</td>\n",
       "      <td>0.000000</td>\n",
       "      <td>...</td>\n",
       "      <td>0.0</td>\n",
       "      <td>0.0</td>\n",
       "      <td>0.0</td>\n",
       "      <td>0.0</td>\n",
       "      <td>0.0</td>\n",
       "      <td>0.0</td>\n",
       "      <td>0.0</td>\n",
       "      <td>0.0</td>\n",
       "      <td>0.0</td>\n",
       "      <td>0.0</td>\n",
       "    </tr>\n",
       "    <tr>\n",
       "      <th>7210</th>\n",
       "      <td>0.012847</td>\n",
       "      <td>0.011803</td>\n",
       "      <td>0.003304</td>\n",
       "      <td>0.004641</td>\n",
       "      <td>0.000361</td>\n",
       "      <td>0.001134</td>\n",
       "      <td>0.002233</td>\n",
       "      <td>0.003758</td>\n",
       "      <td>0.003773</td>\n",
       "      <td>0.006482</td>\n",
       "      <td>...</td>\n",
       "      <td>0.0</td>\n",
       "      <td>0.0</td>\n",
       "      <td>0.0</td>\n",
       "      <td>0.0</td>\n",
       "      <td>0.0</td>\n",
       "      <td>0.0</td>\n",
       "      <td>0.0</td>\n",
       "      <td>0.0</td>\n",
       "      <td>0.0</td>\n",
       "      <td>0.0</td>\n",
       "    </tr>\n",
       "  </tbody>\n",
       "</table>\n",
       "<p>5 rows × 245 columns</p>\n",
       "</div>"
      ],
      "text/plain": [
       "           0         1         2         3         4         5         6    \\\n",
       "8893  0.007512  0.001707  0.011291  0.001293  0.011688  0.010757  0.003610   \n",
       "2933  0.002699  0.003261  0.012744  0.004400  0.003245  0.012579  0.000000   \n",
       "3933  0.002572  0.011962  0.011471  0.013311  0.012009  0.012108  0.012108   \n",
       "3406  0.008008  0.006508  0.011277  0.002545  0.009129  0.000000  0.000000   \n",
       "7210  0.012847  0.011803  0.003304  0.004641  0.000361  0.001134  0.002233   \n",
       "\n",
       "           7         8         9   ...   235  236  237  238  239  240  241  \\\n",
       "8893  0.011157  0.010757  0.003304 ...   0.0  0.0  0.0  0.0  0.0  0.0  0.0   \n",
       "2933  0.000000  0.000000  0.000000 ...   0.0  0.0  0.0  0.0  0.0  0.0  0.0   \n",
       "3933  0.007168  0.008206  0.012009 ...   0.0  0.0  0.0  0.0  0.0  0.0  0.0   \n",
       "3406  0.000000  0.000000  0.000000 ...   0.0  0.0  0.0  0.0  0.0  0.0  0.0   \n",
       "7210  0.003758  0.003773  0.006482 ...   0.0  0.0  0.0  0.0  0.0  0.0  0.0   \n",
       "\n",
       "      242  243  244  \n",
       "8893  0.0  0.0  0.0  \n",
       "2933  0.0  0.0  0.0  \n",
       "3933  0.0  0.0  0.0  \n",
       "3406  0.0  0.0  0.0  \n",
       "7210  0.0  0.0  0.0  \n",
       "\n",
       "[5 rows x 245 columns]"
      ]
     },
     "execution_count": 144,
     "metadata": {},
     "output_type": "execute_result"
    }
   ],
   "source": [
    "X_train.head()"
   ]
  },
  {
   "cell_type": "code",
   "execution_count": 145,
   "metadata": {},
   "outputs": [],
   "source": [
    "from sklearn.naive_bayes import GaussianNB\n",
    "gnb = GaussianNB().fit(X_train, y_train)\n",
    "gnb_pred = gnb.predict(X_test)"
   ]
  },
  {
   "cell_type": "code",
   "execution_count": 147,
   "metadata": {},
   "outputs": [
    {
     "name": "stdout",
     "output_type": "stream",
     "text": [
      "             precision    recall  f1-score   support\n",
      "\n",
      "          0       0.25      0.00      0.01       292\n",
      "          1       0.00      0.00      0.00       408\n",
      "          2       0.14      0.01      0.02       440\n",
      "          3       0.00      0.00      0.00       420\n",
      "          4       0.08      0.96      0.15       167\n",
      "          5       0.00      0.00      0.00       321\n",
      "\n",
      "avg / total       0.07      0.08      0.02      2048\n",
      "\n"
     ]
    }
   ],
   "source": [
    "from sklearn import metrics\n",
    "print(metrics.classification_report(y_test,gnb_pred))"
   ]
  },
  {
   "cell_type": "code",
   "execution_count": 148,
   "metadata": {},
   "outputs": [],
   "source": [
    "from sklearn.ensemble import RandomForestClassifier\n",
    "# Lets try with 100 trees\n",
    "num_trees=100\n",
    "rf=RandomForestClassifier(n_estimators=num_trees)\n",
    "rf.fit(X_train, y_train)\n",
    "rf_pred=rf.predict(X_test)"
   ]
  },
  {
   "cell_type": "code",
   "execution_count": 149,
   "metadata": {},
   "outputs": [
    {
     "name": "stdout",
     "output_type": "stream",
     "text": [
      "             precision    recall  f1-score   support\n",
      "\n",
      "          0       0.14      0.14      0.14       292\n",
      "          1       0.26      0.29      0.27       408\n",
      "          2       0.23      0.34      0.27       440\n",
      "          3       0.23      0.23      0.23       420\n",
      "          4       0.41      0.04      0.08       167\n",
      "          5       0.18      0.12      0.14       321\n",
      "\n",
      "avg / total       0.23      0.22      0.21      2048\n",
      "\n"
     ]
    }
   ],
   "source": [
    "print(metrics.classification_report(y_test,rf_pred))"
   ]
  },
  {
   "cell_type": "markdown",
   "metadata": {},
   "source": [
    "## Doc2Vec"
   ]
  },
  {
   "cell_type": "code",
   "execution_count": 150,
   "metadata": {},
   "outputs": [],
   "source": [
    "from gensim.models.doc2vec import Doc2Vec"
   ]
  },
  {
   "cell_type": "code",
   "execution_count": 151,
   "metadata": {},
   "outputs": [],
   "source": [
    "df_train_statements_d2v=df_train[['statement','label']]"
   ]
  },
  {
   "cell_type": "code",
   "execution_count": 152,
   "metadata": {},
   "outputs": [
    {
     "name": "stdout",
     "output_type": "stream",
     "text": [
      "Model Saved\n"
     ]
    }
   ],
   "source": [
    "max_epochs = 100\n",
    "vec_size = 20\n",
    "alpha = 0.025\n",
    "\n",
    "model = Doc2Vec(size=vec_size,\n",
    "                alpha=alpha, \n",
    "                min_alpha=0.00025,\n",
    "                min_count=1,\n",
    "                dm =1)\n",
    "  \n",
    "model.build_vocab(tagged_data)\n",
    "\n",
    "for epoch in range(max_epochs):\n",
    "    #print('iteration {0}'.format(epoch))\n",
    "    model.train(tagged_data,\n",
    "                total_examples=model.corpus_count,\n",
    "                epochs=model.iter)\n",
    "    # decrease the learning rate\n",
    "    model.alpha -= 0.0002\n",
    "    # fix the learning rate, no decay\n",
    "    model.min_alpha = model.alpha\n",
    "    \n",
    "model.save(\"d2v.model\")\n",
    "print(\"Model Saved\")    "
   ]
  },
  {
   "cell_type": "code",
   "execution_count": 153,
   "metadata": {},
   "outputs": [],
   "source": [
    "model= Doc2Vec.load(\"d2v.model\")\n",
    "texts=[]\n",
    "for x in df_train_statements_d2v['statement']:\n",
    "    texts.append(model.infer_vector(x))"
   ]
  },
  {
   "cell_type": "code",
   "execution_count": 154,
   "metadata": {},
   "outputs": [],
   "source": [
    "X=pd.DataFrame(texts)\n",
    "y=df_train_statements_d2v[['label']]\n",
    "X_train,X_test,y_train,y_test=train_test_split(X, y,test_size = .3, random_state = 1)"
   ]
  },
  {
   "cell_type": "code",
   "execution_count": 155,
   "metadata": {},
   "outputs": [
    {
     "data": {
      "text/html": [
       "<div>\n",
       "<style scoped>\n",
       "    .dataframe tbody tr th:only-of-type {\n",
       "        vertical-align: middle;\n",
       "    }\n",
       "\n",
       "    .dataframe tbody tr th {\n",
       "        vertical-align: top;\n",
       "    }\n",
       "\n",
       "    .dataframe thead th {\n",
       "        text-align: right;\n",
       "    }\n",
       "</style>\n",
       "<table border=\"1\" class=\"dataframe\">\n",
       "  <thead>\n",
       "    <tr style=\"text-align: right;\">\n",
       "      <th></th>\n",
       "      <th>0</th>\n",
       "      <th>1</th>\n",
       "      <th>2</th>\n",
       "      <th>3</th>\n",
       "      <th>4</th>\n",
       "      <th>5</th>\n",
       "      <th>6</th>\n",
       "      <th>7</th>\n",
       "      <th>8</th>\n",
       "      <th>9</th>\n",
       "      <th>10</th>\n",
       "      <th>11</th>\n",
       "      <th>12</th>\n",
       "      <th>13</th>\n",
       "      <th>14</th>\n",
       "      <th>15</th>\n",
       "      <th>16</th>\n",
       "      <th>17</th>\n",
       "      <th>18</th>\n",
       "      <th>19</th>\n",
       "    </tr>\n",
       "  </thead>\n",
       "  <tbody>\n",
       "    <tr>\n",
       "      <th>3474</th>\n",
       "      <td>0.202437</td>\n",
       "      <td>-1.693670</td>\n",
       "      <td>0.602468</td>\n",
       "      <td>-0.386630</td>\n",
       "      <td>0.437069</td>\n",
       "      <td>0.657786</td>\n",
       "      <td>0.254153</td>\n",
       "      <td>0.583644</td>\n",
       "      <td>-0.235539</td>\n",
       "      <td>0.243342</td>\n",
       "      <td>-0.430888</td>\n",
       "      <td>-0.387656</td>\n",
       "      <td>-0.233707</td>\n",
       "      <td>-0.442822</td>\n",
       "      <td>0.276943</td>\n",
       "      <td>0.849145</td>\n",
       "      <td>-0.352187</td>\n",
       "      <td>0.076994</td>\n",
       "      <td>0.476930</td>\n",
       "      <td>0.668317</td>\n",
       "    </tr>\n",
       "    <tr>\n",
       "      <th>6202</th>\n",
       "      <td>0.045121</td>\n",
       "      <td>-0.719587</td>\n",
       "      <td>-0.175274</td>\n",
       "      <td>-0.135166</td>\n",
       "      <td>-0.047580</td>\n",
       "      <td>0.364736</td>\n",
       "      <td>-0.115924</td>\n",
       "      <td>-0.448012</td>\n",
       "      <td>0.219882</td>\n",
       "      <td>0.391998</td>\n",
       "      <td>0.005378</td>\n",
       "      <td>-0.021493</td>\n",
       "      <td>-0.822127</td>\n",
       "      <td>-0.137749</td>\n",
       "      <td>0.200587</td>\n",
       "      <td>0.129430</td>\n",
       "      <td>-0.028769</td>\n",
       "      <td>-0.150502</td>\n",
       "      <td>0.524746</td>\n",
       "      <td>0.014598</td>\n",
       "    </tr>\n",
       "    <tr>\n",
       "      <th>5868</th>\n",
       "      <td>-0.357221</td>\n",
       "      <td>-0.715382</td>\n",
       "      <td>0.055062</td>\n",
       "      <td>-0.229956</td>\n",
       "      <td>0.407813</td>\n",
       "      <td>0.200381</td>\n",
       "      <td>-0.466507</td>\n",
       "      <td>-1.122632</td>\n",
       "      <td>0.755393</td>\n",
       "      <td>-0.166592</td>\n",
       "      <td>-0.120081</td>\n",
       "      <td>-1.010506</td>\n",
       "      <td>-0.749494</td>\n",
       "      <td>-0.334297</td>\n",
       "      <td>1.159945</td>\n",
       "      <td>-0.186172</td>\n",
       "      <td>0.282803</td>\n",
       "      <td>0.692439</td>\n",
       "      <td>0.580683</td>\n",
       "      <td>2.360353</td>\n",
       "    </tr>\n",
       "    <tr>\n",
       "      <th>7357</th>\n",
       "      <td>-0.081310</td>\n",
       "      <td>-0.425922</td>\n",
       "      <td>0.650113</td>\n",
       "      <td>-0.334726</td>\n",
       "      <td>0.192603</td>\n",
       "      <td>-0.007233</td>\n",
       "      <td>-0.047623</td>\n",
       "      <td>-0.009761</td>\n",
       "      <td>0.304934</td>\n",
       "      <td>0.178685</td>\n",
       "      <td>0.400665</td>\n",
       "      <td>-0.687285</td>\n",
       "      <td>-0.032718</td>\n",
       "      <td>-0.294679</td>\n",
       "      <td>0.149816</td>\n",
       "      <td>-0.413719</td>\n",
       "      <td>0.165918</td>\n",
       "      <td>-1.093248</td>\n",
       "      <td>0.147630</td>\n",
       "      <td>0.739554</td>\n",
       "    </tr>\n",
       "    <tr>\n",
       "      <th>9514</th>\n",
       "      <td>0.671747</td>\n",
       "      <td>-0.173730</td>\n",
       "      <td>-0.122419</td>\n",
       "      <td>-0.345989</td>\n",
       "      <td>0.394986</td>\n",
       "      <td>0.304411</td>\n",
       "      <td>-0.460258</td>\n",
       "      <td>-0.206031</td>\n",
       "      <td>-0.164932</td>\n",
       "      <td>0.172710</td>\n",
       "      <td>0.306664</td>\n",
       "      <td>-0.386399</td>\n",
       "      <td>-0.000093</td>\n",
       "      <td>-0.194389</td>\n",
       "      <td>-0.091498</td>\n",
       "      <td>-0.277028</td>\n",
       "      <td>0.807947</td>\n",
       "      <td>-0.330567</td>\n",
       "      <td>-0.258250</td>\n",
       "      <td>0.945076</td>\n",
       "    </tr>\n",
       "  </tbody>\n",
       "</table>\n",
       "</div>"
      ],
      "text/plain": [
       "            0         1         2         3         4         5         6   \\\n",
       "3474  0.202437 -1.693670  0.602468 -0.386630  0.437069  0.657786  0.254153   \n",
       "6202  0.045121 -0.719587 -0.175274 -0.135166 -0.047580  0.364736 -0.115924   \n",
       "5868 -0.357221 -0.715382  0.055062 -0.229956  0.407813  0.200381 -0.466507   \n",
       "7357 -0.081310 -0.425922  0.650113 -0.334726  0.192603 -0.007233 -0.047623   \n",
       "9514  0.671747 -0.173730 -0.122419 -0.345989  0.394986  0.304411 -0.460258   \n",
       "\n",
       "            7         8         9         10        11        12        13  \\\n",
       "3474  0.583644 -0.235539  0.243342 -0.430888 -0.387656 -0.233707 -0.442822   \n",
       "6202 -0.448012  0.219882  0.391998  0.005378 -0.021493 -0.822127 -0.137749   \n",
       "5868 -1.122632  0.755393 -0.166592 -0.120081 -1.010506 -0.749494 -0.334297   \n",
       "7357 -0.009761  0.304934  0.178685  0.400665 -0.687285 -0.032718 -0.294679   \n",
       "9514 -0.206031 -0.164932  0.172710  0.306664 -0.386399 -0.000093 -0.194389   \n",
       "\n",
       "            14        15        16        17        18        19  \n",
       "3474  0.276943  0.849145 -0.352187  0.076994  0.476930  0.668317  \n",
       "6202  0.200587  0.129430 -0.028769 -0.150502  0.524746  0.014598  \n",
       "5868  1.159945 -0.186172  0.282803  0.692439  0.580683  2.360353  \n",
       "7357  0.149816 -0.413719  0.165918 -1.093248  0.147630  0.739554  \n",
       "9514 -0.091498 -0.277028  0.807947 -0.330567 -0.258250  0.945076  "
      ]
     },
     "execution_count": 155,
     "metadata": {},
     "output_type": "execute_result"
    }
   ],
   "source": [
    "X_train.head()"
   ]
  },
  {
   "cell_type": "code",
   "execution_count": 156,
   "metadata": {},
   "outputs": [],
   "source": [
    "from sklearn.linear_model import LogisticRegression\n",
    "logisticRegr = LogisticRegression(C=100)\n",
    "logisticRegr.fit(X_train, y_train)\n",
    "lr_pred = logisticRegr.predict(X_test)"
   ]
  },
  {
   "cell_type": "code",
   "execution_count": 157,
   "metadata": {},
   "outputs": [
    {
     "name": "stdout",
     "output_type": "stream",
     "text": [
      "             precision    recall  f1-score   support\n",
      "\n",
      "barely-true       0.18      0.08      0.11       467\n",
      "      false       0.23      0.38      0.28       612\n",
      "  half-true       0.22      0.37      0.28       649\n",
      "mostly-true       0.21      0.26      0.23       586\n",
      " pants-fire       0.00      0.00      0.00       252\n",
      "       true       0.23      0.03      0.05       506\n",
      "\n",
      "avg / total       0.20      0.22      0.18      3072\n",
      "\n"
     ]
    }
   ],
   "source": [
    "print(metrics.classification_report(y_test,lr_pred))"
   ]
  },
  {
   "cell_type": "code",
   "execution_count": 158,
   "metadata": {},
   "outputs": [],
   "source": [
    "from sklearn.ensemble import RandomForestClassifier\n",
    "# Lets try with 100 trees\n",
    "num_trees=100\n",
    "rf=RandomForestClassifier(n_estimators=num_trees)\n",
    "rf.fit(X_train, y_train)\n",
    "rf_pred=rf.predict(X_test)"
   ]
  },
  {
   "cell_type": "code",
   "execution_count": 159,
   "metadata": {},
   "outputs": [
    {
     "name": "stdout",
     "output_type": "stream",
     "text": [
      "             precision    recall  f1-score   support\n",
      "\n",
      "barely-true       0.17      0.14      0.15       467\n",
      "      false       0.22      0.27      0.24       612\n",
      "  half-true       0.22      0.31      0.26       649\n",
      "mostly-true       0.21      0.27      0.23       586\n",
      " pants-fire       0.20      0.00      0.01       252\n",
      "       true       0.19      0.09      0.13       506\n",
      "\n",
      "avg / total       0.20      0.21      0.19      3072\n",
      "\n"
     ]
    }
   ],
   "source": [
    "print(metrics.classification_report(y_test,rf_pred))"
   ]
  },
  {
   "cell_type": "code",
   "execution_count": 160,
   "metadata": {},
   "outputs": [
    {
     "name": "stdout",
     "output_type": "stream",
     "text": [
      "[('7769', 0.7672102451324463), ('8441', 0.7182635068893433), ('694', 0.7116822600364685), ('7534', 0.7002614140510559), ('9679', 0.6995587348937988), ('1713', 0.699547290802002), ('4110', 0.69764643907547), ('3658', 0.6944789290428162), ('1965', 0.6943782567977905), ('1051', 0.6938512325286865)]\n"
     ]
    }
   ],
   "source": [
    "similar_doc = model.docvecs.most_similar('1')\n",
    "print(similar_doc)"
   ]
  },
  {
   "cell_type": "markdown",
   "metadata": {},
   "source": [
    "### K-means for vectorized docs"
   ]
  },
  {
   "cell_type": "code",
   "execution_count": 161,
   "metadata": {},
   "outputs": [],
   "source": [
    "from nltk.cluster import KMeansClusterer"
   ]
  },
  {
   "cell_type": "code",
   "execution_count": 162,
   "metadata": {},
   "outputs": [
    {
     "data": {
      "text/plain": [
       "0"
      ]
     },
     "execution_count": 162,
     "metadata": {},
     "output_type": "execute_result"
    }
   ],
   "source": [
    "#Taking a very long time\n",
    "kclusterer = KMeansClusterer(5, distance=nltk.cluster.util.cosine_distance, repeats=5)\n",
    "assigned_clusters = kclusterer.cluster(texts, assign_clusters=True)\n",
    "assigned_clusters[0]"
   ]
  },
  {
   "cell_type": "code",
   "execution_count": 163,
   "metadata": {},
   "outputs": [
    {
     "name": "stdout",
     "output_type": "stream",
     "text": [
      "[-1.2316595  -0.6800928   1.3172486  -0.25866675  1.8982655  -0.28957692\n",
      " -0.5152338   0.35996345 -0.3908873   1.07979     1.0997694  -0.5328185\n",
      " -0.36482203 -0.68322146  1.7288684  -0.442147    0.9838184  -0.80432266\n",
      " -0.5259074   0.26126888] 1\n"
     ]
    }
   ],
   "source": [
    "#for i, word in enumerate(texts):  \n",
    "#    print (texts[i] , assigned_clusters[i])\n",
    "print (texts[1] , assigned_clusters[1])"
   ]
  },
  {
   "cell_type": "code",
   "execution_count": 318,
   "metadata": {},
   "outputs": [],
   "source": [
    "from sklearn.cluster import KMeans as km\n",
    "import matplotlib.pyplot as plt\n",
    "def kmeans_plot(k):\n",
    "    kmeans=km(n_clusters=k,random_state=0).fit(texts)\n",
    "    labels=kmeans.labels_\n",
    "    centroids=kmeans.cluster_centers_    \n",
    "    colors = ['r','g','b','y','c','m','r','g','b','y','c','m','r','g','b','y','c','m']\n",
    "    fig, ax=plt.subplots()\n",
    "    \n",
    "    for i in range(k):\n",
    "        points=np.array([texts[j] for j in range(len(texts)) if labels[j]==i])\n",
    "        ax.scatter(points[:,0],points[:,1],s=7,c=colors[i])\n",
    "    ax.scatter(centroids[:,0],centroids[:,1],marker='*',s=200,c='#050505')     \n",
    "kmeans_plot(5)    "
   ]
  },
  {
   "cell_type": "markdown",
   "metadata": {},
   "source": [
    "## LDA Topic Modelling to see if we can find any topic"
   ]
  },
  {
   "cell_type": "code",
   "execution_count": 333,
   "metadata": {},
   "outputs": [],
   "source": [
    "from gensim import corpora, models\n",
    "texts=df_train['statement']\n",
    "dictionary = corpora.Dictionary(texts)\n",
    "corpus = [dictionary.doc2bow(text) for text in texts]\n",
    "ldamodel = gensim.models.ldamodel.LdaModel(corpus, num_topics=7, id2word = dictionary, passes=20)\n",
    "for idx, topic in ldamodel.print_topics(-1):\n",
    "    print('Topic: {} \\nWords: {}'.format(idx, topic))"
   ]
  },
  {
   "cell_type": "code",
   "execution_count": 337,
   "metadata": {},
   "outputs": [
    {
     "name": "stdout",
     "output_type": "stream",
     "text": [
      "Topic: 0 \n",
      "Words: 0.023*\"democrat\" + 0.020*\"say\" + 0.018*\"republican\" + 0.018*\"vote\" + 0.014*\"secur\" + 0.014*\"parti\" + 0.013*\"hous\" + 0.013*\"senat\" + 0.012*\"voter\" + 0.011*\"percent\"\n",
      "Topic: 1 \n",
      "Words: 0.017*\"school\" + 0.017*\"say\" + 0.015*\"student\" + 0.013*\"vote\" + 0.012*\"colleg\" + 0.010*\"public\" + 0.009*\"war\" + 0.009*\"day\" + 0.008*\"show\" + 0.008*\"go\"\n",
      "Topic: 2 \n",
      "Words: 0.047*\"job\" + 0.015*\"creat\" + 0.012*\"say\" + 0.012*\"lost\" + 0.011*\"year\" + 0.011*\"wisconsin\" + 0.010*\"million\" + 0.009*\"state\" + 0.008*\"sinc\" + 0.008*\"new\"\n",
      "Topic: 3 \n",
      "Words: 0.044*\"say\" + 0.041*\"obama\" + 0.032*\"presid\" + 0.017*\"barack\" + 0.012*\"clinton\" + 0.011*\"immigr\" + 0.011*\"trump\" + 0.010*\"bush\" + 0.010*\"illeg\" + 0.009*\"said\"\n",
      "Topic: 4 \n",
      "Words: 0.035*\"state\" + 0.030*\"year\" + 0.017*\"percent\" + 0.016*\"unit\" + 0.015*\"peopl\" + 0.014*\"everi\" + 0.013*\"countri\" + 0.011*\"last\" + 0.009*\"one\" + 0.009*\"american\"\n",
      "Topic: 5 \n",
      "Words: 0.050*\"tax\" + 0.032*\"percent\" + 0.027*\"say\" + 0.020*\"cut\" + 0.018*\"state\" + 0.016*\"billion\" + 0.015*\"rate\" + 0.014*\"budget\" + 0.014*\"pay\" + 0.014*\"increas\"\n",
      "Topic: 6 \n",
      "Words: 0.037*\"health\" + 0.033*\"care\" + 0.023*\"say\" + 0.018*\"law\" + 0.015*\"insur\" + 0.014*\"romney\" + 0.013*\"obamacar\" + 0.012*\"would\" + 0.010*\"mitt\" + 0.010*\"bill\"\n"
     ]
    }
   ],
   "source": []
  },
  {
   "cell_type": "markdown",
   "metadata": {},
   "source": [
    "### Topics Seems like are all related to Politics, broadly followings:\n",
    "- Tax Cut\n",
    "- Health Care\n",
    "- Immigration and Tax Policies\n",
    "- 2016 Presidential Campaigns"
   ]
  },
  {
   "cell_type": "markdown",
   "metadata": {},
   "source": [
    "## Factor Political Affiliation"
   ]
  },
  {
   "cell_type": "code",
   "execution_count": 112,
   "metadata": {},
   "outputs": [],
   "source": [
    "vocab_political_affiliation=['president','george','bushs','administration','republican','democrats','barack','obama','hillary','clinton','donald','trump','senate','house']\n",
    "#vocab_political_affiliation=['president','george','bushs','administration']"
   ]
  },
  {
   "cell_type": "code",
   "execution_count": 113,
   "metadata": {},
   "outputs": [],
   "source": [
    "l_statments=df_lair['statement'].str.lower().values.tolist()"
   ]
  },
  {
   "cell_type": "code",
   "execution_count": 114,
   "metadata": {},
   "outputs": [],
   "source": [
    "from sklearn.feature_extraction.text import TfidfVectorizer\n",
    "vectorizer = TfidfVectorizer(vocabulary=vocab_political_affiliation)\n",
    "#vectorizer = TfidfVectorizer()\n",
    "tfidf_matrix = vectorizer.fit_transform(l_statments)\n",
    "feature_names = vectorizer.get_feature_names()"
   ]
  },
  {
   "cell_type": "code",
   "execution_count": 115,
   "metadata": {},
   "outputs": [
    {
     "data": {
      "text/plain": [
       "10240"
      ]
     },
     "execution_count": 115,
     "metadata": {},
     "output_type": "execute_result"
    }
   ],
   "source": [
    "len(tfidf_matrix.toarray())"
   ]
  },
  {
   "cell_type": "code",
   "execution_count": 338,
   "metadata": {},
   "outputs": [
    {
     "data": {
      "text/plain": [
       "array([[0.45341211, 0.6517705 , 0.50286013, 0.34167875, 0.        ,\n",
       "        0.        , 0.        , 0.        , 0.        , 0.        ,\n",
       "        0.        , 0.        , 0.        , 0.        ],\n",
       "       [0.        , 0.        , 0.50286013, 0.        , 0.        ,\n",
       "        0.        , 0.        , 0.        , 0.        , 0.        ,\n",
       "        0.        , 0.        , 0.        , 0.        ],\n",
       "       [0.        , 0.45341211, 0.        , 0.        , 0.        ,\n",
       "        0.        , 0.        , 0.        , 0.        , 0.        ,\n",
       "        0.        , 0.        , 0.        , 0.        ],\n",
       "       [0.        , 0.50286013, 0.34167875, 0.        , 0.        ,\n",
       "        0.        , 0.        , 0.        , 0.        , 0.        ,\n",
       "        0.        , 0.        , 0.        , 0.        ],\n",
       "       [0.        , 0.        , 0.34167875, 0.        , 0.        ,\n",
       "        0.        , 0.        , 0.        , 0.        , 0.        ,\n",
       "        0.        , 0.        , 0.        , 0.        ],\n",
       "       [0.34167875, 0.        , 0.        , 0.        , 0.        ,\n",
       "        0.        , 0.        , 0.        , 0.        , 0.        ,\n",
       "        0.        , 0.        , 0.        , 0.        ],\n",
       "       [0.45341211, 0.        , 0.        , 0.        , 0.        ,\n",
       "        0.        , 0.        , 0.        , 0.        , 0.        ,\n",
       "        0.        , 0.        , 0.        , 0.        ],\n",
       "       [0.        , 0.34167875, 0.        , 0.        , 0.        ,\n",
       "        0.        , 0.        , 0.        , 0.        , 0.        ,\n",
       "        0.        , 0.        , 0.        , 0.        ],\n",
       "       [0.34167875, 0.        , 0.        , 0.        , 0.        ,\n",
       "        0.        , 0.        , 0.        , 0.        , 0.        ,\n",
       "        0.        , 0.        , 0.        , 0.        ],\n",
       "       [0.        , 0.34167875, 0.        , 0.        , 0.        ,\n",
       "        0.        , 0.        , 0.        , 0.        , 0.        ,\n",
       "        0.        , 0.        , 0.        , 0.        ]])"
      ]
     },
     "execution_count": 338,
     "metadata": {},
     "output_type": "execute_result"
    }
   ],
   "source": [
    "tf_idf_vals=[]\n",
    "for i in range(len(tfidf_matrix.toarray())):\n",
    "    tf_idf_doc=np.zeros(len(vocab_political_affiliation))\n",
    "    feature_index = tfidf_matrix[i,:].nonzero()[1]\n",
    "    tfidf_scores = zip(feature_index, [tfidf_matrix[doc, x] for x in feature_index])\n",
    "    count=0\n",
    "    for w, s in [(feature_names[i], s) for (i, s) in tfidf_scores]:\n",
    "        if (w in vocab_political_affiliation):\n",
    "            tf_idf_doc[count]=s\n",
    "            count+=1\n",
    "    tf_idf_vals.append(tf_idf_doc.tolist())   \n",
    "tf_idf_vals=np.array(tf_idf_vals)\n",
    "tf_idf_vals=tf_idf_vals[~(tf_idf_vals==0).all(1)]\n",
    "tf_idf_vals[0:10]\n",
    "#tf_idf_vals[np.all(tf_idf_vals == 0,axis=1)]"
   ]
  },
  {
   "cell_type": "markdown",
   "metadata": {},
   "source": [
    "## Conclusion: Document with higher tf-idf has higher political affilication"
   ]
  },
  {
   "cell_type": "markdown",
   "metadata": {},
   "source": [
    "## Kaggel Data set"
   ]
  },
  {
   "cell_type": "code",
   "execution_count": 15,
   "metadata": {},
   "outputs": [
    {
     "data": {
      "text/plain": [
       "(7569, 9)"
      ]
     },
     "execution_count": 15,
     "metadata": {},
     "output_type": "execute_result"
    }
   ],
   "source": [
    "df_kgl=pd.read_csv('./kaggel/train.csv',header=0)\n",
    "df_kgl.shape"
   ]
  },
  {
   "cell_type": "code",
   "execution_count": 16,
   "metadata": {},
   "outputs": [
    {
     "data": {
      "text/html": [
       "<div>\n",
       "<style scoped>\n",
       "    .dataframe tbody tr th:only-of-type {\n",
       "        vertical-align: middle;\n",
       "    }\n",
       "\n",
       "    .dataframe tbody tr th {\n",
       "        vertical-align: top;\n",
       "    }\n",
       "\n",
       "    .dataframe thead th {\n",
       "        text-align: right;\n",
       "    }\n",
       "</style>\n",
       "<table border=\"1\" class=\"dataframe\">\n",
       "  <thead>\n",
       "    <tr style=\"text-align: right;\">\n",
       "      <th></th>\n",
       "      <th>date</th>\n",
       "      <th>edited_by</th>\n",
       "      <th>job</th>\n",
       "      <th>researched_by</th>\n",
       "      <th>source</th>\n",
       "      <th>state</th>\n",
       "      <th>statement</th>\n",
       "      <th>subjects</th>\n",
       "      <th>truth</th>\n",
       "    </tr>\n",
       "  </thead>\n",
       "  <tbody>\n",
       "    <tr>\n",
       "      <th>0</th>\n",
       "      <td>2013-08-29</td>\n",
       "      <td>Angie Drobnic Holan</td>\n",
       "      <td>Republican</td>\n",
       "      <td>Jon Greenberg</td>\n",
       "      <td>Scott Walker</td>\n",
       "      <td>Wisconsin</td>\n",
       "      <td>In the Wisconsin health insurance exchange, \"t...</td>\n",
       "      <td>['Health Care']</td>\n",
       "      <td>3</td>\n",
       "    </tr>\n",
       "    <tr>\n",
       "      <th>1</th>\n",
       "      <td>2013-08-29</td>\n",
       "      <td>Angie Drobnic Holan</td>\n",
       "      <td>Republican</td>\n",
       "      <td>Louis Jacobson</td>\n",
       "      <td>Mike Huckabee</td>\n",
       "      <td>Arkansas</td>\n",
       "      <td>\"America’s gun-related homicide rate … would b...</td>\n",
       "      <td>['Crime', 'Guns', 'Pundits']</td>\n",
       "      <td>0</td>\n",
       "    </tr>\n",
       "    <tr>\n",
       "      <th>2</th>\n",
       "      <td>2013-08-29</td>\n",
       "      <td>Greg Borowski</td>\n",
       "      <td>NaN</td>\n",
       "      <td>Tom Kertscher</td>\n",
       "      <td>League of Conservation Voters</td>\n",
       "      <td>NaN</td>\n",
       "      <td>Says U.S. Sen. Ron Johnson voted to let oil an...</td>\n",
       "      <td>['Climate Change', 'Energy', 'Environment', 'T...</td>\n",
       "      <td>5</td>\n",
       "    </tr>\n",
       "    <tr>\n",
       "      <th>3</th>\n",
       "      <td>2013-08-28</td>\n",
       "      <td>Aaron Sharockman</td>\n",
       "      <td>NaN</td>\n",
       "      <td>Rochelle Koff</td>\n",
       "      <td>National Republican Congressional Committee</td>\n",
       "      <td>NaN</td>\n",
       "      <td>\"Congressman Patrick Murphy voted to keep the ...</td>\n",
       "      <td>['Health Care']</td>\n",
       "      <td>2</td>\n",
       "    </tr>\n",
       "    <tr>\n",
       "      <th>4</th>\n",
       "      <td>2013-08-28</td>\n",
       "      <td>Aaron Sharockman</td>\n",
       "      <td>NaN</td>\n",
       "      <td>Angie Drobnic Holan</td>\n",
       "      <td>Janet Napolitano</td>\n",
       "      <td>NaN</td>\n",
       "      <td>The 2010 DREAM Act failed despite \"strong bipa...</td>\n",
       "      <td>['Bipartisanship', 'Immigration']</td>\n",
       "      <td>2</td>\n",
       "    </tr>\n",
       "  </tbody>\n",
       "</table>\n",
       "</div>"
      ],
      "text/plain": [
       "         date            edited_by         job        researched_by  \\\n",
       "0  2013-08-29  Angie Drobnic Holan  Republican        Jon Greenberg   \n",
       "1  2013-08-29  Angie Drobnic Holan  Republican       Louis Jacobson   \n",
       "2  2013-08-29        Greg Borowski         NaN        Tom Kertscher   \n",
       "3  2013-08-28     Aaron Sharockman         NaN        Rochelle Koff   \n",
       "4  2013-08-28     Aaron Sharockman         NaN  Angie Drobnic Holan   \n",
       "\n",
       "                                        source      state  \\\n",
       "0                                 Scott Walker  Wisconsin   \n",
       "1                                Mike Huckabee   Arkansas   \n",
       "2                League of Conservation Voters        NaN   \n",
       "3  National Republican Congressional Committee        NaN   \n",
       "4                             Janet Napolitano        NaN   \n",
       "\n",
       "                                           statement  \\\n",
       "0  In the Wisconsin health insurance exchange, \"t...   \n",
       "1  \"America’s gun-related homicide rate … would b...   \n",
       "2  Says U.S. Sen. Ron Johnson voted to let oil an...   \n",
       "3  \"Congressman Patrick Murphy voted to keep the ...   \n",
       "4  The 2010 DREAM Act failed despite \"strong bipa...   \n",
       "\n",
       "                                            subjects  truth  \n",
       "0                                    ['Health Care']      3  \n",
       "1                       ['Crime', 'Guns', 'Pundits']      0  \n",
       "2  ['Climate Change', 'Energy', 'Environment', 'T...      5  \n",
       "3                                    ['Health Care']      2  \n",
       "4                  ['Bipartisanship', 'Immigration']      2  "
      ]
     },
     "execution_count": 16,
     "metadata": {},
     "output_type": "execute_result"
    }
   ],
   "source": [
    "df_kgl.head()"
   ]
  },
  {
   "cell_type": "code",
   "execution_count": 17,
   "metadata": {},
   "outputs": [],
   "source": [
    "import seaborn as sns\n",
    "import matplotlib.pyplot as plt\n",
    "%matplotlib inline"
   ]
  },
  {
   "cell_type": "code",
   "execution_count": 18,
   "metadata": {},
   "outputs": [
    {
     "data": {
      "text/plain": [
       "<matplotlib.axes._subplots.AxesSubplot at 0x1a18175eb8>"
      ]
     },
     "execution_count": 18,
     "metadata": {},
     "output_type": "execute_result"
    },
    {
     "data": {
      "image/png": "[encoded data removed]",
      "text/plain": [
       "<Figure size 432x288 with 1 Axes>"
      ]
     },
     "metadata": {},
     "output_type": "display_data"
    }
   ],
   "source": [
    "sns.countplot(x=\"truth\",data=df_kgl)"
   ]
  },
  {
   "cell_type": "code",
   "execution_count": 57,
   "metadata": {},
   "outputs": [],
   "source": [
    "import ast\n",
    "#df_kgl[['subjects']].apply(lambda x:ast.literal_eval(x))\n",
    "df_kgl['subjects_list']=df_kgl['subjects'].apply(lambda x:ast.literal_eval(x))"
   ]
  },
  {
   "cell_type": "code",
   "execution_count": 67,
   "metadata": {},
   "outputs": [],
   "source": [
    "subjects=[]\n",
    "for col in df_kgl['subjects_list']:\n",
    "    for val in col:\n",
    "        subjects.append(val)"
   ]
  },
  {
   "cell_type": "markdown",
   "metadata": {},
   "source": [
    "#### Top 20 Subjects"
   ]
  },
  {
   "cell_type": "code",
   "execution_count": 96,
   "metadata": {},
   "outputs": [
    {
     "data": {
      "text/plain": [
       "[('Health Care', 946),\n",
       " ('Economy', 905),\n",
       " ('Taxes', 848),\n",
       " ('Federal Budget', 711),\n",
       " ('State Budget', 592),\n",
       " ('Jobs', 544),\n",
       " ('Education', 538),\n",
       " ('Candidate Biography', 442),\n",
       " ('Elections', 402),\n",
       " ('Energy', 344),\n",
       " ('Message Machine 2012', 326),\n",
       " ('Immigration', 289),\n",
       " ('Environment', 271),\n",
       " ('Crime', 266),\n",
       " ('Message Machine 2010', 255),\n",
       " ('Job Accomplishments', 240),\n",
       " ('Legal Issues', 221),\n",
       " ('Transportation', 219),\n",
       " ('History', 217),\n",
       " ('Deficit', 215)]"
      ]
     },
     "execution_count": 96,
     "metadata": {},
     "output_type": "execute_result"
    }
   ],
   "source": [
    "from collections import Counter\n",
    "letter_counts = Counter(subjects).most_common(20)\n",
    "letter_counts\n",
    "#df = pd.DataFrame.from_dict(letter_counts, orient='index')\n",
    "#df.plot(kind='bar',figsize=(20,4))"
   ]
  },
  {
   "cell_type": "code",
   "execution_count": 102,
   "metadata": {},
   "outputs": [
    {
     "data": {
      "text/html": [
       "<div>\n",
       "<style scoped>\n",
       "    .dataframe tbody tr th:only-of-type {\n",
       "        vertical-align: middle;\n",
       "    }\n",
       "\n",
       "    .dataframe tbody tr th {\n",
       "        vertical-align: top;\n",
       "    }\n",
       "\n",
       "    .dataframe thead th {\n",
       "        text-align: right;\n",
       "    }\n",
       "</style>\n",
       "<table border=\"1\" class=\"dataframe\">\n",
       "  <thead>\n",
       "    <tr style=\"text-align: right;\">\n",
       "      <th></th>\n",
       "      <th>date</th>\n",
       "      <th>edited_by</th>\n",
       "      <th>job</th>\n",
       "      <th>researched_by</th>\n",
       "      <th>source</th>\n",
       "      <th>state</th>\n",
       "      <th>statement</th>\n",
       "      <th>subjects</th>\n",
       "      <th>truth</th>\n",
       "      <th>subjects_list</th>\n",
       "    </tr>\n",
       "  </thead>\n",
       "  <tbody>\n",
       "    <tr>\n",
       "      <th>0</th>\n",
       "      <td>2013-08-29</td>\n",
       "      <td>Angie Drobnic Holan</td>\n",
       "      <td>Republican</td>\n",
       "      <td>Jon Greenberg</td>\n",
       "      <td>Scott Walker</td>\n",
       "      <td>Wisconsin</td>\n",
       "      <td>In the Wisconsin health insurance exchange, \"t...</td>\n",
       "      <td>['Health Care']</td>\n",
       "      <td>3</td>\n",
       "      <td>[Health Care]</td>\n",
       "    </tr>\n",
       "    <tr>\n",
       "      <th>3</th>\n",
       "      <td>2013-08-28</td>\n",
       "      <td>Aaron Sharockman</td>\n",
       "      <td>NaN</td>\n",
       "      <td>Rochelle Koff</td>\n",
       "      <td>National Republican Congressional Committee</td>\n",
       "      <td>NaN</td>\n",
       "      <td>\"Congressman Patrick Murphy voted to keep the ...</td>\n",
       "      <td>['Health Care']</td>\n",
       "      <td>2</td>\n",
       "      <td>[Health Care]</td>\n",
       "    </tr>\n",
       "    <tr>\n",
       "      <th>23</th>\n",
       "      <td>2013-08-22</td>\n",
       "      <td>Greg Borowski</td>\n",
       "      <td>Democrat</td>\n",
       "      <td>Dave Umhoefer</td>\n",
       "      <td>Peter Barca</td>\n",
       "      <td>Wisconsin</td>\n",
       "      <td>Under a new law regulating abortions, \"Even if...</td>\n",
       "      <td>['Abortion', 'Health Care', 'Women']</td>\n",
       "      <td>3</td>\n",
       "      <td>[Abortion, Health Care, Women]</td>\n",
       "    </tr>\n",
       "    <tr>\n",
       "      <th>25</th>\n",
       "      <td>2013-08-21</td>\n",
       "      <td>Angie Drobnic Holan</td>\n",
       "      <td>NaN</td>\n",
       "      <td>Becky Bowers</td>\n",
       "      <td>Bloggers</td>\n",
       "      <td>NaN</td>\n",
       "      <td>Obamacare provision will allow \"forced home in...</td>\n",
       "      <td>['Civil Rights', 'Health Care', 'Privacy', 'Pu...</td>\n",
       "      <td>0</td>\n",
       "      <td>[Civil Rights, Health Care, Privacy, Public He...</td>\n",
       "    </tr>\n",
       "    <tr>\n",
       "      <th>26</th>\n",
       "      <td>2013-08-21</td>\n",
       "      <td>Angie Drobnic Holan</td>\n",
       "      <td>Republican</td>\n",
       "      <td>Jon Greenberg</td>\n",
       "      <td>Mike Lee</td>\n",
       "      <td>Utah</td>\n",
       "      <td>Says unions call Obamacare \"bad for workers.\"</td>\n",
       "      <td>['Health Care', 'Unions']</td>\n",
       "      <td>4</td>\n",
       "      <td>[Health Care, Unions]</td>\n",
       "    </tr>\n",
       "  </tbody>\n",
       "</table>\n",
       "</div>"
      ],
      "text/plain": [
       "          date            edited_by         job  researched_by  \\\n",
       "0   2013-08-29  Angie Drobnic Holan  Republican  Jon Greenberg   \n",
       "3   2013-08-28     Aaron Sharockman         NaN  Rochelle Koff   \n",
       "23  2013-08-22        Greg Borowski    Democrat  Dave Umhoefer   \n",
       "25  2013-08-21  Angie Drobnic Holan         NaN   Becky Bowers   \n",
       "26  2013-08-21  Angie Drobnic Holan  Republican  Jon Greenberg   \n",
       "\n",
       "                                         source      state  \\\n",
       "0                                  Scott Walker  Wisconsin   \n",
       "3   National Republican Congressional Committee        NaN   \n",
       "23                                  Peter Barca  Wisconsin   \n",
       "25                                     Bloggers        NaN   \n",
       "26                                     Mike Lee       Utah   \n",
       "\n",
       "                                            statement  \\\n",
       "0   In the Wisconsin health insurance exchange, \"t...   \n",
       "3   \"Congressman Patrick Murphy voted to keep the ...   \n",
       "23  Under a new law regulating abortions, \"Even if...   \n",
       "25  Obamacare provision will allow \"forced home in...   \n",
       "26      Says unions call Obamacare \"bad for workers.\"   \n",
       "\n",
       "                                             subjects  truth  \\\n",
       "0                                     ['Health Care']      3   \n",
       "3                                     ['Health Care']      2   \n",
       "23               ['Abortion', 'Health Care', 'Women']      3   \n",
       "25  ['Civil Rights', 'Health Care', 'Privacy', 'Pu...      0   \n",
       "26                          ['Health Care', 'Unions']      4   \n",
       "\n",
       "                                        subjects_list  \n",
       "0                                       [Health Care]  \n",
       "3                                       [Health Care]  \n",
       "23                     [Abortion, Health Care, Women]  \n",
       "25  [Civil Rights, Health Care, Privacy, Public He...  \n",
       "26                              [Health Care, Unions]  "
      ]
     },
     "execution_count": 102,
     "metadata": {},
     "output_type": "execute_result"
    }
   ],
   "source": [
    "df_kgl_hc=df_kgl[df_kgl['subjects'].str.contains('Health Care')]\n",
    "df_kgl_hc.head()"
   ]
  },
  {
   "cell_type": "code",
   "execution_count": 164,
   "metadata": {},
   "outputs": [
    {
     "data": {
      "text/plain": [
       "0     [wisconsin, health, insur, exchang, societi, a...\n",
       "3     [congressman, patrick, murphi, vote, keep, ir,...\n",
       "23    [new, law, regul, abort, even, rape, report, f...\n",
       "25    [obamacar, provis, allow, forc, home, inspect,...\n",
       "26            [say, union, call, obamacar, bad, worker]\n",
       "Name: statement, dtype: object"
      ]
     },
     "execution_count": 164,
     "metadata": {},
     "output_type": "execute_result"
    }
   ],
   "source": [
    "df_kgl_hc_train=text_preprocessing(df_kgl_hc,'statement')\n",
    "df_kgl_hc_train['statement'].head()"
   ]
  },
  {
   "cell_type": "code",
   "execution_count": 165,
   "metadata": {},
   "outputs": [
    {
     "data": {
      "text/plain": [
       "<matplotlib.axes._subplots.AxesSubplot at 0x1a29e15240>"
      ]
     },
     "execution_count": 165,
     "metadata": {},
     "output_type": "execute_result"
    },
    {
     "data": {
      "image/png": "[encoded data removed]",
      "text/plain": [
       "<Figure size 432x288 with 1 Axes>"
      ]
     },
     "metadata": {},
     "output_type": "display_data"
    }
   ],
   "source": [
    "sns.countplot(x=\"truth\",data=df_kgl_hc_train)"
   ]
  },
  {
   "cell_type": "code",
   "execution_count": 166,
   "metadata": {},
   "outputs": [
    {
     "name": "stdout",
     "output_type": "stream",
     "text": [
      "Topic: 0 \n",
      "Words: 0.068*\"health\" + 0.059*\"care\" + 0.019*\"say\" + 0.018*\"year\" + 0.017*\"insur\" + 0.014*\"plan\" + 0.014*\"tax\" + 0.010*\"american\" + 0.010*\"percent\" + 0.009*\"go\"\n",
      "Topic: 1 \n",
      "Words: 0.069*\"health\" + 0.051*\"care\" + 0.026*\"insur\" + 0.020*\"say\" + 0.019*\"obama\" + 0.016*\"bill\" + 0.016*\"plan\" + 0.016*\"law\" + 0.016*\"reform\" + 0.014*\"would\"\n",
      "Topic: 2 \n",
      "Words: 0.040*\"state\" + 0.015*\"say\" + 0.015*\"million\" + 0.015*\"scott\" + 0.012*\"texa\" + 0.011*\"rick\" + 0.010*\"new\" + 0.010*\"spend\" + 0.009*\"rhode\" + 0.009*\"island\"\n",
      "Topic: 3 \n",
      "Words: 0.031*\"medicar\" + 0.025*\"obamacar\" + 0.019*\"billion\" + 0.017*\"say\" + 0.016*\"vote\" + 0.015*\"cut\" + 0.014*\"fund\" + 0.011*\"year\" + 0.011*\"abort\" + 0.010*\"cost\"\n",
      "Topic: 4 \n",
      "Words: 0.021*\"care\" + 0.021*\"health\" + 0.013*\"obamacar\" + 0.012*\"say\" + 0.011*\"peopl\" + 0.010*\"state\" + 0.009*\"child\" + 0.009*\"america\" + 0.008*\"tax\" + 0.008*\"would\"\n",
      "Topic: 5 \n",
      "Words: 0.028*\"medicar\" + 0.022*\"health\" + 0.020*\"care\" + 0.013*\"use\" + 0.010*\"social\" + 0.010*\"say\" + 0.009*\"bill\" + 0.009*\"board\" + 0.008*\"plan\" + 0.008*\"vote\"\n",
      "Topic: 6 \n",
      "Words: 0.054*\"health\" + 0.047*\"care\" + 0.023*\"law\" + 0.019*\"say\" + 0.016*\"insur\" + 0.015*\"percent\" + 0.014*\"medicar\" + 0.013*\"bill\" + 0.012*\"peopl\" + 0.011*\"ryan\"\n"
     ]
    }
   ],
   "source": [
    "from gensim import corpora, models\n",
    "texts=df_kgl_hc_train['statement']\n",
    "dictionary = corpora.Dictionary(texts)\n",
    "corpus = [dictionary.doc2bow(text) for text in texts]\n",
    "ldamodel = gensim.models.ldamodel.LdaModel(corpus, num_topics=7, id2word = dictionary, passes=20)\n",
    "for idx, topic in ldamodel.print_topics(-1):\n",
    "    print('Topic: {} \\nWords: {}'.format(idx, topic))"
   ]
  },
  {
   "cell_type": "code",
   "execution_count": null,
   "metadata": {},
   "outputs": [],
   "source": []
  }
 ],
 "metadata": {
  "kernelspec": {
   "display_name": "Python 3",
   "language": "python",
   "name": "python3"
  },
  "language_info": {
   "codemirror_mode": {
    "name": "ipython",
    "version": 3
   },
   "file_extension": ".py",
   "mimetype": "text/x-python",
   "name": "python",
   "nbconvert_exporter": "python",
   "pygments_lexer": "ipython3",
   "version": "3.6.5"
  }
 },
 "nbformat": 4,
 "nbformat_minor": 2
}

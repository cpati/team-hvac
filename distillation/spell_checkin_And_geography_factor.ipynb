{
 "cells": [
  {
   "cell_type": "markdown",
   "metadata": {},
   "source": [
    "## It has code for 2 factors\n",
    "#### 1. Spell Checking - More spelling error means mostly writeen by un-professionals\n",
    "####    and may be a fake news\n",
    "#### 2. Political Affiliation - I initially thought of geography , but could not understand how to co-related that to fakeness"
   ]
  },
  {
   "cell_type": "code",
   "execution_count": 130,
   "metadata": {},
   "outputs": [],
   "source": [
    "import numpy as np\n",
    "import pandas as pd"
   ]
  },
  {
   "cell_type": "code",
   "execution_count": 131,
   "metadata": {},
   "outputs": [
    {
     "data": {
      "text/html": [
       "<div>\n",
       "<style scoped>\n",
       "    .dataframe tbody tr th:only-of-type {\n",
       "        vertical-align: middle;\n",
       "    }\n",
       "\n",
       "    .dataframe tbody tr th {\n",
       "        vertical-align: top;\n",
       "    }\n",
       "\n",
       "    .dataframe thead th {\n",
       "        text-align: right;\n",
       "    }\n",
       "</style>\n",
       "<table border=\"1\" class=\"dataframe\">\n",
       "  <thead>\n",
       "    <tr style=\"text-align: right;\">\n",
       "      <th></th>\n",
       "      <th>id</th>\n",
       "      <th>label</th>\n",
       "      <th>statement</th>\n",
       "      <th>subject</th>\n",
       "      <th>speaker</th>\n",
       "      <th>speaker_job</th>\n",
       "      <th>state</th>\n",
       "      <th>party_affiliation</th>\n",
       "      <th>barely_true_count</th>\n",
       "      <th>false_Count</th>\n",
       "      <th>half_true_count</th>\n",
       "      <th>mostly_true_count</th>\n",
       "      <th>pants_on_fire_count</th>\n",
       "      <th>venue_speach</th>\n",
       "    </tr>\n",
       "  </thead>\n",
       "  <tbody>\n",
       "    <tr>\n",
       "      <th>0</th>\n",
       "      <td>2635.json</td>\n",
       "      <td>false</td>\n",
       "      <td>Says the Annies List political group supports ...</td>\n",
       "      <td>abortion</td>\n",
       "      <td>dwayne-bohac</td>\n",
       "      <td>State representative</td>\n",
       "      <td>Texas</td>\n",
       "      <td>republican</td>\n",
       "      <td>0.0</td>\n",
       "      <td>1.0</td>\n",
       "      <td>0.0</td>\n",
       "      <td>0.0</td>\n",
       "      <td>0.0</td>\n",
       "      <td>a mailer</td>\n",
       "    </tr>\n",
       "    <tr>\n",
       "      <th>1</th>\n",
       "      <td>10540.json</td>\n",
       "      <td>half-true</td>\n",
       "      <td>When did the decline of coal start? It started...</td>\n",
       "      <td>energy,history,job-accomplishments</td>\n",
       "      <td>scott-surovell</td>\n",
       "      <td>State delegate</td>\n",
       "      <td>Virginia</td>\n",
       "      <td>democrat</td>\n",
       "      <td>0.0</td>\n",
       "      <td>0.0</td>\n",
       "      <td>1.0</td>\n",
       "      <td>1.0</td>\n",
       "      <td>0.0</td>\n",
       "      <td>a floor speech.</td>\n",
       "    </tr>\n",
       "    <tr>\n",
       "      <th>2</th>\n",
       "      <td>324.json</td>\n",
       "      <td>mostly-true</td>\n",
       "      <td>Hillary Clinton agrees with John McCain \"by vo...</td>\n",
       "      <td>foreign-policy</td>\n",
       "      <td>barack-obama</td>\n",
       "      <td>President</td>\n",
       "      <td>Illinois</td>\n",
       "      <td>democrat</td>\n",
       "      <td>70.0</td>\n",
       "      <td>71.0</td>\n",
       "      <td>160.0</td>\n",
       "      <td>163.0</td>\n",
       "      <td>9.0</td>\n",
       "      <td>Denver</td>\n",
       "    </tr>\n",
       "    <tr>\n",
       "      <th>3</th>\n",
       "      <td>1123.json</td>\n",
       "      <td>false</td>\n",
       "      <td>Health care reform legislation is likely to ma...</td>\n",
       "      <td>health-care</td>\n",
       "      <td>blog-posting</td>\n",
       "      <td>NaN</td>\n",
       "      <td>NaN</td>\n",
       "      <td>none</td>\n",
       "      <td>7.0</td>\n",
       "      <td>19.0</td>\n",
       "      <td>3.0</td>\n",
       "      <td>5.0</td>\n",
       "      <td>44.0</td>\n",
       "      <td>a news release</td>\n",
       "    </tr>\n",
       "    <tr>\n",
       "      <th>4</th>\n",
       "      <td>9028.json</td>\n",
       "      <td>half-true</td>\n",
       "      <td>The economic turnaround started at the end of ...</td>\n",
       "      <td>economy,jobs</td>\n",
       "      <td>charlie-crist</td>\n",
       "      <td>NaN</td>\n",
       "      <td>Florida</td>\n",
       "      <td>democrat</td>\n",
       "      <td>15.0</td>\n",
       "      <td>9.0</td>\n",
       "      <td>20.0</td>\n",
       "      <td>19.0</td>\n",
       "      <td>2.0</td>\n",
       "      <td>an interview on CNN</td>\n",
       "    </tr>\n",
       "  </tbody>\n",
       "</table>\n",
       "</div>"
      ],
      "text/plain": [
       "           id        label                                          statement  \\\n",
       "0   2635.json        false  Says the Annies List political group supports ...   \n",
       "1  10540.json    half-true  When did the decline of coal start? It started...   \n",
       "2    324.json  mostly-true  Hillary Clinton agrees with John McCain \"by vo...   \n",
       "3   1123.json        false  Health care reform legislation is likely to ma...   \n",
       "4   9028.json    half-true  The economic turnaround started at the end of ...   \n",
       "\n",
       "                              subject         speaker           speaker_job  \\\n",
       "0                            abortion    dwayne-bohac  State representative   \n",
       "1  energy,history,job-accomplishments  scott-surovell        State delegate   \n",
       "2                      foreign-policy    barack-obama             President   \n",
       "3                         health-care    blog-posting                   NaN   \n",
       "4                        economy,jobs   charlie-crist                   NaN   \n",
       "\n",
       "      state party_affiliation  barely_true_count  false_Count  \\\n",
       "0     Texas        republican                0.0          1.0   \n",
       "1  Virginia          democrat                0.0          0.0   \n",
       "2  Illinois          democrat               70.0         71.0   \n",
       "3       NaN              none                7.0         19.0   \n",
       "4   Florida          democrat               15.0          9.0   \n",
       "\n",
       "   half_true_count  mostly_true_count  pants_on_fire_count  \\\n",
       "0              0.0                0.0                  0.0   \n",
       "1              1.0                1.0                  0.0   \n",
       "2            160.0              163.0                  9.0   \n",
       "3              3.0                5.0                 44.0   \n",
       "4             20.0               19.0                  2.0   \n",
       "\n",
       "          venue_speach  \n",
       "0             a mailer  \n",
       "1      a floor speech.  \n",
       "2               Denver  \n",
       "3       a news release  \n",
       "4  an interview on CNN  "
      ]
     },
     "execution_count": 131,
     "metadata": {},
     "output_type": "execute_result"
    }
   ],
   "source": [
    "columns=['id','label','statement','subject','speaker','speaker_job','state',\n",
    "        'party_affiliation','barely_true_count','false_Count',\n",
    "        'half_true_count','mostly_true_count','pants_on_fire_count','venue_speach'];\n",
    "df_lair=pd.read_csv('train.tsv',sep='\\t',header=None,names=columns,index_col=False);\n",
    "df_lair.head()"
   ]
  },
  {
   "cell_type": "code",
   "execution_count": 132,
   "metadata": {},
   "outputs": [
    {
     "name": "stdout",
     "output_type": "stream",
     "text": [
      "[nltk_data] Downloading package stopwords to\n",
      "[nltk_data]     /Users/chidananda.pati/nltk_data...\n",
      "[nltk_data]   Package stopwords is already up-to-date!\n",
      "[nltk_data] Downloading package punkt to\n",
      "[nltk_data]     /Users/chidananda.pati/nltk_data...\n",
      "[nltk_data]   Package punkt is already up-to-date!\n",
      "[nltk_data] Downloading package wordnet to\n",
      "[nltk_data]     /Users/chidananda.pati/nltk_data...\n",
      "[nltk_data]   Package wordnet is already up-to-date!\n"
     ]
    }
   ],
   "source": [
    "import nltk\n",
    "from nltk.corpus import stopwords\n",
    "nltk.download('stopwords')\n",
    "nltk.download('punkt')\n",
    "nltk.download('wordnet')\n",
    "stop_words=set(stopwords.words('english'))"
   ]
  },
  {
   "cell_type": "markdown",
   "metadata": {},
   "source": [
    "## Text Proprocessing"
   ]
  },
  {
   "cell_type": "markdown",
   "metadata": {},
   "source": [
    "#### Function for text preprocessing\n",
    "###### 1.lowercase the text\n",
    "###### 2.word tokenization\n",
    "###### 3.remove stop words and non alphanumeric charaters\n",
    "###### 4.stemming"
   ]
  },
  {
   "cell_type": "code",
   "execution_count": 133,
   "metadata": {},
   "outputs": [],
   "source": [
    "from nltk.stem import PorterStemmer,WordNetLemmatizer\n",
    "def text_preprocessing(df_base):\n",
    "    df=df_base.copy()\n",
    "    # lowercase the text\n",
    "    df['statement']=df['statement'].str.lower()\n",
    "    # word tokenization\n",
    "    df['statement']=df['statement'].map(lambda x: nltk.word_tokenize(x))\n",
    "    # remove stop words and non alphanumeric charaters\n",
    "    df['statement']=df['statement'].map(lambda x: [w for w in x if (not w in stop_words) and w.isalpha()])\n",
    "    # lemmatization\n",
    "    wordnet_lemmatizer = WordNetLemmatizer()\n",
    "    df['statement']=df['statement'].map(lambda x: [ wordnet_lemmatizer.lemmatize(w) for w in x])    \n",
    "    # stemming\n",
    "    porter = PorterStemmer()\n",
    "    df['statement']=df['statement'].map(lambda x: [porter.stem(w) for w in x] )\n",
    "    return df"
   ]
  },
  {
   "cell_type": "markdown",
   "metadata": {},
   "source": [
    "#### Calling text_preprocessing function"
   ]
  },
  {
   "cell_type": "code",
   "execution_count": 134,
   "metadata": {},
   "outputs": [
    {
     "data": {
      "text/html": [
       "<div>\n",
       "<style scoped>\n",
       "    .dataframe tbody tr th:only-of-type {\n",
       "        vertical-align: middle;\n",
       "    }\n",
       "\n",
       "    .dataframe tbody tr th {\n",
       "        vertical-align: top;\n",
       "    }\n",
       "\n",
       "    .dataframe thead th {\n",
       "        text-align: right;\n",
       "    }\n",
       "</style>\n",
       "<table border=\"1\" class=\"dataframe\">\n",
       "  <thead>\n",
       "    <tr style=\"text-align: right;\">\n",
       "      <th></th>\n",
       "      <th>id</th>\n",
       "      <th>label</th>\n",
       "      <th>statement</th>\n",
       "      <th>subject</th>\n",
       "      <th>speaker</th>\n",
       "      <th>speaker_job</th>\n",
       "      <th>state</th>\n",
       "      <th>party_affiliation</th>\n",
       "      <th>barely_true_count</th>\n",
       "      <th>false_Count</th>\n",
       "      <th>half_true_count</th>\n",
       "      <th>mostly_true_count</th>\n",
       "      <th>pants_on_fire_count</th>\n",
       "      <th>venue_speach</th>\n",
       "    </tr>\n",
       "  </thead>\n",
       "  <tbody>\n",
       "    <tr>\n",
       "      <th>0</th>\n",
       "      <td>2635.json</td>\n",
       "      <td>false</td>\n",
       "      <td>[say, anni, list, polit, group, support, abort...</td>\n",
       "      <td>abortion</td>\n",
       "      <td>dwayne-bohac</td>\n",
       "      <td>State representative</td>\n",
       "      <td>Texas</td>\n",
       "      <td>republican</td>\n",
       "      <td>0.0</td>\n",
       "      <td>1.0</td>\n",
       "      <td>0.0</td>\n",
       "      <td>0.0</td>\n",
       "      <td>0.0</td>\n",
       "      <td>a mailer</td>\n",
       "    </tr>\n",
       "    <tr>\n",
       "      <th>1</th>\n",
       "      <td>10540.json</td>\n",
       "      <td>half-true</td>\n",
       "      <td>[declin, coal, start, start, natur, ga, took, ...</td>\n",
       "      <td>energy,history,job-accomplishments</td>\n",
       "      <td>scott-surovell</td>\n",
       "      <td>State delegate</td>\n",
       "      <td>Virginia</td>\n",
       "      <td>democrat</td>\n",
       "      <td>0.0</td>\n",
       "      <td>0.0</td>\n",
       "      <td>1.0</td>\n",
       "      <td>1.0</td>\n",
       "      <td>0.0</td>\n",
       "      <td>a floor speech.</td>\n",
       "    </tr>\n",
       "    <tr>\n",
       "      <th>2</th>\n",
       "      <td>324.json</td>\n",
       "      <td>mostly-true</td>\n",
       "      <td>[hillari, clinton, agre, john, mccain, vote, g...</td>\n",
       "      <td>foreign-policy</td>\n",
       "      <td>barack-obama</td>\n",
       "      <td>President</td>\n",
       "      <td>Illinois</td>\n",
       "      <td>democrat</td>\n",
       "      <td>70.0</td>\n",
       "      <td>71.0</td>\n",
       "      <td>160.0</td>\n",
       "      <td>163.0</td>\n",
       "      <td>9.0</td>\n",
       "      <td>Denver</td>\n",
       "    </tr>\n",
       "    <tr>\n",
       "      <th>3</th>\n",
       "      <td>1123.json</td>\n",
       "      <td>false</td>\n",
       "      <td>[health, care, reform, legisl, like, mandat, f...</td>\n",
       "      <td>health-care</td>\n",
       "      <td>blog-posting</td>\n",
       "      <td>NaN</td>\n",
       "      <td>NaN</td>\n",
       "      <td>none</td>\n",
       "      <td>7.0</td>\n",
       "      <td>19.0</td>\n",
       "      <td>3.0</td>\n",
       "      <td>5.0</td>\n",
       "      <td>44.0</td>\n",
       "      <td>a news release</td>\n",
       "    </tr>\n",
       "    <tr>\n",
       "      <th>4</th>\n",
       "      <td>9028.json</td>\n",
       "      <td>half-true</td>\n",
       "      <td>[econom, turnaround, start, end, term]</td>\n",
       "      <td>economy,jobs</td>\n",
       "      <td>charlie-crist</td>\n",
       "      <td>NaN</td>\n",
       "      <td>Florida</td>\n",
       "      <td>democrat</td>\n",
       "      <td>15.0</td>\n",
       "      <td>9.0</td>\n",
       "      <td>20.0</td>\n",
       "      <td>19.0</td>\n",
       "      <td>2.0</td>\n",
       "      <td>an interview on CNN</td>\n",
       "    </tr>\n",
       "  </tbody>\n",
       "</table>\n",
       "</div>"
      ],
      "text/plain": [
       "           id        label                                          statement  \\\n",
       "0   2635.json        false  [say, anni, list, polit, group, support, abort...   \n",
       "1  10540.json    half-true  [declin, coal, start, start, natur, ga, took, ...   \n",
       "2    324.json  mostly-true  [hillari, clinton, agre, john, mccain, vote, g...   \n",
       "3   1123.json        false  [health, care, reform, legisl, like, mandat, f...   \n",
       "4   9028.json    half-true             [econom, turnaround, start, end, term]   \n",
       "\n",
       "                              subject         speaker           speaker_job  \\\n",
       "0                            abortion    dwayne-bohac  State representative   \n",
       "1  energy,history,job-accomplishments  scott-surovell        State delegate   \n",
       "2                      foreign-policy    barack-obama             President   \n",
       "3                         health-care    blog-posting                   NaN   \n",
       "4                        economy,jobs   charlie-crist                   NaN   \n",
       "\n",
       "      state party_affiliation  barely_true_count  false_Count  \\\n",
       "0     Texas        republican                0.0          1.0   \n",
       "1  Virginia          democrat                0.0          0.0   \n",
       "2  Illinois          democrat               70.0         71.0   \n",
       "3       NaN              none                7.0         19.0   \n",
       "4   Florida          democrat               15.0          9.0   \n",
       "\n",
       "   half_true_count  mostly_true_count  pants_on_fire_count  \\\n",
       "0              0.0                0.0                  0.0   \n",
       "1              1.0                1.0                  0.0   \n",
       "2            160.0              163.0                  9.0   \n",
       "3              3.0                5.0                 44.0   \n",
       "4             20.0               19.0                  2.0   \n",
       "\n",
       "          venue_speach  \n",
       "0             a mailer  \n",
       "1      a floor speech.  \n",
       "2               Denver  \n",
       "3       a news release  \n",
       "4  an interview on CNN  "
      ]
     },
     "execution_count": 134,
     "metadata": {},
     "output_type": "execute_result"
    }
   ],
   "source": [
    "df_train=text_preprocessing(df_lair)\n",
    "df_train.head()"
   ]
  },
  {
   "cell_type": "markdown",
   "metadata": {},
   "source": [
    "## Spelling Error Check Factor"
   ]
  },
  {
   "cell_type": "markdown",
   "metadata": {},
   "source": [
    "#### function spell_check_article - It takes an article as input and returns number of words with spelling error in an article and % of words with errors\n",
    "#### pip install pyenchant"
   ]
  },
  {
   "cell_type": "code",
   "execution_count": 135,
   "metadata": {},
   "outputs": [],
   "source": [
    "from nltk.corpus import wordnet\n",
    "import enchant\n",
    "enchant = enchant.Dict(\"en_US\")\n",
    "def spell_check_article(article):\n",
    "    article=article.replace('-',' ');\n",
    "    article_tokenized=nltk.word_tokenize(article)\n",
    "    total_word_count=len(article_tokenized)\n",
    "    words_with_error_count=0\n",
    "    for w in article_tokenized:\n",
    "        if (not wordnet.synsets(w)) and (not enchant.check(w)):\n",
    "            words_with_error_count+=1\n",
    "    return words_with_error_count,(words_with_error_count/total_word_count*100)"
   ]
  },
  {
   "cell_type": "code",
   "execution_count": 136,
   "metadata": {},
   "outputs": [
    {
     "data": {
      "text/plain": [
       "(3, 75.0)"
      ]
     },
     "execution_count": 136,
     "metadata": {},
     "output_type": "execute_result"
    }
   ],
   "source": [
    "spell_check_article('kitten drining choclate malk')"
   ]
  },
  {
   "cell_type": "code",
   "execution_count": 137,
   "metadata": {},
   "outputs": [
    {
     "data": {
      "text/plain": [
       "(2, 50.0)"
      ]
     },
     "execution_count": 137,
     "metadata": {},
     "output_type": "execute_result"
    }
   ],
   "source": [
    "spell_check_article('kitten drining choclate milk')"
   ]
  },
  {
   "cell_type": "code",
   "execution_count": 138,
   "metadata": {},
   "outputs": [
    {
     "data": {
      "text/html": [
       "<div>\n",
       "<style scoped>\n",
       "    .dataframe tbody tr th:only-of-type {\n",
       "        vertical-align: middle;\n",
       "    }\n",
       "\n",
       "    .dataframe tbody tr th {\n",
       "        vertical-align: top;\n",
       "    }\n",
       "\n",
       "    .dataframe thead th {\n",
       "        text-align: right;\n",
       "    }\n",
       "</style>\n",
       "<table border=\"1\" class=\"dataframe\">\n",
       "  <thead>\n",
       "    <tr style=\"text-align: right;\">\n",
       "      <th></th>\n",
       "      <th>statement</th>\n",
       "      <th>spell_error</th>\n",
       "    </tr>\n",
       "  </thead>\n",
       "  <tbody>\n",
       "    <tr>\n",
       "      <th>0</th>\n",
       "      <td>Says the Annies List political group supports ...</td>\n",
       "      <td>1</td>\n",
       "    </tr>\n",
       "    <tr>\n",
       "      <th>1</th>\n",
       "      <td>When did the decline of coal start? It started...</td>\n",
       "      <td>3</td>\n",
       "    </tr>\n",
       "    <tr>\n",
       "      <th>2</th>\n",
       "      <td>Hillary Clinton agrees with John McCain \"by vo...</td>\n",
       "      <td>2</td>\n",
       "    </tr>\n",
       "    <tr>\n",
       "      <th>3</th>\n",
       "      <td>Health care reform legislation is likely to ma...</td>\n",
       "      <td>0</td>\n",
       "    </tr>\n",
       "    <tr>\n",
       "      <th>4</th>\n",
       "      <td>The economic turnaround started at the end of ...</td>\n",
       "      <td>0</td>\n",
       "    </tr>\n",
       "  </tbody>\n",
       "</table>\n",
       "</div>"
      ],
      "text/plain": [
       "                                           statement  spell_error\n",
       "0  Says the Annies List political group supports ...            1\n",
       "1  When did the decline of coal start? It started...            3\n",
       "2  Hillary Clinton agrees with John McCain \"by vo...            2\n",
       "3  Health care reform legislation is likely to ma...            0\n",
       "4  The economic turnaround started at the end of ...            0"
      ]
     },
     "execution_count": 138,
     "metadata": {},
     "output_type": "execute_result"
    }
   ],
   "source": [
    "df_lair['spell_error']=df_lair['statement'].map(lambda x: spell_check_article(x)[0])\n",
    "df_lair[['statement','spell_error']].head()"
   ]
  },
  {
   "cell_type": "markdown",
   "metadata": {},
   "source": [
    "## Word2Vec to create a vector representation of processed words for every article\n",
    "#### pip install gensim"
   ]
  },
  {
   "cell_type": "code",
   "execution_count": 139,
   "metadata": {},
   "outputs": [],
   "source": [
    "import gensim\n",
    "from gensim.models.word2vec import Word2Vec\n",
    "from gensim.models.doc2vec import TaggedDocument\n",
    "from sklearn.model_selection import train_test_split\n",
    "import warnings\n",
    "warnings.filterwarnings('ignore')"
   ]
  },
  {
   "cell_type": "code",
   "execution_count": 140,
   "metadata": {},
   "outputs": [],
   "source": [
    "LabeledSentence = gensim.models.doc2vec.LabeledSentence"
   ]
  },
  {
   "cell_type": "code",
   "execution_count": 141,
   "metadata": {},
   "outputs": [],
   "source": [
    "def labelled_sentences(articles, label_type):\n",
    "    labelledSentences = []\n",
    "    for i,_d in enumerate(articles):\n",
    "        labelledSentences.append(LabeledSentence(_d, label_type[i]))\n",
    "    return labelledSentences"
   ]
  },
  {
   "cell_type": "code",
   "execution_count": 142,
   "metadata": {},
   "outputs": [
    {
     "data": {
      "text/plain": [
       "LabeledSentence(words=['declin', 'coal', 'start', 'start', 'natur', 'ga', 'took', 'start', 'begin', 'presid', 'georg', 'bush', 'administr'], tags='half-true')"
      ]
     },
     "execution_count": 142,
     "metadata": {},
     "output_type": "execute_result"
    }
   ],
   "source": [
    "df_train_labelled=labelled_sentences(df_train['statement'],df_train['label'])\n",
    "df_train_labelled[1]"
   ]
  },
  {
   "cell_type": "code",
   "execution_count": 143,
   "metadata": {},
   "outputs": [],
   "source": [
    "tagged_data = [TaggedDocument(words=_d, tags=[str(i)]) for i, _d in enumerate(df_train['statement'])]"
   ]
  },
  {
   "cell_type": "code",
   "execution_count": 144,
   "metadata": {},
   "outputs": [],
   "source": [
    "tagged_data_words=[x.words for x in tagged_data]\n",
    "tagged_data_words_1D=[]\n",
    "for row in range(len(tagged_data_words)):\n",
    "    for col in range(len(tagged_data_words[row])):\n",
    "        tagged_data_words_1D.append(tagged_data_words[row][col]) "
   ]
  },
  {
   "cell_type": "code",
   "execution_count": 145,
   "metadata": {},
   "outputs": [
    {
     "data": {
      "text/plain": [
       "(475819, 524220)"
      ]
     },
     "execution_count": 145,
     "metadata": {},
     "output_type": "execute_result"
    }
   ],
   "source": [
    "n_dim=300\n",
    "w2v = Word2Vec(size=n_dim, min_count=0)\n",
    "w2v.build_vocab(tagged_data_words)\n",
    "w2v.train(tagged_data_words,total_examples=w2v.corpus_count,epochs=w2v.epochs)"
   ]
  },
  {
   "cell_type": "code",
   "execution_count": 146,
   "metadata": {},
   "outputs": [
    {
     "data": {
      "text/plain": [
       "[('know', 0.999965488910675),\n",
       " ('made', 0.9999644756317139),\n",
       " ('report', 0.9999629855155945),\n",
       " ('washington', 0.9999611973762512),\n",
       " ('back', 0.9999592900276184),\n",
       " ('think', 0.9999591112136841),\n",
       " ('rule', 0.9999580383300781),\n",
       " ('case', 0.9999572038650513),\n",
       " ('differ', 0.9999567270278931),\n",
       " ('david', 0.999954342842102)]"
      ]
     },
     "execution_count": 146,
     "metadata": {},
     "output_type": "execute_result"
    }
   ],
   "source": [
    "w2v.most_similar('polit')"
   ]
  },
  {
   "cell_type": "code",
   "execution_count": 147,
   "metadata": {},
   "outputs": [],
   "source": [
    "df_train_statements=df_train[['statement','label']]\n",
    "df_train_statements_vectorized=df_train_statements['statement'].map(lambda x: [w2v[w] for w in x])"
   ]
  },
  {
   "cell_type": "code",
   "execution_count": 148,
   "metadata": {},
   "outputs": [],
   "source": [
    "df_train_statements['statement']=df_train_statements_vectorized"
   ]
  },
  {
   "cell_type": "code",
   "execution_count": 149,
   "metadata": {},
   "outputs": [],
   "source": [
    "from sklearn import preprocessing\n",
    "le = preprocessing.LabelEncoder()\n",
    "df_train_statements['label']=le.fit_transform(df_train_statements['label'])"
   ]
  },
  {
   "cell_type": "code",
   "execution_count": 150,
   "metadata": {},
   "outputs": [
    {
     "data": {
      "text/html": [
       "<div>\n",
       "<style scoped>\n",
       "    .dataframe tbody tr th:only-of-type {\n",
       "        vertical-align: middle;\n",
       "    }\n",
       "\n",
       "    .dataframe tbody tr th {\n",
       "        vertical-align: top;\n",
       "    }\n",
       "\n",
       "    .dataframe thead th {\n",
       "        text-align: right;\n",
       "    }\n",
       "</style>\n",
       "<table border=\"1\" class=\"dataframe\">\n",
       "  <thead>\n",
       "    <tr style=\"text-align: right;\">\n",
       "      <th></th>\n",
       "      <th>statement</th>\n",
       "      <th>label</th>\n",
       "    </tr>\n",
       "  </thead>\n",
       "  <tbody>\n",
       "    <tr>\n",
       "      <th>0</th>\n",
       "      <td>[[0.20146507, -0.23366112, -0.5728493, 0.00183...</td>\n",
       "      <td>1</td>\n",
       "    </tr>\n",
       "    <tr>\n",
       "      <th>1</th>\n",
       "      <td>[[0.026758727, -0.034119338, -0.10818859, 0.00...</td>\n",
       "      <td>2</td>\n",
       "    </tr>\n",
       "    <tr>\n",
       "      <th>2</th>\n",
       "      <td>[[0.113219306, -0.2035729, -0.39532298, -0.056...</td>\n",
       "      <td>3</td>\n",
       "    </tr>\n",
       "    <tr>\n",
       "      <th>3</th>\n",
       "      <td>[[0.2016378, -0.12028078, -0.4362547, -0.04772...</td>\n",
       "      <td>1</td>\n",
       "    </tr>\n",
       "    <tr>\n",
       "      <th>4</th>\n",
       "      <td>[[0.11012714, -0.12868856, -0.3872388, -0.0012...</td>\n",
       "      <td>2</td>\n",
       "    </tr>\n",
       "  </tbody>\n",
       "</table>\n",
       "</div>"
      ],
      "text/plain": [
       "                                           statement  label\n",
       "0  [[0.20146507, -0.23366112, -0.5728493, 0.00183...      1\n",
       "1  [[0.026758727, -0.034119338, -0.10818859, 0.00...      2\n",
       "2  [[0.113219306, -0.2035729, -0.39532298, -0.056...      3\n",
       "3  [[0.2016378, -0.12028078, -0.4362547, -0.04772...      1\n",
       "4  [[0.11012714, -0.12868856, -0.3872388, -0.0012...      2"
      ]
     },
     "execution_count": 150,
     "metadata": {},
     "output_type": "execute_result"
    }
   ],
   "source": [
    "df_train_statements.head()"
   ]
  },
  {
   "cell_type": "code",
   "execution_count": 151,
   "metadata": {},
   "outputs": [],
   "source": [
    "#list(le.inverse_transform(df_train_statements['label']))"
   ]
  },
  {
   "cell_type": "code",
   "execution_count": 152,
   "metadata": {},
   "outputs": [],
   "source": [
    "def document_vector(doc):\n",
    "    return np.mean(doc, axis=0)"
   ]
  },
  {
   "cell_type": "code",
   "execution_count": 153,
   "metadata": {},
   "outputs": [
    {
     "data": {
      "text/html": [
       "<div>\n",
       "<style scoped>\n",
       "    .dataframe tbody tr th:only-of-type {\n",
       "        vertical-align: middle;\n",
       "    }\n",
       "\n",
       "    .dataframe tbody tr th {\n",
       "        vertical-align: top;\n",
       "    }\n",
       "\n",
       "    .dataframe thead th {\n",
       "        text-align: right;\n",
       "    }\n",
       "</style>\n",
       "<table border=\"1\" class=\"dataframe\">\n",
       "  <thead>\n",
       "    <tr style=\"text-align: right;\">\n",
       "      <th></th>\n",
       "      <th>statement</th>\n",
       "      <th>label</th>\n",
       "    </tr>\n",
       "  </thead>\n",
       "  <tbody>\n",
       "    <tr>\n",
       "      <th>0</th>\n",
       "      <td>[0.09709724, -0.10956003, -0.31583503, -0.0024...</td>\n",
       "      <td>1</td>\n",
       "    </tr>\n",
       "    <tr>\n",
       "      <th>1</th>\n",
       "      <td>[0.09583743, -0.117886655, -0.30497208, 0.0077...</td>\n",
       "      <td>2</td>\n",
       "    </tr>\n",
       "    <tr>\n",
       "      <th>2</th>\n",
       "      <td>[0.10423938, -0.13659735, -0.35546187, -0.0125...</td>\n",
       "      <td>3</td>\n",
       "    </tr>\n",
       "    <tr>\n",
       "      <th>3</th>\n",
       "      <td>[0.114941195, -0.10305556, -0.34892282, -0.017...</td>\n",
       "      <td>1</td>\n",
       "    </tr>\n",
       "    <tr>\n",
       "      <th>4</th>\n",
       "      <td>[0.081585966, -0.095517255, -0.28679729, -0.00...</td>\n",
       "      <td>2</td>\n",
       "    </tr>\n",
       "    <tr>\n",
       "      <th>5</th>\n",
       "      <td>[0.067979924, -0.08454306, -0.2628278, 0.00184...</td>\n",
       "      <td>5</td>\n",
       "    </tr>\n",
       "    <tr>\n",
       "      <th>6</th>\n",
       "      <td>[0.075013876, -0.09054732, -0.28706422, 0.0020...</td>\n",
       "      <td>0</td>\n",
       "    </tr>\n",
       "    <tr>\n",
       "      <th>7</th>\n",
       "      <td>[0.071904756, -0.085610226, -0.262812, 0.00063...</td>\n",
       "      <td>2</td>\n",
       "    </tr>\n",
       "    <tr>\n",
       "      <th>8</th>\n",
       "      <td>[0.06311462, -0.07343308, -0.22438608, -0.0007...</td>\n",
       "      <td>2</td>\n",
       "    </tr>\n",
       "    <tr>\n",
       "      <th>9</th>\n",
       "      <td>[0.07789785, -0.08795588, -0.2670548, -0.00240...</td>\n",
       "      <td>3</td>\n",
       "    </tr>\n",
       "    <tr>\n",
       "      <th>10</th>\n",
       "      <td>[0.08789208, -0.105910726, -0.31362545, 0.0015...</td>\n",
       "      <td>3</td>\n",
       "    </tr>\n",
       "    <tr>\n",
       "      <th>11</th>\n",
       "      <td>[0.09345134, -0.113782994, -0.34219676, 0.0028...</td>\n",
       "      <td>2</td>\n",
       "    </tr>\n",
       "    <tr>\n",
       "      <th>12</th>\n",
       "      <td>[0.10680037, -0.13001014, -0.37694585, -0.0002...</td>\n",
       "      <td>1</td>\n",
       "    </tr>\n",
       "    <tr>\n",
       "      <th>13</th>\n",
       "      <td>[0.082104154, -0.09761483, -0.30214277, -0.000...</td>\n",
       "      <td>3</td>\n",
       "    </tr>\n",
       "    <tr>\n",
       "      <th>14</th>\n",
       "      <td>[0.06827364, -0.058518384, -0.20645176, -0.012...</td>\n",
       "      <td>0</td>\n",
       "    </tr>\n",
       "    <tr>\n",
       "      <th>15</th>\n",
       "      <td>[0.10714355, -0.12853137, -0.3986512, -0.00011...</td>\n",
       "      <td>2</td>\n",
       "    </tr>\n",
       "    <tr>\n",
       "      <th>16</th>\n",
       "      <td>[0.089146316, -0.10016939, -0.29645383, -0.004...</td>\n",
       "      <td>5</td>\n",
       "    </tr>\n",
       "    <tr>\n",
       "      <th>17</th>\n",
       "      <td>[0.06343816, -0.075439155, -0.22742939, -0.001...</td>\n",
       "      <td>0</td>\n",
       "    </tr>\n",
       "    <tr>\n",
       "      <th>18</th>\n",
       "      <td>[0.064837955, -0.08468025, -0.25280967, 0.0013...</td>\n",
       "      <td>2</td>\n",
       "    </tr>\n",
       "    <tr>\n",
       "      <th>19</th>\n",
       "      <td>[0.08443278, -0.10444019, -0.32713342, 0.00323...</td>\n",
       "      <td>3</td>\n",
       "    </tr>\n",
       "    <tr>\n",
       "      <th>20</th>\n",
       "      <td>[0.10051961, -0.11691672, -0.3532647, -0.00038...</td>\n",
       "      <td>1</td>\n",
       "    </tr>\n",
       "    <tr>\n",
       "      <th>21</th>\n",
       "      <td>[0.1062177, -0.13870707, -0.43982157, 0.001937...</td>\n",
       "      <td>3</td>\n",
       "    </tr>\n",
       "    <tr>\n",
       "      <th>22</th>\n",
       "      <td>[0.09228349, -0.11249417, -0.35659632, 0.00245...</td>\n",
       "      <td>3</td>\n",
       "    </tr>\n",
       "    <tr>\n",
       "      <th>23</th>\n",
       "      <td>[0.14684063, -0.13930349, -0.4257172, -0.01127...</td>\n",
       "      <td>2</td>\n",
       "    </tr>\n",
       "    <tr>\n",
       "      <th>24</th>\n",
       "      <td>[0.12588023, -0.14405352, -0.39386582, -0.0051...</td>\n",
       "      <td>0</td>\n",
       "    </tr>\n",
       "    <tr>\n",
       "      <th>25</th>\n",
       "      <td>[0.06261, -0.07121937, -0.21768603, -0.0025822...</td>\n",
       "      <td>1</td>\n",
       "    </tr>\n",
       "    <tr>\n",
       "      <th>26</th>\n",
       "      <td>[0.05289255, -0.061656706, -0.18817942, -0.000...</td>\n",
       "      <td>3</td>\n",
       "    </tr>\n",
       "    <tr>\n",
       "      <th>27</th>\n",
       "      <td>[0.10103254, -0.11737078, -0.35226104, 0.00242...</td>\n",
       "      <td>2</td>\n",
       "    </tr>\n",
       "    <tr>\n",
       "      <th>28</th>\n",
       "      <td>[0.053357158, -0.06032558, -0.18096688, -0.001...</td>\n",
       "      <td>1</td>\n",
       "    </tr>\n",
       "    <tr>\n",
       "      <th>29</th>\n",
       "      <td>[0.07811856, -0.097615, -0.30119085, 0.0021832...</td>\n",
       "      <td>3</td>\n",
       "    </tr>\n",
       "    <tr>\n",
       "      <th>...</th>\n",
       "      <td>...</td>\n",
       "      <td>...</td>\n",
       "    </tr>\n",
       "    <tr>\n",
       "      <th>10209</th>\n",
       "      <td>[0.12077735, -0.12579176, -0.40518317, -0.0074...</td>\n",
       "      <td>5</td>\n",
       "    </tr>\n",
       "    <tr>\n",
       "      <th>10210</th>\n",
       "      <td>[0.10740733, -0.12336523, -0.3598781, 0.004351...</td>\n",
       "      <td>5</td>\n",
       "    </tr>\n",
       "    <tr>\n",
       "      <th>10211</th>\n",
       "      <td>[0.0919588, -0.10548572, -0.3154974, -0.002454...</td>\n",
       "      <td>2</td>\n",
       "    </tr>\n",
       "    <tr>\n",
       "      <th>10212</th>\n",
       "      <td>[0.083877824, -0.111109406, -0.30543432, -0.01...</td>\n",
       "      <td>0</td>\n",
       "    </tr>\n",
       "    <tr>\n",
       "      <th>10213</th>\n",
       "      <td>[0.09252298, -0.08302705, -0.291636, -0.013722...</td>\n",
       "      <td>1</td>\n",
       "    </tr>\n",
       "    <tr>\n",
       "      <th>10214</th>\n",
       "      <td>[0.10026744, -0.1155162, -0.29406813, 0.010415...</td>\n",
       "      <td>0</td>\n",
       "    </tr>\n",
       "    <tr>\n",
       "      <th>10215</th>\n",
       "      <td>[0.051622007, -0.059937626, -0.18902798, -0.00...</td>\n",
       "      <td>1</td>\n",
       "    </tr>\n",
       "    <tr>\n",
       "      <th>10216</th>\n",
       "      <td>[0.09855916, -0.11630819, -0.3236963, 0.006441...</td>\n",
       "      <td>2</td>\n",
       "    </tr>\n",
       "    <tr>\n",
       "      <th>10217</th>\n",
       "      <td>[0.072115086, -0.08562409, -0.25471142, -0.002...</td>\n",
       "      <td>1</td>\n",
       "    </tr>\n",
       "    <tr>\n",
       "      <th>10218</th>\n",
       "      <td>[0.08686961, -0.10155781, -0.31545082, -0.0023...</td>\n",
       "      <td>2</td>\n",
       "    </tr>\n",
       "    <tr>\n",
       "      <th>10219</th>\n",
       "      <td>[0.09266327, -0.11342691, -0.31228745, 0.00102...</td>\n",
       "      <td>3</td>\n",
       "    </tr>\n",
       "    <tr>\n",
       "      <th>10220</th>\n",
       "      <td>[0.09488875, -0.11189715, -0.34410357, -0.0024...</td>\n",
       "      <td>1</td>\n",
       "    </tr>\n",
       "    <tr>\n",
       "      <th>10221</th>\n",
       "      <td>[0.10217959, -0.1259925, -0.3810341, 0.0061296...</td>\n",
       "      <td>5</td>\n",
       "    </tr>\n",
       "    <tr>\n",
       "      <th>10222</th>\n",
       "      <td>[0.115875214, -0.13905296, -0.2896171, 0.01822...</td>\n",
       "      <td>3</td>\n",
       "    </tr>\n",
       "    <tr>\n",
       "      <th>10223</th>\n",
       "      <td>[0.09077217, -0.10539132, -0.33036903, -0.0015...</td>\n",
       "      <td>0</td>\n",
       "    </tr>\n",
       "    <tr>\n",
       "      <th>10224</th>\n",
       "      <td>[0.10250615, -0.11901839, -0.3621252, -0.00025...</td>\n",
       "      <td>2</td>\n",
       "    </tr>\n",
       "    <tr>\n",
       "      <th>10225</th>\n",
       "      <td>[0.07779983, -0.0939519, -0.29348263, -0.00026...</td>\n",
       "      <td>3</td>\n",
       "    </tr>\n",
       "    <tr>\n",
       "      <th>10226</th>\n",
       "      <td>[0.08215503, -0.09382875, -0.29032794, -0.0019...</td>\n",
       "      <td>4</td>\n",
       "    </tr>\n",
       "    <tr>\n",
       "      <th>10227</th>\n",
       "      <td>[0.0443189, -0.05182649, -0.15831675, -0.00023...</td>\n",
       "      <td>0</td>\n",
       "    </tr>\n",
       "    <tr>\n",
       "      <th>10228</th>\n",
       "      <td>[0.06233418, -0.07420929, -0.23830709, -0.0012...</td>\n",
       "      <td>3</td>\n",
       "    </tr>\n",
       "    <tr>\n",
       "      <th>10229</th>\n",
       "      <td>[0.061990276, -0.06916704, -0.21678604, -0.000...</td>\n",
       "      <td>0</td>\n",
       "    </tr>\n",
       "    <tr>\n",
       "      <th>10230</th>\n",
       "      <td>[0.09337953, -0.111285895, -0.35481018, -0.000...</td>\n",
       "      <td>2</td>\n",
       "    </tr>\n",
       "    <tr>\n",
       "      <th>10231</th>\n",
       "      <td>[0.11004794, -0.13132612, -0.40887928, 0.00160...</td>\n",
       "      <td>2</td>\n",
       "    </tr>\n",
       "    <tr>\n",
       "      <th>10232</th>\n",
       "      <td>[0.099990904, -0.1220055, -0.3823216, -6.21364...</td>\n",
       "      <td>4</td>\n",
       "    </tr>\n",
       "    <tr>\n",
       "      <th>10233</th>\n",
       "      <td>[0.13077027, -0.14893237, -0.44103095, -0.0038...</td>\n",
       "      <td>2</td>\n",
       "    </tr>\n",
       "    <tr>\n",
       "      <th>10234</th>\n",
       "      <td>[0.08589961, -0.09883928, -0.31023547, -0.0011...</td>\n",
       "      <td>3</td>\n",
       "    </tr>\n",
       "    <tr>\n",
       "      <th>10235</th>\n",
       "      <td>[0.084921464, -0.097861536, -0.2956346, -0.002...</td>\n",
       "      <td>3</td>\n",
       "    </tr>\n",
       "    <tr>\n",
       "      <th>10236</th>\n",
       "      <td>[0.089822195, -0.10393045, -0.32294968, -0.003...</td>\n",
       "      <td>2</td>\n",
       "    </tr>\n",
       "    <tr>\n",
       "      <th>10237</th>\n",
       "      <td>[0.0390183, -0.045017347, -0.1371925, -0.00208...</td>\n",
       "      <td>1</td>\n",
       "    </tr>\n",
       "    <tr>\n",
       "      <th>10238</th>\n",
       "      <td>[0.06339529, -0.07269312, -0.22277388, -0.0027...</td>\n",
       "      <td>4</td>\n",
       "    </tr>\n",
       "  </tbody>\n",
       "</table>\n",
       "<p>10239 rows × 2 columns</p>\n",
       "</div>"
      ],
      "text/plain": [
       "                                               statement  label\n",
       "0      [0.09709724, -0.10956003, -0.31583503, -0.0024...      1\n",
       "1      [0.09583743, -0.117886655, -0.30497208, 0.0077...      2\n",
       "2      [0.10423938, -0.13659735, -0.35546187, -0.0125...      3\n",
       "3      [0.114941195, -0.10305556, -0.34892282, -0.017...      1\n",
       "4      [0.081585966, -0.095517255, -0.28679729, -0.00...      2\n",
       "5      [0.067979924, -0.08454306, -0.2628278, 0.00184...      5\n",
       "6      [0.075013876, -0.09054732, -0.28706422, 0.0020...      0\n",
       "7      [0.071904756, -0.085610226, -0.262812, 0.00063...      2\n",
       "8      [0.06311462, -0.07343308, -0.22438608, -0.0007...      2\n",
       "9      [0.07789785, -0.08795588, -0.2670548, -0.00240...      3\n",
       "10     [0.08789208, -0.105910726, -0.31362545, 0.0015...      3\n",
       "11     [0.09345134, -0.113782994, -0.34219676, 0.0028...      2\n",
       "12     [0.10680037, -0.13001014, -0.37694585, -0.0002...      1\n",
       "13     [0.082104154, -0.09761483, -0.30214277, -0.000...      3\n",
       "14     [0.06827364, -0.058518384, -0.20645176, -0.012...      0\n",
       "15     [0.10714355, -0.12853137, -0.3986512, -0.00011...      2\n",
       "16     [0.089146316, -0.10016939, -0.29645383, -0.004...      5\n",
       "17     [0.06343816, -0.075439155, -0.22742939, -0.001...      0\n",
       "18     [0.064837955, -0.08468025, -0.25280967, 0.0013...      2\n",
       "19     [0.08443278, -0.10444019, -0.32713342, 0.00323...      3\n",
       "20     [0.10051961, -0.11691672, -0.3532647, -0.00038...      1\n",
       "21     [0.1062177, -0.13870707, -0.43982157, 0.001937...      3\n",
       "22     [0.09228349, -0.11249417, -0.35659632, 0.00245...      3\n",
       "23     [0.14684063, -0.13930349, -0.4257172, -0.01127...      2\n",
       "24     [0.12588023, -0.14405352, -0.39386582, -0.0051...      0\n",
       "25     [0.06261, -0.07121937, -0.21768603, -0.0025822...      1\n",
       "26     [0.05289255, -0.061656706, -0.18817942, -0.000...      3\n",
       "27     [0.10103254, -0.11737078, -0.35226104, 0.00242...      2\n",
       "28     [0.053357158, -0.06032558, -0.18096688, -0.001...      1\n",
       "29     [0.07811856, -0.097615, -0.30119085, 0.0021832...      3\n",
       "...                                                  ...    ...\n",
       "10209  [0.12077735, -0.12579176, -0.40518317, -0.0074...      5\n",
       "10210  [0.10740733, -0.12336523, -0.3598781, 0.004351...      5\n",
       "10211  [0.0919588, -0.10548572, -0.3154974, -0.002454...      2\n",
       "10212  [0.083877824, -0.111109406, -0.30543432, -0.01...      0\n",
       "10213  [0.09252298, -0.08302705, -0.291636, -0.013722...      1\n",
       "10214  [0.10026744, -0.1155162, -0.29406813, 0.010415...      0\n",
       "10215  [0.051622007, -0.059937626, -0.18902798, -0.00...      1\n",
       "10216  [0.09855916, -0.11630819, -0.3236963, 0.006441...      2\n",
       "10217  [0.072115086, -0.08562409, -0.25471142, -0.002...      1\n",
       "10218  [0.08686961, -0.10155781, -0.31545082, -0.0023...      2\n",
       "10219  [0.09266327, -0.11342691, -0.31228745, 0.00102...      3\n",
       "10220  [0.09488875, -0.11189715, -0.34410357, -0.0024...      1\n",
       "10221  [0.10217959, -0.1259925, -0.3810341, 0.0061296...      5\n",
       "10222  [0.115875214, -0.13905296, -0.2896171, 0.01822...      3\n",
       "10223  [0.09077217, -0.10539132, -0.33036903, -0.0015...      0\n",
       "10224  [0.10250615, -0.11901839, -0.3621252, -0.00025...      2\n",
       "10225  [0.07779983, -0.0939519, -0.29348263, -0.00026...      3\n",
       "10226  [0.08215503, -0.09382875, -0.29032794, -0.0019...      4\n",
       "10227  [0.0443189, -0.05182649, -0.15831675, -0.00023...      0\n",
       "10228  [0.06233418, -0.07420929, -0.23830709, -0.0012...      3\n",
       "10229  [0.061990276, -0.06916704, -0.21678604, -0.000...      0\n",
       "10230  [0.09337953, -0.111285895, -0.35481018, -0.000...      2\n",
       "10231  [0.11004794, -0.13132612, -0.40887928, 0.00160...      2\n",
       "10232  [0.099990904, -0.1220055, -0.3823216, -6.21364...      4\n",
       "10233  [0.13077027, -0.14893237, -0.44103095, -0.0038...      2\n",
       "10234  [0.08589961, -0.09883928, -0.31023547, -0.0011...      3\n",
       "10235  [0.084921464, -0.097861536, -0.2956346, -0.002...      3\n",
       "10236  [0.089822195, -0.10393045, -0.32294968, -0.003...      2\n",
       "10237  [0.0390183, -0.045017347, -0.1371925, -0.00208...      1\n",
       "10238  [0.06339529, -0.07269312, -0.22277388, -0.0027...      4\n",
       "\n",
       "[10239 rows x 2 columns]"
      ]
     },
     "execution_count": 153,
     "metadata": {},
     "output_type": "execute_result"
    }
   ],
   "source": [
    "df_train_statements['statement']=df_train_statements['statement'].apply(document_vector)\n",
    "df_train_statements.drop(index=4497,inplace=True)\n",
    "df_train_statements.reset_index(drop=True)"
   ]
  },
  {
   "cell_type": "code",
   "execution_count": 154,
   "metadata": {},
   "outputs": [],
   "source": [
    "texts=[]\n",
    "for x in df_train_statements['statement'].values:\n",
    "    texts.append(x.tolist())   \n",
    "X=pd.DataFrame(texts)\n",
    "y=df_train_statements[['label']]\n",
    "X_train,X_test,y_train,y_test=train_test_split(X, y,test_size = .3, random_state = 1)"
   ]
  },
  {
   "cell_type": "code",
   "execution_count": 155,
   "metadata": {},
   "outputs": [
    {
     "data": {
      "text/html": [
       "<div>\n",
       "<style scoped>\n",
       "    .dataframe tbody tr th:only-of-type {\n",
       "        vertical-align: middle;\n",
       "    }\n",
       "\n",
       "    .dataframe tbody tr th {\n",
       "        vertical-align: top;\n",
       "    }\n",
       "\n",
       "    .dataframe thead th {\n",
       "        text-align: right;\n",
       "    }\n",
       "</style>\n",
       "<table border=\"1\" class=\"dataframe\">\n",
       "  <thead>\n",
       "    <tr style=\"text-align: right;\">\n",
       "      <th></th>\n",
       "      <th>0</th>\n",
       "      <th>1</th>\n",
       "      <th>2</th>\n",
       "      <th>3</th>\n",
       "      <th>4</th>\n",
       "      <th>5</th>\n",
       "      <th>6</th>\n",
       "      <th>7</th>\n",
       "      <th>8</th>\n",
       "      <th>9</th>\n",
       "      <th>...</th>\n",
       "      <th>290</th>\n",
       "      <th>291</th>\n",
       "      <th>292</th>\n",
       "      <th>293</th>\n",
       "      <th>294</th>\n",
       "      <th>295</th>\n",
       "      <th>296</th>\n",
       "      <th>297</th>\n",
       "      <th>298</th>\n",
       "      <th>299</th>\n",
       "    </tr>\n",
       "  </thead>\n",
       "  <tbody>\n",
       "    <tr>\n",
       "      <th>3474</th>\n",
       "      <td>0.081655</td>\n",
       "      <td>-0.091132</td>\n",
       "      <td>-0.256128</td>\n",
       "      <td>0.000892</td>\n",
       "      <td>0.131858</td>\n",
       "      <td>-0.006179</td>\n",
       "      <td>-0.253529</td>\n",
       "      <td>0.067716</td>\n",
       "      <td>0.006251</td>\n",
       "      <td>-0.004479</td>\n",
       "      <td>...</td>\n",
       "      <td>0.069203</td>\n",
       "      <td>-0.185053</td>\n",
       "      <td>-0.038816</td>\n",
       "      <td>0.246961</td>\n",
       "      <td>0.268679</td>\n",
       "      <td>-0.065747</td>\n",
       "      <td>-0.096261</td>\n",
       "      <td>-0.000175</td>\n",
       "      <td>-0.061555</td>\n",
       "      <td>-0.172583</td>\n",
       "    </tr>\n",
       "    <tr>\n",
       "      <th>6202</th>\n",
       "      <td>0.091573</td>\n",
       "      <td>-0.104785</td>\n",
       "      <td>-0.326459</td>\n",
       "      <td>-0.004575</td>\n",
       "      <td>0.166035</td>\n",
       "      <td>-0.017035</td>\n",
       "      <td>-0.306064</td>\n",
       "      <td>0.086325</td>\n",
       "      <td>0.012315</td>\n",
       "      <td>-0.010959</td>\n",
       "      <td>...</td>\n",
       "      <td>0.077259</td>\n",
       "      <td>-0.221593</td>\n",
       "      <td>-0.053974</td>\n",
       "      <td>0.300436</td>\n",
       "      <td>0.325052</td>\n",
       "      <td>-0.076228</td>\n",
       "      <td>-0.110075</td>\n",
       "      <td>-0.000730</td>\n",
       "      <td>-0.070038</td>\n",
       "      <td>-0.216177</td>\n",
       "    </tr>\n",
       "    <tr>\n",
       "      <th>5868</th>\n",
       "      <td>0.067396</td>\n",
       "      <td>-0.080212</td>\n",
       "      <td>-0.219056</td>\n",
       "      <td>0.001625</td>\n",
       "      <td>0.115352</td>\n",
       "      <td>-0.001894</td>\n",
       "      <td>-0.210828</td>\n",
       "      <td>0.059303</td>\n",
       "      <td>0.002812</td>\n",
       "      <td>-0.007113</td>\n",
       "      <td>...</td>\n",
       "      <td>0.057916</td>\n",
       "      <td>-0.162117</td>\n",
       "      <td>-0.029981</td>\n",
       "      <td>0.210593</td>\n",
       "      <td>0.230009</td>\n",
       "      <td>-0.050900</td>\n",
       "      <td>-0.080110</td>\n",
       "      <td>-0.001631</td>\n",
       "      <td>-0.053420</td>\n",
       "      <td>-0.152041</td>\n",
       "    </tr>\n",
       "    <tr>\n",
       "      <th>7357</th>\n",
       "      <td>0.122791</td>\n",
       "      <td>-0.142851</td>\n",
       "      <td>-0.429147</td>\n",
       "      <td>-0.002584</td>\n",
       "      <td>0.212577</td>\n",
       "      <td>-0.016130</td>\n",
       "      <td>-0.401692</td>\n",
       "      <td>0.114089</td>\n",
       "      <td>0.016430</td>\n",
       "      <td>-0.011812</td>\n",
       "      <td>...</td>\n",
       "      <td>0.105608</td>\n",
       "      <td>-0.306892</td>\n",
       "      <td>-0.067943</td>\n",
       "      <td>0.402206</td>\n",
       "      <td>0.427380</td>\n",
       "      <td>-0.100073</td>\n",
       "      <td>-0.153664</td>\n",
       "      <td>-0.003337</td>\n",
       "      <td>-0.100388</td>\n",
       "      <td>-0.291895</td>\n",
       "    </tr>\n",
       "    <tr>\n",
       "      <th>9514</th>\n",
       "      <td>0.090456</td>\n",
       "      <td>-0.098531</td>\n",
       "      <td>-0.298143</td>\n",
       "      <td>-0.004081</td>\n",
       "      <td>0.156385</td>\n",
       "      <td>-0.013159</td>\n",
       "      <td>-0.283071</td>\n",
       "      <td>0.076009</td>\n",
       "      <td>0.007262</td>\n",
       "      <td>-0.005005</td>\n",
       "      <td>...</td>\n",
       "      <td>0.077033</td>\n",
       "      <td>-0.210412</td>\n",
       "      <td>-0.049858</td>\n",
       "      <td>0.281065</td>\n",
       "      <td>0.304179</td>\n",
       "      <td>-0.069806</td>\n",
       "      <td>-0.106689</td>\n",
       "      <td>-0.002034</td>\n",
       "      <td>-0.069143</td>\n",
       "      <td>-0.205785</td>\n",
       "    </tr>\n",
       "  </tbody>\n",
       "</table>\n",
       "<p>5 rows × 300 columns</p>\n",
       "</div>"
      ],
      "text/plain": [
       "           0         1         2         3         4         5         6    \\\n",
       "3474  0.081655 -0.091132 -0.256128  0.000892  0.131858 -0.006179 -0.253529   \n",
       "6202  0.091573 -0.104785 -0.326459 -0.004575  0.166035 -0.017035 -0.306064   \n",
       "5868  0.067396 -0.080212 -0.219056  0.001625  0.115352 -0.001894 -0.210828   \n",
       "7357  0.122791 -0.142851 -0.429147 -0.002584  0.212577 -0.016130 -0.401692   \n",
       "9514  0.090456 -0.098531 -0.298143 -0.004081  0.156385 -0.013159 -0.283071   \n",
       "\n",
       "           7         8         9      ...          290       291       292  \\\n",
       "3474  0.067716  0.006251 -0.004479    ...     0.069203 -0.185053 -0.038816   \n",
       "6202  0.086325  0.012315 -0.010959    ...     0.077259 -0.221593 -0.053974   \n",
       "5868  0.059303  0.002812 -0.007113    ...     0.057916 -0.162117 -0.029981   \n",
       "7357  0.114089  0.016430 -0.011812    ...     0.105608 -0.306892 -0.067943   \n",
       "9514  0.076009  0.007262 -0.005005    ...     0.077033 -0.210412 -0.049858   \n",
       "\n",
       "           293       294       295       296       297       298       299  \n",
       "3474  0.246961  0.268679 -0.065747 -0.096261 -0.000175 -0.061555 -0.172583  \n",
       "6202  0.300436  0.325052 -0.076228 -0.110075 -0.000730 -0.070038 -0.216177  \n",
       "5868  0.210593  0.230009 -0.050900 -0.080110 -0.001631 -0.053420 -0.152041  \n",
       "7357  0.402206  0.427380 -0.100073 -0.153664 -0.003337 -0.100388 -0.291895  \n",
       "9514  0.281065  0.304179 -0.069806 -0.106689 -0.002034 -0.069143 -0.205785  \n",
       "\n",
       "[5 rows x 300 columns]"
      ]
     },
     "execution_count": 155,
     "metadata": {},
     "output_type": "execute_result"
    }
   ],
   "source": [
    "X_train.head()"
   ]
  },
  {
   "cell_type": "code",
   "execution_count": 156,
   "metadata": {},
   "outputs": [],
   "source": [
    "from sklearn.linear_model import LogisticRegression\n",
    "logisticRegr = LogisticRegression()\n",
    "logisticRegr.fit(X_train, y_train)\n",
    "lr_pred = logisticRegr.predict(X_test)"
   ]
  },
  {
   "cell_type": "code",
   "execution_count": 157,
   "metadata": {},
   "outputs": [
    {
     "name": "stdout",
     "output_type": "stream",
     "text": [
      "[[  1 191 179  81   0   0]\n",
      " [  2 256 244 111   0   0]\n",
      " [  2 217 266 149   1   0]\n",
      " [  0 181 245 178   0   0]\n",
      " [  0 137  85  32   2   0]\n",
      " [  1 178 199 134   0   0]]\n"
     ]
    }
   ],
   "source": [
    "from sklearn import metrics\n",
    "# Lets print the confusion matrix\n",
    "print(metrics.confusion_matrix(y_test,lr_pred))"
   ]
  },
  {
   "cell_type": "code",
   "execution_count": 158,
   "metadata": {},
   "outputs": [
    {
     "name": "stdout",
     "output_type": "stream",
     "text": [
      "             precision    recall  f1-score   support\n",
      "\n",
      "          0       0.17      0.00      0.00       452\n",
      "          1       0.22      0.42      0.29       613\n",
      "          2       0.22      0.42      0.29       635\n",
      "          3       0.26      0.29      0.28       604\n",
      "          4       0.67      0.01      0.02       256\n",
      "          5       0.00      0.00      0.00       512\n",
      "\n",
      "avg / total       0.22      0.23      0.17      3072\n",
      "\n"
     ]
    }
   ],
   "source": [
    "print(metrics.classification_report(y_test,lr_pred))"
   ]
  },
  {
   "cell_type": "code",
   "execution_count": 159,
   "metadata": {},
   "outputs": [],
   "source": [
    "from sklearn.ensemble import RandomForestClassifier\n",
    "# Lets try with 100 trees\n",
    "num_trees=100\n",
    "rf=RandomForestClassifier(n_estimators=num_trees)\n",
    "rf.fit(X_train, y_train)\n",
    "rf_pred=rf.predict(X_test)"
   ]
  },
  {
   "cell_type": "code",
   "execution_count": 160,
   "metadata": {},
   "outputs": [
    {
     "name": "stdout",
     "output_type": "stream",
     "text": [
      "[[  1 191 179  81   0   0]\n",
      " [  2 256 244 111   0   0]\n",
      " [  2 217 266 149   1   0]\n",
      " [  0 181 245 178   0   0]\n",
      " [  0 137  85  32   2   0]\n",
      " [  1 178 199 134   0   0]]\n"
     ]
    }
   ],
   "source": [
    "print(metrics.confusion_matrix(y_test,lr_pred))"
   ]
  },
  {
   "cell_type": "code",
   "execution_count": 161,
   "metadata": {},
   "outputs": [
    {
     "name": "stdout",
     "output_type": "stream",
     "text": [
      "             precision    recall  f1-score   support\n",
      "\n",
      "          0       0.17      0.00      0.00       452\n",
      "          1       0.22      0.42      0.29       613\n",
      "          2       0.22      0.42      0.29       635\n",
      "          3       0.26      0.29      0.28       604\n",
      "          4       0.67      0.01      0.02       256\n",
      "          5       0.00      0.00      0.00       512\n",
      "\n",
      "avg / total       0.22      0.23      0.17      3072\n",
      "\n"
     ]
    }
   ],
   "source": [
    "print(metrics.classification_report(y_test,lr_pred))"
   ]
  },
  {
   "cell_type": "markdown",
   "metadata": {},
   "source": [
    "## Doc2Vec"
   ]
  },
  {
   "cell_type": "code",
   "execution_count": 162,
   "metadata": {},
   "outputs": [],
   "source": [
    "from gensim.models.doc2vec import Doc2Vec"
   ]
  },
  {
   "cell_type": "code",
   "execution_count": 163,
   "metadata": {},
   "outputs": [],
   "source": [
    "df_train_statements_d2v=df_train[['statement','label']]"
   ]
  },
  {
   "cell_type": "code",
   "execution_count": 164,
   "metadata": {},
   "outputs": [
    {
     "name": "stdout",
     "output_type": "stream",
     "text": [
      "Model Saved\n"
     ]
    }
   ],
   "source": [
    "max_epochs = 100\n",
    "vec_size = 20\n",
    "alpha = 0.025\n",
    "\n",
    "model = Doc2Vec(size=vec_size,\n",
    "                alpha=alpha, \n",
    "                min_alpha=0.00025,\n",
    "                min_count=1,\n",
    "                dm =1)\n",
    "  \n",
    "model.build_vocab(tagged_data)\n",
    "\n",
    "for epoch in range(max_epochs):\n",
    "    #print('iteration {0}'.format(epoch))\n",
    "    model.train(tagged_data,\n",
    "                total_examples=model.corpus_count,\n",
    "                epochs=model.iter)\n",
    "    # decrease the learning rate\n",
    "    model.alpha -= 0.0002\n",
    "    # fix the learning rate, no decay\n",
    "    model.min_alpha = model.alpha\n",
    "    \n",
    "model.save(\"d2v.model\")\n",
    "print(\"Model Saved\")    "
   ]
  },
  {
   "cell_type": "code",
   "execution_count": 165,
   "metadata": {},
   "outputs": [],
   "source": [
    "model= Doc2Vec.load(\"d2v.model\")\n",
    "texts=[]\n",
    "for x in df_train_statements_d2v['statement']:\n",
    "    texts.append(model.infer_vector(x))"
   ]
  },
  {
   "cell_type": "code",
   "execution_count": 166,
   "metadata": {},
   "outputs": [],
   "source": [
    "X=pd.DataFrame(texts)\n",
    "y=df_train_statements_d2v[['label']]\n",
    "X_train,X_test,y_train,y_test=train_test_split(X, y,test_size = .3, random_state = 1)"
   ]
  },
  {
   "cell_type": "code",
   "execution_count": 167,
   "metadata": {},
   "outputs": [
    {
     "data": {
      "text/html": [
       "<div>\n",
       "<style scoped>\n",
       "    .dataframe tbody tr th:only-of-type {\n",
       "        vertical-align: middle;\n",
       "    }\n",
       "\n",
       "    .dataframe tbody tr th {\n",
       "        vertical-align: top;\n",
       "    }\n",
       "\n",
       "    .dataframe thead th {\n",
       "        text-align: right;\n",
       "    }\n",
       "</style>\n",
       "<table border=\"1\" class=\"dataframe\">\n",
       "  <thead>\n",
       "    <tr style=\"text-align: right;\">\n",
       "      <th></th>\n",
       "      <th>0</th>\n",
       "      <th>1</th>\n",
       "      <th>2</th>\n",
       "      <th>3</th>\n",
       "      <th>4</th>\n",
       "      <th>5</th>\n",
       "      <th>6</th>\n",
       "      <th>7</th>\n",
       "      <th>8</th>\n",
       "      <th>9</th>\n",
       "      <th>10</th>\n",
       "      <th>11</th>\n",
       "      <th>12</th>\n",
       "      <th>13</th>\n",
       "      <th>14</th>\n",
       "      <th>15</th>\n",
       "      <th>16</th>\n",
       "      <th>17</th>\n",
       "      <th>18</th>\n",
       "      <th>19</th>\n",
       "    </tr>\n",
       "  </thead>\n",
       "  <tbody>\n",
       "    <tr>\n",
       "      <th>3474</th>\n",
       "      <td>-0.093182</td>\n",
       "      <td>-0.115252</td>\n",
       "      <td>-0.483330</td>\n",
       "      <td>-0.137303</td>\n",
       "      <td>0.299303</td>\n",
       "      <td>-0.044117</td>\n",
       "      <td>-0.458696</td>\n",
       "      <td>-0.141254</td>\n",
       "      <td>0.073542</td>\n",
       "      <td>0.050969</td>\n",
       "      <td>0.307444</td>\n",
       "      <td>0.020104</td>\n",
       "      <td>-0.177855</td>\n",
       "      <td>0.327855</td>\n",
       "      <td>0.175944</td>\n",
       "      <td>-0.118189</td>\n",
       "      <td>0.276655</td>\n",
       "      <td>0.126917</td>\n",
       "      <td>-0.327880</td>\n",
       "      <td>0.001008</td>\n",
       "    </tr>\n",
       "    <tr>\n",
       "      <th>6202</th>\n",
       "      <td>0.027046</td>\n",
       "      <td>-0.073145</td>\n",
       "      <td>-0.112606</td>\n",
       "      <td>-0.071161</td>\n",
       "      <td>0.018264</td>\n",
       "      <td>0.219509</td>\n",
       "      <td>0.128382</td>\n",
       "      <td>-0.049715</td>\n",
       "      <td>-0.079962</td>\n",
       "      <td>0.104727</td>\n",
       "      <td>0.036571</td>\n",
       "      <td>0.113855</td>\n",
       "      <td>-0.088065</td>\n",
       "      <td>0.207674</td>\n",
       "      <td>-0.042033</td>\n",
       "      <td>-0.026495</td>\n",
       "      <td>0.012842</td>\n",
       "      <td>0.029382</td>\n",
       "      <td>0.132926</td>\n",
       "      <td>-0.048382</td>\n",
       "    </tr>\n",
       "    <tr>\n",
       "      <th>5868</th>\n",
       "      <td>0.154238</td>\n",
       "      <td>-0.231370</td>\n",
       "      <td>-0.483381</td>\n",
       "      <td>-0.281087</td>\n",
       "      <td>0.182265</td>\n",
       "      <td>-0.145337</td>\n",
       "      <td>-0.456057</td>\n",
       "      <td>0.105400</td>\n",
       "      <td>-0.311772</td>\n",
       "      <td>0.127865</td>\n",
       "      <td>0.245339</td>\n",
       "      <td>0.093476</td>\n",
       "      <td>-0.266051</td>\n",
       "      <td>0.261634</td>\n",
       "      <td>-0.039361</td>\n",
       "      <td>0.050969</td>\n",
       "      <td>0.256428</td>\n",
       "      <td>-0.153647</td>\n",
       "      <td>-0.455602</td>\n",
       "      <td>0.139286</td>\n",
       "    </tr>\n",
       "    <tr>\n",
       "      <th>7357</th>\n",
       "      <td>-0.074407</td>\n",
       "      <td>-0.120610</td>\n",
       "      <td>-0.180965</td>\n",
       "      <td>-0.089038</td>\n",
       "      <td>0.082286</td>\n",
       "      <td>-0.007909</td>\n",
       "      <td>-0.102803</td>\n",
       "      <td>0.008118</td>\n",
       "      <td>-0.021563</td>\n",
       "      <td>-0.092681</td>\n",
       "      <td>0.045141</td>\n",
       "      <td>-0.010846</td>\n",
       "      <td>-0.005644</td>\n",
       "      <td>0.129121</td>\n",
       "      <td>-0.023701</td>\n",
       "      <td>-0.083518</td>\n",
       "      <td>0.053694</td>\n",
       "      <td>0.021299</td>\n",
       "      <td>-0.041982</td>\n",
       "      <td>0.112157</td>\n",
       "    </tr>\n",
       "    <tr>\n",
       "      <th>9514</th>\n",
       "      <td>-0.023050</td>\n",
       "      <td>-0.049929</td>\n",
       "      <td>-0.266969</td>\n",
       "      <td>-0.023889</td>\n",
       "      <td>0.162182</td>\n",
       "      <td>-0.126957</td>\n",
       "      <td>-0.385249</td>\n",
       "      <td>0.019743</td>\n",
       "      <td>-0.082697</td>\n",
       "      <td>-0.053775</td>\n",
       "      <td>0.081879</td>\n",
       "      <td>0.125999</td>\n",
       "      <td>-0.205279</td>\n",
       "      <td>0.238935</td>\n",
       "      <td>0.064359</td>\n",
       "      <td>-0.029625</td>\n",
       "      <td>0.124499</td>\n",
       "      <td>-0.106364</td>\n",
       "      <td>-0.242737</td>\n",
       "      <td>-0.036598</td>\n",
       "    </tr>\n",
       "  </tbody>\n",
       "</table>\n",
       "</div>"
      ],
      "text/plain": [
       "            0         1         2         3         4         5         6   \\\n",
       "3474 -0.093182 -0.115252 -0.483330 -0.137303  0.299303 -0.044117 -0.458696   \n",
       "6202  0.027046 -0.073145 -0.112606 -0.071161  0.018264  0.219509  0.128382   \n",
       "5868  0.154238 -0.231370 -0.483381 -0.281087  0.182265 -0.145337 -0.456057   \n",
       "7357 -0.074407 -0.120610 -0.180965 -0.089038  0.082286 -0.007909 -0.102803   \n",
       "9514 -0.023050 -0.049929 -0.266969 -0.023889  0.162182 -0.126957 -0.385249   \n",
       "\n",
       "            7         8         9         10        11        12        13  \\\n",
       "3474 -0.141254  0.073542  0.050969  0.307444  0.020104 -0.177855  0.327855   \n",
       "6202 -0.049715 -0.079962  0.104727  0.036571  0.113855 -0.088065  0.207674   \n",
       "5868  0.105400 -0.311772  0.127865  0.245339  0.093476 -0.266051  0.261634   \n",
       "7357  0.008118 -0.021563 -0.092681  0.045141 -0.010846 -0.005644  0.129121   \n",
       "9514  0.019743 -0.082697 -0.053775  0.081879  0.125999 -0.205279  0.238935   \n",
       "\n",
       "            14        15        16        17        18        19  \n",
       "3474  0.175944 -0.118189  0.276655  0.126917 -0.327880  0.001008  \n",
       "6202 -0.042033 -0.026495  0.012842  0.029382  0.132926 -0.048382  \n",
       "5868 -0.039361  0.050969  0.256428 -0.153647 -0.455602  0.139286  \n",
       "7357 -0.023701 -0.083518  0.053694  0.021299 -0.041982  0.112157  \n",
       "9514  0.064359 -0.029625  0.124499 -0.106364 -0.242737 -0.036598  "
      ]
     },
     "execution_count": 167,
     "metadata": {},
     "output_type": "execute_result"
    }
   ],
   "source": [
    "X_train.head()"
   ]
  },
  {
   "cell_type": "code",
   "execution_count": 168,
   "metadata": {},
   "outputs": [],
   "source": [
    "from sklearn.linear_model import LogisticRegression\n",
    "logisticRegr = LogisticRegression(C=100)\n",
    "logisticRegr.fit(X_train, y_train)\n",
    "lr_pred = logisticRegr.predict(X_test)"
   ]
  },
  {
   "cell_type": "code",
   "execution_count": 169,
   "metadata": {},
   "outputs": [
    {
     "name": "stdout",
     "output_type": "stream",
     "text": [
      "[[ 32 173 163  85   1  13]\n",
      " [ 41 251 187 117   0  16]\n",
      " [ 45 223 217 143   0  21]\n",
      " [ 37 201 193 126   0  29]\n",
      " [ 22 106  64  46   1  13]\n",
      " [ 21 186 173 105   0  21]]\n"
     ]
    }
   ],
   "source": [
    "print(metrics.confusion_matrix(y_test,lr_pred))"
   ]
  },
  {
   "cell_type": "code",
   "execution_count": 170,
   "metadata": {},
   "outputs": [
    {
     "name": "stdout",
     "output_type": "stream",
     "text": [
      "             precision    recall  f1-score   support\n",
      "\n",
      "barely-true       0.16      0.07      0.10       467\n",
      "      false       0.22      0.41      0.29       612\n",
      "  half-true       0.22      0.33      0.26       649\n",
      "mostly-true       0.20      0.22      0.21       586\n",
      " pants-fire       0.50      0.00      0.01       252\n",
      "       true       0.19      0.04      0.07       506\n",
      "\n",
      "avg / total       0.22      0.21      0.18      3072\n",
      "\n"
     ]
    }
   ],
   "source": [
    "print(metrics.classification_report(y_test,lr_pred))"
   ]
  },
  {
   "cell_type": "code",
   "execution_count": 171,
   "metadata": {},
   "outputs": [],
   "source": [
    "from sklearn.ensemble import RandomForestClassifier\n",
    "# Lets try with 100 trees\n",
    "num_trees=100\n",
    "rf=RandomForestClassifier(n_estimators=num_trees)\n",
    "rf.fit(X_train, y_train)\n",
    "rf_pred=rf.predict(X_test)"
   ]
  },
  {
   "cell_type": "code",
   "execution_count": 172,
   "metadata": {},
   "outputs": [
    {
     "name": "stdout",
     "output_type": "stream",
     "text": [
      "[[ 32 173 163  85   1  13]\n",
      " [ 41 251 187 117   0  16]\n",
      " [ 45 223 217 143   0  21]\n",
      " [ 37 201 193 126   0  29]\n",
      " [ 22 106  64  46   1  13]\n",
      " [ 21 186 173 105   0  21]]\n"
     ]
    }
   ],
   "source": [
    "print(metrics.confusion_matrix(y_test,lr_pred))"
   ]
  },
  {
   "cell_type": "code",
   "execution_count": 173,
   "metadata": {},
   "outputs": [
    {
     "name": "stdout",
     "output_type": "stream",
     "text": [
      "             precision    recall  f1-score   support\n",
      "\n",
      "barely-true       0.16      0.07      0.10       467\n",
      "      false       0.22      0.41      0.29       612\n",
      "  half-true       0.22      0.33      0.26       649\n",
      "mostly-true       0.20      0.22      0.21       586\n",
      " pants-fire       0.50      0.00      0.01       252\n",
      "       true       0.19      0.04      0.07       506\n",
      "\n",
      "avg / total       0.22      0.21      0.18      3072\n",
      "\n"
     ]
    }
   ],
   "source": [
    "print(metrics.classification_report(y_test,lr_pred))"
   ]
  },
  {
   "cell_type": "code",
   "execution_count": 174,
   "metadata": {},
   "outputs": [
    {
     "name": "stdout",
     "output_type": "stream",
     "text": [
      "[('1947', 0.7571707963943481), ('966', 0.7554953694343567), ('5714', 0.7532305717468262), ('8571', 0.7524444460868835), ('9927', 0.7461646199226379), ('4339', 0.7280176281929016), ('2671', 0.7271360158920288), ('9529', 0.7234867215156555), ('1543', 0.7234079837799072), ('605', 0.7180625200271606)]\n"
     ]
    }
   ],
   "source": [
    "similar_doc = model.docvecs.most_similar('1')\n",
    "print(similar_doc)"
   ]
  },
  {
   "cell_type": "markdown",
   "metadata": {},
   "source": [
    "### K-means for vectorized docs"
   ]
  },
  {
   "cell_type": "code",
   "execution_count": 45,
   "metadata": {},
   "outputs": [],
   "source": [
    "from nltk.cluster import KMeansClusterer"
   ]
  },
  {
   "cell_type": "code",
   "execution_count": 175,
   "metadata": {},
   "outputs": [],
   "source": [
    "#Taking a very long time\n",
    "#kclusterer = KMeansClusterer(5, distance=nltk.cluster.util.cosine_distance, repeats=5)\n",
    "#assigned_clusters = kclusterer.cluster(texts, assign_clusters=True)"
   ]
  },
  {
   "cell_type": "code",
   "execution_count": 176,
   "metadata": {},
   "outputs": [
    {
     "name": "stdout",
     "output_type": "stream",
     "text": [
      "[-0.15231703 -0.13449873 -0.2996796  -0.02379759  0.20808698 -0.2039884\n",
      " -0.62760127  0.56174034  0.15548871  0.04639793  0.1634659   0.12820415\n",
      " -0.4682427   0.45149633  0.09445101  0.0405174   0.41583553 -0.11753377\n",
      " -0.44486946  0.20448615] 4\n"
     ]
    }
   ],
   "source": [
    "#for i, word in enumerate(texts):  \n",
    "#    print (texts[i] , assigned_clusters[i])\n",
    "print (texts[1] , assigned_clusters[1])"
   ]
  },
  {
   "cell_type": "code",
   "execution_count": 177,
   "metadata": {},
   "outputs": [
    {
     "data": {
      "image/png": "[encoded data removed]",
      "text/plain": [
       "<Figure size 432x288 with 1 Axes>"
      ]
     },
     "metadata": {},
     "output_type": "display_data"
    }
   ],
   "source": [
    "from sklearn.cluster import KMeans as km\n",
    "import matplotlib.pyplot as plt\n",
    "def kmeans_plot(k):\n",
    "    kmeans=km(n_clusters=k,random_state=0).fit(texts)\n",
    "    labels=kmeans.labels_\n",
    "    centroids=kmeans.cluster_centers_    \n",
    "    colors = ['r','g','b','y','c','m','r','g','b','y','c','m','r','g','b','y','c','m']\n",
    "    fig, ax=plt.subplots()\n",
    "    \n",
    "    for i in range(k):\n",
    "        points=np.array([texts[j] for j in range(len(texts)) if labels[j]==i])\n",
    "        ax.scatter(points[:,0],points[:,1],s=7,c=colors[i])\n",
    "    ax.scatter(centroids[:,0],centroids[:,1],marker='*',s=200,c='#050505')     \n",
    "kmeans_plot(15)    "
   ]
  },
  {
   "cell_type": "code",
   "execution_count": 178,
   "metadata": {},
   "outputs": [
    {
     "data": {
      "text/plain": [
       "2"
      ]
     },
     "execution_count": 178,
     "metadata": {},
     "output_type": "execute_result"
    }
   ],
   "source": [
    "assigned_clusters[0]"
   ]
  },
  {
   "cell_type": "markdown",
   "metadata": {},
   "source": [
    "## Tag Cloud\n",
    "#### pip install wordcloud"
   ]
  },
  {
   "cell_type": "code",
   "execution_count": 179,
   "metadata": {},
   "outputs": [],
   "source": [
    "from wordcloud import WordCloud\n",
    "import matplotlib.pyplot as plt"
   ]
  },
  {
   "cell_type": "code",
   "execution_count": 180,
   "metadata": {},
   "outputs": [],
   "source": [
    "statements=''.join(df_lair['statement'].values.tolist())"
   ]
  },
  {
   "cell_type": "code",
   "execution_count": 181,
   "metadata": {},
   "outputs": [
    {
     "data": {
      "image/png": "[encoded data removed]",
      "text/plain": [
       "<Figure size 432x288 with 1 Axes>"
      ]
     },
     "metadata": {},
     "output_type": "display_data"
    }
   ],
   "source": [
    "# lower max_font_size, change the maximum number of word and lighten the background:\n",
    "wordcloud = WordCloud(max_font_size=50, max_words=100, background_color=\"white\").generate(statements)\n",
    "plt.figure()\n",
    "plt.imshow(wordcloud, interpolation=\"bilinear\")\n",
    "plt.axis(\"off\")\n",
    "plt.show()"
   ]
  },
  {
   "cell_type": "markdown",
   "metadata": {},
   "source": [
    "## LDA Topic Modelling to see if we can find any topic"
   ]
  },
  {
   "cell_type": "code",
   "execution_count": 182,
   "metadata": {},
   "outputs": [],
   "source": [
    "from gensim import corpora, models"
   ]
  },
  {
   "cell_type": "code",
   "execution_count": 183,
   "metadata": {},
   "outputs": [],
   "source": [
    "texts=df_train['statement']"
   ]
  },
  {
   "cell_type": "code",
   "execution_count": 184,
   "metadata": {},
   "outputs": [],
   "source": [
    "dictionary = corpora.Dictionary(texts)"
   ]
  },
  {
   "cell_type": "code",
   "execution_count": 185,
   "metadata": {},
   "outputs": [],
   "source": [
    "corpus = [dictionary.doc2bow(text) for text in texts]"
   ]
  },
  {
   "cell_type": "code",
   "execution_count": 194,
   "metadata": {},
   "outputs": [],
   "source": [
    "ldamodel = gensim.models.ldamodel.LdaModel(corpus, num_topics=7, id2word = dictionary, passes=20)"
   ]
  },
  {
   "cell_type": "code",
   "execution_count": 195,
   "metadata": {},
   "outputs": [
    {
     "name": "stdout",
     "output_type": "stream",
     "text": [
      "Topic: 0 \n",
      "Words: 0.029*\"health\" + 0.028*\"obama\" + 0.027*\"say\" + 0.026*\"care\" + 0.019*\"vote\" + 0.018*\"presid\" + 0.017*\"barack\" + 0.014*\"law\" + 0.012*\"insur\" + 0.010*\"bill\"\n",
      "Topic: 1 \n",
      "Words: 0.031*\"say\" + 0.022*\"school\" + 0.019*\"public\" + 0.016*\"romney\" + 0.015*\"fund\" + 0.014*\"student\" + 0.012*\"mitt\" + 0.011*\"state\" + 0.008*\"whether\" + 0.008*\"educ\"\n",
      "Topic: 2 \n",
      "Words: 0.028*\"say\" + 0.018*\"scott\" + 0.016*\"gov\" + 0.016*\"campaign\" + 0.012*\"state\" + 0.012*\"rick\" + 0.011*\"walker\" + 0.010*\"wisconsin\" + 0.009*\"ever\" + 0.009*\"governor\"\n",
      "Topic: 3 \n",
      "Words: 0.020*\"citi\" + 0.019*\"say\" + 0.018*\"illeg\" + 0.016*\"immigr\" + 0.015*\"counti\" + 0.015*\"new\" + 0.013*\"year\" + 0.010*\"austin\" + 0.010*\"border\" + 0.008*\"one\"\n",
      "Topic: 4 \n",
      "Words: 0.036*\"say\" + 0.023*\"republican\" + 0.018*\"clinton\" + 0.016*\"vote\" + 0.014*\"democrat\" + 0.012*\"trump\" + 0.012*\"secur\" + 0.012*\"hillari\" + 0.011*\"elect\" + 0.011*\"said\"\n",
      "Topic: 5 \n",
      "Words: 0.039*\"tax\" + 0.033*\"year\" + 0.032*\"percent\" + 0.018*\"job\" + 0.013*\"state\" + 0.011*\"billion\" + 0.011*\"million\" + 0.011*\"spend\" + 0.011*\"say\" + 0.011*\"pay\"\n",
      "Topic: 6 \n",
      "Words: 0.052*\"state\" + 0.022*\"unit\" + 0.012*\"nation\" + 0.011*\"percent\" + 0.009*\"countri\" + 0.008*\"child\" + 0.008*\"world\" + 0.008*\"america\" + 0.008*\"island\" + 0.008*\"allow\"\n"
     ]
    }
   ],
   "source": [
    "for idx, topic in ldamodel.print_topics(-1):\n",
    "    print('Topic: {} \\nWords: {}'.format(idx, topic))"
   ]
  },
  {
   "cell_type": "markdown",
   "metadata": {},
   "source": [
    "### Topics Seems like are all related to Politics, broadly followings:\n",
    "### 1. Tax Cut\n",
    "### 2. Health Care\n",
    "### 3. Immigration and Tax Policies\n",
    "### 4. 2016 Presidential Campaigns"
   ]
  }
 ],
 "metadata": {
  "kernelspec": {
   "display_name": "Python 3",
   "language": "python",
   "name": "python3"
  },
  "language_info": {
   "codemirror_mode": {
    "name": "ipython",
    "version": 3
   },
   "file_extension": ".py",
   "mimetype": "text/x-python",
   "name": "python",
   "nbconvert_exporter": "python",
   "pygments_lexer": "ipython3",
   "version": "3.6.5"
  }
 },
 "nbformat": 4,
 "nbformat_minor": 2
}

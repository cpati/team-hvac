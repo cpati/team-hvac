{
 "cells": [
  {
   "cell_type": "markdown",
   "metadata": {},
   "source": [
    "## It has code for 2 factors\n",
    "- Spell Checking - More spelling error means mostly writeen by un-professionals and may be a fake news\n",
    "- Political Affiliation - I initially thought of geography , but could not apply that to dataset"
   ]
  },
  {
   "cell_type": "code",
   "execution_count": 319,
   "metadata": {},
   "outputs": [],
   "source": [
    "import numpy as np\n",
    "import pandas as pd"
   ]
  },
  {
   "cell_type": "code",
   "execution_count": 320,
   "metadata": {},
   "outputs": [
    {
     "data": {
      "text/html": [
       "<div>\n",
       "<style scoped>\n",
       "    .dataframe tbody tr th:only-of-type {\n",
       "        vertical-align: middle;\n",
       "    }\n",
       "\n",
       "    .dataframe tbody tr th {\n",
       "        vertical-align: top;\n",
       "    }\n",
       "\n",
       "    .dataframe thead th {\n",
       "        text-align: right;\n",
       "    }\n",
       "</style>\n",
       "<table border=\"1\" class=\"dataframe\">\n",
       "  <thead>\n",
       "    <tr style=\"text-align: right;\">\n",
       "      <th></th>\n",
       "      <th>id</th>\n",
       "      <th>label</th>\n",
       "      <th>statement</th>\n",
       "      <th>subject</th>\n",
       "      <th>speaker</th>\n",
       "      <th>speaker_job</th>\n",
       "      <th>state</th>\n",
       "      <th>party_affiliation</th>\n",
       "      <th>barely_true_count</th>\n",
       "      <th>false_Count</th>\n",
       "      <th>half_true_count</th>\n",
       "      <th>mostly_true_count</th>\n",
       "      <th>pants_on_fire_count</th>\n",
       "      <th>venue_speach</th>\n",
       "    </tr>\n",
       "  </thead>\n",
       "  <tbody>\n",
       "    <tr>\n",
       "      <th>0</th>\n",
       "      <td>2635.json</td>\n",
       "      <td>false</td>\n",
       "      <td>Says the Annies List political group supports ...</td>\n",
       "      <td>abortion</td>\n",
       "      <td>dwayne-bohac</td>\n",
       "      <td>State representative</td>\n",
       "      <td>Texas</td>\n",
       "      <td>republican</td>\n",
       "      <td>0.0</td>\n",
       "      <td>1.0</td>\n",
       "      <td>0.0</td>\n",
       "      <td>0.0</td>\n",
       "      <td>0.0</td>\n",
       "      <td>a mailer</td>\n",
       "    </tr>\n",
       "    <tr>\n",
       "      <th>1</th>\n",
       "      <td>10540.json</td>\n",
       "      <td>half-true</td>\n",
       "      <td>When did the decline of coal start? It started...</td>\n",
       "      <td>energy,history,job-accomplishments</td>\n",
       "      <td>scott-surovell</td>\n",
       "      <td>State delegate</td>\n",
       "      <td>Virginia</td>\n",
       "      <td>democrat</td>\n",
       "      <td>0.0</td>\n",
       "      <td>0.0</td>\n",
       "      <td>1.0</td>\n",
       "      <td>1.0</td>\n",
       "      <td>0.0</td>\n",
       "      <td>a floor speech.</td>\n",
       "    </tr>\n",
       "    <tr>\n",
       "      <th>2</th>\n",
       "      <td>324.json</td>\n",
       "      <td>mostly-true</td>\n",
       "      <td>Hillary Clinton agrees with John McCain \"by vo...</td>\n",
       "      <td>foreign-policy</td>\n",
       "      <td>barack-obama</td>\n",
       "      <td>President</td>\n",
       "      <td>Illinois</td>\n",
       "      <td>democrat</td>\n",
       "      <td>70.0</td>\n",
       "      <td>71.0</td>\n",
       "      <td>160.0</td>\n",
       "      <td>163.0</td>\n",
       "      <td>9.0</td>\n",
       "      <td>Denver</td>\n",
       "    </tr>\n",
       "    <tr>\n",
       "      <th>3</th>\n",
       "      <td>1123.json</td>\n",
       "      <td>false</td>\n",
       "      <td>Health care reform legislation is likely to ma...</td>\n",
       "      <td>health-care</td>\n",
       "      <td>blog-posting</td>\n",
       "      <td>NaN</td>\n",
       "      <td>NaN</td>\n",
       "      <td>none</td>\n",
       "      <td>7.0</td>\n",
       "      <td>19.0</td>\n",
       "      <td>3.0</td>\n",
       "      <td>5.0</td>\n",
       "      <td>44.0</td>\n",
       "      <td>a news release</td>\n",
       "    </tr>\n",
       "    <tr>\n",
       "      <th>4</th>\n",
       "      <td>9028.json</td>\n",
       "      <td>half-true</td>\n",
       "      <td>The economic turnaround started at the end of ...</td>\n",
       "      <td>economy,jobs</td>\n",
       "      <td>charlie-crist</td>\n",
       "      <td>NaN</td>\n",
       "      <td>Florida</td>\n",
       "      <td>democrat</td>\n",
       "      <td>15.0</td>\n",
       "      <td>9.0</td>\n",
       "      <td>20.0</td>\n",
       "      <td>19.0</td>\n",
       "      <td>2.0</td>\n",
       "      <td>an interview on CNN</td>\n",
       "    </tr>\n",
       "  </tbody>\n",
       "</table>\n",
       "</div>"
      ],
      "text/plain": [
       "           id        label                                          statement  \\\n",
       "0   2635.json        false  Says the Annies List political group supports ...   \n",
       "1  10540.json    half-true  When did the decline of coal start? It started...   \n",
       "2    324.json  mostly-true  Hillary Clinton agrees with John McCain \"by vo...   \n",
       "3   1123.json        false  Health care reform legislation is likely to ma...   \n",
       "4   9028.json    half-true  The economic turnaround started at the end of ...   \n",
       "\n",
       "                              subject         speaker           speaker_job  \\\n",
       "0                            abortion    dwayne-bohac  State representative   \n",
       "1  energy,history,job-accomplishments  scott-surovell        State delegate   \n",
       "2                      foreign-policy    barack-obama             President   \n",
       "3                         health-care    blog-posting                   NaN   \n",
       "4                        economy,jobs   charlie-crist                   NaN   \n",
       "\n",
       "      state party_affiliation  barely_true_count  false_Count  \\\n",
       "0     Texas        republican                0.0          1.0   \n",
       "1  Virginia          democrat                0.0          0.0   \n",
       "2  Illinois          democrat               70.0         71.0   \n",
       "3       NaN              none                7.0         19.0   \n",
       "4   Florida          democrat               15.0          9.0   \n",
       "\n",
       "   half_true_count  mostly_true_count  pants_on_fire_count  \\\n",
       "0              0.0                0.0                  0.0   \n",
       "1              1.0                1.0                  0.0   \n",
       "2            160.0              163.0                  9.0   \n",
       "3              3.0                5.0                 44.0   \n",
       "4             20.0               19.0                  2.0   \n",
       "\n",
       "          venue_speach  \n",
       "0             a mailer  \n",
       "1      a floor speech.  \n",
       "2               Denver  \n",
       "3       a news release  \n",
       "4  an interview on CNN  "
      ]
     },
     "execution_count": 320,
     "metadata": {},
     "output_type": "execute_result"
    }
   ],
   "source": [
    "columns=['id','label','statement','subject','speaker','speaker_job','state',\n",
    "        'party_affiliation','barely_true_count','false_Count',\n",
    "        'half_true_count','mostly_true_count','pants_on_fire_count','venue_speach'];\n",
    "df_lair=pd.read_csv('train.tsv',sep='\\t',header=None,names=columns,index_col=False);\n",
    "df_lair.head()"
   ]
  },
  {
   "cell_type": "code",
   "execution_count": 321,
   "metadata": {},
   "outputs": [
    {
     "name": "stdout",
     "output_type": "stream",
     "text": [
      "[nltk_data] Downloading package stopwords to\n",
      "[nltk_data]     /Users/chidananda.pati/nltk_data...\n",
      "[nltk_data]   Package stopwords is already up-to-date!\n",
      "[nltk_data] Downloading package punkt to\n",
      "[nltk_data]     /Users/chidananda.pati/nltk_data...\n",
      "[nltk_data]   Package punkt is already up-to-date!\n",
      "[nltk_data] Downloading package wordnet to\n",
      "[nltk_data]     /Users/chidananda.pati/nltk_data...\n",
      "[nltk_data]   Package wordnet is already up-to-date!\n"
     ]
    }
   ],
   "source": [
    "import nltk\n",
    "from nltk.corpus import stopwords\n",
    "nltk.download('stopwords')\n",
    "nltk.download('punkt')\n",
    "nltk.download('wordnet')\n",
    "stop_words=set(stopwords.words('english'))"
   ]
  },
  {
   "cell_type": "markdown",
   "metadata": {},
   "source": [
    "## Text Proprocessing"
   ]
  },
  {
   "cell_type": "markdown",
   "metadata": {},
   "source": [
    "#### Function for text preprocessing\n",
    "- lowercase the text\n",
    "- word tokenization\n",
    "- remove stop words and non alphanumeric charaters\n",
    "- stemming"
   ]
  },
  {
   "cell_type": "code",
   "execution_count": 322,
   "metadata": {},
   "outputs": [],
   "source": [
    "from nltk.stem import PorterStemmer,WordNetLemmatizer\n",
    "def text_preprocessing(df_base):\n",
    "    df=df_base.copy()\n",
    "    # lowercase the text\n",
    "    df['statement']=df['statement'].str.lower()\n",
    "    # word tokenization\n",
    "    df['statement']=df['statement'].map(lambda x: nltk.word_tokenize(x))\n",
    "    # remove stop words and non alphanumeric charaters\n",
    "    df['statement']=df['statement'].map(lambda x: [w for w in x if (not w in stop_words) and w.isalpha()])\n",
    "    # lemmatization\n",
    "    wordnet_lemmatizer = WordNetLemmatizer()\n",
    "    df['statement']=df['statement'].map(lambda x: [ wordnet_lemmatizer.lemmatize(w) for w in x])    \n",
    "    # stemming\n",
    "    porter = PorterStemmer()\n",
    "    df['statement']=df['statement'].map(lambda x: [porter.stem(w) for w in x] )\n",
    "    return df"
   ]
  },
  {
   "cell_type": "markdown",
   "metadata": {},
   "source": [
    "#### Calling text_preprocessing function"
   ]
  },
  {
   "cell_type": "code",
   "execution_count": 323,
   "metadata": {},
   "outputs": [
    {
     "data": {
      "text/html": [
       "<div>\n",
       "<style scoped>\n",
       "    .dataframe tbody tr th:only-of-type {\n",
       "        vertical-align: middle;\n",
       "    }\n",
       "\n",
       "    .dataframe tbody tr th {\n",
       "        vertical-align: top;\n",
       "    }\n",
       "\n",
       "    .dataframe thead th {\n",
       "        text-align: right;\n",
       "    }\n",
       "</style>\n",
       "<table border=\"1\" class=\"dataframe\">\n",
       "  <thead>\n",
       "    <tr style=\"text-align: right;\">\n",
       "      <th></th>\n",
       "      <th>id</th>\n",
       "      <th>label</th>\n",
       "      <th>statement</th>\n",
       "      <th>subject</th>\n",
       "      <th>speaker</th>\n",
       "      <th>speaker_job</th>\n",
       "      <th>state</th>\n",
       "      <th>party_affiliation</th>\n",
       "      <th>barely_true_count</th>\n",
       "      <th>false_Count</th>\n",
       "      <th>half_true_count</th>\n",
       "      <th>mostly_true_count</th>\n",
       "      <th>pants_on_fire_count</th>\n",
       "      <th>venue_speach</th>\n",
       "    </tr>\n",
       "  </thead>\n",
       "  <tbody>\n",
       "    <tr>\n",
       "      <th>0</th>\n",
       "      <td>2635.json</td>\n",
       "      <td>false</td>\n",
       "      <td>[say, anni, list, polit, group, support, abort...</td>\n",
       "      <td>abortion</td>\n",
       "      <td>dwayne-bohac</td>\n",
       "      <td>State representative</td>\n",
       "      <td>Texas</td>\n",
       "      <td>republican</td>\n",
       "      <td>0.0</td>\n",
       "      <td>1.0</td>\n",
       "      <td>0.0</td>\n",
       "      <td>0.0</td>\n",
       "      <td>0.0</td>\n",
       "      <td>a mailer</td>\n",
       "    </tr>\n",
       "    <tr>\n",
       "      <th>1</th>\n",
       "      <td>10540.json</td>\n",
       "      <td>half-true</td>\n",
       "      <td>[declin, coal, start, start, natur, ga, took, ...</td>\n",
       "      <td>energy,history,job-accomplishments</td>\n",
       "      <td>scott-surovell</td>\n",
       "      <td>State delegate</td>\n",
       "      <td>Virginia</td>\n",
       "      <td>democrat</td>\n",
       "      <td>0.0</td>\n",
       "      <td>0.0</td>\n",
       "      <td>1.0</td>\n",
       "      <td>1.0</td>\n",
       "      <td>0.0</td>\n",
       "      <td>a floor speech.</td>\n",
       "    </tr>\n",
       "    <tr>\n",
       "      <th>2</th>\n",
       "      <td>324.json</td>\n",
       "      <td>mostly-true</td>\n",
       "      <td>[hillari, clinton, agre, john, mccain, vote, g...</td>\n",
       "      <td>foreign-policy</td>\n",
       "      <td>barack-obama</td>\n",
       "      <td>President</td>\n",
       "      <td>Illinois</td>\n",
       "      <td>democrat</td>\n",
       "      <td>70.0</td>\n",
       "      <td>71.0</td>\n",
       "      <td>160.0</td>\n",
       "      <td>163.0</td>\n",
       "      <td>9.0</td>\n",
       "      <td>Denver</td>\n",
       "    </tr>\n",
       "    <tr>\n",
       "      <th>3</th>\n",
       "      <td>1123.json</td>\n",
       "      <td>false</td>\n",
       "      <td>[health, care, reform, legisl, like, mandat, f...</td>\n",
       "      <td>health-care</td>\n",
       "      <td>blog-posting</td>\n",
       "      <td>NaN</td>\n",
       "      <td>NaN</td>\n",
       "      <td>none</td>\n",
       "      <td>7.0</td>\n",
       "      <td>19.0</td>\n",
       "      <td>3.0</td>\n",
       "      <td>5.0</td>\n",
       "      <td>44.0</td>\n",
       "      <td>a news release</td>\n",
       "    </tr>\n",
       "    <tr>\n",
       "      <th>4</th>\n",
       "      <td>9028.json</td>\n",
       "      <td>half-true</td>\n",
       "      <td>[econom, turnaround, start, end, term]</td>\n",
       "      <td>economy,jobs</td>\n",
       "      <td>charlie-crist</td>\n",
       "      <td>NaN</td>\n",
       "      <td>Florida</td>\n",
       "      <td>democrat</td>\n",
       "      <td>15.0</td>\n",
       "      <td>9.0</td>\n",
       "      <td>20.0</td>\n",
       "      <td>19.0</td>\n",
       "      <td>2.0</td>\n",
       "      <td>an interview on CNN</td>\n",
       "    </tr>\n",
       "  </tbody>\n",
       "</table>\n",
       "</div>"
      ],
      "text/plain": [
       "           id        label                                          statement  \\\n",
       "0   2635.json        false  [say, anni, list, polit, group, support, abort...   \n",
       "1  10540.json    half-true  [declin, coal, start, start, natur, ga, took, ...   \n",
       "2    324.json  mostly-true  [hillari, clinton, agre, john, mccain, vote, g...   \n",
       "3   1123.json        false  [health, care, reform, legisl, like, mandat, f...   \n",
       "4   9028.json    half-true             [econom, turnaround, start, end, term]   \n",
       "\n",
       "                              subject         speaker           speaker_job  \\\n",
       "0                            abortion    dwayne-bohac  State representative   \n",
       "1  energy,history,job-accomplishments  scott-surovell        State delegate   \n",
       "2                      foreign-policy    barack-obama             President   \n",
       "3                         health-care    blog-posting                   NaN   \n",
       "4                        economy,jobs   charlie-crist                   NaN   \n",
       "\n",
       "      state party_affiliation  barely_true_count  false_Count  \\\n",
       "0     Texas        republican                0.0          1.0   \n",
       "1  Virginia          democrat                0.0          0.0   \n",
       "2  Illinois          democrat               70.0         71.0   \n",
       "3       NaN              none                7.0         19.0   \n",
       "4   Florida          democrat               15.0          9.0   \n",
       "\n",
       "   half_true_count  mostly_true_count  pants_on_fire_count  \\\n",
       "0              0.0                0.0                  0.0   \n",
       "1              1.0                1.0                  0.0   \n",
       "2            160.0              163.0                  9.0   \n",
       "3              3.0                5.0                 44.0   \n",
       "4             20.0               19.0                  2.0   \n",
       "\n",
       "          venue_speach  \n",
       "0             a mailer  \n",
       "1      a floor speech.  \n",
       "2               Denver  \n",
       "3       a news release  \n",
       "4  an interview on CNN  "
      ]
     },
     "execution_count": 323,
     "metadata": {},
     "output_type": "execute_result"
    }
   ],
   "source": [
    "df_train=text_preprocessing(df_lair)\n",
    "df_train.head()"
   ]
  },
  {
   "cell_type": "markdown",
   "metadata": {},
   "source": [
    "## Spelling Error Check Factor\n",
    "### using nltk wordnet and enchant"
   ]
  },
  {
   "cell_type": "markdown",
   "metadata": {},
   "source": [
    "function spell_check_article - It takes an article as input and returns number of words with spelling error in an article and % of words with errors\n",
    "- pip install pyenchant"
   ]
  },
  {
   "cell_type": "code",
   "execution_count": 324,
   "metadata": {},
   "outputs": [],
   "source": [
    "from nltk.corpus import wordnet\n",
    "import enchant\n",
    "enchant = enchant.Dict(\"en_US\")\n",
    "def spell_check_article(article):\n",
    "    article=article.replace('-',' ');\n",
    "    article_tokenized=nltk.word_tokenize(article)\n",
    "    total_word_count=len(article_tokenized)\n",
    "    words_with_error_count=0\n",
    "    for w in article_tokenized:\n",
    "        if (not wordnet.synsets(w)) and (not enchant.check(w)):\n",
    "            words_with_error_count+=1\n",
    "    return words_with_error_count,(words_with_error_count/total_word_count*100)"
   ]
  },
  {
   "cell_type": "code",
   "execution_count": 325,
   "metadata": {},
   "outputs": [
    {
     "data": {
      "text/plain": [
       "(3, 75.0)"
      ]
     },
     "execution_count": 325,
     "metadata": {},
     "output_type": "execute_result"
    }
   ],
   "source": [
    "spell_check_article('kitten drining choclate malk')"
   ]
  },
  {
   "cell_type": "code",
   "execution_count": 326,
   "metadata": {},
   "outputs": [
    {
     "data": {
      "text/plain": [
       "(2, 50.0)"
      ]
     },
     "execution_count": 326,
     "metadata": {},
     "output_type": "execute_result"
    }
   ],
   "source": [
    "spell_check_article('kitten drining choclate milk')"
   ]
  },
  {
   "cell_type": "code",
   "execution_count": 327,
   "metadata": {},
   "outputs": [
    {
     "data": {
      "text/html": [
       "<div>\n",
       "<style scoped>\n",
       "    .dataframe tbody tr th:only-of-type {\n",
       "        vertical-align: middle;\n",
       "    }\n",
       "\n",
       "    .dataframe tbody tr th {\n",
       "        vertical-align: top;\n",
       "    }\n",
       "\n",
       "    .dataframe thead th {\n",
       "        text-align: right;\n",
       "    }\n",
       "</style>\n",
       "<table border=\"1\" class=\"dataframe\">\n",
       "  <thead>\n",
       "    <tr style=\"text-align: right;\">\n",
       "      <th></th>\n",
       "      <th>statement</th>\n",
       "      <th>spell_error</th>\n",
       "    </tr>\n",
       "  </thead>\n",
       "  <tbody>\n",
       "    <tr>\n",
       "      <th>0</th>\n",
       "      <td>Says the Annies List political group supports ...</td>\n",
       "      <td>1</td>\n",
       "    </tr>\n",
       "    <tr>\n",
       "      <th>1</th>\n",
       "      <td>When did the decline of coal start? It started...</td>\n",
       "      <td>3</td>\n",
       "    </tr>\n",
       "    <tr>\n",
       "      <th>2</th>\n",
       "      <td>Hillary Clinton agrees with John McCain \"by vo...</td>\n",
       "      <td>2</td>\n",
       "    </tr>\n",
       "    <tr>\n",
       "      <th>3</th>\n",
       "      <td>Health care reform legislation is likely to ma...</td>\n",
       "      <td>0</td>\n",
       "    </tr>\n",
       "    <tr>\n",
       "      <th>4</th>\n",
       "      <td>The economic turnaround started at the end of ...</td>\n",
       "      <td>0</td>\n",
       "    </tr>\n",
       "  </tbody>\n",
       "</table>\n",
       "</div>"
      ],
      "text/plain": [
       "                                           statement  spell_error\n",
       "0  Says the Annies List political group supports ...            1\n",
       "1  When did the decline of coal start? It started...            3\n",
       "2  Hillary Clinton agrees with John McCain \"by vo...            2\n",
       "3  Health care reform legislation is likely to ma...            0\n",
       "4  The economic turnaround started at the end of ...            0"
      ]
     },
     "execution_count": 327,
     "metadata": {},
     "output_type": "execute_result"
    }
   ],
   "source": [
    "df_lair['spell_error']=df_lair['statement'].map(lambda x: spell_check_article(x)[0])\n",
    "df_lair[['statement','spell_error']].head()"
   ]
  },
  {
   "cell_type": "markdown",
   "metadata": {},
   "source": [
    "## Tag Cloud\n",
    "To understand most frequent words in the corpus\n",
    "- pip install wordcloud"
   ]
  },
  {
   "cell_type": "code",
   "execution_count": 328,
   "metadata": {},
   "outputs": [],
   "source": [
    "from wordcloud import WordCloud\n",
    "import matplotlib.pyplot as plt"
   ]
  },
  {
   "cell_type": "code",
   "execution_count": 329,
   "metadata": {},
   "outputs": [],
   "source": [
    "statements=''.join(df_lair['statement'].values.tolist())"
   ]
  },
  {
   "cell_type": "code",
   "execution_count": 330,
   "metadata": {},
   "outputs": [
    {
     "data": {
      "image/png": "[encoded data removed]",
      "text/plain": [
       "<Figure size 432x288 with 1 Axes>"
      ]
     },
     "metadata": {},
     "output_type": "display_data"
    }
   ],
   "source": [
    "# lower max_font_size, change the maximum number of word and lighten the background:\n",
    "wordcloud = WordCloud(max_font_size=50, max_words=100, background_color=\"white\").generate(statements)\n",
    "plt.figure()\n",
    "plt.imshow(wordcloud, interpolation=\"bilinear\")\n",
    "plt.axis(\"off\")\n",
    "plt.show()"
   ]
  },
  {
   "cell_type": "markdown",
   "metadata": {},
   "source": [
    "Conclusion is corpus looks like is mostly political and money related"
   ]
  },
  {
   "cell_type": "markdown",
   "metadata": {},
   "source": [
    "## Word2Vec to create a vector representation of processed words for every article\n",
    "- pip install gensim"
   ]
  },
  {
   "cell_type": "code",
   "execution_count": 203,
   "metadata": {},
   "outputs": [],
   "source": [
    "import gensim\n",
    "from gensim.models.word2vec import Word2Vec\n",
    "from gensim.models.doc2vec import TaggedDocument\n",
    "from sklearn.model_selection import train_test_split\n",
    "import warnings\n",
    "warnings.filterwarnings('ignore')"
   ]
  },
  {
   "cell_type": "code",
   "execution_count": 204,
   "metadata": {},
   "outputs": [],
   "source": [
    "LabeledSentence = gensim.models.doc2vec.LabeledSentence"
   ]
  },
  {
   "cell_type": "code",
   "execution_count": 205,
   "metadata": {},
   "outputs": [],
   "source": [
    "def labelled_sentences(articles, label_type):\n",
    "    labelledSentences = []\n",
    "    for i,_d in enumerate(articles):\n",
    "        labelledSentences.append(LabeledSentence(_d, label_type[i]))\n",
    "    return labelledSentences"
   ]
  },
  {
   "cell_type": "code",
   "execution_count": 206,
   "metadata": {},
   "outputs": [
    {
     "data": {
      "text/plain": [
       "LabeledSentence(words=['declin', 'coal', 'start', 'start', 'natur', 'ga', 'took', 'start', 'begin', 'presid', 'georg', 'bush', 'administr'], tags='half-true')"
      ]
     },
     "execution_count": 206,
     "metadata": {},
     "output_type": "execute_result"
    }
   ],
   "source": [
    "df_train_labelled=labelled_sentences(df_train['statement'],df_train['label'])\n",
    "df_train_labelled[1]"
   ]
  },
  {
   "cell_type": "code",
   "execution_count": 207,
   "metadata": {},
   "outputs": [],
   "source": [
    "tagged_data = [TaggedDocument(words=_d, tags=[str(i)]) for i, _d in enumerate(df_train['statement'])]"
   ]
  },
  {
   "cell_type": "code",
   "execution_count": 208,
   "metadata": {},
   "outputs": [],
   "source": [
    "tagged_data_words=[x.words for x in tagged_data]\n",
    "tagged_data_words_1D=[]\n",
    "for row in range(len(tagged_data_words)):\n",
    "    for col in range(len(tagged_data_words[row])):\n",
    "        tagged_data_words_1D.append(tagged_data_words[row][col]) "
   ]
  },
  {
   "cell_type": "code",
   "execution_count": 209,
   "metadata": {},
   "outputs": [
    {
     "data": {
      "text/plain": [
       "(475774, 524220)"
      ]
     },
     "execution_count": 209,
     "metadata": {},
     "output_type": "execute_result"
    }
   ],
   "source": [
    "n_dim=300\n",
    "w2v = Word2Vec(size=n_dim, min_count=0)\n",
    "w2v.build_vocab(tagged_data_words)\n",
    "w2v.train(tagged_data_words,total_examples=w2v.corpus_count,epochs=w2v.epochs)"
   ]
  },
  {
   "cell_type": "code",
   "execution_count": 210,
   "metadata": {},
   "outputs": [
    {
     "data": {
      "text/plain": [
       "[('washington', 0.9999725818634033),\n",
       " ('union', 0.999968409538269),\n",
       " ('militari', 0.9999653100967407),\n",
       " ('group', 0.9999650716781616),\n",
       " ('mayor', 0.9999630451202393),\n",
       " ('think', 0.9999599456787109),\n",
       " ('made', 0.9999579787254333),\n",
       " ('build', 0.9999578595161438),\n",
       " ('rule', 0.9999566078186035),\n",
       " ('report', 0.999955415725708)]"
      ]
     },
     "execution_count": 210,
     "metadata": {},
     "output_type": "execute_result"
    }
   ],
   "source": [
    "w2v.most_similar('polit')"
   ]
  },
  {
   "cell_type": "code",
   "execution_count": 211,
   "metadata": {},
   "outputs": [],
   "source": [
    "df_train_statements=df_train[['statement','label']]\n",
    "df_train_statements_vectorized=df_train_statements['statement'].map(lambda x: [w2v[w] for w in x])"
   ]
  },
  {
   "cell_type": "code",
   "execution_count": 212,
   "metadata": {},
   "outputs": [],
   "source": [
    "df_train_statements['statement']=df_train_statements_vectorized"
   ]
  },
  {
   "cell_type": "code",
   "execution_count": 213,
   "metadata": {},
   "outputs": [],
   "source": [
    "from sklearn import preprocessing\n",
    "le = preprocessing.LabelEncoder()\n",
    "df_train_statements['label']=le.fit_transform(df_train_statements['label'])"
   ]
  },
  {
   "cell_type": "code",
   "execution_count": 214,
   "metadata": {},
   "outputs": [
    {
     "data": {
      "text/html": [
       "<div>\n",
       "<style scoped>\n",
       "    .dataframe tbody tr th:only-of-type {\n",
       "        vertical-align: middle;\n",
       "    }\n",
       "\n",
       "    .dataframe tbody tr th {\n",
       "        vertical-align: top;\n",
       "    }\n",
       "\n",
       "    .dataframe thead th {\n",
       "        text-align: right;\n",
       "    }\n",
       "</style>\n",
       "<table border=\"1\" class=\"dataframe\">\n",
       "  <thead>\n",
       "    <tr style=\"text-align: right;\">\n",
       "      <th></th>\n",
       "      <th>statement</th>\n",
       "      <th>label</th>\n",
       "    </tr>\n",
       "  </thead>\n",
       "  <tbody>\n",
       "    <tr>\n",
       "      <th>0</th>\n",
       "      <td>[[0.28389275, -0.25830293, 0.0020960032, 0.200...</td>\n",
       "      <td>1</td>\n",
       "    </tr>\n",
       "    <tr>\n",
       "      <th>1</th>\n",
       "      <td>[[0.044087704, -0.04768777, -0.0030920648, 0.0...</td>\n",
       "      <td>2</td>\n",
       "    </tr>\n",
       "    <tr>\n",
       "      <th>2</th>\n",
       "      <td>[[0.23643412, -0.15820898, 0.030280681, 0.1275...</td>\n",
       "      <td>3</td>\n",
       "    </tr>\n",
       "    <tr>\n",
       "      <th>3</th>\n",
       "      <td>[[0.08892213, -0.3116017, 0.14007212, 0.147536...</td>\n",
       "      <td>1</td>\n",
       "    </tr>\n",
       "    <tr>\n",
       "      <th>4</th>\n",
       "      <td>[[0.1725264, -0.1865579, -0.007931209, 0.12167...</td>\n",
       "      <td>2</td>\n",
       "    </tr>\n",
       "  </tbody>\n",
       "</table>\n",
       "</div>"
      ],
      "text/plain": [
       "                                           statement  label\n",
       "0  [[0.28389275, -0.25830293, 0.0020960032, 0.200...      1\n",
       "1  [[0.044087704, -0.04768777, -0.0030920648, 0.0...      2\n",
       "2  [[0.23643412, -0.15820898, 0.030280681, 0.1275...      3\n",
       "3  [[0.08892213, -0.3116017, 0.14007212, 0.147536...      1\n",
       "4  [[0.1725264, -0.1865579, -0.007931209, 0.12167...      2"
      ]
     },
     "execution_count": 214,
     "metadata": {},
     "output_type": "execute_result"
    }
   ],
   "source": [
    "df_train_statements.head()"
   ]
  },
  {
   "cell_type": "code",
   "execution_count": 186,
   "metadata": {},
   "outputs": [],
   "source": [
    "#list(le.inverse_transform(df_train_statements['label']))"
   ]
  },
  {
   "cell_type": "code",
   "execution_count": 187,
   "metadata": {},
   "outputs": [],
   "source": [
    "def document_vector(doc):\n",
    "    return np.mean(doc, axis=0)"
   ]
  },
  {
   "cell_type": "code",
   "execution_count": 237,
   "metadata": {},
   "outputs": [
    {
     "name": "stdout",
     "output_type": "stream",
     "text": [
      "1\n",
      "2\n",
      "3\n",
      "4\n"
     ]
    }
   ],
   "source": [
    "a1=pd.Series([[1,2],[3,4]])\n",
    "for row_idx in range(len(a1)):\n",
    "    for col_idx in range(len(a1[row_idx])):\n",
    "        print(a1[row_idx][col_idx])"
   ]
  },
  {
   "cell_type": "code",
   "execution_count": 239,
   "metadata": {},
   "outputs": [],
   "source": [
    "for row_idx in range(len(df_train_statements['statement'])):\n",
    "    for col_idx in range(len(df_train_statements['statement'][row_idx])):\n",
    "        df_train_statements['statement'][row_idx][col_idx]=document_vector(df_train_statements['statement'][row_idx][col_idx])"
   ]
  },
  {
   "cell_type": "code",
   "execution_count": 240,
   "metadata": {},
   "outputs": [
    {
     "data": {
      "text/html": [
       "<div>\n",
       "<style scoped>\n",
       "    .dataframe tbody tr th:only-of-type {\n",
       "        vertical-align: middle;\n",
       "    }\n",
       "\n",
       "    .dataframe tbody tr th {\n",
       "        vertical-align: top;\n",
       "    }\n",
       "\n",
       "    .dataframe thead th {\n",
       "        text-align: right;\n",
       "    }\n",
       "</style>\n",
       "<table border=\"1\" class=\"dataframe\">\n",
       "  <thead>\n",
       "    <tr style=\"text-align: right;\">\n",
       "      <th></th>\n",
       "      <th>statement</th>\n",
       "      <th>label</th>\n",
       "    </tr>\n",
       "  </thead>\n",
       "  <tbody>\n",
       "    <tr>\n",
       "      <th>0</th>\n",
       "      <td>[0.02147652, 0.00013964958, 0.005736137, 0.010...</td>\n",
       "      <td>1</td>\n",
       "    </tr>\n",
       "    <tr>\n",
       "      <th>1</th>\n",
       "      <td>[0.0029995928, 0.0039925235, 0.011194026, 0.01...</td>\n",
       "      <td>2</td>\n",
       "    </tr>\n",
       "    <tr>\n",
       "      <th>2</th>\n",
       "      <td>[0.017245268, 0.026870111, 0.005688108, 0.0167...</td>\n",
       "      <td>3</td>\n",
       "    </tr>\n",
       "    <tr>\n",
       "      <th>3</th>\n",
       "      <td>[0.019405536, 0.013487112, 0.012039775, 0.0131...</td>\n",
       "      <td>1</td>\n",
       "    </tr>\n",
       "    <tr>\n",
       "      <th>4</th>\n",
       "      <td>[0.012185195, 0.0011194221, 0.011194026, 0.011...</td>\n",
       "      <td>2</td>\n",
       "    </tr>\n",
       "    <tr>\n",
       "      <th>5</th>\n",
       "      <td>[0.0024449686, 0.0024601335, 0.011194026, 0.00...</td>\n",
       "      <td>5</td>\n",
       "    </tr>\n",
       "    <tr>\n",
       "      <th>6</th>\n",
       "      <td>[0.0057833972, 0.00032087375, 0.011889871, 0.0...</td>\n",
       "      <td>0</td>\n",
       "    </tr>\n",
       "    <tr>\n",
       "      <th>7</th>\n",
       "      <td>[0.012006031, 0.0033706566, 0.014690894, 0.005...</td>\n",
       "      <td>2</td>\n",
       "    </tr>\n",
       "    <tr>\n",
       "      <th>8</th>\n",
       "      <td>[0.0004575897, 0.014146996, 0.015410698, 0.010...</td>\n",
       "      <td>2</td>\n",
       "    </tr>\n",
       "    <tr>\n",
       "      <th>9</th>\n",
       "      <td>[0.02147652, 0.0063113156, 0.0064744484, 0.007...</td>\n",
       "      <td>3</td>\n",
       "    </tr>\n",
       "    <tr>\n",
       "      <th>10</th>\n",
       "      <td>[0.015893167, 0.01657315, 0.012640993, 0.00533...</td>\n",
       "      <td>3</td>\n",
       "    </tr>\n",
       "    <tr>\n",
       "      <th>11</th>\n",
       "      <td>[0.01613835, 0.012297147, 0.015410698, 0.01627...</td>\n",
       "      <td>2</td>\n",
       "    </tr>\n",
       "    <tr>\n",
       "      <th>12</th>\n",
       "      <td>[0.0104503315, 0.015258888, 0.01588228, 0.0083...</td>\n",
       "      <td>1</td>\n",
       "    </tr>\n",
       "    <tr>\n",
       "      <th>13</th>\n",
       "      <td>[0.013376773, 0.0002714919, 0.013846991, 0.009...</td>\n",
       "      <td>3</td>\n",
       "    </tr>\n",
       "    <tr>\n",
       "      <th>14</th>\n",
       "      <td>[0.00818707, 0.013487112, 0.014882209, 0.01064...</td>\n",
       "      <td>0</td>\n",
       "    </tr>\n",
       "    <tr>\n",
       "      <th>15</th>\n",
       "      <td>[0.013563761, 0.014909061, 0.002640082, 0.0153...</td>\n",
       "      <td>2</td>\n",
       "    </tr>\n",
       "    <tr>\n",
       "      <th>16</th>\n",
       "      <td>[0.011769245, 0.011631534, 0.01343652, 0.01707...</td>\n",
       "      <td>5</td>\n",
       "    </tr>\n",
       "    <tr>\n",
       "      <th>17</th>\n",
       "      <td>[0.003360745, 0.0073125577, 0.0033200486, 0.01...</td>\n",
       "      <td>0</td>\n",
       "    </tr>\n",
       "    <tr>\n",
       "      <th>18</th>\n",
       "      <td>[0.011859554, 0.01458831, 0.00020728803, 0.001...</td>\n",
       "      <td>2</td>\n",
       "    </tr>\n",
       "    <tr>\n",
       "      <th>19</th>\n",
       "      <td>[0.012232211, 0.016416045, 0.008997638, 0.0014...</td>\n",
       "      <td>3</td>\n",
       "    </tr>\n",
       "    <tr>\n",
       "      <th>20</th>\n",
       "      <td>[0.017611213, 0.007622796, 0.016646152, 0.0123...</td>\n",
       "      <td>1</td>\n",
       "    </tr>\n",
       "    <tr>\n",
       "      <th>21</th>\n",
       "      <td>[0.014060992, 0.016087897, 0.0105278855, 0.009...</td>\n",
       "      <td>3</td>\n",
       "    </tr>\n",
       "    <tr>\n",
       "      <th>22</th>\n",
       "      <td>[0.0071567744, 0.014627915, 0.0048596486, 0.01...</td>\n",
       "      <td>3</td>\n",
       "    </tr>\n",
       "    <tr>\n",
       "      <th>23</th>\n",
       "      <td>[0.02147652, 0.012791148, 0.010071026, 0.00587...</td>\n",
       "      <td>2</td>\n",
       "    </tr>\n",
       "    <tr>\n",
       "      <th>24</th>\n",
       "      <td>[0.02147652, 0.0104503315, 0.015258888, 0.0189...</td>\n",
       "      <td>0</td>\n",
       "    </tr>\n",
       "    <tr>\n",
       "      <th>25</th>\n",
       "      <td>[0.014377456, 0.014264527, 0.00023063523, 0.00...</td>\n",
       "      <td>1</td>\n",
       "    </tr>\n",
       "    <tr>\n",
       "      <th>26</th>\n",
       "      <td>[0.0029315788, 0.013149457, 0.016272767, 0.009...</td>\n",
       "      <td>3</td>\n",
       "    </tr>\n",
       "    <tr>\n",
       "      <th>27</th>\n",
       "      <td>[0.011074098, 0.010096126, 0.015744561, 0.0106...</td>\n",
       "      <td>2</td>\n",
       "    </tr>\n",
       "    <tr>\n",
       "      <th>28</th>\n",
       "      <td>[0.008643501, 0.017937643, 0.0020080574, 0.009...</td>\n",
       "      <td>1</td>\n",
       "    </tr>\n",
       "    <tr>\n",
       "      <th>29</th>\n",
       "      <td>[0.002103172, 0.012798355, 0.005229517, 0.0100...</td>\n",
       "      <td>3</td>\n",
       "    </tr>\n",
       "    <tr>\n",
       "      <th>...</th>\n",
       "      <td>...</td>\n",
       "      <td>...</td>\n",
       "    </tr>\n",
       "    <tr>\n",
       "      <th>10209</th>\n",
       "      <td>[0.01613835, 0.00818707, 0.013487112, 0.014882...</td>\n",
       "      <td>5</td>\n",
       "    </tr>\n",
       "    <tr>\n",
       "      <th>10210</th>\n",
       "      <td>[0.013856647, 0.012232211, 0.008868836, 0.0092...</td>\n",
       "      <td>5</td>\n",
       "    </tr>\n",
       "    <tr>\n",
       "      <th>10211</th>\n",
       "      <td>[0.009250875, 0.02147652, 0.01585144, 0.016470...</td>\n",
       "      <td>2</td>\n",
       "    </tr>\n",
       "    <tr>\n",
       "      <th>10212</th>\n",
       "      <td>[0.009489987, 0.001112179, 0.01489751, 0.01564...</td>\n",
       "      <td>0</td>\n",
       "    </tr>\n",
       "    <tr>\n",
       "      <th>10213</th>\n",
       "      <td>[0.013563761, 0.014627915, 0.019405536, 0.0134...</td>\n",
       "      <td>1</td>\n",
       "    </tr>\n",
       "    <tr>\n",
       "      <th>10214</th>\n",
       "      <td>[0.023179661, 0.015524225, 0.011630244, 0.0091...</td>\n",
       "      <td>0</td>\n",
       "    </tr>\n",
       "    <tr>\n",
       "      <th>10215</th>\n",
       "      <td>[0.0031913908, 0.0067852307, 0.005780281, 0.00...</td>\n",
       "      <td>1</td>\n",
       "    </tr>\n",
       "    <tr>\n",
       "      <th>10216</th>\n",
       "      <td>[0.0061206333, 0.023179661, 0.015524225, 0.004...</td>\n",
       "      <td>2</td>\n",
       "    </tr>\n",
       "    <tr>\n",
       "      <th>10217</th>\n",
       "      <td>[0.0071594715, 0.017899485, 0.0101882955, 0.00...</td>\n",
       "      <td>1</td>\n",
       "    </tr>\n",
       "    <tr>\n",
       "      <th>10218</th>\n",
       "      <td>[0.013008081, 0.01564333, 0.012476795, 0.00585...</td>\n",
       "      <td>2</td>\n",
       "    </tr>\n",
       "    <tr>\n",
       "      <th>10219</th>\n",
       "      <td>[0.02147652, 0.0104503315, 0.015258888, 0.0056...</td>\n",
       "      <td>3</td>\n",
       "    </tr>\n",
       "    <tr>\n",
       "      <th>10220</th>\n",
       "      <td>[0.01237563, 0.013303395, 0.008478532, 0.00921...</td>\n",
       "      <td>1</td>\n",
       "    </tr>\n",
       "    <tr>\n",
       "      <th>10221</th>\n",
       "      <td>[0.015893167, 0.01657315, 0.01613835, 0.002056...</td>\n",
       "      <td>5</td>\n",
       "    </tr>\n",
       "    <tr>\n",
       "      <th>10222</th>\n",
       "      <td>[0.02147652, 0.011074098, 0.010096126, 0.00911...</td>\n",
       "      <td>3</td>\n",
       "    </tr>\n",
       "    <tr>\n",
       "      <th>10223</th>\n",
       "      <td>[0.016087897, 0.014813223, 0.0049231714, 0.005...</td>\n",
       "      <td>0</td>\n",
       "    </tr>\n",
       "    <tr>\n",
       "      <th>10224</th>\n",
       "      <td>[0.01585144, 0.014387115, 0.01060509, 0.015410...</td>\n",
       "      <td>2</td>\n",
       "    </tr>\n",
       "    <tr>\n",
       "      <th>10225</th>\n",
       "      <td>[0.000117027645, 0.00080415537, 0.0025673318, ...</td>\n",
       "      <td>3</td>\n",
       "    </tr>\n",
       "    <tr>\n",
       "      <th>10226</th>\n",
       "      <td>[0.009768313, 0.0043938295, 0.006782457, 0.013...</td>\n",
       "      <td>4</td>\n",
       "    </tr>\n",
       "    <tr>\n",
       "      <th>10227</th>\n",
       "      <td>[0.011689397, 0.00046141655, 0.0009080752, 0.0...</td>\n",
       "      <td>0</td>\n",
       "    </tr>\n",
       "    <tr>\n",
       "      <th>10228</th>\n",
       "      <td>[0.005137683, 0.00025015656, 0.011592246, 0.00...</td>\n",
       "      <td>3</td>\n",
       "    </tr>\n",
       "    <tr>\n",
       "      <th>10229</th>\n",
       "      <td>[0.009453586, 0.016282571, 0.0032418736, 0.004...</td>\n",
       "      <td>0</td>\n",
       "    </tr>\n",
       "    <tr>\n",
       "      <th>10230</th>\n",
       "      <td>[0.013412957, 0.016087897, 0.00958713, 0.01513...</td>\n",
       "      <td>2</td>\n",
       "    </tr>\n",
       "    <tr>\n",
       "      <th>10231</th>\n",
       "      <td>[0.0009985156, 0.015318326, 0.0031913908, 0.01...</td>\n",
       "      <td>2</td>\n",
       "    </tr>\n",
       "    <tr>\n",
       "      <th>10232</th>\n",
       "      <td>[0.012384045, 0.0012457937, 0.018921262, 0.001...</td>\n",
       "      <td>4</td>\n",
       "    </tr>\n",
       "    <tr>\n",
       "      <th>10233</th>\n",
       "      <td>[0.011808094, 0.009453586, 0.016282571, 0.0087...</td>\n",
       "      <td>2</td>\n",
       "    </tr>\n",
       "    <tr>\n",
       "      <th>10234</th>\n",
       "      <td>[0.0038865535, 0.01489751, 0.0004626668, 0.013...</td>\n",
       "      <td>3</td>\n",
       "    </tr>\n",
       "    <tr>\n",
       "      <th>10235</th>\n",
       "      <td>[0.017899485, 0.0082215695, 0.014387115, 0.008...</td>\n",
       "      <td>3</td>\n",
       "    </tr>\n",
       "    <tr>\n",
       "      <th>10236</th>\n",
       "      <td>[0.02147652, 0.0013691853, 0.014184532, 0.0173...</td>\n",
       "      <td>2</td>\n",
       "    </tr>\n",
       "    <tr>\n",
       "      <th>10237</th>\n",
       "      <td>[0.0017489974, 0.0014871508, 0.000825192, 0.01...</td>\n",
       "      <td>1</td>\n",
       "    </tr>\n",
       "    <tr>\n",
       "      <th>10238</th>\n",
       "      <td>[0.0145733375, 0.009916876, 0.0023025537, 0.00...</td>\n",
       "      <td>4</td>\n",
       "    </tr>\n",
       "  </tbody>\n",
       "</table>\n",
       "<p>10239 rows × 2 columns</p>\n",
       "</div>"
      ],
      "text/plain": [
       "                                               statement  label\n",
       "0      [0.02147652, 0.00013964958, 0.005736137, 0.010...      1\n",
       "1      [0.0029995928, 0.0039925235, 0.011194026, 0.01...      2\n",
       "2      [0.017245268, 0.026870111, 0.005688108, 0.0167...      3\n",
       "3      [0.019405536, 0.013487112, 0.012039775, 0.0131...      1\n",
       "4      [0.012185195, 0.0011194221, 0.011194026, 0.011...      2\n",
       "5      [0.0024449686, 0.0024601335, 0.011194026, 0.00...      5\n",
       "6      [0.0057833972, 0.00032087375, 0.011889871, 0.0...      0\n",
       "7      [0.012006031, 0.0033706566, 0.014690894, 0.005...      2\n",
       "8      [0.0004575897, 0.014146996, 0.015410698, 0.010...      2\n",
       "9      [0.02147652, 0.0063113156, 0.0064744484, 0.007...      3\n",
       "10     [0.015893167, 0.01657315, 0.012640993, 0.00533...      3\n",
       "11     [0.01613835, 0.012297147, 0.015410698, 0.01627...      2\n",
       "12     [0.0104503315, 0.015258888, 0.01588228, 0.0083...      1\n",
       "13     [0.013376773, 0.0002714919, 0.013846991, 0.009...      3\n",
       "14     [0.00818707, 0.013487112, 0.014882209, 0.01064...      0\n",
       "15     [0.013563761, 0.014909061, 0.002640082, 0.0153...      2\n",
       "16     [0.011769245, 0.011631534, 0.01343652, 0.01707...      5\n",
       "17     [0.003360745, 0.0073125577, 0.0033200486, 0.01...      0\n",
       "18     [0.011859554, 0.01458831, 0.00020728803, 0.001...      2\n",
       "19     [0.012232211, 0.016416045, 0.008997638, 0.0014...      3\n",
       "20     [0.017611213, 0.007622796, 0.016646152, 0.0123...      1\n",
       "21     [0.014060992, 0.016087897, 0.0105278855, 0.009...      3\n",
       "22     [0.0071567744, 0.014627915, 0.0048596486, 0.01...      3\n",
       "23     [0.02147652, 0.012791148, 0.010071026, 0.00587...      2\n",
       "24     [0.02147652, 0.0104503315, 0.015258888, 0.0189...      0\n",
       "25     [0.014377456, 0.014264527, 0.00023063523, 0.00...      1\n",
       "26     [0.0029315788, 0.013149457, 0.016272767, 0.009...      3\n",
       "27     [0.011074098, 0.010096126, 0.015744561, 0.0106...      2\n",
       "28     [0.008643501, 0.017937643, 0.0020080574, 0.009...      1\n",
       "29     [0.002103172, 0.012798355, 0.005229517, 0.0100...      3\n",
       "...                                                  ...    ...\n",
       "10209  [0.01613835, 0.00818707, 0.013487112, 0.014882...      5\n",
       "10210  [0.013856647, 0.012232211, 0.008868836, 0.0092...      5\n",
       "10211  [0.009250875, 0.02147652, 0.01585144, 0.016470...      2\n",
       "10212  [0.009489987, 0.001112179, 0.01489751, 0.01564...      0\n",
       "10213  [0.013563761, 0.014627915, 0.019405536, 0.0134...      1\n",
       "10214  [0.023179661, 0.015524225, 0.011630244, 0.0091...      0\n",
       "10215  [0.0031913908, 0.0067852307, 0.005780281, 0.00...      1\n",
       "10216  [0.0061206333, 0.023179661, 0.015524225, 0.004...      2\n",
       "10217  [0.0071594715, 0.017899485, 0.0101882955, 0.00...      1\n",
       "10218  [0.013008081, 0.01564333, 0.012476795, 0.00585...      2\n",
       "10219  [0.02147652, 0.0104503315, 0.015258888, 0.0056...      3\n",
       "10220  [0.01237563, 0.013303395, 0.008478532, 0.00921...      1\n",
       "10221  [0.015893167, 0.01657315, 0.01613835, 0.002056...      5\n",
       "10222  [0.02147652, 0.011074098, 0.010096126, 0.00911...      3\n",
       "10223  [0.016087897, 0.014813223, 0.0049231714, 0.005...      0\n",
       "10224  [0.01585144, 0.014387115, 0.01060509, 0.015410...      2\n",
       "10225  [0.000117027645, 0.00080415537, 0.0025673318, ...      3\n",
       "10226  [0.009768313, 0.0043938295, 0.006782457, 0.013...      4\n",
       "10227  [0.011689397, 0.00046141655, 0.0009080752, 0.0...      0\n",
       "10228  [0.005137683, 0.00025015656, 0.011592246, 0.00...      3\n",
       "10229  [0.009453586, 0.016282571, 0.0032418736, 0.004...      0\n",
       "10230  [0.013412957, 0.016087897, 0.00958713, 0.01513...      2\n",
       "10231  [0.0009985156, 0.015318326, 0.0031913908, 0.01...      2\n",
       "10232  [0.012384045, 0.0012457937, 0.018921262, 0.001...      4\n",
       "10233  [0.011808094, 0.009453586, 0.016282571, 0.0087...      2\n",
       "10234  [0.0038865535, 0.01489751, 0.0004626668, 0.013...      3\n",
       "10235  [0.017899485, 0.0082215695, 0.014387115, 0.008...      3\n",
       "10236  [0.02147652, 0.0013691853, 0.014184532, 0.0173...      2\n",
       "10237  [0.0017489974, 0.0014871508, 0.000825192, 0.01...      1\n",
       "10238  [0.0145733375, 0.009916876, 0.0023025537, 0.00...      4\n",
       "\n",
       "[10239 rows x 2 columns]"
      ]
     },
     "execution_count": 240,
     "metadata": {},
     "output_type": "execute_result"
    }
   ],
   "source": [
    "#df_train_statements['statement']=df_train_statements['statement'].map(document_vector)\n",
    "df_train_statements.drop(index=4497,inplace=True)\n",
    "df_train_statements.reset_index(drop=True)"
   ]
  },
  {
   "cell_type": "markdown",
   "metadata": {},
   "source": [
    "##### Making word vec to features"
   ]
  },
  {
   "cell_type": "code",
   "execution_count": 294,
   "metadata": {},
   "outputs": [],
   "source": [
    "texts=[]\n",
    "for x in df_train_statements['statement'].values:\n",
    "    texts.append(x)   \n",
    "X=pd.DataFrame(texts)\n",
    "X=X.fillna(0)\n",
    "y=df_train_statements[['label']]\n",
    "X_train,X_test,y_train,y_test=train_test_split(X, y,test_size = .2, random_state = 1)"
   ]
  },
  {
   "cell_type": "code",
   "execution_count": 295,
   "metadata": {},
   "outputs": [
    {
     "data": {
      "text/html": [
       "<div>\n",
       "<style scoped>\n",
       "    .dataframe tbody tr th:only-of-type {\n",
       "        vertical-align: middle;\n",
       "    }\n",
       "\n",
       "    .dataframe tbody tr th {\n",
       "        vertical-align: top;\n",
       "    }\n",
       "\n",
       "    .dataframe thead th {\n",
       "        text-align: right;\n",
       "    }\n",
       "</style>\n",
       "<table border=\"1\" class=\"dataframe\">\n",
       "  <thead>\n",
       "    <tr style=\"text-align: right;\">\n",
       "      <th></th>\n",
       "      <th>0</th>\n",
       "      <th>1</th>\n",
       "      <th>2</th>\n",
       "      <th>3</th>\n",
       "      <th>4</th>\n",
       "      <th>5</th>\n",
       "      <th>6</th>\n",
       "      <th>7</th>\n",
       "      <th>8</th>\n",
       "      <th>9</th>\n",
       "      <th>...</th>\n",
       "      <th>235</th>\n",
       "      <th>236</th>\n",
       "      <th>237</th>\n",
       "      <th>238</th>\n",
       "      <th>239</th>\n",
       "      <th>240</th>\n",
       "      <th>241</th>\n",
       "      <th>242</th>\n",
       "      <th>243</th>\n",
       "      <th>244</th>\n",
       "    </tr>\n",
       "  </thead>\n",
       "  <tbody>\n",
       "    <tr>\n",
       "      <th>8893</th>\n",
       "      <td>0.010241</td>\n",
       "      <td>0.002283</td>\n",
       "      <td>0.015626</td>\n",
       "      <td>0.001850</td>\n",
       "      <td>0.015703</td>\n",
       "      <td>0.014709</td>\n",
       "      <td>0.004864</td>\n",
       "      <td>0.014898</td>\n",
       "      <td>0.014709</td>\n",
       "      <td>0.004826</td>\n",
       "      <td>...</td>\n",
       "      <td>0.0</td>\n",
       "      <td>0.0</td>\n",
       "      <td>0.0</td>\n",
       "      <td>0.0</td>\n",
       "      <td>0.0</td>\n",
       "      <td>0.0</td>\n",
       "      <td>0.0</td>\n",
       "      <td>0.0</td>\n",
       "      <td>0.0</td>\n",
       "      <td>0.0</td>\n",
       "    </tr>\n",
       "    <tr>\n",
       "      <th>2933</th>\n",
       "      <td>0.003862</td>\n",
       "      <td>0.004453</td>\n",
       "      <td>0.016846</td>\n",
       "      <td>0.006044</td>\n",
       "      <td>0.004578</td>\n",
       "      <td>0.015857</td>\n",
       "      <td>0.000000</td>\n",
       "      <td>0.000000</td>\n",
       "      <td>0.000000</td>\n",
       "      <td>0.000000</td>\n",
       "      <td>...</td>\n",
       "      <td>0.0</td>\n",
       "      <td>0.0</td>\n",
       "      <td>0.0</td>\n",
       "      <td>0.0</td>\n",
       "      <td>0.0</td>\n",
       "      <td>0.0</td>\n",
       "      <td>0.0</td>\n",
       "      <td>0.0</td>\n",
       "      <td>0.0</td>\n",
       "      <td>0.0</td>\n",
       "    </tr>\n",
       "    <tr>\n",
       "      <th>3933</th>\n",
       "      <td>0.003095</td>\n",
       "      <td>0.012613</td>\n",
       "      <td>0.012403</td>\n",
       "      <td>0.016088</td>\n",
       "      <td>0.013847</td>\n",
       "      <td>0.013847</td>\n",
       "      <td>0.013847</td>\n",
       "      <td>0.009884</td>\n",
       "      <td>0.010262</td>\n",
       "      <td>0.013847</td>\n",
       "      <td>...</td>\n",
       "      <td>0.0</td>\n",
       "      <td>0.0</td>\n",
       "      <td>0.0</td>\n",
       "      <td>0.0</td>\n",
       "      <td>0.0</td>\n",
       "      <td>0.0</td>\n",
       "      <td>0.0</td>\n",
       "      <td>0.0</td>\n",
       "      <td>0.0</td>\n",
       "      <td>0.0</td>\n",
       "    </tr>\n",
       "    <tr>\n",
       "      <th>3406</th>\n",
       "      <td>0.020807</td>\n",
       "      <td>0.023180</td>\n",
       "      <td>0.018921</td>\n",
       "      <td>0.003745</td>\n",
       "      <td>0.012248</td>\n",
       "      <td>0.000000</td>\n",
       "      <td>0.000000</td>\n",
       "      <td>0.000000</td>\n",
       "      <td>0.000000</td>\n",
       "      <td>0.000000</td>\n",
       "      <td>...</td>\n",
       "      <td>0.0</td>\n",
       "      <td>0.0</td>\n",
       "      <td>0.0</td>\n",
       "      <td>0.0</td>\n",
       "      <td>0.0</td>\n",
       "      <td>0.0</td>\n",
       "      <td>0.0</td>\n",
       "      <td>0.0</td>\n",
       "      <td>0.0</td>\n",
       "      <td>0.0</td>\n",
       "    </tr>\n",
       "    <tr>\n",
       "      <th>7210</th>\n",
       "      <td>0.021477</td>\n",
       "      <td>0.017759</td>\n",
       "      <td>0.004826</td>\n",
       "      <td>0.006243</td>\n",
       "      <td>0.000844</td>\n",
       "      <td>0.001802</td>\n",
       "      <td>0.003392</td>\n",
       "      <td>0.005237</td>\n",
       "      <td>0.004764</td>\n",
       "      <td>0.009015</td>\n",
       "      <td>...</td>\n",
       "      <td>0.0</td>\n",
       "      <td>0.0</td>\n",
       "      <td>0.0</td>\n",
       "      <td>0.0</td>\n",
       "      <td>0.0</td>\n",
       "      <td>0.0</td>\n",
       "      <td>0.0</td>\n",
       "      <td>0.0</td>\n",
       "      <td>0.0</td>\n",
       "      <td>0.0</td>\n",
       "    </tr>\n",
       "  </tbody>\n",
       "</table>\n",
       "<p>5 rows × 245 columns</p>\n",
       "</div>"
      ],
      "text/plain": [
       "           0         1         2         3         4         5         6    \\\n",
       "8893  0.010241  0.002283  0.015626  0.001850  0.015703  0.014709  0.004864   \n",
       "2933  0.003862  0.004453  0.016846  0.006044  0.004578  0.015857  0.000000   \n",
       "3933  0.003095  0.012613  0.012403  0.016088  0.013847  0.013847  0.013847   \n",
       "3406  0.020807  0.023180  0.018921  0.003745  0.012248  0.000000  0.000000   \n",
       "7210  0.021477  0.017759  0.004826  0.006243  0.000844  0.001802  0.003392   \n",
       "\n",
       "           7         8         9   ...   235  236  237  238  239  240  241  \\\n",
       "8893  0.014898  0.014709  0.004826 ...   0.0  0.0  0.0  0.0  0.0  0.0  0.0   \n",
       "2933  0.000000  0.000000  0.000000 ...   0.0  0.0  0.0  0.0  0.0  0.0  0.0   \n",
       "3933  0.009884  0.010262  0.013847 ...   0.0  0.0  0.0  0.0  0.0  0.0  0.0   \n",
       "3406  0.000000  0.000000  0.000000 ...   0.0  0.0  0.0  0.0  0.0  0.0  0.0   \n",
       "7210  0.005237  0.004764  0.009015 ...   0.0  0.0  0.0  0.0  0.0  0.0  0.0   \n",
       "\n",
       "      242  243  244  \n",
       "8893  0.0  0.0  0.0  \n",
       "2933  0.0  0.0  0.0  \n",
       "3933  0.0  0.0  0.0  \n",
       "3406  0.0  0.0  0.0  \n",
       "7210  0.0  0.0  0.0  \n",
       "\n",
       "[5 rows x 245 columns]"
      ]
     },
     "execution_count": 295,
     "metadata": {},
     "output_type": "execute_result"
    }
   ],
   "source": [
    "X_train.head()"
   ]
  },
  {
   "cell_type": "code",
   "execution_count": 296,
   "metadata": {},
   "outputs": [],
   "source": [
    "from sklearn.linear_model import LogisticRegression\n",
    "logisticRegr = LogisticRegression()\n",
    "logisticRegr.fit(X_train, y_train)\n",
    "lr_pred = logisticRegr.predict(X_test)"
   ]
  },
  {
   "cell_type": "code",
   "execution_count": 297,
   "metadata": {},
   "outputs": [
    {
     "name": "stdout",
     "output_type": "stream",
     "text": [
      "[[  0  15 277   0   0   0]\n",
      " [  0  48 360   0   0   0]\n",
      " [  0  19 421   0   0   0]\n",
      " [  0  19 401   0   0   0]\n",
      " [  0  12 155   0   0   0]\n",
      " [  0  20 301   0   0   0]]\n"
     ]
    }
   ],
   "source": [
    "from sklearn import metrics\n",
    "# Lets print the confusion matrix\n",
    "print(metrics.confusion_matrix(y_test,lr_pred))"
   ]
  },
  {
   "cell_type": "code",
   "execution_count": 298,
   "metadata": {},
   "outputs": [
    {
     "name": "stdout",
     "output_type": "stream",
     "text": [
      "             precision    recall  f1-score   support\n",
      "\n",
      "          0       0.00      0.00      0.00       292\n",
      "          1       0.36      0.12      0.18       408\n",
      "          2       0.22      0.96      0.36       440\n",
      "          3       0.00      0.00      0.00       420\n",
      "          4       0.00      0.00      0.00       167\n",
      "          5       0.00      0.00      0.00       321\n",
      "\n",
      "avg / total       0.12      0.23      0.11      2048\n",
      "\n"
     ]
    }
   ],
   "source": [
    "print(metrics.classification_report(y_test,lr_pred))"
   ]
  },
  {
   "cell_type": "code",
   "execution_count": 299,
   "metadata": {},
   "outputs": [],
   "source": [
    "from sklearn.ensemble import RandomForestClassifier\n",
    "# Lets try with 100 trees\n",
    "num_trees=100\n",
    "rf=RandomForestClassifier(n_estimators=num_trees)\n",
    "rf.fit(X_train, y_train)\n",
    "rf_pred=rf.predict(X_test)"
   ]
  },
  {
   "cell_type": "code",
   "execution_count": 300,
   "metadata": {},
   "outputs": [
    {
     "name": "stdout",
     "output_type": "stream",
     "text": [
      "[[  0  15 277   0   0   0]\n",
      " [  0  48 360   0   0   0]\n",
      " [  0  19 421   0   0   0]\n",
      " [  0  19 401   0   0   0]\n",
      " [  0  12 155   0   0   0]\n",
      " [  0  20 301   0   0   0]]\n"
     ]
    }
   ],
   "source": [
    "print(metrics.confusion_matrix(y_test,lr_pred))"
   ]
  },
  {
   "cell_type": "code",
   "execution_count": 301,
   "metadata": {},
   "outputs": [
    {
     "name": "stdout",
     "output_type": "stream",
     "text": [
      "             precision    recall  f1-score   support\n",
      "\n",
      "          0       0.00      0.00      0.00       292\n",
      "          1       0.36      0.12      0.18       408\n",
      "          2       0.22      0.96      0.36       440\n",
      "          3       0.00      0.00      0.00       420\n",
      "          4       0.00      0.00      0.00       167\n",
      "          5       0.00      0.00      0.00       321\n",
      "\n",
      "avg / total       0.12      0.23      0.11      2048\n",
      "\n"
     ]
    }
   ],
   "source": [
    "print(metrics.classification_report(y_test,lr_pred))"
   ]
  },
  {
   "cell_type": "markdown",
   "metadata": {},
   "source": [
    "## Doc2Vec"
   ]
  },
  {
   "cell_type": "code",
   "execution_count": 302,
   "metadata": {},
   "outputs": [],
   "source": [
    "from gensim.models.doc2vec import Doc2Vec"
   ]
  },
  {
   "cell_type": "code",
   "execution_count": 303,
   "metadata": {},
   "outputs": [],
   "source": [
    "df_train_statements_d2v=df_train[['statement','label']]"
   ]
  },
  {
   "cell_type": "code",
   "execution_count": 304,
   "metadata": {},
   "outputs": [
    {
     "name": "stdout",
     "output_type": "stream",
     "text": [
      "Model Saved\n"
     ]
    }
   ],
   "source": [
    "max_epochs = 100\n",
    "vec_size = 20\n",
    "alpha = 0.025\n",
    "\n",
    "model = Doc2Vec(size=vec_size,\n",
    "                alpha=alpha, \n",
    "                min_alpha=0.00025,\n",
    "                min_count=1,\n",
    "                dm =1)\n",
    "  \n",
    "model.build_vocab(tagged_data)\n",
    "\n",
    "for epoch in range(max_epochs):\n",
    "    #print('iteration {0}'.format(epoch))\n",
    "    model.train(tagged_data,\n",
    "                total_examples=model.corpus_count,\n",
    "                epochs=model.iter)\n",
    "    # decrease the learning rate\n",
    "    model.alpha -= 0.0002\n",
    "    # fix the learning rate, no decay\n",
    "    model.min_alpha = model.alpha\n",
    "    \n",
    "model.save(\"d2v.model\")\n",
    "print(\"Model Saved\")    "
   ]
  },
  {
   "cell_type": "code",
   "execution_count": 305,
   "metadata": {},
   "outputs": [],
   "source": [
    "model= Doc2Vec.load(\"d2v.model\")\n",
    "texts=[]\n",
    "for x in df_train_statements_d2v['statement']:\n",
    "    texts.append(model.infer_vector(x))"
   ]
  },
  {
   "cell_type": "code",
   "execution_count": 306,
   "metadata": {},
   "outputs": [],
   "source": [
    "X=pd.DataFrame(texts)\n",
    "y=df_train_statements_d2v[['label']]\n",
    "X_train,X_test,y_train,y_test=train_test_split(X, y,test_size = .3, random_state = 1)"
   ]
  },
  {
   "cell_type": "code",
   "execution_count": 307,
   "metadata": {},
   "outputs": [
    {
     "data": {
      "text/html": [
       "<div>\n",
       "<style scoped>\n",
       "    .dataframe tbody tr th:only-of-type {\n",
       "        vertical-align: middle;\n",
       "    }\n",
       "\n",
       "    .dataframe tbody tr th {\n",
       "        vertical-align: top;\n",
       "    }\n",
       "\n",
       "    .dataframe thead th {\n",
       "        text-align: right;\n",
       "    }\n",
       "</style>\n",
       "<table border=\"1\" class=\"dataframe\">\n",
       "  <thead>\n",
       "    <tr style=\"text-align: right;\">\n",
       "      <th></th>\n",
       "      <th>0</th>\n",
       "      <th>1</th>\n",
       "      <th>2</th>\n",
       "      <th>3</th>\n",
       "      <th>4</th>\n",
       "      <th>5</th>\n",
       "      <th>6</th>\n",
       "      <th>7</th>\n",
       "      <th>8</th>\n",
       "      <th>9</th>\n",
       "      <th>10</th>\n",
       "      <th>11</th>\n",
       "      <th>12</th>\n",
       "      <th>13</th>\n",
       "      <th>14</th>\n",
       "      <th>15</th>\n",
       "      <th>16</th>\n",
       "      <th>17</th>\n",
       "      <th>18</th>\n",
       "      <th>19</th>\n",
       "    </tr>\n",
       "  </thead>\n",
       "  <tbody>\n",
       "    <tr>\n",
       "      <th>3474</th>\n",
       "      <td>0.083968</td>\n",
       "      <td>-0.531594</td>\n",
       "      <td>0.180343</td>\n",
       "      <td>0.017483</td>\n",
       "      <td>-0.120289</td>\n",
       "      <td>-0.007099</td>\n",
       "      <td>-0.302352</td>\n",
       "      <td>-0.075125</td>\n",
       "      <td>0.099965</td>\n",
       "      <td>-0.205148</td>\n",
       "      <td>0.370238</td>\n",
       "      <td>-0.303034</td>\n",
       "      <td>-0.256939</td>\n",
       "      <td>0.414329</td>\n",
       "      <td>-0.019146</td>\n",
       "      <td>0.083888</td>\n",
       "      <td>-0.139613</td>\n",
       "      <td>-0.061805</td>\n",
       "      <td>0.499423</td>\n",
       "      <td>0.014033</td>\n",
       "    </tr>\n",
       "    <tr>\n",
       "      <th>6202</th>\n",
       "      <td>0.002999</td>\n",
       "      <td>-0.034297</td>\n",
       "      <td>0.122085</td>\n",
       "      <td>0.024168</td>\n",
       "      <td>-0.150198</td>\n",
       "      <td>0.101974</td>\n",
       "      <td>-0.036981</td>\n",
       "      <td>0.011690</td>\n",
       "      <td>-0.008595</td>\n",
       "      <td>-0.083968</td>\n",
       "      <td>0.024001</td>\n",
       "      <td>-0.127673</td>\n",
       "      <td>-0.028541</td>\n",
       "      <td>0.140843</td>\n",
       "      <td>0.016252</td>\n",
       "      <td>0.192103</td>\n",
       "      <td>0.004846</td>\n",
       "      <td>-0.142064</td>\n",
       "      <td>0.142189</td>\n",
       "      <td>0.063541</td>\n",
       "    </tr>\n",
       "    <tr>\n",
       "      <th>5868</th>\n",
       "      <td>-0.025440</td>\n",
       "      <td>-0.366266</td>\n",
       "      <td>0.125167</td>\n",
       "      <td>0.144348</td>\n",
       "      <td>-0.194463</td>\n",
       "      <td>-0.205070</td>\n",
       "      <td>-0.451477</td>\n",
       "      <td>0.001716</td>\n",
       "      <td>0.157279</td>\n",
       "      <td>-0.114668</td>\n",
       "      <td>0.058069</td>\n",
       "      <td>-0.141340</td>\n",
       "      <td>-0.482681</td>\n",
       "      <td>0.266665</td>\n",
       "      <td>-0.024102</td>\n",
       "      <td>0.409540</td>\n",
       "      <td>0.014710</td>\n",
       "      <td>-0.068384</td>\n",
       "      <td>0.314432</td>\n",
       "      <td>0.090815</td>\n",
       "    </tr>\n",
       "    <tr>\n",
       "      <th>7357</th>\n",
       "      <td>0.046252</td>\n",
       "      <td>-0.218865</td>\n",
       "      <td>-0.010575</td>\n",
       "      <td>-0.011373</td>\n",
       "      <td>-0.060172</td>\n",
       "      <td>0.016798</td>\n",
       "      <td>-0.103773</td>\n",
       "      <td>0.070848</td>\n",
       "      <td>-0.027140</td>\n",
       "      <td>-0.034879</td>\n",
       "      <td>0.112610</td>\n",
       "      <td>-0.114929</td>\n",
       "      <td>-0.062305</td>\n",
       "      <td>0.218258</td>\n",
       "      <td>0.086055</td>\n",
       "      <td>0.130121</td>\n",
       "      <td>-0.030523</td>\n",
       "      <td>0.042633</td>\n",
       "      <td>0.161042</td>\n",
       "      <td>0.014270</td>\n",
       "    </tr>\n",
       "    <tr>\n",
       "      <th>9514</th>\n",
       "      <td>-0.001314</td>\n",
       "      <td>-0.146022</td>\n",
       "      <td>0.021928</td>\n",
       "      <td>0.139875</td>\n",
       "      <td>-0.095602</td>\n",
       "      <td>-0.073526</td>\n",
       "      <td>-0.035014</td>\n",
       "      <td>0.084569</td>\n",
       "      <td>0.050127</td>\n",
       "      <td>-0.021769</td>\n",
       "      <td>0.053652</td>\n",
       "      <td>-0.008066</td>\n",
       "      <td>-0.083450</td>\n",
       "      <td>0.190402</td>\n",
       "      <td>0.008578</td>\n",
       "      <td>0.135356</td>\n",
       "      <td>0.079776</td>\n",
       "      <td>-0.073167</td>\n",
       "      <td>0.129524</td>\n",
       "      <td>-0.052075</td>\n",
       "    </tr>\n",
       "  </tbody>\n",
       "</table>\n",
       "</div>"
      ],
      "text/plain": [
       "            0         1         2         3         4         5         6   \\\n",
       "3474  0.083968 -0.531594  0.180343  0.017483 -0.120289 -0.007099 -0.302352   \n",
       "6202  0.002999 -0.034297  0.122085  0.024168 -0.150198  0.101974 -0.036981   \n",
       "5868 -0.025440 -0.366266  0.125167  0.144348 -0.194463 -0.205070 -0.451477   \n",
       "7357  0.046252 -0.218865 -0.010575 -0.011373 -0.060172  0.016798 -0.103773   \n",
       "9514 -0.001314 -0.146022  0.021928  0.139875 -0.095602 -0.073526 -0.035014   \n",
       "\n",
       "            7         8         9         10        11        12        13  \\\n",
       "3474 -0.075125  0.099965 -0.205148  0.370238 -0.303034 -0.256939  0.414329   \n",
       "6202  0.011690 -0.008595 -0.083968  0.024001 -0.127673 -0.028541  0.140843   \n",
       "5868  0.001716  0.157279 -0.114668  0.058069 -0.141340 -0.482681  0.266665   \n",
       "7357  0.070848 -0.027140 -0.034879  0.112610 -0.114929 -0.062305  0.218258   \n",
       "9514  0.084569  0.050127 -0.021769  0.053652 -0.008066 -0.083450  0.190402   \n",
       "\n",
       "            14        15        16        17        18        19  \n",
       "3474 -0.019146  0.083888 -0.139613 -0.061805  0.499423  0.014033  \n",
       "6202  0.016252  0.192103  0.004846 -0.142064  0.142189  0.063541  \n",
       "5868 -0.024102  0.409540  0.014710 -0.068384  0.314432  0.090815  \n",
       "7357  0.086055  0.130121 -0.030523  0.042633  0.161042  0.014270  \n",
       "9514  0.008578  0.135356  0.079776 -0.073167  0.129524 -0.052075  "
      ]
     },
     "execution_count": 307,
     "metadata": {},
     "output_type": "execute_result"
    }
   ],
   "source": [
    "X_train.head()"
   ]
  },
  {
   "cell_type": "code",
   "execution_count": 308,
   "metadata": {},
   "outputs": [],
   "source": [
    "from sklearn.linear_model import LogisticRegression\n",
    "logisticRegr = LogisticRegression(C=100)\n",
    "logisticRegr.fit(X_train, y_train)\n",
    "lr_pred = logisticRegr.predict(X_test)"
   ]
  },
  {
   "cell_type": "code",
   "execution_count": 309,
   "metadata": {},
   "outputs": [
    {
     "name": "stdout",
     "output_type": "stream",
     "text": [
      "[[ 41 160 171  84   0  11]\n",
      " [ 53 229 201 114   0  15]\n",
      " [ 51 216 227 133   0  22]\n",
      " [ 43 186 219 120   0  18]\n",
      " [ 20 102  74  52   0   4]\n",
      " [ 31 177 163 108   0  27]]\n"
     ]
    }
   ],
   "source": [
    "print(metrics.confusion_matrix(y_test,lr_pred))"
   ]
  },
  {
   "cell_type": "code",
   "execution_count": 310,
   "metadata": {},
   "outputs": [
    {
     "name": "stdout",
     "output_type": "stream",
     "text": [
      "             precision    recall  f1-score   support\n",
      "\n",
      "barely-true       0.17      0.09      0.12       467\n",
      "      false       0.21      0.37      0.27       612\n",
      "  half-true       0.22      0.35      0.27       649\n",
      "mostly-true       0.20      0.20      0.20       586\n",
      " pants-fire       0.00      0.00      0.00       252\n",
      "       true       0.28      0.05      0.09       506\n",
      "\n",
      "avg / total       0.20      0.21      0.18      3072\n",
      "\n"
     ]
    }
   ],
   "source": [
    "print(metrics.classification_report(y_test,lr_pred))"
   ]
  },
  {
   "cell_type": "code",
   "execution_count": 311,
   "metadata": {},
   "outputs": [],
   "source": [
    "from sklearn.ensemble import RandomForestClassifier\n",
    "# Lets try with 100 trees\n",
    "num_trees=100\n",
    "rf=RandomForestClassifier(n_estimators=num_trees)\n",
    "rf.fit(X_train, y_train)\n",
    "rf_pred=rf.predict(X_test)"
   ]
  },
  {
   "cell_type": "code",
   "execution_count": 312,
   "metadata": {},
   "outputs": [
    {
     "name": "stdout",
     "output_type": "stream",
     "text": [
      "[[ 41 160 171  84   0  11]\n",
      " [ 53 229 201 114   0  15]\n",
      " [ 51 216 227 133   0  22]\n",
      " [ 43 186 219 120   0  18]\n",
      " [ 20 102  74  52   0   4]\n",
      " [ 31 177 163 108   0  27]]\n"
     ]
    }
   ],
   "source": [
    "print(metrics.confusion_matrix(y_test,lr_pred))"
   ]
  },
  {
   "cell_type": "code",
   "execution_count": 313,
   "metadata": {},
   "outputs": [
    {
     "name": "stdout",
     "output_type": "stream",
     "text": [
      "             precision    recall  f1-score   support\n",
      "\n",
      "barely-true       0.17      0.09      0.12       467\n",
      "      false       0.21      0.37      0.27       612\n",
      "  half-true       0.22      0.35      0.27       649\n",
      "mostly-true       0.20      0.20      0.20       586\n",
      " pants-fire       0.00      0.00      0.00       252\n",
      "       true       0.28      0.05      0.09       506\n",
      "\n",
      "avg / total       0.20      0.21      0.18      3072\n",
      "\n"
     ]
    }
   ],
   "source": [
    "print(metrics.classification_report(y_test,lr_pred))"
   ]
  },
  {
   "cell_type": "code",
   "execution_count": 314,
   "metadata": {},
   "outputs": [
    {
     "name": "stdout",
     "output_type": "stream",
     "text": [
      "[('6308', 0.7719188928604126), ('8821', 0.7655586004257202), ('339', 0.7623473405838013), ('2625', 0.7616970539093018), ('911', 0.7539138793945312), ('7769', 0.7491874694824219), ('3900', 0.7393301725387573), ('694', 0.7391294240951538), ('9047', 0.7361084818840027), ('3693', 0.7293884754180908)]\n"
     ]
    }
   ],
   "source": [
    "similar_doc = model.docvecs.most_similar('1')\n",
    "print(similar_doc)"
   ]
  },
  {
   "cell_type": "markdown",
   "metadata": {},
   "source": [
    "### K-means for vectorized docs"
   ]
  },
  {
   "cell_type": "code",
   "execution_count": 316,
   "metadata": {},
   "outputs": [],
   "source": [
    "from nltk.cluster import KMeansClusterer"
   ]
  },
  {
   "cell_type": "code",
   "execution_count": 317,
   "metadata": {},
   "outputs": [
    {
     "data": {
      "text/plain": [
       "4"
      ]
     },
     "execution_count": 317,
     "metadata": {},
     "output_type": "execute_result"
    }
   ],
   "source": [
    "#Taking a very long time\n",
    "kclusterer = KMeansClusterer(5, distance=nltk.cluster.util.cosine_distance, repeats=5)\n",
    "assigned_clusters = kclusterer.cluster(texts, assign_clusters=True)\n",
    "assigned_clusters[0]"
   ]
  },
  {
   "cell_type": "code",
   "execution_count": 1105,
   "metadata": {},
   "outputs": [
    {
     "name": "stdout",
     "output_type": "stream",
     "text": [
      "[ 0.14927846 -1.1621119  -0.9016655  -0.09167448 -0.43202588 -0.38233116\n",
      "  0.11902588 -0.24962123  0.80018884 -0.37761986 -1.2990891  -1.5778913\n",
      " -0.0123128  -0.65936774  0.76382226  1.6621412   0.89860374  0.6922449\n",
      "  2.2779279   0.04066165] 3\n"
     ]
    }
   ],
   "source": [
    "#for i, word in enumerate(texts):  \n",
    "#    print (texts[i] , assigned_clusters[i])\n",
    "print (texts[1] , assigned_clusters[1])"
   ]
  },
  {
   "cell_type": "code",
   "execution_count": 318,
   "metadata": {},
   "outputs": [],
   "source": [
    "from sklearn.cluster import KMeans as km\n",
    "import matplotlib.pyplot as plt\n",
    "def kmeans_plot(k):\n",
    "    kmeans=km(n_clusters=k,random_state=0).fit(texts)\n",
    "    labels=kmeans.labels_\n",
    "    centroids=kmeans.cluster_centers_    \n",
    "    colors = ['r','g','b','y','c','m','r','g','b','y','c','m','r','g','b','y','c','m']\n",
    "    fig, ax=plt.subplots()\n",
    "    \n",
    "    for i in range(k):\n",
    "        points=np.array([texts[j] for j in range(len(texts)) if labels[j]==i])\n",
    "        ax.scatter(points[:,0],points[:,1],s=7,c=colors[i])\n",
    "    ax.scatter(centroids[:,0],centroids[:,1],marker='*',s=200,c='#050505')     \n",
    "kmeans_plot(5)    "
   ]
  },
  {
   "cell_type": "markdown",
   "metadata": {},
   "source": [
    "## LDA Topic Modelling to see if we can find any topic"
   ]
  },
  {
   "cell_type": "code",
   "execution_count": 332,
   "metadata": {},
   "outputs": [],
   "source": [
    "from gensim import corpora, models"
   ]
  },
  {
   "cell_type": "code",
   "execution_count": 333,
   "metadata": {},
   "outputs": [],
   "source": [
    "texts=df_train['statement']"
   ]
  },
  {
   "cell_type": "code",
   "execution_count": 334,
   "metadata": {},
   "outputs": [],
   "source": [
    "dictionary = corpora.Dictionary(texts)"
   ]
  },
  {
   "cell_type": "code",
   "execution_count": 335,
   "metadata": {},
   "outputs": [],
   "source": [
    "corpus = [dictionary.doc2bow(text) for text in texts]"
   ]
  },
  {
   "cell_type": "code",
   "execution_count": 336,
   "metadata": {},
   "outputs": [],
   "source": [
    "ldamodel = gensim.models.ldamodel.LdaModel(corpus, num_topics=7, id2word = dictionary, passes=20)"
   ]
  },
  {
   "cell_type": "code",
   "execution_count": 337,
   "metadata": {},
   "outputs": [
    {
     "name": "stdout",
     "output_type": "stream",
     "text": [
      "Topic: 0 \n",
      "Words: 0.023*\"democrat\" + 0.020*\"say\" + 0.018*\"republican\" + 0.018*\"vote\" + 0.014*\"secur\" + 0.014*\"parti\" + 0.013*\"hous\" + 0.013*\"senat\" + 0.012*\"voter\" + 0.011*\"percent\"\n",
      "Topic: 1 \n",
      "Words: 0.017*\"school\" + 0.017*\"say\" + 0.015*\"student\" + 0.013*\"vote\" + 0.012*\"colleg\" + 0.010*\"public\" + 0.009*\"war\" + 0.009*\"day\" + 0.008*\"show\" + 0.008*\"go\"\n",
      "Topic: 2 \n",
      "Words: 0.047*\"job\" + 0.015*\"creat\" + 0.012*\"say\" + 0.012*\"lost\" + 0.011*\"year\" + 0.011*\"wisconsin\" + 0.010*\"million\" + 0.009*\"state\" + 0.008*\"sinc\" + 0.008*\"new\"\n",
      "Topic: 3 \n",
      "Words: 0.044*\"say\" + 0.041*\"obama\" + 0.032*\"presid\" + 0.017*\"barack\" + 0.012*\"clinton\" + 0.011*\"immigr\" + 0.011*\"trump\" + 0.010*\"bush\" + 0.010*\"illeg\" + 0.009*\"said\"\n",
      "Topic: 4 \n",
      "Words: 0.035*\"state\" + 0.030*\"year\" + 0.017*\"percent\" + 0.016*\"unit\" + 0.015*\"peopl\" + 0.014*\"everi\" + 0.013*\"countri\" + 0.011*\"last\" + 0.009*\"one\" + 0.009*\"american\"\n",
      "Topic: 5 \n",
      "Words: 0.050*\"tax\" + 0.032*\"percent\" + 0.027*\"say\" + 0.020*\"cut\" + 0.018*\"state\" + 0.016*\"billion\" + 0.015*\"rate\" + 0.014*\"budget\" + 0.014*\"pay\" + 0.014*\"increas\"\n",
      "Topic: 6 \n",
      "Words: 0.037*\"health\" + 0.033*\"care\" + 0.023*\"say\" + 0.018*\"law\" + 0.015*\"insur\" + 0.014*\"romney\" + 0.013*\"obamacar\" + 0.012*\"would\" + 0.010*\"mitt\" + 0.010*\"bill\"\n"
     ]
    }
   ],
   "source": [
    "for idx, topic in ldamodel.print_topics(-1):\n",
    "    print('Topic: {} \\nWords: {}'.format(idx, topic))"
   ]
  },
  {
   "cell_type": "markdown",
   "metadata": {},
   "source": [
    "### Topics Seems like are all related to Politics, broadly followings:\n",
    "- Tax Cut\n",
    "- Health Care\n",
    "- Immigration and Tax Policies\n",
    "- 2016 Presidential Campaigns"
   ]
  },
  {
   "cell_type": "markdown",
   "metadata": {},
   "source": [
    "## Factor Political Affiliation"
   ]
  },
  {
   "cell_type": "code",
   "execution_count": 112,
   "metadata": {},
   "outputs": [],
   "source": [
    "vocab_political_affiliation=['president','george','bushs','administration','republican','democrats','barack','obama','hillary','clinton','donald','trump','senate','house']\n",
    "#vocab_political_affiliation=['president','george','bushs','administration']"
   ]
  },
  {
   "cell_type": "code",
   "execution_count": 113,
   "metadata": {},
   "outputs": [],
   "source": [
    "l_statments=df_lair['statement'].str.lower().values.tolist()"
   ]
  },
  {
   "cell_type": "code",
   "execution_count": 114,
   "metadata": {},
   "outputs": [],
   "source": [
    "from sklearn.feature_extraction.text import TfidfVectorizer\n",
    "vectorizer = TfidfVectorizer(vocabulary=vocab_political_affiliation)\n",
    "#vectorizer = TfidfVectorizer()\n",
    "tfidf_matrix = vectorizer.fit_transform(l_statments)\n",
    "feature_names = vectorizer.get_feature_names()"
   ]
  },
  {
   "cell_type": "code",
   "execution_count": 115,
   "metadata": {},
   "outputs": [
    {
     "data": {
      "text/plain": [
       "10240"
      ]
     },
     "execution_count": 115,
     "metadata": {},
     "output_type": "execute_result"
    }
   ],
   "source": [
    "len(tfidf_matrix.toarray())"
   ]
  },
  {
   "cell_type": "code",
   "execution_count": 338,
   "metadata": {},
   "outputs": [
    {
     "data": {
      "text/plain": [
       "array([[0.45341211, 0.6517705 , 0.50286013, 0.34167875, 0.        ,\n",
       "        0.        , 0.        , 0.        , 0.        , 0.        ,\n",
       "        0.        , 0.        , 0.        , 0.        ],\n",
       "       [0.        , 0.        , 0.50286013, 0.        , 0.        ,\n",
       "        0.        , 0.        , 0.        , 0.        , 0.        ,\n",
       "        0.        , 0.        , 0.        , 0.        ],\n",
       "       [0.        , 0.45341211, 0.        , 0.        , 0.        ,\n",
       "        0.        , 0.        , 0.        , 0.        , 0.        ,\n",
       "        0.        , 0.        , 0.        , 0.        ],\n",
       "       [0.        , 0.50286013, 0.34167875, 0.        , 0.        ,\n",
       "        0.        , 0.        , 0.        , 0.        , 0.        ,\n",
       "        0.        , 0.        , 0.        , 0.        ],\n",
       "       [0.        , 0.        , 0.34167875, 0.        , 0.        ,\n",
       "        0.        , 0.        , 0.        , 0.        , 0.        ,\n",
       "        0.        , 0.        , 0.        , 0.        ],\n",
       "       [0.34167875, 0.        , 0.        , 0.        , 0.        ,\n",
       "        0.        , 0.        , 0.        , 0.        , 0.        ,\n",
       "        0.        , 0.        , 0.        , 0.        ],\n",
       "       [0.45341211, 0.        , 0.        , 0.        , 0.        ,\n",
       "        0.        , 0.        , 0.        , 0.        , 0.        ,\n",
       "        0.        , 0.        , 0.        , 0.        ],\n",
       "       [0.        , 0.34167875, 0.        , 0.        , 0.        ,\n",
       "        0.        , 0.        , 0.        , 0.        , 0.        ,\n",
       "        0.        , 0.        , 0.        , 0.        ],\n",
       "       [0.34167875, 0.        , 0.        , 0.        , 0.        ,\n",
       "        0.        , 0.        , 0.        , 0.        , 0.        ,\n",
       "        0.        , 0.        , 0.        , 0.        ],\n",
       "       [0.        , 0.34167875, 0.        , 0.        , 0.        ,\n",
       "        0.        , 0.        , 0.        , 0.        , 0.        ,\n",
       "        0.        , 0.        , 0.        , 0.        ]])"
      ]
     },
     "execution_count": 338,
     "metadata": {},
     "output_type": "execute_result"
    }
   ],
   "source": [
    "tf_idf_vals=[]\n",
    "for i in range(len(tfidf_matrix.toarray())):\n",
    "    tf_idf_doc=np.zeros(len(vocab_political_affiliation))\n",
    "    feature_index = tfidf_matrix[i,:].nonzero()[1]\n",
    "    tfidf_scores = zip(feature_index, [tfidf_matrix[doc, x] for x in feature_index])\n",
    "    count=0\n",
    "    for w, s in [(feature_names[i], s) for (i, s) in tfidf_scores]:\n",
    "        if (w in vocab_political_affiliation):\n",
    "            tf_idf_doc[count]=s\n",
    "            count+=1\n",
    "    tf_idf_vals.append(tf_idf_doc.tolist())   \n",
    "tf_idf_vals=np.array(tf_idf_vals)\n",
    "tf_idf_vals=tf_idf_vals[~(tf_idf_vals==0).all(1)]\n",
    "tf_idf_vals[0:10]\n",
    "#tf_idf_vals[np.all(tf_idf_vals == 0,axis=1)]"
   ]
  },
  {
   "cell_type": "markdown",
   "metadata": {},
   "source": [
    "## Conclusion: Document with higher tf-idf has higher political affilication"
   ]
  }
 ],
 "metadata": {
  "kernelspec": {
   "display_name": "Python 3",
   "language": "python",
   "name": "python3"
  },
  "language_info": {
   "codemirror_mode": {
    "name": "ipython",
    "version": 3
   },
   "file_extension": ".py",
   "mimetype": "text/x-python",
   "name": "python",
   "nbconvert_exporter": "python",
   "pygments_lexer": "ipython3",
   "version": "3.6.5"
  }
 },
 "nbformat": 4,
 "nbformat_minor": 2
}

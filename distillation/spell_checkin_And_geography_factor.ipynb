{
 "cells": [
  {
   "cell_type": "markdown",
   "metadata": {},
   "source": [
    "## It has code for 2 factors\n",
    "- Spell Checking - More spelling error means mostly writeen by un-professionals and may be a fake news\n",
    "- Political Affiliation - I initially thought of geography , but could not apply that to dataset"
   ]
  },
  {
   "cell_type": "code",
   "execution_count": 8,
   "metadata": {},
   "outputs": [],
   "source": [
    "import numpy as np\n",
    "import pandas as pd"
   ]
  },
  {
   "cell_type": "code",
   "execution_count": 9,
   "metadata": {},
   "outputs": [
    {
     "data": {
      "text/html": [
       "<div>\n",
       "<style scoped>\n",
       "    .dataframe tbody tr th:only-of-type {\n",
       "        vertical-align: middle;\n",
       "    }\n",
       "\n",
       "    .dataframe tbody tr th {\n",
       "        vertical-align: top;\n",
       "    }\n",
       "\n",
       "    .dataframe thead th {\n",
       "        text-align: right;\n",
       "    }\n",
       "</style>\n",
       "<table border=\"1\" class=\"dataframe\">\n",
       "  <thead>\n",
       "    <tr style=\"text-align: right;\">\n",
       "      <th></th>\n",
       "      <th>id</th>\n",
       "      <th>label</th>\n",
       "      <th>statement</th>\n",
       "      <th>subject</th>\n",
       "      <th>speaker</th>\n",
       "      <th>speaker_job</th>\n",
       "      <th>state</th>\n",
       "      <th>party_affiliation</th>\n",
       "      <th>barely_true_count</th>\n",
       "      <th>false_Count</th>\n",
       "      <th>half_true_count</th>\n",
       "      <th>mostly_true_count</th>\n",
       "      <th>pants_on_fire_count</th>\n",
       "      <th>venue_speach</th>\n",
       "    </tr>\n",
       "  </thead>\n",
       "  <tbody>\n",
       "    <tr>\n",
       "      <th>0</th>\n",
       "      <td>2635.json</td>\n",
       "      <td>false</td>\n",
       "      <td>Says the Annies List political group supports ...</td>\n",
       "      <td>abortion</td>\n",
       "      <td>dwayne-bohac</td>\n",
       "      <td>State representative</td>\n",
       "      <td>Texas</td>\n",
       "      <td>republican</td>\n",
       "      <td>0.0</td>\n",
       "      <td>1.0</td>\n",
       "      <td>0.0</td>\n",
       "      <td>0.0</td>\n",
       "      <td>0.0</td>\n",
       "      <td>a mailer</td>\n",
       "    </tr>\n",
       "    <tr>\n",
       "      <th>1</th>\n",
       "      <td>10540.json</td>\n",
       "      <td>half-true</td>\n",
       "      <td>When did the decline of coal start? It started...</td>\n",
       "      <td>energy,history,job-accomplishments</td>\n",
       "      <td>scott-surovell</td>\n",
       "      <td>State delegate</td>\n",
       "      <td>Virginia</td>\n",
       "      <td>democrat</td>\n",
       "      <td>0.0</td>\n",
       "      <td>0.0</td>\n",
       "      <td>1.0</td>\n",
       "      <td>1.0</td>\n",
       "      <td>0.0</td>\n",
       "      <td>a floor speech.</td>\n",
       "    </tr>\n",
       "    <tr>\n",
       "      <th>2</th>\n",
       "      <td>324.json</td>\n",
       "      <td>mostly-true</td>\n",
       "      <td>Hillary Clinton agrees with John McCain \"by vo...</td>\n",
       "      <td>foreign-policy</td>\n",
       "      <td>barack-obama</td>\n",
       "      <td>President</td>\n",
       "      <td>Illinois</td>\n",
       "      <td>democrat</td>\n",
       "      <td>70.0</td>\n",
       "      <td>71.0</td>\n",
       "      <td>160.0</td>\n",
       "      <td>163.0</td>\n",
       "      <td>9.0</td>\n",
       "      <td>Denver</td>\n",
       "    </tr>\n",
       "    <tr>\n",
       "      <th>3</th>\n",
       "      <td>1123.json</td>\n",
       "      <td>false</td>\n",
       "      <td>Health care reform legislation is likely to ma...</td>\n",
       "      <td>health-care</td>\n",
       "      <td>blog-posting</td>\n",
       "      <td>NaN</td>\n",
       "      <td>NaN</td>\n",
       "      <td>none</td>\n",
       "      <td>7.0</td>\n",
       "      <td>19.0</td>\n",
       "      <td>3.0</td>\n",
       "      <td>5.0</td>\n",
       "      <td>44.0</td>\n",
       "      <td>a news release</td>\n",
       "    </tr>\n",
       "    <tr>\n",
       "      <th>4</th>\n",
       "      <td>9028.json</td>\n",
       "      <td>half-true</td>\n",
       "      <td>The economic turnaround started at the end of ...</td>\n",
       "      <td>economy,jobs</td>\n",
       "      <td>charlie-crist</td>\n",
       "      <td>NaN</td>\n",
       "      <td>Florida</td>\n",
       "      <td>democrat</td>\n",
       "      <td>15.0</td>\n",
       "      <td>9.0</td>\n",
       "      <td>20.0</td>\n",
       "      <td>19.0</td>\n",
       "      <td>2.0</td>\n",
       "      <td>an interview on CNN</td>\n",
       "    </tr>\n",
       "  </tbody>\n",
       "</table>\n",
       "</div>"
      ],
      "text/plain": [
       "           id        label                                          statement  \\\n",
       "0   2635.json        false  Says the Annies List political group supports ...   \n",
       "1  10540.json    half-true  When did the decline of coal start? It started...   \n",
       "2    324.json  mostly-true  Hillary Clinton agrees with John McCain \"by vo...   \n",
       "3   1123.json        false  Health care reform legislation is likely to ma...   \n",
       "4   9028.json    half-true  The economic turnaround started at the end of ...   \n",
       "\n",
       "                              subject         speaker           speaker_job  \\\n",
       "0                            abortion    dwayne-bohac  State representative   \n",
       "1  energy,history,job-accomplishments  scott-surovell        State delegate   \n",
       "2                      foreign-policy    barack-obama             President   \n",
       "3                         health-care    blog-posting                   NaN   \n",
       "4                        economy,jobs   charlie-crist                   NaN   \n",
       "\n",
       "      state party_affiliation  barely_true_count  false_Count  \\\n",
       "0     Texas        republican                0.0          1.0   \n",
       "1  Virginia          democrat                0.0          0.0   \n",
       "2  Illinois          democrat               70.0         71.0   \n",
       "3       NaN              none                7.0         19.0   \n",
       "4   Florida          democrat               15.0          9.0   \n",
       "\n",
       "   half_true_count  mostly_true_count  pants_on_fire_count  \\\n",
       "0              0.0                0.0                  0.0   \n",
       "1              1.0                1.0                  0.0   \n",
       "2            160.0              163.0                  9.0   \n",
       "3              3.0                5.0                 44.0   \n",
       "4             20.0               19.0                  2.0   \n",
       "\n",
       "          venue_speach  \n",
       "0             a mailer  \n",
       "1      a floor speech.  \n",
       "2               Denver  \n",
       "3       a news release  \n",
       "4  an interview on CNN  "
      ]
     },
     "execution_count": 9,
     "metadata": {},
     "output_type": "execute_result"
    }
   ],
   "source": [
    "columns=['id','label','statement','subject','speaker','speaker_job','state',\n",
    "        'party_affiliation','barely_true_count','false_Count',\n",
    "        'half_true_count','mostly_true_count','pants_on_fire_count','venue_speach'];\n",
    "df_lair=pd.read_csv('train.tsv',sep='\\t',header=None,names=columns,index_col=False);\n",
    "df_lair.head()"
   ]
  },
  {
   "cell_type": "code",
   "execution_count": 10,
   "metadata": {},
   "outputs": [
    {
     "name": "stdout",
     "output_type": "stream",
     "text": [
      "[nltk_data] Downloading package stopwords to\n",
      "[nltk_data]     /Users/chidanandapati/nltk_data...\n",
      "[nltk_data]   Package stopwords is already up-to-date!\n",
      "[nltk_data] Downloading package punkt to\n",
      "[nltk_data]     /Users/chidanandapati/nltk_data...\n",
      "[nltk_data]   Package punkt is already up-to-date!\n",
      "[nltk_data] Downloading package wordnet to\n",
      "[nltk_data]     /Users/chidanandapati/nltk_data...\n",
      "[nltk_data]   Package wordnet is already up-to-date!\n"
     ]
    }
   ],
   "source": [
    "import nltk\n",
    "from nltk.corpus import stopwords\n",
    "nltk.download('stopwords')\n",
    "nltk.download('punkt')\n",
    "nltk.download('wordnet')\n",
    "stop_words=set(stopwords.words('english'))"
   ]
  },
  {
   "cell_type": "markdown",
   "metadata": {},
   "source": [
    "## Text Proprocessing"
   ]
  },
  {
   "cell_type": "markdown",
   "metadata": {},
   "source": [
    "#### Function for text preprocessing\n",
    "- lowercase the text\n",
    "- word tokenization\n",
    "- remove stop words and non alphanumeric charaters\n",
    "- stemming"
   ]
  },
  {
   "cell_type": "code",
   "execution_count": 11,
   "metadata": {},
   "outputs": [],
   "source": [
    "from nltk.stem import PorterStemmer,WordNetLemmatizer\n",
    "def text_preprocessing(df_base,column):\n",
    "    df=df_base.copy()\n",
    "    # lowercase the text\n",
    "    df[column]=df[column].str.lower()\n",
    "    # word tokenization\n",
    "    df[column]=df[column].map(lambda x: nltk.word_tokenize(x))\n",
    "    # remove stop words and non alphanumeric charaters\n",
    "    df[column]=df[column].map(lambda x: [w for w in x if (not w in stop_words) and w.isalpha()])\n",
    "    # lemmatization\n",
    "    wordnet_lemmatizer = WordNetLemmatizer()\n",
    "    df[column]=df[column].map(lambda x: [ wordnet_lemmatizer.lemmatize(w) for w in x])    \n",
    "    # stemming\n",
    "    porter = PorterStemmer()\n",
    "    df[column]=df[column].map(lambda x: [porter.stem(w) for w in x] )\n",
    "    return df"
   ]
  },
  {
   "cell_type": "markdown",
   "metadata": {},
   "source": [
    "#### Calling text_preprocessing function"
   ]
  },
  {
   "cell_type": "code",
   "execution_count": 12,
   "metadata": {},
   "outputs": [
    {
     "data": {
      "text/html": [
       "<div>\n",
       "<style scoped>\n",
       "    .dataframe tbody tr th:only-of-type {\n",
       "        vertical-align: middle;\n",
       "    }\n",
       "\n",
       "    .dataframe tbody tr th {\n",
       "        vertical-align: top;\n",
       "    }\n",
       "\n",
       "    .dataframe thead th {\n",
       "        text-align: right;\n",
       "    }\n",
       "</style>\n",
       "<table border=\"1\" class=\"dataframe\">\n",
       "  <thead>\n",
       "    <tr style=\"text-align: right;\">\n",
       "      <th></th>\n",
       "      <th>id</th>\n",
       "      <th>label</th>\n",
       "      <th>statement</th>\n",
       "      <th>subject</th>\n",
       "      <th>speaker</th>\n",
       "      <th>speaker_job</th>\n",
       "      <th>state</th>\n",
       "      <th>party_affiliation</th>\n",
       "      <th>barely_true_count</th>\n",
       "      <th>false_Count</th>\n",
       "      <th>half_true_count</th>\n",
       "      <th>mostly_true_count</th>\n",
       "      <th>pants_on_fire_count</th>\n",
       "      <th>venue_speach</th>\n",
       "    </tr>\n",
       "  </thead>\n",
       "  <tbody>\n",
       "    <tr>\n",
       "      <th>0</th>\n",
       "      <td>2635.json</td>\n",
       "      <td>false</td>\n",
       "      <td>[say, anni, list, polit, group, support, abort...</td>\n",
       "      <td>abortion</td>\n",
       "      <td>dwayne-bohac</td>\n",
       "      <td>State representative</td>\n",
       "      <td>Texas</td>\n",
       "      <td>republican</td>\n",
       "      <td>0.0</td>\n",
       "      <td>1.0</td>\n",
       "      <td>0.0</td>\n",
       "      <td>0.0</td>\n",
       "      <td>0.0</td>\n",
       "      <td>a mailer</td>\n",
       "    </tr>\n",
       "    <tr>\n",
       "      <th>1</th>\n",
       "      <td>10540.json</td>\n",
       "      <td>half-true</td>\n",
       "      <td>[declin, coal, start, start, natur, ga, took, ...</td>\n",
       "      <td>energy,history,job-accomplishments</td>\n",
       "      <td>scott-surovell</td>\n",
       "      <td>State delegate</td>\n",
       "      <td>Virginia</td>\n",
       "      <td>democrat</td>\n",
       "      <td>0.0</td>\n",
       "      <td>0.0</td>\n",
       "      <td>1.0</td>\n",
       "      <td>1.0</td>\n",
       "      <td>0.0</td>\n",
       "      <td>a floor speech.</td>\n",
       "    </tr>\n",
       "    <tr>\n",
       "      <th>2</th>\n",
       "      <td>324.json</td>\n",
       "      <td>mostly-true</td>\n",
       "      <td>[hillari, clinton, agre, john, mccain, vote, g...</td>\n",
       "      <td>foreign-policy</td>\n",
       "      <td>barack-obama</td>\n",
       "      <td>President</td>\n",
       "      <td>Illinois</td>\n",
       "      <td>democrat</td>\n",
       "      <td>70.0</td>\n",
       "      <td>71.0</td>\n",
       "      <td>160.0</td>\n",
       "      <td>163.0</td>\n",
       "      <td>9.0</td>\n",
       "      <td>Denver</td>\n",
       "    </tr>\n",
       "    <tr>\n",
       "      <th>3</th>\n",
       "      <td>1123.json</td>\n",
       "      <td>false</td>\n",
       "      <td>[health, care, reform, legisl, like, mandat, f...</td>\n",
       "      <td>health-care</td>\n",
       "      <td>blog-posting</td>\n",
       "      <td>NaN</td>\n",
       "      <td>NaN</td>\n",
       "      <td>none</td>\n",
       "      <td>7.0</td>\n",
       "      <td>19.0</td>\n",
       "      <td>3.0</td>\n",
       "      <td>5.0</td>\n",
       "      <td>44.0</td>\n",
       "      <td>a news release</td>\n",
       "    </tr>\n",
       "    <tr>\n",
       "      <th>4</th>\n",
       "      <td>9028.json</td>\n",
       "      <td>half-true</td>\n",
       "      <td>[econom, turnaround, start, end, term]</td>\n",
       "      <td>economy,jobs</td>\n",
       "      <td>charlie-crist</td>\n",
       "      <td>NaN</td>\n",
       "      <td>Florida</td>\n",
       "      <td>democrat</td>\n",
       "      <td>15.0</td>\n",
       "      <td>9.0</td>\n",
       "      <td>20.0</td>\n",
       "      <td>19.0</td>\n",
       "      <td>2.0</td>\n",
       "      <td>an interview on CNN</td>\n",
       "    </tr>\n",
       "  </tbody>\n",
       "</table>\n",
       "</div>"
      ],
      "text/plain": [
       "           id        label                                          statement  \\\n",
       "0   2635.json        false  [say, anni, list, polit, group, support, abort...   \n",
       "1  10540.json    half-true  [declin, coal, start, start, natur, ga, took, ...   \n",
       "2    324.json  mostly-true  [hillari, clinton, agre, john, mccain, vote, g...   \n",
       "3   1123.json        false  [health, care, reform, legisl, like, mandat, f...   \n",
       "4   9028.json    half-true             [econom, turnaround, start, end, term]   \n",
       "\n",
       "                              subject         speaker           speaker_job  \\\n",
       "0                            abortion    dwayne-bohac  State representative   \n",
       "1  energy,history,job-accomplishments  scott-surovell        State delegate   \n",
       "2                      foreign-policy    barack-obama             President   \n",
       "3                         health-care    blog-posting                   NaN   \n",
       "4                        economy,jobs   charlie-crist                   NaN   \n",
       "\n",
       "      state party_affiliation  barely_true_count  false_Count  \\\n",
       "0     Texas        republican                0.0          1.0   \n",
       "1  Virginia          democrat                0.0          0.0   \n",
       "2  Illinois          democrat               70.0         71.0   \n",
       "3       NaN              none                7.0         19.0   \n",
       "4   Florida          democrat               15.0          9.0   \n",
       "\n",
       "   half_true_count  mostly_true_count  pants_on_fire_count  \\\n",
       "0              0.0                0.0                  0.0   \n",
       "1              1.0                1.0                  0.0   \n",
       "2            160.0              163.0                  9.0   \n",
       "3              3.0                5.0                 44.0   \n",
       "4             20.0               19.0                  2.0   \n",
       "\n",
       "          venue_speach  \n",
       "0             a mailer  \n",
       "1      a floor speech.  \n",
       "2               Denver  \n",
       "3       a news release  \n",
       "4  an interview on CNN  "
      ]
     },
     "execution_count": 12,
     "metadata": {},
     "output_type": "execute_result"
    }
   ],
   "source": [
    "df_train=text_preprocessing(df_lair,'statement')\n",
    "df_train.head()"
   ]
  },
  {
   "cell_type": "markdown",
   "metadata": {},
   "source": [
    "## Spelling Error Check Factor\n",
    "### using nltk wordnet and enchant"
   ]
  },
  {
   "cell_type": "markdown",
   "metadata": {},
   "source": [
    "function spell_check_article - It takes an article as input and returns number of words with spelling error in an article and % of words with errors\n",
    "- pip install pyenchant"
   ]
  },
  {
   "cell_type": "code",
   "execution_count": 13,
   "metadata": {},
   "outputs": [],
   "source": [
    "from nltk.corpus import wordnet\n",
    "import enchant\n",
    "enchant = enchant.Dict(\"en_US\")\n",
    "def spell_check_article(article):\n",
    "    article=article.replace('-',' ');\n",
    "    article_tokenized=nltk.word_tokenize(article)\n",
    "    total_word_count=len(article_tokenized)\n",
    "    words_with_error_count=0\n",
    "    for w in article_tokenized:\n",
    "        if (not wordnet.synsets(w)) and (not enchant.check(w)):\n",
    "            words_with_error_count+=1\n",
    "    return words_with_error_count,(words_with_error_count/total_word_count*100)"
   ]
  },
  {
   "cell_type": "code",
   "execution_count": 14,
   "metadata": {},
   "outputs": [
    {
     "data": {
      "text/plain": [
       "(3, 75.0)"
      ]
     },
     "execution_count": 14,
     "metadata": {},
     "output_type": "execute_result"
    }
   ],
   "source": [
    "spell_check_article('kitten drining choclate malk')"
   ]
  },
  {
   "cell_type": "code",
   "execution_count": 15,
   "metadata": {},
   "outputs": [
    {
     "data": {
      "text/plain": [
       "(2, 50.0)"
      ]
     },
     "execution_count": 15,
     "metadata": {},
     "output_type": "execute_result"
    }
   ],
   "source": [
    "spell_check_article('kitten drining choclate milk')"
   ]
  },
  {
   "cell_type": "markdown",
   "metadata": {},
   "source": [
    "##### Assumpation More than 5 errors fake"
   ]
  },
  {
   "cell_type": "code",
   "execution_count": 16,
   "metadata": {},
   "outputs": [
    {
     "data": {
      "text/plain": [
       "array([False,  True])"
      ]
     },
     "execution_count": 16,
     "metadata": {},
     "output_type": "execute_result"
    }
   ],
   "source": [
    "df_lair['fake_spell_error']=df_lair['statement'].map(lambda x: spell_check_article(x)[0] >5)\n",
    "np.unique(df_lair['fake_spell_error'])"
   ]
  },
  {
   "cell_type": "markdown",
   "metadata": {},
   "source": [
    "## Tag Cloud\n",
    "To understand most frequent words in the corpus\n",
    "- pip install wordcloud"
   ]
  },
  {
   "cell_type": "code",
   "execution_count": 17,
   "metadata": {},
   "outputs": [],
   "source": [
    "from wordcloud import WordCloud\n",
    "import matplotlib.pyplot as plt"
   ]
  },
  {
   "cell_type": "code",
   "execution_count": 18,
   "metadata": {},
   "outputs": [],
   "source": [
    "statements=''.join(df_lair['statement'].values.tolist())"
   ]
  },
  {
   "cell_type": "code",
   "execution_count": 19,
   "metadata": {},
   "outputs": [
    {
     "data": {
      "image/png": "[encoded data removed]",
      "text/plain": [
       "<Figure size 432x288 with 1 Axes>"
      ]
     },
     "metadata": {},
     "output_type": "display_data"
    }
   ],
   "source": [
    "# lower max_font_size, change the maximum number of word and lighten the background:\n",
    "wordcloud = WordCloud(max_font_size=50, max_words=100, background_color=\"white\").generate(statements)\n",
    "plt.figure()\n",
    "plt.imshow(wordcloud, interpolation=\"bilinear\")\n",
    "plt.axis(\"off\")\n",
    "plt.show()"
   ]
  },
  {
   "cell_type": "markdown",
   "metadata": {},
   "source": [
    "Conclusion is corpus looks like is mostly political and money related"
   ]
  },
  {
   "cell_type": "markdown",
   "metadata": {},
   "source": [
    "## Word2Vec to create a vector representation of processed words for every article\n",
    "- pip install gensim"
   ]
  },
  {
   "cell_type": "code",
   "execution_count": 20,
   "metadata": {},
   "outputs": [],
   "source": [
    "import gensim\n",
    "from gensim.models.word2vec import Word2Vec\n",
    "from gensim.models.doc2vec import TaggedDocument\n",
    "from sklearn.model_selection import train_test_split\n",
    "import warnings\n",
    "warnings.filterwarnings('ignore')"
   ]
  },
  {
   "cell_type": "code",
   "execution_count": 21,
   "metadata": {},
   "outputs": [],
   "source": [
    "LabeledSentence = gensim.models.doc2vec.LabeledSentence"
   ]
  },
  {
   "cell_type": "code",
   "execution_count": 22,
   "metadata": {},
   "outputs": [],
   "source": [
    "def labelled_sentences(articles, label_type):\n",
    "    labelledSentences = []\n",
    "    for i,_d in enumerate(articles):\n",
    "        labelledSentences.append(LabeledSentence(_d, label_type[i]))\n",
    "    return labelledSentences"
   ]
  },
  {
   "cell_type": "code",
   "execution_count": 23,
   "metadata": {},
   "outputs": [
    {
     "data": {
      "text/plain": [
       "LabeledSentence(words=['declin', 'coal', 'start', 'start', 'natur', 'ga', 'took', 'start', 'begin', 'presid', 'georg', 'bush', 'administr'], tags='half-true')"
      ]
     },
     "execution_count": 23,
     "metadata": {},
     "output_type": "execute_result"
    }
   ],
   "source": [
    "df_train_labelled=labelled_sentences(df_train['statement'],df_train['label'])\n",
    "df_train_labelled[1]"
   ]
  },
  {
   "cell_type": "code",
   "execution_count": 24,
   "metadata": {},
   "outputs": [],
   "source": [
    "tagged_data = [TaggedDocument(words=_d, tags=[str(i)]) for i, _d in enumerate(df_train['statement'])]"
   ]
  },
  {
   "cell_type": "code",
   "execution_count": 25,
   "metadata": {},
   "outputs": [],
   "source": [
    "tagged_data_words=[x.words for x in tagged_data]\n",
    "tagged_data_words_1D=[]\n",
    "for row in range(len(tagged_data_words)):\n",
    "    for col in range(len(tagged_data_words[row])):\n",
    "        tagged_data_words_1D.append(tagged_data_words[row][col]) "
   ]
  },
  {
   "cell_type": "code",
   "execution_count": 26,
   "metadata": {},
   "outputs": [
    {
     "data": {
      "text/plain": [
       "(475758, 524220)"
      ]
     },
     "execution_count": 26,
     "metadata": {},
     "output_type": "execute_result"
    }
   ],
   "source": [
    "n_dim=300\n",
    "w2v = Word2Vec(size=n_dim, min_count=0)\n",
    "w2v.build_vocab(tagged_data_words)\n",
    "w2v.train(tagged_data_words,total_examples=w2v.corpus_count,epochs=w2v.epochs)"
   ]
  },
  {
   "cell_type": "code",
   "execution_count": 27,
   "metadata": {},
   "outputs": [
    {
     "data": {
      "text/plain": [
       "[('report', 0.9999638795852661),\n",
       " ('made', 0.9999630451202393),\n",
       " ('stop', 0.9999598264694214),\n",
       " ('washington', 0.9999587535858154),\n",
       " ('think', 0.9999582171440125),\n",
       " ('fire', 0.9999563694000244),\n",
       " ('know', 0.9999544620513916),\n",
       " ('place', 0.9999528527259827),\n",
       " ('group', 0.9999527931213379),\n",
       " ('militari', 0.9999520778656006)]"
      ]
     },
     "execution_count": 27,
     "metadata": {},
     "output_type": "execute_result"
    }
   ],
   "source": [
    "w2v.most_similar('polit')"
   ]
  },
  {
   "cell_type": "code",
   "execution_count": 28,
   "metadata": {},
   "outputs": [],
   "source": [
    "df_train_statements=df_train[['statement','label']]\n",
    "df_train_statements_vectorized=df_train_statements['statement'].map(lambda x: [w2v[w] for w in x])"
   ]
  },
  {
   "cell_type": "code",
   "execution_count": 29,
   "metadata": {},
   "outputs": [],
   "source": [
    "df_train_statements['statement']=df_train_statements_vectorized"
   ]
  },
  {
   "cell_type": "code",
   "execution_count": 30,
   "metadata": {},
   "outputs": [],
   "source": [
    "from sklearn import preprocessing\n",
    "le = preprocessing.LabelEncoder()\n",
    "df_train_statements['label']=le.fit_transform(df_train_statements['label'])"
   ]
  },
  {
   "cell_type": "code",
   "execution_count": 31,
   "metadata": {},
   "outputs": [
    {
     "data": {
      "text/html": [
       "<div>\n",
       "<style scoped>\n",
       "    .dataframe tbody tr th:only-of-type {\n",
       "        vertical-align: middle;\n",
       "    }\n",
       "\n",
       "    .dataframe tbody tr th {\n",
       "        vertical-align: top;\n",
       "    }\n",
       "\n",
       "    .dataframe thead th {\n",
       "        text-align: right;\n",
       "    }\n",
       "</style>\n",
       "<table border=\"1\" class=\"dataframe\">\n",
       "  <thead>\n",
       "    <tr style=\"text-align: right;\">\n",
       "      <th></th>\n",
       "      <th>statement</th>\n",
       "      <th>label</th>\n",
       "    </tr>\n",
       "  </thead>\n",
       "  <tbody>\n",
       "    <tr>\n",
       "      <th>0</th>\n",
       "      <td>[[0.2716657, 0.5207537, -0.068280816, -0.50428...</td>\n",
       "      <td>1</td>\n",
       "    </tr>\n",
       "    <tr>\n",
       "      <th>1</th>\n",
       "      <td>[[0.035895128, 0.076891996, -0.009999786, -0.0...</td>\n",
       "      <td>2</td>\n",
       "    </tr>\n",
       "    <tr>\n",
       "      <th>2</th>\n",
       "      <td>[[0.24938358, 0.33540362, -0.025176795, -0.325...</td>\n",
       "      <td>3</td>\n",
       "    </tr>\n",
       "    <tr>\n",
       "      <th>3</th>\n",
       "      <td>[[0.05135785, 0.38172323, 0.07060904, -0.24751...</td>\n",
       "      <td>1</td>\n",
       "    </tr>\n",
       "    <tr>\n",
       "      <th>4</th>\n",
       "      <td>[[0.15210536, 0.33610943, -0.039845526, -0.320...</td>\n",
       "      <td>2</td>\n",
       "    </tr>\n",
       "  </tbody>\n",
       "</table>\n",
       "</div>"
      ],
      "text/plain": [
       "                                           statement  label\n",
       "0  [[0.2716657, 0.5207537, -0.068280816, -0.50428...      1\n",
       "1  [[0.035895128, 0.076891996, -0.009999786, -0.0...      2\n",
       "2  [[0.24938358, 0.33540362, -0.025176795, -0.325...      3\n",
       "3  [[0.05135785, 0.38172323, 0.07060904, -0.24751...      1\n",
       "4  [[0.15210536, 0.33610943, -0.039845526, -0.320...      2"
      ]
     },
     "execution_count": 31,
     "metadata": {},
     "output_type": "execute_result"
    }
   ],
   "source": [
    "df_train_statements.head()"
   ]
  },
  {
   "cell_type": "code",
   "execution_count": 32,
   "metadata": {},
   "outputs": [],
   "source": [
    "#list(le.inverse_transform(df_train_statements['label']))"
   ]
  },
  {
   "cell_type": "code",
   "execution_count": 33,
   "metadata": {},
   "outputs": [],
   "source": [
    "def document_vector(doc):\n",
    "    return np.mean(doc, axis=0)"
   ]
  },
  {
   "cell_type": "code",
   "execution_count": 34,
   "metadata": {},
   "outputs": [],
   "source": [
    "for row_idx in range(len(df_train_statements['statement'])):\n",
    "    for col_idx in range(len(df_train_statements['statement'][row_idx])):\n",
    "        df_train_statements['statement'][row_idx][col_idx]=document_vector(df_train_statements['statement'][row_idx][col_idx])"
   ]
  },
  {
   "cell_type": "code",
   "execution_count": 35,
   "metadata": {},
   "outputs": [
    {
     "data": {
      "text/html": [
       "<div>\n",
       "<style scoped>\n",
       "    .dataframe tbody tr th:only-of-type {\n",
       "        vertical-align: middle;\n",
       "    }\n",
       "\n",
       "    .dataframe tbody tr th {\n",
       "        vertical-align: top;\n",
       "    }\n",
       "\n",
       "    .dataframe thead th {\n",
       "        text-align: right;\n",
       "    }\n",
       "</style>\n",
       "<table border=\"1\" class=\"dataframe\">\n",
       "  <thead>\n",
       "    <tr style=\"text-align: right;\">\n",
       "      <th></th>\n",
       "      <th>statement</th>\n",
       "      <th>label</th>\n",
       "    </tr>\n",
       "  </thead>\n",
       "  <tbody>\n",
       "    <tr>\n",
       "      <th>0</th>\n",
       "      <td>[0.015121685, 0.00012266973, 0.004125694, 0.00...</td>\n",
       "      <td>1</td>\n",
       "    </tr>\n",
       "    <tr>\n",
       "      <th>1</th>\n",
       "      <td>[0.0021240176, 0.002975256, 0.007868618, 0.007...</td>\n",
       "      <td>2</td>\n",
       "    </tr>\n",
       "    <tr>\n",
       "      <th>2</th>\n",
       "      <td>[0.012774868, 0.015058594, 0.004234533, 0.0121...</td>\n",
       "      <td>3</td>\n",
       "    </tr>\n",
       "    <tr>\n",
       "      <th>3</th>\n",
       "      <td>[0.009491404, 0.010176263, 0.008570064, 0.0097...</td>\n",
       "      <td>1</td>\n",
       "    </tr>\n",
       "    <tr>\n",
       "      <th>4</th>\n",
       "      <td>[0.009090014, 0.00077751855, 0.007868618, 0.00...</td>\n",
       "      <td>2</td>\n",
       "    </tr>\n",
       "    <tr>\n",
       "      <th>5</th>\n",
       "      <td>[0.0018700071, 0.0021088251, 0.007868618, 0.00...</td>\n",
       "      <td>5</td>\n",
       "    </tr>\n",
       "    <tr>\n",
       "      <th>6</th>\n",
       "      <td>[0.0047210157, 9.494908e-05, 0.00851806, 0.008...</td>\n",
       "      <td>0</td>\n",
       "    </tr>\n",
       "    <tr>\n",
       "      <th>7</th>\n",
       "      <td>[0.008932582, 0.002272566, 0.01048376, 0.00392...</td>\n",
       "      <td>2</td>\n",
       "    </tr>\n",
       "    <tr>\n",
       "      <th>8</th>\n",
       "      <td>[0.0004211301, 0.011890358, 0.01159877, 0.0073...</td>\n",
       "      <td>2</td>\n",
       "    </tr>\n",
       "    <tr>\n",
       "      <th>9</th>\n",
       "      <td>[0.015121685, 0.004353508, 0.0046304315, 0.005...</td>\n",
       "      <td>3</td>\n",
       "    </tr>\n",
       "    <tr>\n",
       "      <th>10</th>\n",
       "      <td>[0.012201112, 0.012754962, 0.0096253455, 0.003...</td>\n",
       "      <td>3</td>\n",
       "    </tr>\n",
       "    <tr>\n",
       "      <th>11</th>\n",
       "      <td>[0.013208453, 0.008928652, 0.01159877, 0.01149...</td>\n",
       "      <td>2</td>\n",
       "    </tr>\n",
       "    <tr>\n",
       "      <th>12</th>\n",
       "      <td>[0.0073406743, 0.009709909, 0.012031632, 0.006...</td>\n",
       "      <td>1</td>\n",
       "    </tr>\n",
       "    <tr>\n",
       "      <th>13</th>\n",
       "      <td>[0.009661574, 0.00016452385, 0.010543055, 0.00...</td>\n",
       "      <td>3</td>\n",
       "    </tr>\n",
       "    <tr>\n",
       "      <th>14</th>\n",
       "      <td>[0.0056343335, 0.010176263, 0.010183104, 0.008...</td>\n",
       "      <td>0</td>\n",
       "    </tr>\n",
       "    <tr>\n",
       "      <th>15</th>\n",
       "      <td>[0.011042186, 0.011311981, 0.0018097525, 0.011...</td>\n",
       "      <td>2</td>\n",
       "    </tr>\n",
       "    <tr>\n",
       "      <th>16</th>\n",
       "      <td>[0.008347653, 0.008371965, 0.0091649955, 0.012...</td>\n",
       "      <td>5</td>\n",
       "    </tr>\n",
       "    <tr>\n",
       "      <th>17</th>\n",
       "      <td>[0.002454396, 0.005297144, 0.0023171254, 0.013...</td>\n",
       "      <td>0</td>\n",
       "    </tr>\n",
       "    <tr>\n",
       "      <th>18</th>\n",
       "      <td>[0.00836164, 0.011480797, 0.00032355916, 0.001...</td>\n",
       "      <td>2</td>\n",
       "    </tr>\n",
       "    <tr>\n",
       "      <th>19</th>\n",
       "      <td>[0.009130534, 0.011600955, 0.0067767412, 0.000...</td>\n",
       "      <td>3</td>\n",
       "    </tr>\n",
       "    <tr>\n",
       "      <th>20</th>\n",
       "      <td>[0.01264242, 0.0055789445, 0.011482376, 0.0092...</td>\n",
       "      <td>1</td>\n",
       "    </tr>\n",
       "    <tr>\n",
       "      <th>21</th>\n",
       "      <td>[0.010996998, 0.012292582, 0.0079192715, 0.007...</td>\n",
       "      <td>3</td>\n",
       "    </tr>\n",
       "    <tr>\n",
       "      <th>22</th>\n",
       "      <td>[0.004867187, 0.011841014, 0.0032151625, 0.007...</td>\n",
       "      <td>3</td>\n",
       "    </tr>\n",
       "    <tr>\n",
       "      <th>23</th>\n",
       "      <td>[0.015121685, 0.010325006, 0.007891056, 0.0040...</td>\n",
       "      <td>2</td>\n",
       "    </tr>\n",
       "    <tr>\n",
       "      <th>24</th>\n",
       "      <td>[0.015121685, 0.0073406743, 0.009709909, 0.013...</td>\n",
       "      <td>0</td>\n",
       "    </tr>\n",
       "    <tr>\n",
       "      <th>25</th>\n",
       "      <td>[0.010099139, 0.0098087285, 0.00019966195, 0.0...</td>\n",
       "      <td>1</td>\n",
       "    </tr>\n",
       "    <tr>\n",
       "      <th>26</th>\n",
       "      <td>[0.002051252, 0.009876053, 0.011490766, 0.0067...</td>\n",
       "      <td>3</td>\n",
       "    </tr>\n",
       "    <tr>\n",
       "      <th>27</th>\n",
       "      <td>[0.008763932, 0.0069871503, 0.011794871, 0.008...</td>\n",
       "      <td>2</td>\n",
       "    </tr>\n",
       "    <tr>\n",
       "      <th>28</th>\n",
       "      <td>[0.0059441077, 0.012902245, 0.0012923237, 0.00...</td>\n",
       "      <td>1</td>\n",
       "    </tr>\n",
       "    <tr>\n",
       "      <th>29</th>\n",
       "      <td>[0.0018557422, 0.009782085, 0.0035645422, 0.00...</td>\n",
       "      <td>3</td>\n",
       "    </tr>\n",
       "    <tr>\n",
       "      <th>...</th>\n",
       "      <td>...</td>\n",
       "      <td>...</td>\n",
       "    </tr>\n",
       "    <tr>\n",
       "      <th>10209</th>\n",
       "      <td>[0.013208453, 0.0056343335, 0.010176263, 0.010...</td>\n",
       "      <td>5</td>\n",
       "    </tr>\n",
       "    <tr>\n",
       "      <th>10210</th>\n",
       "      <td>[0.010838869, 0.009130534, 0.006871528, 0.0067...</td>\n",
       "      <td>5</td>\n",
       "    </tr>\n",
       "    <tr>\n",
       "      <th>10211</th>\n",
       "      <td>[0.0070649614, 0.015121685, 0.011536946, 0.011...</td>\n",
       "      <td>2</td>\n",
       "    </tr>\n",
       "    <tr>\n",
       "      <th>10212</th>\n",
       "      <td>[0.0067467294, 0.0008792589, 0.010941888, 0.01...</td>\n",
       "      <td>0</td>\n",
       "    </tr>\n",
       "    <tr>\n",
       "      <th>10213</th>\n",
       "      <td>[0.011042186, 0.011841014, 0.009491404, 0.0101...</td>\n",
       "      <td>1</td>\n",
       "    </tr>\n",
       "    <tr>\n",
       "      <th>10214</th>\n",
       "      <td>[0.017642008, 0.011946391, 0.0090514, 0.007148...</td>\n",
       "      <td>0</td>\n",
       "    </tr>\n",
       "    <tr>\n",
       "      <th>10215</th>\n",
       "      <td>[0.0022198057, 0.0047991415, 0.0041133473, 0.0...</td>\n",
       "      <td>1</td>\n",
       "    </tr>\n",
       "    <tr>\n",
       "      <th>10216</th>\n",
       "      <td>[0.004598276, 0.017642008, 0.011946391, 0.0032...</td>\n",
       "      <td>2</td>\n",
       "    </tr>\n",
       "    <tr>\n",
       "      <th>10217</th>\n",
       "      <td>[0.005167927, 0.0133012915, 0.0070259445, 0.00...</td>\n",
       "      <td>1</td>\n",
       "    </tr>\n",
       "    <tr>\n",
       "      <th>10218</th>\n",
       "      <td>[0.009934432, 0.011618403, 0.008867279, 0.0038...</td>\n",
       "      <td>2</td>\n",
       "    </tr>\n",
       "    <tr>\n",
       "      <th>10219</th>\n",
       "      <td>[0.015121685, 0.0073406743, 0.009709909, 0.004...</td>\n",
       "      <td>3</td>\n",
       "    </tr>\n",
       "    <tr>\n",
       "      <th>10220</th>\n",
       "      <td>[0.008991401, 0.009682106, 0.0057531204, 0.006...</td>\n",
       "      <td>1</td>\n",
       "    </tr>\n",
       "    <tr>\n",
       "      <th>10221</th>\n",
       "      <td>[0.012201112, 0.012754962, 0.013208453, 0.0012...</td>\n",
       "      <td>5</td>\n",
       "    </tr>\n",
       "    <tr>\n",
       "      <th>10222</th>\n",
       "      <td>[0.015121685, 0.008763932, 0.0069871503, 0.006...</td>\n",
       "      <td>3</td>\n",
       "    </tr>\n",
       "    <tr>\n",
       "      <th>10223</th>\n",
       "      <td>[0.012292582, 0.011172991, 0.0035451904, 0.004...</td>\n",
       "      <td>0</td>\n",
       "    </tr>\n",
       "    <tr>\n",
       "      <th>10224</th>\n",
       "      <td>[0.011536946, 0.010049227, 0.008249575, 0.0115...</td>\n",
       "      <td>2</td>\n",
       "    </tr>\n",
       "    <tr>\n",
       "      <th>10225</th>\n",
       "      <td>[0.00013454705, 0.0004932687, 0.0018392452, 0....</td>\n",
       "      <td>3</td>\n",
       "    </tr>\n",
       "    <tr>\n",
       "      <th>10226</th>\n",
       "      <td>[0.007340766, 0.0032805293, 0.0046393285, 0.01...</td>\n",
       "      <td>4</td>\n",
       "    </tr>\n",
       "    <tr>\n",
       "      <th>10227</th>\n",
       "      <td>[0.008390342, 0.00019568027, 0.0005097839, 0.0...</td>\n",
       "      <td>0</td>\n",
       "    </tr>\n",
       "    <tr>\n",
       "      <th>10228</th>\n",
       "      <td>[0.0037940172, 0.00020478127, 0.008939457, 0.0...</td>\n",
       "      <td>3</td>\n",
       "    </tr>\n",
       "    <tr>\n",
       "      <th>10229</th>\n",
       "      <td>[0.0067404867, 0.0112257935, 0.0019706765, 0.0...</td>\n",
       "      <td>0</td>\n",
       "    </tr>\n",
       "    <tr>\n",
       "      <th>10230</th>\n",
       "      <td>[0.009763984, 0.012292582, 0.008076865, 0.0114...</td>\n",
       "      <td>2</td>\n",
       "    </tr>\n",
       "    <tr>\n",
       "      <th>10231</th>\n",
       "      <td>[0.00078907807, 0.011219443, 0.0022198057, 0.0...</td>\n",
       "      <td>2</td>\n",
       "    </tr>\n",
       "    <tr>\n",
       "      <th>10232</th>\n",
       "      <td>[0.009106359, 0.0008834964, 0.01329327, 0.0008...</td>\n",
       "      <td>4</td>\n",
       "    </tr>\n",
       "    <tr>\n",
       "      <th>10233</th>\n",
       "      <td>[0.008430844, 0.0067404867, 0.0112257935, 0.00...</td>\n",
       "      <td>2</td>\n",
       "    </tr>\n",
       "    <tr>\n",
       "      <th>10234</th>\n",
       "      <td>[0.002712157, 0.010941888, 0.00040587698, 0.00...</td>\n",
       "      <td>3</td>\n",
       "    </tr>\n",
       "    <tr>\n",
       "      <th>10235</th>\n",
       "      <td>[0.0133012915, 0.005930921, 0.010049227, 0.006...</td>\n",
       "      <td>3</td>\n",
       "    </tr>\n",
       "    <tr>\n",
       "      <th>10236</th>\n",
       "      <td>[0.015121685, 0.00078707124, 0.00978972, 0.010...</td>\n",
       "      <td>2</td>\n",
       "    </tr>\n",
       "    <tr>\n",
       "      <th>10237</th>\n",
       "      <td>[0.0013615942, 0.001020682, 0.00064833736, 0.0...</td>\n",
       "      <td>1</td>\n",
       "    </tr>\n",
       "    <tr>\n",
       "      <th>10238</th>\n",
       "      <td>[0.0106467, 0.0072405473, 0.0015065295, 0.0003...</td>\n",
       "      <td>4</td>\n",
       "    </tr>\n",
       "  </tbody>\n",
       "</table>\n",
       "<p>10239 rows × 2 columns</p>\n",
       "</div>"
      ],
      "text/plain": [
       "                                               statement  label\n",
       "0      [0.015121685, 0.00012266973, 0.004125694, 0.00...      1\n",
       "1      [0.0021240176, 0.002975256, 0.007868618, 0.007...      2\n",
       "2      [0.012774868, 0.015058594, 0.004234533, 0.0121...      3\n",
       "3      [0.009491404, 0.010176263, 0.008570064, 0.0097...      1\n",
       "4      [0.009090014, 0.00077751855, 0.007868618, 0.00...      2\n",
       "5      [0.0018700071, 0.0021088251, 0.007868618, 0.00...      5\n",
       "6      [0.0047210157, 9.494908e-05, 0.00851806, 0.008...      0\n",
       "7      [0.008932582, 0.002272566, 0.01048376, 0.00392...      2\n",
       "8      [0.0004211301, 0.011890358, 0.01159877, 0.0073...      2\n",
       "9      [0.015121685, 0.004353508, 0.0046304315, 0.005...      3\n",
       "10     [0.012201112, 0.012754962, 0.0096253455, 0.003...      3\n",
       "11     [0.013208453, 0.008928652, 0.01159877, 0.01149...      2\n",
       "12     [0.0073406743, 0.009709909, 0.012031632, 0.006...      1\n",
       "13     [0.009661574, 0.00016452385, 0.010543055, 0.00...      3\n",
       "14     [0.0056343335, 0.010176263, 0.010183104, 0.008...      0\n",
       "15     [0.011042186, 0.011311981, 0.0018097525, 0.011...      2\n",
       "16     [0.008347653, 0.008371965, 0.0091649955, 0.012...      5\n",
       "17     [0.002454396, 0.005297144, 0.0023171254, 0.013...      0\n",
       "18     [0.00836164, 0.011480797, 0.00032355916, 0.001...      2\n",
       "19     [0.009130534, 0.011600955, 0.0067767412, 0.000...      3\n",
       "20     [0.01264242, 0.0055789445, 0.011482376, 0.0092...      1\n",
       "21     [0.010996998, 0.012292582, 0.0079192715, 0.007...      3\n",
       "22     [0.004867187, 0.011841014, 0.0032151625, 0.007...      3\n",
       "23     [0.015121685, 0.010325006, 0.007891056, 0.0040...      2\n",
       "24     [0.015121685, 0.0073406743, 0.009709909, 0.013...      0\n",
       "25     [0.010099139, 0.0098087285, 0.00019966195, 0.0...      1\n",
       "26     [0.002051252, 0.009876053, 0.011490766, 0.0067...      3\n",
       "27     [0.008763932, 0.0069871503, 0.011794871, 0.008...      2\n",
       "28     [0.0059441077, 0.012902245, 0.0012923237, 0.00...      1\n",
       "29     [0.0018557422, 0.009782085, 0.0035645422, 0.00...      3\n",
       "...                                                  ...    ...\n",
       "10209  [0.013208453, 0.0056343335, 0.010176263, 0.010...      5\n",
       "10210  [0.010838869, 0.009130534, 0.006871528, 0.0067...      5\n",
       "10211  [0.0070649614, 0.015121685, 0.011536946, 0.011...      2\n",
       "10212  [0.0067467294, 0.0008792589, 0.010941888, 0.01...      0\n",
       "10213  [0.011042186, 0.011841014, 0.009491404, 0.0101...      1\n",
       "10214  [0.017642008, 0.011946391, 0.0090514, 0.007148...      0\n",
       "10215  [0.0022198057, 0.0047991415, 0.0041133473, 0.0...      1\n",
       "10216  [0.004598276, 0.017642008, 0.011946391, 0.0032...      2\n",
       "10217  [0.005167927, 0.0133012915, 0.0070259445, 0.00...      1\n",
       "10218  [0.009934432, 0.011618403, 0.008867279, 0.0038...      2\n",
       "10219  [0.015121685, 0.0073406743, 0.009709909, 0.004...      3\n",
       "10220  [0.008991401, 0.009682106, 0.0057531204, 0.006...      1\n",
       "10221  [0.012201112, 0.012754962, 0.013208453, 0.0012...      5\n",
       "10222  [0.015121685, 0.008763932, 0.0069871503, 0.006...      3\n",
       "10223  [0.012292582, 0.011172991, 0.0035451904, 0.004...      0\n",
       "10224  [0.011536946, 0.010049227, 0.008249575, 0.0115...      2\n",
       "10225  [0.00013454705, 0.0004932687, 0.0018392452, 0....      3\n",
       "10226  [0.007340766, 0.0032805293, 0.0046393285, 0.01...      4\n",
       "10227  [0.008390342, 0.00019568027, 0.0005097839, 0.0...      0\n",
       "10228  [0.0037940172, 0.00020478127, 0.008939457, 0.0...      3\n",
       "10229  [0.0067404867, 0.0112257935, 0.0019706765, 0.0...      0\n",
       "10230  [0.009763984, 0.012292582, 0.008076865, 0.0114...      2\n",
       "10231  [0.00078907807, 0.011219443, 0.0022198057, 0.0...      2\n",
       "10232  [0.009106359, 0.0008834964, 0.01329327, 0.0008...      4\n",
       "10233  [0.008430844, 0.0067404867, 0.0112257935, 0.00...      2\n",
       "10234  [0.002712157, 0.010941888, 0.00040587698, 0.00...      3\n",
       "10235  [0.0133012915, 0.005930921, 0.010049227, 0.006...      3\n",
       "10236  [0.015121685, 0.00078707124, 0.00978972, 0.010...      2\n",
       "10237  [0.0013615942, 0.001020682, 0.00064833736, 0.0...      1\n",
       "10238  [0.0106467, 0.0072405473, 0.0015065295, 0.0003...      4\n",
       "\n",
       "[10239 rows x 2 columns]"
      ]
     },
     "execution_count": 35,
     "metadata": {},
     "output_type": "execute_result"
    }
   ],
   "source": [
    "#df_train_statements['statement']=df_train_statements['statement'].map(document_vector)\n",
    "df_train_statements.drop(index=4497,inplace=True)\n",
    "df_train_statements.reset_index(drop=True)"
   ]
  },
  {
   "cell_type": "markdown",
   "metadata": {},
   "source": [
    "##### Making word vec to features"
   ]
  },
  {
   "cell_type": "code",
   "execution_count": 36,
   "metadata": {},
   "outputs": [],
   "source": [
    "texts=[]\n",
    "for x in df_train_statements['statement'].values:\n",
    "    texts.append(x)   \n",
    "X=pd.DataFrame(texts)\n",
    "X=X.fillna(0)\n",
    "y=df_train_statements[['label']]\n",
    "X_train,X_test,y_train,y_test=train_test_split(X, y,test_size = .2, random_state = 1)"
   ]
  },
  {
   "cell_type": "code",
   "execution_count": 37,
   "metadata": {},
   "outputs": [
    {
     "data": {
      "text/html": [
       "<div>\n",
       "<style scoped>\n",
       "    .dataframe tbody tr th:only-of-type {\n",
       "        vertical-align: middle;\n",
       "    }\n",
       "\n",
       "    .dataframe tbody tr th {\n",
       "        vertical-align: top;\n",
       "    }\n",
       "\n",
       "    .dataframe thead th {\n",
       "        text-align: right;\n",
       "    }\n",
       "</style>\n",
       "<table border=\"1\" class=\"dataframe\">\n",
       "  <thead>\n",
       "    <tr style=\"text-align: right;\">\n",
       "      <th></th>\n",
       "      <th>0</th>\n",
       "      <th>1</th>\n",
       "      <th>2</th>\n",
       "      <th>3</th>\n",
       "      <th>4</th>\n",
       "      <th>5</th>\n",
       "      <th>6</th>\n",
       "      <th>7</th>\n",
       "      <th>8</th>\n",
       "      <th>9</th>\n",
       "      <th>...</th>\n",
       "      <th>235</th>\n",
       "      <th>236</th>\n",
       "      <th>237</th>\n",
       "      <th>238</th>\n",
       "      <th>239</th>\n",
       "      <th>240</th>\n",
       "      <th>241</th>\n",
       "      <th>242</th>\n",
       "      <th>243</th>\n",
       "      <th>244</th>\n",
       "    </tr>\n",
       "  </thead>\n",
       "  <tbody>\n",
       "    <tr>\n",
       "      <th>8893</th>\n",
       "      <td>0.007385</td>\n",
       "      <td>0.001727</td>\n",
       "      <td>0.010770</td>\n",
       "      <td>0.001313</td>\n",
       "      <td>0.011061</td>\n",
       "      <td>0.010832</td>\n",
       "      <td>0.003489</td>\n",
       "      <td>0.010942</td>\n",
       "      <td>0.010832</td>\n",
       "      <td>0.003551</td>\n",
       "      <td>...</td>\n",
       "      <td>0.0</td>\n",
       "      <td>0.0</td>\n",
       "      <td>0.0</td>\n",
       "      <td>0.0</td>\n",
       "      <td>0.0</td>\n",
       "      <td>0.0</td>\n",
       "      <td>0.0</td>\n",
       "      <td>0.0</td>\n",
       "      <td>0.0</td>\n",
       "      <td>0.0</td>\n",
       "    </tr>\n",
       "    <tr>\n",
       "      <th>2933</th>\n",
       "      <td>0.002381</td>\n",
       "      <td>0.003112</td>\n",
       "      <td>0.012502</td>\n",
       "      <td>0.004103</td>\n",
       "      <td>0.003552</td>\n",
       "      <td>0.011767</td>\n",
       "      <td>0.000000</td>\n",
       "      <td>0.000000</td>\n",
       "      <td>0.000000</td>\n",
       "      <td>0.000000</td>\n",
       "      <td>...</td>\n",
       "      <td>0.0</td>\n",
       "      <td>0.0</td>\n",
       "      <td>0.0</td>\n",
       "      <td>0.0</td>\n",
       "      <td>0.0</td>\n",
       "      <td>0.0</td>\n",
       "      <td>0.0</td>\n",
       "      <td>0.0</td>\n",
       "      <td>0.0</td>\n",
       "      <td>0.0</td>\n",
       "    </tr>\n",
       "    <tr>\n",
       "      <th>3933</th>\n",
       "      <td>0.002191</td>\n",
       "      <td>0.011081</td>\n",
       "      <td>0.010858</td>\n",
       "      <td>0.012293</td>\n",
       "      <td>0.010771</td>\n",
       "      <td>0.010543</td>\n",
       "      <td>0.010543</td>\n",
       "      <td>0.007155</td>\n",
       "      <td>0.007942</td>\n",
       "      <td>0.010771</td>\n",
       "      <td>...</td>\n",
       "      <td>0.0</td>\n",
       "      <td>0.0</td>\n",
       "      <td>0.0</td>\n",
       "      <td>0.0</td>\n",
       "      <td>0.0</td>\n",
       "      <td>0.0</td>\n",
       "      <td>0.0</td>\n",
       "      <td>0.0</td>\n",
       "      <td>0.0</td>\n",
       "      <td>0.0</td>\n",
       "    </tr>\n",
       "    <tr>\n",
       "      <th>3406</th>\n",
       "      <td>0.017458</td>\n",
       "      <td>0.017642</td>\n",
       "      <td>0.013293</td>\n",
       "      <td>0.002459</td>\n",
       "      <td>0.008947</td>\n",
       "      <td>0.000000</td>\n",
       "      <td>0.000000</td>\n",
       "      <td>0.000000</td>\n",
       "      <td>0.000000</td>\n",
       "      <td>0.000000</td>\n",
       "      <td>...</td>\n",
       "      <td>0.0</td>\n",
       "      <td>0.0</td>\n",
       "      <td>0.0</td>\n",
       "      <td>0.0</td>\n",
       "      <td>0.0</td>\n",
       "      <td>0.0</td>\n",
       "      <td>0.0</td>\n",
       "      <td>0.0</td>\n",
       "      <td>0.0</td>\n",
       "      <td>0.0</td>\n",
       "    </tr>\n",
       "    <tr>\n",
       "      <th>7210</th>\n",
       "      <td>0.015122</td>\n",
       "      <td>0.012580</td>\n",
       "      <td>0.003551</td>\n",
       "      <td>0.004471</td>\n",
       "      <td>0.000517</td>\n",
       "      <td>0.001129</td>\n",
       "      <td>0.002081</td>\n",
       "      <td>0.003426</td>\n",
       "      <td>0.003748</td>\n",
       "      <td>0.006794</td>\n",
       "      <td>...</td>\n",
       "      <td>0.0</td>\n",
       "      <td>0.0</td>\n",
       "      <td>0.0</td>\n",
       "      <td>0.0</td>\n",
       "      <td>0.0</td>\n",
       "      <td>0.0</td>\n",
       "      <td>0.0</td>\n",
       "      <td>0.0</td>\n",
       "      <td>0.0</td>\n",
       "      <td>0.0</td>\n",
       "    </tr>\n",
       "  </tbody>\n",
       "</table>\n",
       "<p>5 rows × 245 columns</p>\n",
       "</div>"
      ],
      "text/plain": [
       "           0         1         2         3         4         5         6    \\\n",
       "8893  0.007385  0.001727  0.010770  0.001313  0.011061  0.010832  0.003489   \n",
       "2933  0.002381  0.003112  0.012502  0.004103  0.003552  0.011767  0.000000   \n",
       "3933  0.002191  0.011081  0.010858  0.012293  0.010771  0.010543  0.010543   \n",
       "3406  0.017458  0.017642  0.013293  0.002459  0.008947  0.000000  0.000000   \n",
       "7210  0.015122  0.012580  0.003551  0.004471  0.000517  0.001129  0.002081   \n",
       "\n",
       "           7         8         9   ...   235  236  237  238  239  240  241  \\\n",
       "8893  0.010942  0.010832  0.003551 ...   0.0  0.0  0.0  0.0  0.0  0.0  0.0   \n",
       "2933  0.000000  0.000000  0.000000 ...   0.0  0.0  0.0  0.0  0.0  0.0  0.0   \n",
       "3933  0.007155  0.007942  0.010771 ...   0.0  0.0  0.0  0.0  0.0  0.0  0.0   \n",
       "3406  0.000000  0.000000  0.000000 ...   0.0  0.0  0.0  0.0  0.0  0.0  0.0   \n",
       "7210  0.003426  0.003748  0.006794 ...   0.0  0.0  0.0  0.0  0.0  0.0  0.0   \n",
       "\n",
       "      242  243  244  \n",
       "8893  0.0  0.0  0.0  \n",
       "2933  0.0  0.0  0.0  \n",
       "3933  0.0  0.0  0.0  \n",
       "3406  0.0  0.0  0.0  \n",
       "7210  0.0  0.0  0.0  \n",
       "\n",
       "[5 rows x 245 columns]"
      ]
     },
     "execution_count": 37,
     "metadata": {},
     "output_type": "execute_result"
    }
   ],
   "source": [
    "X_train.head()"
   ]
  },
  {
   "cell_type": "code",
   "execution_count": 38,
   "metadata": {},
   "outputs": [],
   "source": [
    "from sklearn.naive_bayes import GaussianNB\n",
    "gnb = GaussianNB().fit(X_train, y_train)\n",
    "gnb_pred = gnb.predict(X_test)"
   ]
  },
  {
   "cell_type": "code",
   "execution_count": 39,
   "metadata": {},
   "outputs": [
    {
     "name": "stdout",
     "output_type": "stream",
     "text": [
      "             precision    recall  f1-score   support\n",
      "\n",
      "          0       0.25      0.00      0.01       292\n",
      "          1       0.00      0.00      0.00       408\n",
      "          2       0.14      0.01      0.02       440\n",
      "          3       0.00      0.00      0.00       420\n",
      "          4       0.08      0.96      0.15       167\n",
      "          5       0.00      0.00      0.00       321\n",
      "\n",
      "avg / total       0.07      0.08      0.02      2048\n",
      "\n"
     ]
    }
   ],
   "source": [
    "from sklearn import metrics\n",
    "print(metrics.classification_report(y_test,gnb_pred))"
   ]
  },
  {
   "cell_type": "code",
   "execution_count": 40,
   "metadata": {},
   "outputs": [],
   "source": [
    "from sklearn.ensemble import RandomForestClassifier\n",
    "# Lets try with 100 trees\n",
    "num_trees=100\n",
    "rf=RandomForestClassifier(n_estimators=num_trees)\n",
    "rf.fit(X_train, y_train)\n",
    "rf_pred=rf.predict(X_test)"
   ]
  },
  {
   "cell_type": "code",
   "execution_count": 41,
   "metadata": {},
   "outputs": [
    {
     "name": "stdout",
     "output_type": "stream",
     "text": [
      "             precision    recall  f1-score   support\n",
      "\n",
      "          0       0.11      0.11      0.11       292\n",
      "          1       0.23      0.25      0.24       408\n",
      "          2       0.24      0.33      0.28       440\n",
      "          3       0.22      0.23      0.22       420\n",
      "          4       0.16      0.02      0.04       167\n",
      "          5       0.19      0.13      0.16       321\n",
      "\n",
      "avg / total       0.20      0.21      0.20      2048\n",
      "\n"
     ]
    }
   ],
   "source": [
    "print(metrics.classification_report(y_test,rf_pred))"
   ]
  },
  {
   "cell_type": "markdown",
   "metadata": {},
   "source": [
    "## Doc2Vec"
   ]
  },
  {
   "cell_type": "code",
   "execution_count": 42,
   "metadata": {},
   "outputs": [],
   "source": [
    "from gensim.models.doc2vec import Doc2Vec"
   ]
  },
  {
   "cell_type": "code",
   "execution_count": 43,
   "metadata": {},
   "outputs": [],
   "source": [
    "df_train_statements_d2v=df_train[['statement','label']]"
   ]
  },
  {
   "cell_type": "code",
   "execution_count": 44,
   "metadata": {},
   "outputs": [
    {
     "name": "stdout",
     "output_type": "stream",
     "text": [
      "Model Saved\n"
     ]
    }
   ],
   "source": [
    "max_epochs = 100\n",
    "vec_size = 20\n",
    "alpha = 0.025\n",
    "\n",
    "model = Doc2Vec(size=vec_size,\n",
    "                alpha=alpha, \n",
    "                min_alpha=0.00025,\n",
    "                min_count=1,\n",
    "                dm =1)\n",
    "  \n",
    "model.build_vocab(tagged_data)\n",
    "\n",
    "for epoch in range(max_epochs):\n",
    "    #print('iteration {0}'.format(epoch))\n",
    "    model.train(tagged_data,\n",
    "                total_examples=model.corpus_count,\n",
    "                epochs=model.iter)\n",
    "    # decrease the learning rate\n",
    "    model.alpha -= 0.0002\n",
    "    # fix the learning rate, no decay\n",
    "    model.min_alpha = model.alpha\n",
    "    \n",
    "model.save(\"d2v.model\")\n",
    "print(\"Model Saved\")    "
   ]
  },
  {
   "cell_type": "code",
   "execution_count": 45,
   "metadata": {},
   "outputs": [],
   "source": [
    "model= Doc2Vec.load(\"d2v.model\")\n",
    "texts=[]\n",
    "for x in df_train_statements_d2v['statement']:\n",
    "    texts.append(model.infer_vector(x))"
   ]
  },
  {
   "cell_type": "code",
   "execution_count": 46,
   "metadata": {},
   "outputs": [],
   "source": [
    "X=pd.DataFrame(texts)\n",
    "y=df_train_statements_d2v[['label']]\n",
    "X_train,X_test,y_train,y_test=train_test_split(X, y,test_size = .3, random_state = 1)"
   ]
  },
  {
   "cell_type": "code",
   "execution_count": 47,
   "metadata": {},
   "outputs": [
    {
     "data": {
      "text/html": [
       "<div>\n",
       "<style scoped>\n",
       "    .dataframe tbody tr th:only-of-type {\n",
       "        vertical-align: middle;\n",
       "    }\n",
       "\n",
       "    .dataframe tbody tr th {\n",
       "        vertical-align: top;\n",
       "    }\n",
       "\n",
       "    .dataframe thead th {\n",
       "        text-align: right;\n",
       "    }\n",
       "</style>\n",
       "<table border=\"1\" class=\"dataframe\">\n",
       "  <thead>\n",
       "    <tr style=\"text-align: right;\">\n",
       "      <th></th>\n",
       "      <th>0</th>\n",
       "      <th>1</th>\n",
       "      <th>2</th>\n",
       "      <th>3</th>\n",
       "      <th>4</th>\n",
       "      <th>5</th>\n",
       "      <th>6</th>\n",
       "      <th>7</th>\n",
       "      <th>8</th>\n",
       "      <th>9</th>\n",
       "      <th>10</th>\n",
       "      <th>11</th>\n",
       "      <th>12</th>\n",
       "      <th>13</th>\n",
       "      <th>14</th>\n",
       "      <th>15</th>\n",
       "      <th>16</th>\n",
       "      <th>17</th>\n",
       "      <th>18</th>\n",
       "      <th>19</th>\n",
       "    </tr>\n",
       "  </thead>\n",
       "  <tbody>\n",
       "    <tr>\n",
       "      <th>3474</th>\n",
       "      <td>-0.472167</td>\n",
       "      <td>0.285143</td>\n",
       "      <td>0.505687</td>\n",
       "      <td>-0.488758</td>\n",
       "      <td>-0.941588</td>\n",
       "      <td>-0.894592</td>\n",
       "      <td>-1.010582</td>\n",
       "      <td>-0.207834</td>\n",
       "      <td>-0.091899</td>\n",
       "      <td>0.430918</td>\n",
       "      <td>0.930920</td>\n",
       "      <td>0.560606</td>\n",
       "      <td>1.183173</td>\n",
       "      <td>0.620456</td>\n",
       "      <td>-0.226690</td>\n",
       "      <td>0.126816</td>\n",
       "      <td>-1.825766</td>\n",
       "      <td>1.052521</td>\n",
       "      <td>0.546116</td>\n",
       "      <td>-0.239515</td>\n",
       "    </tr>\n",
       "    <tr>\n",
       "      <th>6202</th>\n",
       "      <td>-0.271706</td>\n",
       "      <td>0.424109</td>\n",
       "      <td>-0.409772</td>\n",
       "      <td>-0.933764</td>\n",
       "      <td>-0.599684</td>\n",
       "      <td>0.088261</td>\n",
       "      <td>-0.079799</td>\n",
       "      <td>0.330763</td>\n",
       "      <td>0.704431</td>\n",
       "      <td>0.691475</td>\n",
       "      <td>0.534451</td>\n",
       "      <td>-0.210301</td>\n",
       "      <td>1.067020</td>\n",
       "      <td>-0.121666</td>\n",
       "      <td>0.074020</td>\n",
       "      <td>0.070870</td>\n",
       "      <td>-0.678426</td>\n",
       "      <td>-0.267611</td>\n",
       "      <td>-0.190322</td>\n",
       "      <td>0.220854</td>\n",
       "    </tr>\n",
       "    <tr>\n",
       "      <th>5868</th>\n",
       "      <td>1.313179</td>\n",
       "      <td>0.807285</td>\n",
       "      <td>0.937417</td>\n",
       "      <td>-0.953758</td>\n",
       "      <td>-0.078928</td>\n",
       "      <td>-0.179791</td>\n",
       "      <td>0.120920</td>\n",
       "      <td>0.534486</td>\n",
       "      <td>1.093299</td>\n",
       "      <td>0.516072</td>\n",
       "      <td>0.949977</td>\n",
       "      <td>-0.022350</td>\n",
       "      <td>-0.034218</td>\n",
       "      <td>1.243548</td>\n",
       "      <td>-0.504661</td>\n",
       "      <td>-0.092287</td>\n",
       "      <td>-0.478577</td>\n",
       "      <td>0.224858</td>\n",
       "      <td>0.228552</td>\n",
       "      <td>-1.100864</td>\n",
       "    </tr>\n",
       "    <tr>\n",
       "      <th>7357</th>\n",
       "      <td>0.140075</td>\n",
       "      <td>0.942888</td>\n",
       "      <td>0.320369</td>\n",
       "      <td>-0.224560</td>\n",
       "      <td>-0.374632</td>\n",
       "      <td>0.440562</td>\n",
       "      <td>-0.535706</td>\n",
       "      <td>0.813763</td>\n",
       "      <td>-0.326453</td>\n",
       "      <td>0.250710</td>\n",
       "      <td>0.434632</td>\n",
       "      <td>-0.353566</td>\n",
       "      <td>0.425918</td>\n",
       "      <td>0.037986</td>\n",
       "      <td>0.472598</td>\n",
       "      <td>-0.409434</td>\n",
       "      <td>-0.706907</td>\n",
       "      <td>0.333958</td>\n",
       "      <td>-0.282082</td>\n",
       "      <td>0.256722</td>\n",
       "    </tr>\n",
       "    <tr>\n",
       "      <th>9514</th>\n",
       "      <td>0.278805</td>\n",
       "      <td>0.565099</td>\n",
       "      <td>-0.136973</td>\n",
       "      <td>-0.373745</td>\n",
       "      <td>0.169904</td>\n",
       "      <td>0.343904</td>\n",
       "      <td>-0.028267</td>\n",
       "      <td>0.238844</td>\n",
       "      <td>-0.172236</td>\n",
       "      <td>0.199640</td>\n",
       "      <td>-0.082114</td>\n",
       "      <td>-0.341124</td>\n",
       "      <td>0.293023</td>\n",
       "      <td>-0.023433</td>\n",
       "      <td>0.078075</td>\n",
       "      <td>-0.277079</td>\n",
       "      <td>-0.352533</td>\n",
       "      <td>0.013527</td>\n",
       "      <td>-0.258152</td>\n",
       "      <td>-0.379974</td>\n",
       "    </tr>\n",
       "  </tbody>\n",
       "</table>\n",
       "</div>"
      ],
      "text/plain": [
       "            0         1         2         3         4         5         6   \\\n",
       "3474 -0.472167  0.285143  0.505687 -0.488758 -0.941588 -0.894592 -1.010582   \n",
       "6202 -0.271706  0.424109 -0.409772 -0.933764 -0.599684  0.088261 -0.079799   \n",
       "5868  1.313179  0.807285  0.937417 -0.953758 -0.078928 -0.179791  0.120920   \n",
       "7357  0.140075  0.942888  0.320369 -0.224560 -0.374632  0.440562 -0.535706   \n",
       "9514  0.278805  0.565099 -0.136973 -0.373745  0.169904  0.343904 -0.028267   \n",
       "\n",
       "            7         8         9         10        11        12        13  \\\n",
       "3474 -0.207834 -0.091899  0.430918  0.930920  0.560606  1.183173  0.620456   \n",
       "6202  0.330763  0.704431  0.691475  0.534451 -0.210301  1.067020 -0.121666   \n",
       "5868  0.534486  1.093299  0.516072  0.949977 -0.022350 -0.034218  1.243548   \n",
       "7357  0.813763 -0.326453  0.250710  0.434632 -0.353566  0.425918  0.037986   \n",
       "9514  0.238844 -0.172236  0.199640 -0.082114 -0.341124  0.293023 -0.023433   \n",
       "\n",
       "            14        15        16        17        18        19  \n",
       "3474 -0.226690  0.126816 -1.825766  1.052521  0.546116 -0.239515  \n",
       "6202  0.074020  0.070870 -0.678426 -0.267611 -0.190322  0.220854  \n",
       "5868 -0.504661 -0.092287 -0.478577  0.224858  0.228552 -1.100864  \n",
       "7357  0.472598 -0.409434 -0.706907  0.333958 -0.282082  0.256722  \n",
       "9514  0.078075 -0.277079 -0.352533  0.013527 -0.258152 -0.379974  "
      ]
     },
     "execution_count": 47,
     "metadata": {},
     "output_type": "execute_result"
    }
   ],
   "source": [
    "X_train.head()"
   ]
  },
  {
   "cell_type": "code",
   "execution_count": 48,
   "metadata": {},
   "outputs": [],
   "source": [
    "from sklearn.linear_model import LogisticRegression\n",
    "logisticRegr = LogisticRegression(C=100)\n",
    "logisticRegr.fit(X_train, y_train)\n",
    "lr_pred = logisticRegr.predict(X_test)"
   ]
  },
  {
   "cell_type": "code",
   "execution_count": 49,
   "metadata": {},
   "outputs": [
    {
     "name": "stdout",
     "output_type": "stream",
     "text": [
      "             precision    recall  f1-score   support\n",
      "\n",
      "barely-true       0.16      0.08      0.11       467\n",
      "      false       0.23      0.38      0.28       612\n",
      "  half-true       0.22      0.33      0.27       649\n",
      "mostly-true       0.20      0.25      0.23       586\n",
      " pants-fire       0.00      0.00      0.00       252\n",
      "       true       0.21      0.04      0.07       506\n",
      "\n",
      "avg / total       0.19      0.21      0.18      3072\n",
      "\n"
     ]
    }
   ],
   "source": [
    "print(metrics.classification_report(y_test,lr_pred))"
   ]
  },
  {
   "cell_type": "code",
   "execution_count": 50,
   "metadata": {},
   "outputs": [],
   "source": [
    "from sklearn.ensemble import RandomForestClassifier\n",
    "# Lets try with 100 trees\n",
    "num_trees=100\n",
    "rf=RandomForestClassifier(n_estimators=num_trees)\n",
    "rf.fit(X_train, y_train)\n",
    "rf_pred=rf.predict(X_test)"
   ]
  },
  {
   "cell_type": "code",
   "execution_count": 51,
   "metadata": {},
   "outputs": [
    {
     "name": "stdout",
     "output_type": "stream",
     "text": [
      "             precision    recall  f1-score   support\n",
      "\n",
      "barely-true       0.17      0.15      0.16       467\n",
      "      false       0.23      0.31      0.27       612\n",
      "  half-true       0.25      0.32      0.28       649\n",
      "mostly-true       0.20      0.25      0.22       586\n",
      " pants-fire       0.40      0.01      0.02       252\n",
      "       true       0.18      0.10      0.13       506\n",
      "\n",
      "avg / total       0.22      0.22      0.20      3072\n",
      "\n"
     ]
    }
   ],
   "source": [
    "print(metrics.classification_report(y_test,rf_pred))"
   ]
  },
  {
   "cell_type": "code",
   "execution_count": 52,
   "metadata": {},
   "outputs": [
    {
     "name": "stdout",
     "output_type": "stream",
     "text": [
      "[('9047', 0.8066724538803101), ('3589', 0.7924901843070984), ('3050', 0.770395815372467), ('694', 0.7636743783950806), ('1807', 0.7557646036148071), ('2625', 0.7238808870315552), ('7769', 0.7143417596817017), ('1754', 0.7011044025421143), ('5391', 0.700628399848938), ('990', 0.6900909543037415)]\n"
     ]
    }
   ],
   "source": [
    "similar_doc = model.docvecs.most_similar('1')\n",
    "print(similar_doc)"
   ]
  },
  {
   "cell_type": "markdown",
   "metadata": {},
   "source": [
    "### K-means for vectorized docs"
   ]
  },
  {
   "cell_type": "code",
   "execution_count": 53,
   "metadata": {},
   "outputs": [],
   "source": [
    "from nltk.cluster import KMeansClusterer"
   ]
  },
  {
   "cell_type": "code",
   "execution_count": 54,
   "metadata": {},
   "outputs": [],
   "source": [
    "#Taking a very long time\n",
    "#kclusterer = KMeansClusterer(5, distance=nltk.cluster.util.cosine_distance, repeats=5)\n",
    "#assigned_clusters = kclusterer.cluster(texts, assign_clusters=True)\n",
    "#assigned_clusters[0]"
   ]
  },
  {
   "cell_type": "code",
   "execution_count": 55,
   "metadata": {},
   "outputs": [
    {
     "ename": "NameError",
     "evalue": "name 'assigned_clusters' is not defined",
     "output_type": "error",
     "traceback": [
      "\u001b[0;31m---------------------------------------------------------------------------\u001b[0m",
      "\u001b[0;31mNameError\u001b[0m                                 Traceback (most recent call last)",
      "\u001b[0;32m<ipython-input-55-85783786baf5>\u001b[0m in \u001b[0;36m<module>\u001b[0;34m()\u001b[0m\n\u001b[1;32m      1\u001b[0m \u001b[0;31m#for i, word in enumerate(texts):\u001b[0m\u001b[0;34m\u001b[0m\u001b[0;34m\u001b[0m\u001b[0m\n\u001b[1;32m      2\u001b[0m \u001b[0;31m#    print (texts[i] , assigned_clusters[i])\u001b[0m\u001b[0;34m\u001b[0m\u001b[0;34m\u001b[0m\u001b[0m\n\u001b[0;32m----> 3\u001b[0;31m \u001b[0mprint\u001b[0m \u001b[0;34m(\u001b[0m\u001b[0mtexts\u001b[0m\u001b[0;34m[\u001b[0m\u001b[0;36m1\u001b[0m\u001b[0;34m]\u001b[0m \u001b[0;34m,\u001b[0m \u001b[0massigned_clusters\u001b[0m\u001b[0;34m[\u001b[0m\u001b[0;36m1\u001b[0m\u001b[0;34m]\u001b[0m\u001b[0;34m)\u001b[0m\u001b[0;34m\u001b[0m\u001b[0m\n\u001b[0m",
      "\u001b[0;31mNameError\u001b[0m: name 'assigned_clusters' is not defined"
     ]
    }
   ],
   "source": [
    "#for i, word in enumerate(texts):  \n",
    "#    print (texts[i] , assigned_clusters[i])\n",
    "print (texts[1] , assigned_clusters[1])"
   ]
  },
  {
   "cell_type": "code",
   "execution_count": 56,
   "metadata": {},
   "outputs": [
    {
     "data": {
      "image/png": "[encoded data removed]",
      "text/plain": [
       "<Figure size 432x288 with 1 Axes>"
      ]
     },
     "metadata": {},
     "output_type": "display_data"
    }
   ],
   "source": [
    "from sklearn.cluster import KMeans as km\n",
    "import matplotlib.pyplot as plt\n",
    "def kmeans_plot(k):\n",
    "    kmeans=km(n_clusters=k,random_state=0).fit(texts)\n",
    "    labels=kmeans.labels_\n",
    "    centroids=kmeans.cluster_centers_    \n",
    "    colors = ['r','g','b','y','c','m','r','g','b','y','c','m','r','g','b','y','c','m']\n",
    "    fig, ax=plt.subplots()\n",
    "    \n",
    "    for i in range(k):\n",
    "        points=np.array([texts[j] for j in range(len(texts)) if labels[j]==i])\n",
    "        ax.scatter(points[:,0],points[:,1],s=7,c=colors[i])\n",
    "    ax.scatter(centroids[:,0],centroids[:,1],marker='*',s=200,c='#050505')     \n",
    "kmeans_plot(5)    "
   ]
  },
  {
   "cell_type": "markdown",
   "metadata": {},
   "source": [
    "## LDA Topic Modelling to see if we can find any topic"
   ]
  },
  {
   "cell_type": "code",
   "execution_count": 57,
   "metadata": {},
   "outputs": [
    {
     "name": "stdout",
     "output_type": "stream",
     "text": [
      "Topic: 0 \n",
      "Words: 0.031*\"say\" + 0.027*\"obama\" + 0.027*\"presid\" + 0.021*\"vote\" + 0.015*\"barack\" + 0.015*\"clinton\" + 0.014*\"democrat\" + 0.014*\"republican\" + 0.013*\"said\" + 0.013*\"bill\"\n",
      "Topic: 1 \n",
      "Words: 0.017*\"counti\" + 0.013*\"gun\" + 0.012*\"citi\" + 0.012*\"say\" + 0.011*\"state\" + 0.010*\"milwauke\" + 0.008*\"union\" + 0.008*\"kid\" + 0.008*\"peopl\" + 0.008*\"percent\"\n",
      "Topic: 2 \n",
      "Words: 0.041*\"tax\" + 0.033*\"year\" + 0.031*\"state\" + 0.025*\"job\" + 0.017*\"percent\" + 0.015*\"say\" + 0.013*\"billion\" + 0.013*\"budget\" + 0.012*\"sinc\" + 0.011*\"cut\"\n",
      "Topic: 3 \n",
      "Words: 0.030*\"health\" + 0.029*\"percent\" + 0.027*\"care\" + 0.017*\"american\" + 0.014*\"peopl\" + 0.013*\"go\" + 0.012*\"insur\" + 0.011*\"cost\" + 0.011*\"year\" + 0.010*\"averag\"\n",
      "Topic: 4 \n",
      "Words: 0.047*\"say\" + 0.015*\"vote\" + 0.013*\"romney\" + 0.013*\"educ\" + 0.011*\"voter\" + 0.011*\"mitt\" + 0.008*\"rick\" + 0.008*\"cut\" + 0.008*\"state\" + 0.007*\"democrat\"\n",
      "Topic: 5 \n",
      "Words: 0.029*\"say\" + 0.016*\"trump\" + 0.015*\"secur\" + 0.012*\"donald\" + 0.012*\"money\" + 0.011*\"social\" + 0.011*\"would\" + 0.010*\"fund\" + 0.010*\"privat\" + 0.010*\"abort\"\n",
      "Topic: 6 \n",
      "Words: 0.018*\"state\" + 0.014*\"oil\" + 0.014*\"percent\" + 0.013*\"unit\" + 0.013*\"countri\" + 0.012*\"ever\" + 0.012*\"everi\" + 0.011*\"woman\" + 0.010*\"say\" + 0.010*\"today\"\n"
     ]
    }
   ],
   "source": [
    "from gensim import corpora, models\n",
    "texts=df_train['statement']\n",
    "dictionary = corpora.Dictionary(texts)\n",
    "corpus = [dictionary.doc2bow(text) for text in texts]\n",
    "ldamodel = gensim.models.ldamodel.LdaModel(corpus, num_topics=7, id2word = dictionary, passes=20)\n",
    "for idx, topic in ldamodel.print_topics(-1):\n",
    "    print('Topic: {} \\nWords: {}'.format(idx, topic))"
   ]
  },
  {
   "cell_type": "code",
   "execution_count": null,
   "metadata": {},
   "outputs": [],
   "source": []
  },
  {
   "cell_type": "markdown",
   "metadata": {},
   "source": [
    "### Topics Seems like are all related to Politics, broadly followings:\n",
    "- Tax Cut\n",
    "- Health Care\n",
    "- Immigration and Tax Policies\n",
    "- 2016 Presidential Campaigns"
   ]
  },
  {
   "cell_type": "markdown",
   "metadata": {},
   "source": [
    "## Factor Political Affiliation"
   ]
  },
  {
   "cell_type": "code",
   "execution_count": 125,
   "metadata": {},
   "outputs": [
    {
     "data": {
      "text/plain": [
       "14"
      ]
     },
     "execution_count": 125,
     "metadata": {},
     "output_type": "execute_result"
    }
   ],
   "source": [
    "vocab_political_affiliation=['president','george','bush','administration','republican','democrats','barack','obama','hillary','clinton','donald','trump','senate','house']\n",
    "#vocab_political_affiliation=['president','george','bush','administration']\n",
    "#vocab_political_affiliation=['president','administration','republican','democrats','barack','clinton','donald','trump','senate','house']\n",
    "len(vocab_political_affiliation)"
   ]
  },
  {
   "cell_type": "code",
   "execution_count": 126,
   "metadata": {},
   "outputs": [],
   "source": [
    "l_statments=df_lair['statement'].str.lower().values.tolist()"
   ]
  },
  {
   "cell_type": "code",
   "execution_count": 127,
   "metadata": {},
   "outputs": [
    {
     "data": {
      "text/plain": [
       "TfidfVectorizer(analyzer='word', binary=False, decode_error='strict',\n",
       "        dtype=<class 'numpy.int64'>, encoding='utf-8', input='content',\n",
       "        lowercase=True, max_df=1.0, max_features=None, min_df=1,\n",
       "        ngram_range=(1, 1), norm='l2', preprocessor=None, smooth_idf=True,\n",
       "        stop_words=None, strip_accents=None, sublinear_tf=False,\n",
       "        token_pattern='(?u)\\\\b\\\\w\\\\w+\\\\b', tokenizer=None, use_idf=True,\n",
       "        vocabulary=['president', 'george', 'bush', 'administration', 'republican', 'democrats', 'barack', 'obama', 'hillary', 'clinton', 'donald', 'trump', 'senate', 'house'])"
      ]
     },
     "execution_count": 127,
     "metadata": {},
     "output_type": "execute_result"
    }
   ],
   "source": [
    "from sklearn.feature_extraction.text import TfidfVectorizer\n",
    "vectorizer = TfidfVectorizer(vocabulary=vocab_political_affiliation)\n",
    "vectorizer"
   ]
  },
  {
   "cell_type": "code",
   "execution_count": 128,
   "metadata": {},
   "outputs": [],
   "source": [
    "#vectorizer = TfidfVectorizer()\n",
    "tfidf_matrix = vectorizer.fit_transform(l_statments)\n",
    "feature_names = vectorizer.get_feature_names()"
   ]
  },
  {
   "cell_type": "code",
   "execution_count": 129,
   "metadata": {},
   "outputs": [
    {
     "data": {
      "text/plain": [
       "10240"
      ]
     },
     "execution_count": 129,
     "metadata": {},
     "output_type": "execute_result"
    }
   ],
   "source": [
    "len(tfidf_matrix.toarray())"
   ]
  },
  {
   "cell_type": "code",
   "execution_count": 166,
   "metadata": {},
   "outputs": [
    {
     "data": {
      "text/plain": [
       "array([[0.        , 0.        , 0.        , 0.        , 0.        ,\n",
       "        0.        , 0.        , 0.        , 0.        , 0.        ,\n",
       "        0.        , 0.        , 0.        , 0.        ],\n",
       "       [0.5978407 , 0.66303975, 0.45051612, 0.        , 0.        ,\n",
       "        0.        , 0.        , 0.        , 0.        , 0.        ,\n",
       "        0.        , 0.        , 0.        , 0.        ],\n",
       "       [0.45858298, 0.47721458, 0.50029802, 0.55827394, 0.        ,\n",
       "        0.        , 0.        , 0.        , 0.        , 0.        ,\n",
       "        0.        , 0.        , 0.        , 0.        ],\n",
       "       [0.        , 0.        , 0.        , 0.        , 0.        ,\n",
       "        0.        , 0.        , 0.        , 0.        , 0.        ,\n",
       "        0.        , 0.        , 0.        , 0.        ],\n",
       "       [0.        , 0.        , 0.        , 0.        , 0.        ,\n",
       "        0.        , 0.        , 0.        , 0.        , 0.        ,\n",
       "        0.        , 0.        , 0.        , 0.        ]])"
      ]
     },
     "execution_count": 166,
     "metadata": {},
     "output_type": "execute_result"
    }
   ],
   "source": [
    "tf_idf_vals=[]\n",
    "for i in range(len(tfidf_matrix.toarray())):\n",
    "    tf_idf_doc=np.zeros(len(vocab_political_affiliation))\n",
    "    feature_index = tfidf_matrix[i,:].nonzero()[1]\n",
    "    tfidf_scores = zip(feature_index, [tfidf_matrix[i,x] for x in feature_index])\n",
    "    count=0\n",
    "    for w, s in [(feature_names[i], s) for (i, s) in tfidf_scores]:\n",
    "        if (w in vocab_political_affiliation):\n",
    "            tf_idf_doc[count]=s\n",
    "            count+=1\n",
    "    tf_idf_vals.append(tf_idf_doc.tolist())   \n",
    "tf_idf_vals=np.array(tf_idf_vals)\n",
    "#tf_idf_vals=tf_idf_vals[~(tf_idf_vals==0).all(1)]\n",
    "tf_idf_vals[0:5]\n",
    "#tf_idf_vals[np.all(tf_idf_vals == 0,axis=1)]"
   ]
  },
  {
   "cell_type": "code",
   "execution_count": 167,
   "metadata": {},
   "outputs": [],
   "source": [
    "def replace_label(x):\n",
    "    if (x == 'true' or x=='mostly-true' or x=='half-true'):\n",
    "        return 1\n",
    "    else:\n",
    "        return 0"
   ]
  },
  {
   "cell_type": "code",
   "execution_count": 168,
   "metadata": {},
   "outputs": [
    {
     "data": {
      "text/plain": [
       "1"
      ]
     },
     "execution_count": 168,
     "metadata": {},
     "output_type": "execute_result"
    }
   ],
   "source": [
    "replace_label('true')\n",
    "#replace_label('false')"
   ]
  },
  {
   "cell_type": "code",
   "execution_count": 186,
   "metadata": {},
   "outputs": [
    {
     "data": {
      "text/plain": [
       "array([0, 1])"
      ]
     },
     "execution_count": 186,
     "metadata": {},
     "output_type": "execute_result"
    }
   ],
   "source": [
    "X=tf_idf_vals\n",
    "y=df_lair['label'].map(lambda x:replace_label(x))\n",
    "X_train,X_test,y_train,y_test=train_test_split(X, y,test_size = .4, random_state = 1)\n",
    "np.unique(y)"
   ]
  },
  {
   "cell_type": "code",
   "execution_count": 187,
   "metadata": {},
   "outputs": [],
   "source": [
    "from sklearn.linear_model import LogisticRegression\n",
    "logisticRegr = LogisticRegression(C=100)\n",
    "logisticRegr.fit(X_train, y_train)\n",
    "lr_pred = logisticRegr.predict(X_test)"
   ]
  },
  {
   "cell_type": "code",
   "execution_count": 189,
   "metadata": {},
   "outputs": [
    {
     "name": "stdout",
     "output_type": "stream",
     "text": [
      "             precision    recall  f1-score   support\n",
      "\n",
      "          0       0.49      0.15      0.23      1778\n",
      "          1       0.57      0.88      0.69      2318\n",
      "\n",
      "avg / total       0.54      0.56      0.49      4096\n",
      "\n"
     ]
    }
   ],
   "source": [
    "print(metrics.classification_report(y_test,lr_pred))"
   ]
  },
  {
   "cell_type": "markdown",
   "metadata": {},
   "source": [
    "## Conclusion: Document with higher tf-idf has higher political affilication"
   ]
  },
  {
   "cell_type": "markdown",
   "metadata": {},
   "source": [
    "## Kaggel Data set"
   ]
  },
  {
   "cell_type": "code",
   "execution_count": 15,
   "metadata": {},
   "outputs": [
    {
     "data": {
      "text/plain": [
       "(7569, 9)"
      ]
     },
     "execution_count": 15,
     "metadata": {},
     "output_type": "execute_result"
    }
   ],
   "source": [
    "df_kgl=pd.read_csv('./kaggel/train.csv',header=0)\n",
    "df_kgl.shape"
   ]
  },
  {
   "cell_type": "code",
   "execution_count": 16,
   "metadata": {},
   "outputs": [
    {
     "data": {
      "text/html": [
       "<div>\n",
       "<style scoped>\n",
       "    .dataframe tbody tr th:only-of-type {\n",
       "        vertical-align: middle;\n",
       "    }\n",
       "\n",
       "    .dataframe tbody tr th {\n",
       "        vertical-align: top;\n",
       "    }\n",
       "\n",
       "    .dataframe thead th {\n",
       "        text-align: right;\n",
       "    }\n",
       "</style>\n",
       "<table border=\"1\" class=\"dataframe\">\n",
       "  <thead>\n",
       "    <tr style=\"text-align: right;\">\n",
       "      <th></th>\n",
       "      <th>date</th>\n",
       "      <th>edited_by</th>\n",
       "      <th>job</th>\n",
       "      <th>researched_by</th>\n",
       "      <th>source</th>\n",
       "      <th>state</th>\n",
       "      <th>statement</th>\n",
       "      <th>subjects</th>\n",
       "      <th>truth</th>\n",
       "    </tr>\n",
       "  </thead>\n",
       "  <tbody>\n",
       "    <tr>\n",
       "      <th>0</th>\n",
       "      <td>2013-08-29</td>\n",
       "      <td>Angie Drobnic Holan</td>\n",
       "      <td>Republican</td>\n",
       "      <td>Jon Greenberg</td>\n",
       "      <td>Scott Walker</td>\n",
       "      <td>Wisconsin</td>\n",
       "      <td>In the Wisconsin health insurance exchange, \"t...</td>\n",
       "      <td>['Health Care']</td>\n",
       "      <td>3</td>\n",
       "    </tr>\n",
       "    <tr>\n",
       "      <th>1</th>\n",
       "      <td>2013-08-29</td>\n",
       "      <td>Angie Drobnic Holan</td>\n",
       "      <td>Republican</td>\n",
       "      <td>Louis Jacobson</td>\n",
       "      <td>Mike Huckabee</td>\n",
       "      <td>Arkansas</td>\n",
       "      <td>\"America’s gun-related homicide rate … would b...</td>\n",
       "      <td>['Crime', 'Guns', 'Pundits']</td>\n",
       "      <td>0</td>\n",
       "    </tr>\n",
       "    <tr>\n",
       "      <th>2</th>\n",
       "      <td>2013-08-29</td>\n",
       "      <td>Greg Borowski</td>\n",
       "      <td>NaN</td>\n",
       "      <td>Tom Kertscher</td>\n",
       "      <td>League of Conservation Voters</td>\n",
       "      <td>NaN</td>\n",
       "      <td>Says U.S. Sen. Ron Johnson voted to let oil an...</td>\n",
       "      <td>['Climate Change', 'Energy', 'Environment', 'T...</td>\n",
       "      <td>5</td>\n",
       "    </tr>\n",
       "    <tr>\n",
       "      <th>3</th>\n",
       "      <td>2013-08-28</td>\n",
       "      <td>Aaron Sharockman</td>\n",
       "      <td>NaN</td>\n",
       "      <td>Rochelle Koff</td>\n",
       "      <td>National Republican Congressional Committee</td>\n",
       "      <td>NaN</td>\n",
       "      <td>\"Congressman Patrick Murphy voted to keep the ...</td>\n",
       "      <td>['Health Care']</td>\n",
       "      <td>2</td>\n",
       "    </tr>\n",
       "    <tr>\n",
       "      <th>4</th>\n",
       "      <td>2013-08-28</td>\n",
       "      <td>Aaron Sharockman</td>\n",
       "      <td>NaN</td>\n",
       "      <td>Angie Drobnic Holan</td>\n",
       "      <td>Janet Napolitano</td>\n",
       "      <td>NaN</td>\n",
       "      <td>The 2010 DREAM Act failed despite \"strong bipa...</td>\n",
       "      <td>['Bipartisanship', 'Immigration']</td>\n",
       "      <td>2</td>\n",
       "    </tr>\n",
       "  </tbody>\n",
       "</table>\n",
       "</div>"
      ],
      "text/plain": [
       "         date            edited_by         job        researched_by  \\\n",
       "0  2013-08-29  Angie Drobnic Holan  Republican        Jon Greenberg   \n",
       "1  2013-08-29  Angie Drobnic Holan  Republican       Louis Jacobson   \n",
       "2  2013-08-29        Greg Borowski         NaN        Tom Kertscher   \n",
       "3  2013-08-28     Aaron Sharockman         NaN        Rochelle Koff   \n",
       "4  2013-08-28     Aaron Sharockman         NaN  Angie Drobnic Holan   \n",
       "\n",
       "                                        source      state  \\\n",
       "0                                 Scott Walker  Wisconsin   \n",
       "1                                Mike Huckabee   Arkansas   \n",
       "2                League of Conservation Voters        NaN   \n",
       "3  National Republican Congressional Committee        NaN   \n",
       "4                             Janet Napolitano        NaN   \n",
       "\n",
       "                                           statement  \\\n",
       "0  In the Wisconsin health insurance exchange, \"t...   \n",
       "1  \"America’s gun-related homicide rate … would b...   \n",
       "2  Says U.S. Sen. Ron Johnson voted to let oil an...   \n",
       "3  \"Congressman Patrick Murphy voted to keep the ...   \n",
       "4  The 2010 DREAM Act failed despite \"strong bipa...   \n",
       "\n",
       "                                            subjects  truth  \n",
       "0                                    ['Health Care']      3  \n",
       "1                       ['Crime', 'Guns', 'Pundits']      0  \n",
       "2  ['Climate Change', 'Energy', 'Environment', 'T...      5  \n",
       "3                                    ['Health Care']      2  \n",
       "4                  ['Bipartisanship', 'Immigration']      2  "
      ]
     },
     "execution_count": 16,
     "metadata": {},
     "output_type": "execute_result"
    }
   ],
   "source": [
    "df_kgl.head()"
   ]
  },
  {
   "cell_type": "code",
   "execution_count": 17,
   "metadata": {},
   "outputs": [],
   "source": [
    "import seaborn as sns\n",
    "import matplotlib.pyplot as plt\n",
    "%matplotlib inline"
   ]
  },
  {
   "cell_type": "code",
   "execution_count": 18,
   "metadata": {},
   "outputs": [
    {
     "data": {
      "text/plain": [
       "<matplotlib.axes._subplots.AxesSubplot at 0x1a18175eb8>"
      ]
     },
     "execution_count": 18,
     "metadata": {},
     "output_type": "execute_result"
    },
    {
     "data": {
      "image/png": "[encoded data removed]",
      "text/plain": [
       "<Figure size 432x288 with 1 Axes>"
      ]
     },
     "metadata": {},
     "output_type": "display_data"
    }
   ],
   "source": [
    "sns.countplot(x=\"truth\",data=df_kgl)"
   ]
  },
  {
   "cell_type": "code",
   "execution_count": 57,
   "metadata": {},
   "outputs": [],
   "source": [
    "import ast\n",
    "#df_kgl[['subjects']].apply(lambda x:ast.literal_eval(x))\n",
    "df_kgl['subjects_list']=df_kgl['subjects'].apply(lambda x:ast.literal_eval(x))"
   ]
  },
  {
   "cell_type": "code",
   "execution_count": 67,
   "metadata": {},
   "outputs": [],
   "source": [
    "subjects=[]\n",
    "for col in df_kgl['subjects_list']:\n",
    "    for val in col:\n",
    "        subjects.append(val)"
   ]
  },
  {
   "cell_type": "markdown",
   "metadata": {},
   "source": [
    "#### Top 20 Subjects"
   ]
  },
  {
   "cell_type": "code",
   "execution_count": 96,
   "metadata": {},
   "outputs": [
    {
     "data": {
      "text/plain": [
       "[('Health Care', 946),\n",
       " ('Economy', 905),\n",
       " ('Taxes', 848),\n",
       " ('Federal Budget', 711),\n",
       " ('State Budget', 592),\n",
       " ('Jobs', 544),\n",
       " ('Education', 538),\n",
       " ('Candidate Biography', 442),\n",
       " ('Elections', 402),\n",
       " ('Energy', 344),\n",
       " ('Message Machine 2012', 326),\n",
       " ('Immigration', 289),\n",
       " ('Environment', 271),\n",
       " ('Crime', 266),\n",
       " ('Message Machine 2010', 255),\n",
       " ('Job Accomplishments', 240),\n",
       " ('Legal Issues', 221),\n",
       " ('Transportation', 219),\n",
       " ('History', 217),\n",
       " ('Deficit', 215)]"
      ]
     },
     "execution_count": 96,
     "metadata": {},
     "output_type": "execute_result"
    }
   ],
   "source": [
    "from collections import Counter\n",
    "letter_counts = Counter(subjects).most_common(20)\n",
    "letter_counts\n",
    "#df = pd.DataFrame.from_dict(letter_counts, orient='index')\n",
    "#df.plot(kind='bar',figsize=(20,4))"
   ]
  },
  {
   "cell_type": "code",
   "execution_count": 102,
   "metadata": {},
   "outputs": [
    {
     "data": {
      "text/html": [
       "<div>\n",
       "<style scoped>\n",
       "    .dataframe tbody tr th:only-of-type {\n",
       "        vertical-align: middle;\n",
       "    }\n",
       "\n",
       "    .dataframe tbody tr th {\n",
       "        vertical-align: top;\n",
       "    }\n",
       "\n",
       "    .dataframe thead th {\n",
       "        text-align: right;\n",
       "    }\n",
       "</style>\n",
       "<table border=\"1\" class=\"dataframe\">\n",
       "  <thead>\n",
       "    <tr style=\"text-align: right;\">\n",
       "      <th></th>\n",
       "      <th>date</th>\n",
       "      <th>edited_by</th>\n",
       "      <th>job</th>\n",
       "      <th>researched_by</th>\n",
       "      <th>source</th>\n",
       "      <th>state</th>\n",
       "      <th>statement</th>\n",
       "      <th>subjects</th>\n",
       "      <th>truth</th>\n",
       "      <th>subjects_list</th>\n",
       "    </tr>\n",
       "  </thead>\n",
       "  <tbody>\n",
       "    <tr>\n",
       "      <th>0</th>\n",
       "      <td>2013-08-29</td>\n",
       "      <td>Angie Drobnic Holan</td>\n",
       "      <td>Republican</td>\n",
       "      <td>Jon Greenberg</td>\n",
       "      <td>Scott Walker</td>\n",
       "      <td>Wisconsin</td>\n",
       "      <td>In the Wisconsin health insurance exchange, \"t...</td>\n",
       "      <td>['Health Care']</td>\n",
       "      <td>3</td>\n",
       "      <td>[Health Care]</td>\n",
       "    </tr>\n",
       "    <tr>\n",
       "      <th>3</th>\n",
       "      <td>2013-08-28</td>\n",
       "      <td>Aaron Sharockman</td>\n",
       "      <td>NaN</td>\n",
       "      <td>Rochelle Koff</td>\n",
       "      <td>National Republican Congressional Committee</td>\n",
       "      <td>NaN</td>\n",
       "      <td>\"Congressman Patrick Murphy voted to keep the ...</td>\n",
       "      <td>['Health Care']</td>\n",
       "      <td>2</td>\n",
       "      <td>[Health Care]</td>\n",
       "    </tr>\n",
       "    <tr>\n",
       "      <th>23</th>\n",
       "      <td>2013-08-22</td>\n",
       "      <td>Greg Borowski</td>\n",
       "      <td>Democrat</td>\n",
       "      <td>Dave Umhoefer</td>\n",
       "      <td>Peter Barca</td>\n",
       "      <td>Wisconsin</td>\n",
       "      <td>Under a new law regulating abortions, \"Even if...</td>\n",
       "      <td>['Abortion', 'Health Care', 'Women']</td>\n",
       "      <td>3</td>\n",
       "      <td>[Abortion, Health Care, Women]</td>\n",
       "    </tr>\n",
       "    <tr>\n",
       "      <th>25</th>\n",
       "      <td>2013-08-21</td>\n",
       "      <td>Angie Drobnic Holan</td>\n",
       "      <td>NaN</td>\n",
       "      <td>Becky Bowers</td>\n",
       "      <td>Bloggers</td>\n",
       "      <td>NaN</td>\n",
       "      <td>Obamacare provision will allow \"forced home in...</td>\n",
       "      <td>['Civil Rights', 'Health Care', 'Privacy', 'Pu...</td>\n",
       "      <td>0</td>\n",
       "      <td>[Civil Rights, Health Care, Privacy, Public He...</td>\n",
       "    </tr>\n",
       "    <tr>\n",
       "      <th>26</th>\n",
       "      <td>2013-08-21</td>\n",
       "      <td>Angie Drobnic Holan</td>\n",
       "      <td>Republican</td>\n",
       "      <td>Jon Greenberg</td>\n",
       "      <td>Mike Lee</td>\n",
       "      <td>Utah</td>\n",
       "      <td>Says unions call Obamacare \"bad for workers.\"</td>\n",
       "      <td>['Health Care', 'Unions']</td>\n",
       "      <td>4</td>\n",
       "      <td>[Health Care, Unions]</td>\n",
       "    </tr>\n",
       "  </tbody>\n",
       "</table>\n",
       "</div>"
      ],
      "text/plain": [
       "          date            edited_by         job  researched_by  \\\n",
       "0   2013-08-29  Angie Drobnic Holan  Republican  Jon Greenberg   \n",
       "3   2013-08-28     Aaron Sharockman         NaN  Rochelle Koff   \n",
       "23  2013-08-22        Greg Borowski    Democrat  Dave Umhoefer   \n",
       "25  2013-08-21  Angie Drobnic Holan         NaN   Becky Bowers   \n",
       "26  2013-08-21  Angie Drobnic Holan  Republican  Jon Greenberg   \n",
       "\n",
       "                                         source      state  \\\n",
       "0                                  Scott Walker  Wisconsin   \n",
       "3   National Republican Congressional Committee        NaN   \n",
       "23                                  Peter Barca  Wisconsin   \n",
       "25                                     Bloggers        NaN   \n",
       "26                                     Mike Lee       Utah   \n",
       "\n",
       "                                            statement  \\\n",
       "0   In the Wisconsin health insurance exchange, \"t...   \n",
       "3   \"Congressman Patrick Murphy voted to keep the ...   \n",
       "23  Under a new law regulating abortions, \"Even if...   \n",
       "25  Obamacare provision will allow \"forced home in...   \n",
       "26      Says unions call Obamacare \"bad for workers.\"   \n",
       "\n",
       "                                             subjects  truth  \\\n",
       "0                                     ['Health Care']      3   \n",
       "3                                     ['Health Care']      2   \n",
       "23               ['Abortion', 'Health Care', 'Women']      3   \n",
       "25  ['Civil Rights', 'Health Care', 'Privacy', 'Pu...      0   \n",
       "26                          ['Health Care', 'Unions']      4   \n",
       "\n",
       "                                        subjects_list  \n",
       "0                                       [Health Care]  \n",
       "3                                       [Health Care]  \n",
       "23                     [Abortion, Health Care, Women]  \n",
       "25  [Civil Rights, Health Care, Privacy, Public He...  \n",
       "26                              [Health Care, Unions]  "
      ]
     },
     "execution_count": 102,
     "metadata": {},
     "output_type": "execute_result"
    }
   ],
   "source": [
    "df_kgl_hc=df_kgl[df_kgl['subjects'].str.contains('Health Care')]\n",
    "df_kgl_hc.head()"
   ]
  },
  {
   "cell_type": "code",
   "execution_count": 164,
   "metadata": {},
   "outputs": [
    {
     "data": {
      "text/plain": [
       "0     [wisconsin, health, insur, exchang, societi, a...\n",
       "3     [congressman, patrick, murphi, vote, keep, ir,...\n",
       "23    [new, law, regul, abort, even, rape, report, f...\n",
       "25    [obamacar, provis, allow, forc, home, inspect,...\n",
       "26            [say, union, call, obamacar, bad, worker]\n",
       "Name: statement, dtype: object"
      ]
     },
     "execution_count": 164,
     "metadata": {},
     "output_type": "execute_result"
    }
   ],
   "source": [
    "df_kgl_hc_train=text_preprocessing(df_kgl_hc,'statement')\n",
    "df_kgl_hc_train['statement'].head()"
   ]
  },
  {
   "cell_type": "code",
   "execution_count": 165,
   "metadata": {},
   "outputs": [
    {
     "data": {
      "text/plain": [
       "<matplotlib.axes._subplots.AxesSubplot at 0x1a29e15240>"
      ]
     },
     "execution_count": 165,
     "metadata": {},
     "output_type": "execute_result"
    },
    {
     "data": {
      "image/png": "[encoded data removed]",
      "text/plain": [
       "<Figure size 432x288 with 1 Axes>"
      ]
     },
     "metadata": {},
     "output_type": "display_data"
    }
   ],
   "source": [
    "sns.countplot(x=\"truth\",data=df_kgl_hc_train)"
   ]
  },
  {
   "cell_type": "code",
   "execution_count": 166,
   "metadata": {},
   "outputs": [
    {
     "name": "stdout",
     "output_type": "stream",
     "text": [
      "Topic: 0 \n",
      "Words: 0.068*\"health\" + 0.059*\"care\" + 0.019*\"say\" + 0.018*\"year\" + 0.017*\"insur\" + 0.014*\"plan\" + 0.014*\"tax\" + 0.010*\"american\" + 0.010*\"percent\" + 0.009*\"go\"\n",
      "Topic: 1 \n",
      "Words: 0.069*\"health\" + 0.051*\"care\" + 0.026*\"insur\" + 0.020*\"say\" + 0.019*\"obama\" + 0.016*\"bill\" + 0.016*\"plan\" + 0.016*\"law\" + 0.016*\"reform\" + 0.014*\"would\"\n",
      "Topic: 2 \n",
      "Words: 0.040*\"state\" + 0.015*\"say\" + 0.015*\"million\" + 0.015*\"scott\" + 0.012*\"texa\" + 0.011*\"rick\" + 0.010*\"new\" + 0.010*\"spend\" + 0.009*\"rhode\" + 0.009*\"island\"\n",
      "Topic: 3 \n",
      "Words: 0.031*\"medicar\" + 0.025*\"obamacar\" + 0.019*\"billion\" + 0.017*\"say\" + 0.016*\"vote\" + 0.015*\"cut\" + 0.014*\"fund\" + 0.011*\"year\" + 0.011*\"abort\" + 0.010*\"cost\"\n",
      "Topic: 4 \n",
      "Words: 0.021*\"care\" + 0.021*\"health\" + 0.013*\"obamacar\" + 0.012*\"say\" + 0.011*\"peopl\" + 0.010*\"state\" + 0.009*\"child\" + 0.009*\"america\" + 0.008*\"tax\" + 0.008*\"would\"\n",
      "Topic: 5 \n",
      "Words: 0.028*\"medicar\" + 0.022*\"health\" + 0.020*\"care\" + 0.013*\"use\" + 0.010*\"social\" + 0.010*\"say\" + 0.009*\"bill\" + 0.009*\"board\" + 0.008*\"plan\" + 0.008*\"vote\"\n",
      "Topic: 6 \n",
      "Words: 0.054*\"health\" + 0.047*\"care\" + 0.023*\"law\" + 0.019*\"say\" + 0.016*\"insur\" + 0.015*\"percent\" + 0.014*\"medicar\" + 0.013*\"bill\" + 0.012*\"peopl\" + 0.011*\"ryan\"\n"
     ]
    }
   ],
   "source": [
    "from gensim import corpora, models\n",
    "texts=df_kgl_hc_train['statement']\n",
    "dictionary = corpora.Dictionary(texts)\n",
    "corpus = [dictionary.doc2bow(text) for text in texts]\n",
    "ldamodel = gensim.models.ldamodel.LdaModel(corpus, num_topics=7, id2word = dictionary, passes=20)\n",
    "for idx, topic in ldamodel.print_topics(-1):\n",
    "    print('Topic: {} \\nWords: {}'.format(idx, topic))"
   ]
  },
  {
   "cell_type": "code",
   "execution_count": null,
   "metadata": {},
   "outputs": [],
   "source": []
  }
 ],
 "metadata": {
  "kernelspec": {
   "display_name": "Python 3",
   "language": "python",
   "name": "python3"
  },
  "language_info": {
   "codemirror_mode": {
    "name": "ipython",
    "version": 3
   },
   "file_extension": ".py",
   "mimetype": "text/x-python",
   "name": "python",
   "nbconvert_exporter": "python",
   "pygments_lexer": "ipython3",
   "version": "3.6.5"
  }
 },
 "nbformat": 4,
 "nbformat_minor": 2
}

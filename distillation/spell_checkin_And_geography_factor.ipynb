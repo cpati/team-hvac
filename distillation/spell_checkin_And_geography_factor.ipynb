{
 "cells": [
  {
   "cell_type": "markdown",
   "metadata": {},
   "source": [
    "## It has code for 2 factors\n",
    "- Spell Checking - More spelling error means mostly writeen by un-professionals and may be a fake news\n",
    "- Political Affiliation - I initially thought of geography , but could not apply that to dataset"
   ]
  },
  {
   "cell_type": "code",
   "execution_count": 3,
   "metadata": {},
   "outputs": [],
   "source": [
    "import numpy as np\n",
    "import pandas as pd"
   ]
  },
  {
   "cell_type": "code",
   "execution_count": 4,
   "metadata": {},
   "outputs": [
    {
     "data": {
      "text/html": [
       "<div>\n",
       "<style scoped>\n",
       "    .dataframe tbody tr th:only-of-type {\n",
       "        vertical-align: middle;\n",
       "    }\n",
       "\n",
       "    .dataframe tbody tr th {\n",
       "        vertical-align: top;\n",
       "    }\n",
       "\n",
       "    .dataframe thead th {\n",
       "        text-align: right;\n",
       "    }\n",
       "</style>\n",
       "<table border=\"1\" class=\"dataframe\">\n",
       "  <thead>\n",
       "    <tr style=\"text-align: right;\">\n",
       "      <th></th>\n",
       "      <th>id</th>\n",
       "      <th>label</th>\n",
       "      <th>statement</th>\n",
       "      <th>subject</th>\n",
       "      <th>speaker</th>\n",
       "      <th>speaker_job</th>\n",
       "      <th>state</th>\n",
       "      <th>party_affiliation</th>\n",
       "      <th>barely_true_count</th>\n",
       "      <th>false_Count</th>\n",
       "      <th>half_true_count</th>\n",
       "      <th>mostly_true_count</th>\n",
       "      <th>pants_on_fire_count</th>\n",
       "      <th>venue_speach</th>\n",
       "    </tr>\n",
       "  </thead>\n",
       "  <tbody>\n",
       "    <tr>\n",
       "      <th>0</th>\n",
       "      <td>2635.json</td>\n",
       "      <td>false</td>\n",
       "      <td>Says the Annies List political group supports ...</td>\n",
       "      <td>abortion</td>\n",
       "      <td>dwayne-bohac</td>\n",
       "      <td>State representative</td>\n",
       "      <td>Texas</td>\n",
       "      <td>republican</td>\n",
       "      <td>0.0</td>\n",
       "      <td>1.0</td>\n",
       "      <td>0.0</td>\n",
       "      <td>0.0</td>\n",
       "      <td>0.0</td>\n",
       "      <td>a mailer</td>\n",
       "    </tr>\n",
       "    <tr>\n",
       "      <th>1</th>\n",
       "      <td>10540.json</td>\n",
       "      <td>half-true</td>\n",
       "      <td>When did the decline of coal start? It started...</td>\n",
       "      <td>energy,history,job-accomplishments</td>\n",
       "      <td>scott-surovell</td>\n",
       "      <td>State delegate</td>\n",
       "      <td>Virginia</td>\n",
       "      <td>democrat</td>\n",
       "      <td>0.0</td>\n",
       "      <td>0.0</td>\n",
       "      <td>1.0</td>\n",
       "      <td>1.0</td>\n",
       "      <td>0.0</td>\n",
       "      <td>a floor speech.</td>\n",
       "    </tr>\n",
       "    <tr>\n",
       "      <th>2</th>\n",
       "      <td>324.json</td>\n",
       "      <td>mostly-true</td>\n",
       "      <td>Hillary Clinton agrees with John McCain \"by vo...</td>\n",
       "      <td>foreign-policy</td>\n",
       "      <td>barack-obama</td>\n",
       "      <td>President</td>\n",
       "      <td>Illinois</td>\n",
       "      <td>democrat</td>\n",
       "      <td>70.0</td>\n",
       "      <td>71.0</td>\n",
       "      <td>160.0</td>\n",
       "      <td>163.0</td>\n",
       "      <td>9.0</td>\n",
       "      <td>Denver</td>\n",
       "    </tr>\n",
       "    <tr>\n",
       "      <th>3</th>\n",
       "      <td>1123.json</td>\n",
       "      <td>false</td>\n",
       "      <td>Health care reform legislation is likely to ma...</td>\n",
       "      <td>health-care</td>\n",
       "      <td>blog-posting</td>\n",
       "      <td>NaN</td>\n",
       "      <td>NaN</td>\n",
       "      <td>none</td>\n",
       "      <td>7.0</td>\n",
       "      <td>19.0</td>\n",
       "      <td>3.0</td>\n",
       "      <td>5.0</td>\n",
       "      <td>44.0</td>\n",
       "      <td>a news release</td>\n",
       "    </tr>\n",
       "    <tr>\n",
       "      <th>4</th>\n",
       "      <td>9028.json</td>\n",
       "      <td>half-true</td>\n",
       "      <td>The economic turnaround started at the end of ...</td>\n",
       "      <td>economy,jobs</td>\n",
       "      <td>charlie-crist</td>\n",
       "      <td>NaN</td>\n",
       "      <td>Florida</td>\n",
       "      <td>democrat</td>\n",
       "      <td>15.0</td>\n",
       "      <td>9.0</td>\n",
       "      <td>20.0</td>\n",
       "      <td>19.0</td>\n",
       "      <td>2.0</td>\n",
       "      <td>an interview on CNN</td>\n",
       "    </tr>\n",
       "  </tbody>\n",
       "</table>\n",
       "</div>"
      ],
      "text/plain": [
       "           id        label                                          statement  \\\n",
       "0   2635.json        false  Says the Annies List political group supports ...   \n",
       "1  10540.json    half-true  When did the decline of coal start? It started...   \n",
       "2    324.json  mostly-true  Hillary Clinton agrees with John McCain \"by vo...   \n",
       "3   1123.json        false  Health care reform legislation is likely to ma...   \n",
       "4   9028.json    half-true  The economic turnaround started at the end of ...   \n",
       "\n",
       "                              subject         speaker           speaker_job  \\\n",
       "0                            abortion    dwayne-bohac  State representative   \n",
       "1  energy,history,job-accomplishments  scott-surovell        State delegate   \n",
       "2                      foreign-policy    barack-obama             President   \n",
       "3                         health-care    blog-posting                   NaN   \n",
       "4                        economy,jobs   charlie-crist                   NaN   \n",
       "\n",
       "      state party_affiliation  barely_true_count  false_Count  \\\n",
       "0     Texas        republican                0.0          1.0   \n",
       "1  Virginia          democrat                0.0          0.0   \n",
       "2  Illinois          democrat               70.0         71.0   \n",
       "3       NaN              none                7.0         19.0   \n",
       "4   Florida          democrat               15.0          9.0   \n",
       "\n",
       "   half_true_count  mostly_true_count  pants_on_fire_count  \\\n",
       "0              0.0                0.0                  0.0   \n",
       "1              1.0                1.0                  0.0   \n",
       "2            160.0              163.0                  9.0   \n",
       "3              3.0                5.0                 44.0   \n",
       "4             20.0               19.0                  2.0   \n",
       "\n",
       "          venue_speach  \n",
       "0             a mailer  \n",
       "1      a floor speech.  \n",
       "2               Denver  \n",
       "3       a news release  \n",
       "4  an interview on CNN  "
      ]
     },
     "execution_count": 4,
     "metadata": {},
     "output_type": "execute_result"
    }
   ],
   "source": [
    "columns=['id','label','statement','subject','speaker','speaker_job','state',\n",
    "        'party_affiliation','barely_true_count','false_Count',\n",
    "        'half_true_count','mostly_true_count','pants_on_fire_count','venue_speach'];\n",
    "df_lair=pd.read_csv('train.tsv',sep='\\t',header=None,names=columns,index_col=False);\n",
    "df_lair.head()"
   ]
  },
  {
   "cell_type": "code",
   "execution_count": 5,
   "metadata": {},
   "outputs": [
    {
     "name": "stdout",
     "output_type": "stream",
     "text": [
      "[nltk_data] Downloading package stopwords to\n",
      "[nltk_data]     /Users/chidananda.pati/nltk_data...\n",
      "[nltk_data]   Package stopwords is already up-to-date!\n",
      "[nltk_data] Downloading package punkt to\n",
      "[nltk_data]     /Users/chidananda.pati/nltk_data...\n",
      "[nltk_data]   Package punkt is already up-to-date!\n",
      "[nltk_data] Downloading package wordnet to\n",
      "[nltk_data]     /Users/chidananda.pati/nltk_data...\n",
      "[nltk_data]   Package wordnet is already up-to-date!\n"
     ]
    }
   ],
   "source": [
    "import nltk\n",
    "from nltk.corpus import stopwords\n",
    "nltk.download('stopwords')\n",
    "nltk.download('punkt')\n",
    "nltk.download('wordnet')\n",
    "stop_words=set(stopwords.words('english'))"
   ]
  },
  {
   "cell_type": "markdown",
   "metadata": {},
   "source": [
    "## Text Proprocessing"
   ]
  },
  {
   "cell_type": "markdown",
   "metadata": {},
   "source": [
    "#### Function for text preprocessing\n",
    "- lowercase the text\n",
    "- word tokenization\n",
    "- remove stop words and non alphanumeric charaters\n",
    "- stemming"
   ]
  },
  {
   "cell_type": "code",
   "execution_count": 6,
   "metadata": {},
   "outputs": [],
   "source": [
    "from nltk.stem import PorterStemmer,WordNetLemmatizer\n",
    "def text_preprocessing(df_base):\n",
    "    df=df_base.copy()\n",
    "    # lowercase the text\n",
    "    df['statement']=df['statement'].str.lower()\n",
    "    # word tokenization\n",
    "    df['statement']=df['statement'].map(lambda x: nltk.word_tokenize(x))\n",
    "    # remove stop words and non alphanumeric charaters\n",
    "    df['statement']=df['statement'].map(lambda x: [w for w in x if (not w in stop_words) and w.isalpha()])\n",
    "    # lemmatization\n",
    "    wordnet_lemmatizer = WordNetLemmatizer()\n",
    "    df['statement']=df['statement'].map(lambda x: [ wordnet_lemmatizer.lemmatize(w) for w in x])    \n",
    "    # stemming\n",
    "    porter = PorterStemmer()\n",
    "    df['statement']=df['statement'].map(lambda x: [porter.stem(w) for w in x] )\n",
    "    return df"
   ]
  },
  {
   "cell_type": "markdown",
   "metadata": {},
   "source": [
    "#### Calling text_preprocessing function"
   ]
  },
  {
   "cell_type": "code",
   "execution_count": 1062,
   "metadata": {},
   "outputs": [
    {
     "data": {
      "text/html": [
       "<div>\n",
       "<style scoped>\n",
       "    .dataframe tbody tr th:only-of-type {\n",
       "        vertical-align: middle;\n",
       "    }\n",
       "\n",
       "    .dataframe tbody tr th {\n",
       "        vertical-align: top;\n",
       "    }\n",
       "\n",
       "    .dataframe thead th {\n",
       "        text-align: right;\n",
       "    }\n",
       "</style>\n",
       "<table border=\"1\" class=\"dataframe\">\n",
       "  <thead>\n",
       "    <tr style=\"text-align: right;\">\n",
       "      <th></th>\n",
       "      <th>id</th>\n",
       "      <th>label</th>\n",
       "      <th>statement</th>\n",
       "      <th>subject</th>\n",
       "      <th>speaker</th>\n",
       "      <th>speaker_job</th>\n",
       "      <th>state</th>\n",
       "      <th>party_affiliation</th>\n",
       "      <th>barely_true_count</th>\n",
       "      <th>false_Count</th>\n",
       "      <th>half_true_count</th>\n",
       "      <th>mostly_true_count</th>\n",
       "      <th>pants_on_fire_count</th>\n",
       "      <th>venue_speach</th>\n",
       "    </tr>\n",
       "  </thead>\n",
       "  <tbody>\n",
       "    <tr>\n",
       "      <th>0</th>\n",
       "      <td>2635.json</td>\n",
       "      <td>false</td>\n",
       "      <td>[say, anni, list, polit, group, support, abort...</td>\n",
       "      <td>abortion</td>\n",
       "      <td>dwayne-bohac</td>\n",
       "      <td>State representative</td>\n",
       "      <td>Texas</td>\n",
       "      <td>republican</td>\n",
       "      <td>0.0</td>\n",
       "      <td>1.0</td>\n",
       "      <td>0.0</td>\n",
       "      <td>0.0</td>\n",
       "      <td>0.0</td>\n",
       "      <td>a mailer</td>\n",
       "    </tr>\n",
       "    <tr>\n",
       "      <th>1</th>\n",
       "      <td>10540.json</td>\n",
       "      <td>half-true</td>\n",
       "      <td>[declin, coal, start, start, natur, ga, took, ...</td>\n",
       "      <td>energy,history,job-accomplishments</td>\n",
       "      <td>scott-surovell</td>\n",
       "      <td>State delegate</td>\n",
       "      <td>Virginia</td>\n",
       "      <td>democrat</td>\n",
       "      <td>0.0</td>\n",
       "      <td>0.0</td>\n",
       "      <td>1.0</td>\n",
       "      <td>1.0</td>\n",
       "      <td>0.0</td>\n",
       "      <td>a floor speech.</td>\n",
       "    </tr>\n",
       "    <tr>\n",
       "      <th>2</th>\n",
       "      <td>324.json</td>\n",
       "      <td>mostly-true</td>\n",
       "      <td>[hillari, clinton, agre, john, mccain, vote, g...</td>\n",
       "      <td>foreign-policy</td>\n",
       "      <td>barack-obama</td>\n",
       "      <td>President</td>\n",
       "      <td>Illinois</td>\n",
       "      <td>democrat</td>\n",
       "      <td>70.0</td>\n",
       "      <td>71.0</td>\n",
       "      <td>160.0</td>\n",
       "      <td>163.0</td>\n",
       "      <td>9.0</td>\n",
       "      <td>Denver</td>\n",
       "    </tr>\n",
       "    <tr>\n",
       "      <th>3</th>\n",
       "      <td>1123.json</td>\n",
       "      <td>false</td>\n",
       "      <td>[health, care, reform, legisl, like, mandat, f...</td>\n",
       "      <td>health-care</td>\n",
       "      <td>blog-posting</td>\n",
       "      <td>NaN</td>\n",
       "      <td>NaN</td>\n",
       "      <td>none</td>\n",
       "      <td>7.0</td>\n",
       "      <td>19.0</td>\n",
       "      <td>3.0</td>\n",
       "      <td>5.0</td>\n",
       "      <td>44.0</td>\n",
       "      <td>a news release</td>\n",
       "    </tr>\n",
       "    <tr>\n",
       "      <th>4</th>\n",
       "      <td>9028.json</td>\n",
       "      <td>half-true</td>\n",
       "      <td>[econom, turnaround, start, end, term]</td>\n",
       "      <td>economy,jobs</td>\n",
       "      <td>charlie-crist</td>\n",
       "      <td>NaN</td>\n",
       "      <td>Florida</td>\n",
       "      <td>democrat</td>\n",
       "      <td>15.0</td>\n",
       "      <td>9.0</td>\n",
       "      <td>20.0</td>\n",
       "      <td>19.0</td>\n",
       "      <td>2.0</td>\n",
       "      <td>an interview on CNN</td>\n",
       "    </tr>\n",
       "  </tbody>\n",
       "</table>\n",
       "</div>"
      ],
      "text/plain": [
       "           id        label                                          statement  \\\n",
       "0   2635.json        false  [say, anni, list, polit, group, support, abort...   \n",
       "1  10540.json    half-true  [declin, coal, start, start, natur, ga, took, ...   \n",
       "2    324.json  mostly-true  [hillari, clinton, agre, john, mccain, vote, g...   \n",
       "3   1123.json        false  [health, care, reform, legisl, like, mandat, f...   \n",
       "4   9028.json    half-true             [econom, turnaround, start, end, term]   \n",
       "\n",
       "                              subject         speaker           speaker_job  \\\n",
       "0                            abortion    dwayne-bohac  State representative   \n",
       "1  energy,history,job-accomplishments  scott-surovell        State delegate   \n",
       "2                      foreign-policy    barack-obama             President   \n",
       "3                         health-care    blog-posting                   NaN   \n",
       "4                        economy,jobs   charlie-crist                   NaN   \n",
       "\n",
       "      state party_affiliation  barely_true_count  false_Count  \\\n",
       "0     Texas        republican                0.0          1.0   \n",
       "1  Virginia          democrat                0.0          0.0   \n",
       "2  Illinois          democrat               70.0         71.0   \n",
       "3       NaN              none                7.0         19.0   \n",
       "4   Florida          democrat               15.0          9.0   \n",
       "\n",
       "   half_true_count  mostly_true_count  pants_on_fire_count  \\\n",
       "0              0.0                0.0                  0.0   \n",
       "1              1.0                1.0                  0.0   \n",
       "2            160.0              163.0                  9.0   \n",
       "3              3.0                5.0                 44.0   \n",
       "4             20.0               19.0                  2.0   \n",
       "\n",
       "          venue_speach  \n",
       "0             a mailer  \n",
       "1      a floor speech.  \n",
       "2               Denver  \n",
       "3       a news release  \n",
       "4  an interview on CNN  "
      ]
     },
     "execution_count": 1062,
     "metadata": {},
     "output_type": "execute_result"
    }
   ],
   "source": [
    "df_train=text_preprocessing(df_lair)\n",
    "df_train.head()"
   ]
  },
  {
   "cell_type": "markdown",
   "metadata": {},
   "source": [
    "## Spelling Error Check Factor\n",
    "### using nltk wordnet and enchant"
   ]
  },
  {
   "cell_type": "code",
   "execution_count": null,
   "metadata": {},
   "outputs": [],
   "source": [
    "function spell_check_article - It takes an article as input and returns number of words with spelling error in an article and % of words with errors\n",
    "- pip install pyenchant"
   ]
  },
  {
   "cell_type": "code",
   "execution_count": 1063,
   "metadata": {},
   "outputs": [],
   "source": [
    "from nltk.corpus import wordnet\n",
    "import enchant\n",
    "enchant = enchant.Dict(\"en_US\")\n",
    "def spell_check_article(article):\n",
    "    article=article.replace('-',' ');\n",
    "    article_tokenized=nltk.word_tokenize(article)\n",
    "    total_word_count=len(article_tokenized)\n",
    "    words_with_error_count=0\n",
    "    for w in article_tokenized:\n",
    "        if (not wordnet.synsets(w)) and (not enchant.check(w)):\n",
    "            words_with_error_count+=1\n",
    "    return words_with_error_count,(words_with_error_count/total_word_count*100)"
   ]
  },
  {
   "cell_type": "code",
   "execution_count": 1064,
   "metadata": {},
   "outputs": [
    {
     "data": {
      "text/plain": [
       "(3, 75.0)"
      ]
     },
     "execution_count": 1064,
     "metadata": {},
     "output_type": "execute_result"
    }
   ],
   "source": [
    "spell_check_article('kitten drining choclate malk')"
   ]
  },
  {
   "cell_type": "code",
   "execution_count": 1065,
   "metadata": {},
   "outputs": [
    {
     "data": {
      "text/plain": [
       "(2, 50.0)"
      ]
     },
     "execution_count": 1065,
     "metadata": {},
     "output_type": "execute_result"
    }
   ],
   "source": [
    "spell_check_article('kitten drining choclate milk')"
   ]
  },
  {
   "cell_type": "code",
   "execution_count": 1066,
   "metadata": {},
   "outputs": [
    {
     "data": {
      "text/html": [
       "<div>\n",
       "<style scoped>\n",
       "    .dataframe tbody tr th:only-of-type {\n",
       "        vertical-align: middle;\n",
       "    }\n",
       "\n",
       "    .dataframe tbody tr th {\n",
       "        vertical-align: top;\n",
       "    }\n",
       "\n",
       "    .dataframe thead th {\n",
       "        text-align: right;\n",
       "    }\n",
       "</style>\n",
       "<table border=\"1\" class=\"dataframe\">\n",
       "  <thead>\n",
       "    <tr style=\"text-align: right;\">\n",
       "      <th></th>\n",
       "      <th>statement</th>\n",
       "      <th>spell_error</th>\n",
       "    </tr>\n",
       "  </thead>\n",
       "  <tbody>\n",
       "    <tr>\n",
       "      <th>0</th>\n",
       "      <td>Says the Annies List political group supports ...</td>\n",
       "      <td>1</td>\n",
       "    </tr>\n",
       "    <tr>\n",
       "      <th>1</th>\n",
       "      <td>When did the decline of coal start? It started...</td>\n",
       "      <td>3</td>\n",
       "    </tr>\n",
       "    <tr>\n",
       "      <th>2</th>\n",
       "      <td>Hillary Clinton agrees with John McCain \"by vo...</td>\n",
       "      <td>2</td>\n",
       "    </tr>\n",
       "    <tr>\n",
       "      <th>3</th>\n",
       "      <td>Health care reform legislation is likely to ma...</td>\n",
       "      <td>0</td>\n",
       "    </tr>\n",
       "    <tr>\n",
       "      <th>4</th>\n",
       "      <td>The economic turnaround started at the end of ...</td>\n",
       "      <td>0</td>\n",
       "    </tr>\n",
       "  </tbody>\n",
       "</table>\n",
       "</div>"
      ],
      "text/plain": [
       "                                           statement  spell_error\n",
       "0  Says the Annies List political group supports ...            1\n",
       "1  When did the decline of coal start? It started...            3\n",
       "2  Hillary Clinton agrees with John McCain \"by vo...            2\n",
       "3  Health care reform legislation is likely to ma...            0\n",
       "4  The economic turnaround started at the end of ...            0"
      ]
     },
     "execution_count": 1066,
     "metadata": {},
     "output_type": "execute_result"
    }
   ],
   "source": [
    "df_lair['spell_error']=df_lair['statement'].map(lambda x: spell_check_article(x)[0])\n",
    "df_lair[['statement','spell_error']].head()"
   ]
  },
  {
   "cell_type": "markdown",
   "metadata": {},
   "source": [
    "## Word2Vec to create a vector representation of processed words for every article\n",
    "- pip install gensim"
   ]
  },
  {
   "cell_type": "code",
   "execution_count": 1067,
   "metadata": {},
   "outputs": [],
   "source": [
    "import gensim\n",
    "from gensim.models.word2vec import Word2Vec\n",
    "from gensim.models.doc2vec import TaggedDocument\n",
    "from sklearn.model_selection import train_test_split\n",
    "import warnings\n",
    "warnings.filterwarnings('ignore')"
   ]
  },
  {
   "cell_type": "code",
   "execution_count": 1068,
   "metadata": {},
   "outputs": [],
   "source": [
    "LabeledSentence = gensim.models.doc2vec.LabeledSentence"
   ]
  },
  {
   "cell_type": "code",
   "execution_count": 1069,
   "metadata": {},
   "outputs": [],
   "source": [
    "def labelled_sentences(articles, label_type):\n",
    "    labelledSentences = []\n",
    "    for i,_d in enumerate(articles):\n",
    "        labelledSentences.append(LabeledSentence(_d, label_type[i]))\n",
    "    return labelledSentences"
   ]
  },
  {
   "cell_type": "code",
   "execution_count": 1070,
   "metadata": {},
   "outputs": [
    {
     "data": {
      "text/plain": [
       "LabeledSentence(words=['declin', 'coal', 'start', 'start', 'natur', 'ga', 'took', 'start', 'begin', 'presid', 'georg', 'bush', 'administr'], tags='half-true')"
      ]
     },
     "execution_count": 1070,
     "metadata": {},
     "output_type": "execute_result"
    }
   ],
   "source": [
    "df_train_labelled=labelled_sentences(df_train['statement'],df_train['label'])\n",
    "df_train_labelled[1]"
   ]
  },
  {
   "cell_type": "code",
   "execution_count": 1071,
   "metadata": {},
   "outputs": [],
   "source": [
    "tagged_data = [TaggedDocument(words=_d, tags=[str(i)]) for i, _d in enumerate(df_train['statement'])]"
   ]
  },
  {
   "cell_type": "code",
   "execution_count": 1072,
   "metadata": {},
   "outputs": [],
   "source": [
    "tagged_data_words=[x.words for x in tagged_data]\n",
    "tagged_data_words_1D=[]\n",
    "for row in range(len(tagged_data_words)):\n",
    "    for col in range(len(tagged_data_words[row])):\n",
    "        tagged_data_words_1D.append(tagged_data_words[row][col]) "
   ]
  },
  {
   "cell_type": "code",
   "execution_count": 1073,
   "metadata": {},
   "outputs": [
    {
     "data": {
      "text/plain": [
       "(476156, 524220)"
      ]
     },
     "execution_count": 1073,
     "metadata": {},
     "output_type": "execute_result"
    }
   ],
   "source": [
    "n_dim=300\n",
    "w2v = Word2Vec(size=n_dim, min_count=0)\n",
    "w2v.build_vocab(tagged_data_words)\n",
    "w2v.train(tagged_data_words,total_examples=w2v.corpus_count,epochs=w2v.epochs)"
   ]
  },
  {
   "cell_type": "code",
   "execution_count": 1074,
   "metadata": {},
   "outputs": [
    {
     "data": {
      "text/plain": [
       "[('way', 0.9999716281890869),\n",
       " ('washington', 0.9999673962593079),\n",
       " ('know', 0.9999667406082153),\n",
       " ('report', 0.999966561794281),\n",
       " ('use', 0.9999657869338989),\n",
       " ('fire', 0.9999651312828064),\n",
       " ('group', 0.9999645352363586),\n",
       " ('actual', 0.9999639391899109),\n",
       " ('militari', 0.9999631643295288),\n",
       " ('rule', 0.999962568283081)]"
      ]
     },
     "execution_count": 1074,
     "metadata": {},
     "output_type": "execute_result"
    }
   ],
   "source": [
    "w2v.most_similar('polit')"
   ]
  },
  {
   "cell_type": "code",
   "execution_count": 1075,
   "metadata": {},
   "outputs": [],
   "source": [
    "df_train_statements=df_train[['statement','label']]\n",
    "df_train_statements_vectorized=df_train_statements['statement'].map(lambda x: [w2v[w] for w in x])"
   ]
  },
  {
   "cell_type": "code",
   "execution_count": 1076,
   "metadata": {},
   "outputs": [],
   "source": [
    "df_train_statements['statement']=df_train_statements_vectorized"
   ]
  },
  {
   "cell_type": "code",
   "execution_count": 1077,
   "metadata": {},
   "outputs": [],
   "source": [
    "from sklearn import preprocessing\n",
    "le = preprocessing.LabelEncoder()\n",
    "df_train_statements['label']=le.fit_transform(df_train_statements['label'])"
   ]
  },
  {
   "cell_type": "code",
   "execution_count": 1078,
   "metadata": {},
   "outputs": [
    {
     "data": {
      "text/html": [
       "<div>\n",
       "<style scoped>\n",
       "    .dataframe tbody tr th:only-of-type {\n",
       "        vertical-align: middle;\n",
       "    }\n",
       "\n",
       "    .dataframe tbody tr th {\n",
       "        vertical-align: top;\n",
       "    }\n",
       "\n",
       "    .dataframe thead th {\n",
       "        text-align: right;\n",
       "    }\n",
       "</style>\n",
       "<table border=\"1\" class=\"dataframe\">\n",
       "  <thead>\n",
       "    <tr style=\"text-align: right;\">\n",
       "      <th></th>\n",
       "      <th>statement</th>\n",
       "      <th>label</th>\n",
       "    </tr>\n",
       "  </thead>\n",
       "  <tbody>\n",
       "    <tr>\n",
       "      <th>0</th>\n",
       "      <td>[[-0.020306736, -0.3301264, -0.21946503, -0.45...</td>\n",
       "      <td>1</td>\n",
       "    </tr>\n",
       "    <tr>\n",
       "      <th>1</th>\n",
       "      <td>[[0.0010365391, -0.060730938, -0.047727432, -0...</td>\n",
       "      <td>2</td>\n",
       "    </tr>\n",
       "    <tr>\n",
       "      <th>2</th>\n",
       "      <td>[[-0.035111677, -0.2401046, -0.1300721, -0.281...</td>\n",
       "      <td>3</td>\n",
       "    </tr>\n",
       "    <tr>\n",
       "      <th>3</th>\n",
       "      <td>[[-0.11255462, -0.21992245, -0.2525722, -0.402...</td>\n",
       "      <td>1</td>\n",
       "    </tr>\n",
       "    <tr>\n",
       "      <th>4</th>\n",
       "      <td>[[-0.0022685733, -0.22145748, -0.1747966, -0.3...</td>\n",
       "      <td>2</td>\n",
       "    </tr>\n",
       "  </tbody>\n",
       "</table>\n",
       "</div>"
      ],
      "text/plain": [
       "                                           statement  label\n",
       "0  [[-0.020306736, -0.3301264, -0.21946503, -0.45...      1\n",
       "1  [[0.0010365391, -0.060730938, -0.047727432, -0...      2\n",
       "2  [[-0.035111677, -0.2401046, -0.1300721, -0.281...      3\n",
       "3  [[-0.11255462, -0.21992245, -0.2525722, -0.402...      1\n",
       "4  [[-0.0022685733, -0.22145748, -0.1747966, -0.3...      2"
      ]
     },
     "execution_count": 1078,
     "metadata": {},
     "output_type": "execute_result"
    }
   ],
   "source": [
    "df_train_statements.head()"
   ]
  },
  {
   "cell_type": "code",
   "execution_count": 1079,
   "metadata": {},
   "outputs": [],
   "source": [
    "#list(le.inverse_transform(df_train_statements['label']))"
   ]
  },
  {
   "cell_type": "code",
   "execution_count": 1080,
   "metadata": {},
   "outputs": [],
   "source": [
    "def document_vector(doc):\n",
    "    return np.mean(doc, axis=0)"
   ]
  },
  {
   "cell_type": "code",
   "execution_count": 1081,
   "metadata": {},
   "outputs": [
    {
     "data": {
      "text/html": [
       "<div>\n",
       "<style scoped>\n",
       "    .dataframe tbody tr th:only-of-type {\n",
       "        vertical-align: middle;\n",
       "    }\n",
       "\n",
       "    .dataframe tbody tr th {\n",
       "        vertical-align: top;\n",
       "    }\n",
       "\n",
       "    .dataframe thead th {\n",
       "        text-align: right;\n",
       "    }\n",
       "</style>\n",
       "<table border=\"1\" class=\"dataframe\">\n",
       "  <thead>\n",
       "    <tr style=\"text-align: right;\">\n",
       "      <th></th>\n",
       "      <th>statement</th>\n",
       "      <th>label</th>\n",
       "    </tr>\n",
       "  </thead>\n",
       "  <tbody>\n",
       "    <tr>\n",
       "      <th>0</th>\n",
       "      <td>[-0.0040259003, -0.17850009, -0.13520569, -0.2...</td>\n",
       "      <td>1</td>\n",
       "    </tr>\n",
       "    <tr>\n",
       "      <th>1</th>\n",
       "      <td>[-0.002654828, -0.167645, -0.12466294, -0.2386...</td>\n",
       "      <td>2</td>\n",
       "    </tr>\n",
       "    <tr>\n",
       "      <th>2</th>\n",
       "      <td>[-0.009619445, -0.20366926, -0.14943995, -0.28...</td>\n",
       "      <td>3</td>\n",
       "    </tr>\n",
       "    <tr>\n",
       "      <th>3</th>\n",
       "      <td>[-0.025814641, -0.19327046, -0.16594973, -0.28...</td>\n",
       "      <td>1</td>\n",
       "    </tr>\n",
       "    <tr>\n",
       "      <th>4</th>\n",
       "      <td>[-0.0020332315, -0.16169459, -0.12753485, -0.2...</td>\n",
       "      <td>2</td>\n",
       "    </tr>\n",
       "    <tr>\n",
       "      <th>5</th>\n",
       "      <td>[0.0025528215, -0.14907233, -0.12153394, -0.20...</td>\n",
       "      <td>5</td>\n",
       "    </tr>\n",
       "    <tr>\n",
       "      <th>6</th>\n",
       "      <td>[0.0017709574, -0.1622499, -0.13071102, -0.225...</td>\n",
       "      <td>0</td>\n",
       "    </tr>\n",
       "    <tr>\n",
       "      <th>7</th>\n",
       "      <td>[-0.0017794677, -0.14854343, -0.11992144, -0.2...</td>\n",
       "      <td>2</td>\n",
       "    </tr>\n",
       "    <tr>\n",
       "      <th>8</th>\n",
       "      <td>[-0.002655061, -0.12791798, -0.101390205, -0.1...</td>\n",
       "      <td>2</td>\n",
       "    </tr>\n",
       "    <tr>\n",
       "      <th>9</th>\n",
       "      <td>[-0.004221204, -0.14958103, -0.11913328, -0.21...</td>\n",
       "      <td>3</td>\n",
       "    </tr>\n",
       "    <tr>\n",
       "      <th>10</th>\n",
       "      <td>[-0.0007140011, -0.17313308, -0.13817644, -0.2...</td>\n",
       "      <td>3</td>\n",
       "    </tr>\n",
       "    <tr>\n",
       "      <th>11</th>\n",
       "      <td>[-0.0031331284, -0.19414192, -0.15630697, -0.2...</td>\n",
       "      <td>2</td>\n",
       "    </tr>\n",
       "    <tr>\n",
       "      <th>12</th>\n",
       "      <td>[-0.0026709025, -0.21066345, -0.16890216, -0.2...</td>\n",
       "      <td>1</td>\n",
       "    </tr>\n",
       "    <tr>\n",
       "      <th>13</th>\n",
       "      <td>[-0.0041949195, -0.17018318, -0.14026286, -0.2...</td>\n",
       "      <td>3</td>\n",
       "    </tr>\n",
       "    <tr>\n",
       "      <th>14</th>\n",
       "      <td>[-0.015921181, -0.1183765, -0.100105666, -0.16...</td>\n",
       "      <td>0</td>\n",
       "    </tr>\n",
       "    <tr>\n",
       "      <th>15</th>\n",
       "      <td>[-0.00129402, -0.22362235, -0.1832479, -0.3154...</td>\n",
       "      <td>2</td>\n",
       "    </tr>\n",
       "    <tr>\n",
       "      <th>16</th>\n",
       "      <td>[-0.00514964, -0.16493294, -0.13220449, -0.236...</td>\n",
       "      <td>5</td>\n",
       "    </tr>\n",
       "    <tr>\n",
       "      <th>17</th>\n",
       "      <td>[-0.002385073, -0.12937102, -0.10211786, -0.18...</td>\n",
       "      <td>0</td>\n",
       "    </tr>\n",
       "    <tr>\n",
       "      <th>18</th>\n",
       "      <td>[-0.0008798335, -0.1405745, -0.11491371, -0.19...</td>\n",
       "      <td>2</td>\n",
       "    </tr>\n",
       "    <tr>\n",
       "      <th>19</th>\n",
       "      <td>[0.0021643306, -0.1876321, -0.15277283, -0.260...</td>\n",
       "      <td>3</td>\n",
       "    </tr>\n",
       "    <tr>\n",
       "      <th>20</th>\n",
       "      <td>[-0.00166126, -0.19609545, -0.1559198, -0.2763...</td>\n",
       "      <td>1</td>\n",
       "    </tr>\n",
       "    <tr>\n",
       "      <th>21</th>\n",
       "      <td>[-2.5150257e-05, -0.24006966, -0.19811857, -0....</td>\n",
       "      <td>3</td>\n",
       "    </tr>\n",
       "    <tr>\n",
       "      <th>22</th>\n",
       "      <td>[0.0016418532, -0.1992942, -0.1610776, -0.2795...</td>\n",
       "      <td>3</td>\n",
       "    </tr>\n",
       "    <tr>\n",
       "      <th>23</th>\n",
       "      <td>[-0.037474602, -0.24352758, -0.19072266, -0.33...</td>\n",
       "      <td>2</td>\n",
       "    </tr>\n",
       "    <tr>\n",
       "      <th>24</th>\n",
       "      <td>[-0.009039928, -0.2238482, -0.16967529, -0.313...</td>\n",
       "      <td>0</td>\n",
       "    </tr>\n",
       "    <tr>\n",
       "      <th>25</th>\n",
       "      <td>[-0.0013218105, -0.12173066, -0.09677214, -0.1...</td>\n",
       "      <td>1</td>\n",
       "    </tr>\n",
       "    <tr>\n",
       "      <th>26</th>\n",
       "      <td>[-0.00084499293, -0.10555966, -0.08516417, -0....</td>\n",
       "      <td>3</td>\n",
       "    </tr>\n",
       "    <tr>\n",
       "      <th>27</th>\n",
       "      <td>[-0.002694204, -0.19549693, -0.15212792, -0.27...</td>\n",
       "      <td>2</td>\n",
       "    </tr>\n",
       "    <tr>\n",
       "      <th>28</th>\n",
       "      <td>[-0.0014962448, -0.101996645, -0.07898988, -0....</td>\n",
       "      <td>1</td>\n",
       "    </tr>\n",
       "    <tr>\n",
       "      <th>29</th>\n",
       "      <td>[0.002741314, -0.16478057, -0.1359432, -0.2309...</td>\n",
       "      <td>3</td>\n",
       "    </tr>\n",
       "    <tr>\n",
       "      <th>...</th>\n",
       "      <td>...</td>\n",
       "      <td>...</td>\n",
       "    </tr>\n",
       "    <tr>\n",
       "      <th>10209</th>\n",
       "      <td>[-0.016156813, -0.22887447, -0.18790402, -0.32...</td>\n",
       "      <td>5</td>\n",
       "    </tr>\n",
       "    <tr>\n",
       "      <th>10210</th>\n",
       "      <td>[-0.007145515, -0.20706044, -0.1543816, -0.279...</td>\n",
       "      <td>5</td>\n",
       "    </tr>\n",
       "    <tr>\n",
       "      <th>10211</th>\n",
       "      <td>[-0.0038622618, -0.17831184, -0.13820267, -0.2...</td>\n",
       "      <td>2</td>\n",
       "    </tr>\n",
       "    <tr>\n",
       "      <th>10212</th>\n",
       "      <td>[-0.007595181, -0.17705493, -0.13047633, -0.23...</td>\n",
       "      <td>0</td>\n",
       "    </tr>\n",
       "    <tr>\n",
       "      <th>10213</th>\n",
       "      <td>[-0.020555187, -0.16811624, -0.14505397, -0.24...</td>\n",
       "      <td>1</td>\n",
       "    </tr>\n",
       "    <tr>\n",
       "      <th>10214</th>\n",
       "      <td>[-0.0062619634, -0.1639982, -0.12186691, -0.23...</td>\n",
       "      <td>0</td>\n",
       "    </tr>\n",
       "    <tr>\n",
       "      <th>10215</th>\n",
       "      <td>[0.00082469324, -0.11049953, -0.08842846, -0.1...</td>\n",
       "      <td>1</td>\n",
       "    </tr>\n",
       "    <tr>\n",
       "      <th>10216</th>\n",
       "      <td>[-0.002764985, -0.18049435, -0.13860418, -0.25...</td>\n",
       "      <td>2</td>\n",
       "    </tr>\n",
       "    <tr>\n",
       "      <th>10217</th>\n",
       "      <td>[-0.00147186, -0.1388025, -0.10907189, -0.1972...</td>\n",
       "      <td>1</td>\n",
       "    </tr>\n",
       "    <tr>\n",
       "      <th>10218</th>\n",
       "      <td>[-0.0012008296, -0.17612536, -0.14131509, -0.2...</td>\n",
       "      <td>2</td>\n",
       "    </tr>\n",
       "    <tr>\n",
       "      <th>10219</th>\n",
       "      <td>[-0.003639979, -0.17645274, -0.1359289, -0.245...</td>\n",
       "      <td>3</td>\n",
       "    </tr>\n",
       "    <tr>\n",
       "      <th>10220</th>\n",
       "      <td>[-0.0044823512, -0.1921973, -0.1562287, -0.269...</td>\n",
       "      <td>1</td>\n",
       "    </tr>\n",
       "    <tr>\n",
       "      <th>10221</th>\n",
       "      <td>[-1.2181535e-05, -0.2149926, -0.17331398, -0.3...</td>\n",
       "      <td>5</td>\n",
       "    </tr>\n",
       "    <tr>\n",
       "      <th>10222</th>\n",
       "      <td>[-0.013428245, -0.15876831, -0.102911025, -0.2...</td>\n",
       "      <td>3</td>\n",
       "    </tr>\n",
       "    <tr>\n",
       "      <th>10223</th>\n",
       "      <td>[-0.0017069684, -0.18130921, -0.14471683, -0.2...</td>\n",
       "      <td>0</td>\n",
       "    </tr>\n",
       "    <tr>\n",
       "      <th>10224</th>\n",
       "      <td>[-0.0017251194, -0.20183812, -0.16053489, -0.2...</td>\n",
       "      <td>2</td>\n",
       "    </tr>\n",
       "    <tr>\n",
       "      <th>10225</th>\n",
       "      <td>[-0.001966719, -0.16463034, -0.13281004, -0.23...</td>\n",
       "      <td>3</td>\n",
       "    </tr>\n",
       "    <tr>\n",
       "      <th>10226</th>\n",
       "      <td>[-0.0016064872, -0.16398028, -0.1310336, -0.23...</td>\n",
       "      <td>4</td>\n",
       "    </tr>\n",
       "    <tr>\n",
       "      <th>10227</th>\n",
       "      <td>[-0.0018157349, -0.088403754, -0.06969017, -0....</td>\n",
       "      <td>0</td>\n",
       "    </tr>\n",
       "    <tr>\n",
       "      <th>10228</th>\n",
       "      <td>[-0.0020362076, -0.13469204, -0.10556295, -0.1...</td>\n",
       "      <td>3</td>\n",
       "    </tr>\n",
       "    <tr>\n",
       "      <th>10229</th>\n",
       "      <td>[-0.0010164626, -0.1177479, -0.094751984, -0.1...</td>\n",
       "      <td>0</td>\n",
       "    </tr>\n",
       "    <tr>\n",
       "      <th>10230</th>\n",
       "      <td>[-0.002493323, -0.19563314, -0.15343997, -0.27...</td>\n",
       "      <td>2</td>\n",
       "    </tr>\n",
       "    <tr>\n",
       "      <th>10231</th>\n",
       "      <td>[-0.002622774, -0.23294087, -0.18301973, -0.32...</td>\n",
       "      <td>2</td>\n",
       "    </tr>\n",
       "    <tr>\n",
       "      <th>10232</th>\n",
       "      <td>[-0.0031165439, -0.21836238, -0.17770708, -0.3...</td>\n",
       "      <td>4</td>\n",
       "    </tr>\n",
       "    <tr>\n",
       "      <th>10233</th>\n",
       "      <td>[-0.0061093476, -0.24577208, -0.19241486, -0.3...</td>\n",
       "      <td>2</td>\n",
       "    </tr>\n",
       "    <tr>\n",
       "      <th>10234</th>\n",
       "      <td>[7.651487e-05, -0.17139497, -0.13623852, -0.24...</td>\n",
       "      <td>3</td>\n",
       "    </tr>\n",
       "    <tr>\n",
       "      <th>10235</th>\n",
       "      <td>[-0.0011275474, -0.16314264, -0.12801297, -0.2...</td>\n",
       "      <td>3</td>\n",
       "    </tr>\n",
       "    <tr>\n",
       "      <th>10236</th>\n",
       "      <td>[0.0005839004, -0.18057777, -0.13993517, -0.25...</td>\n",
       "      <td>2</td>\n",
       "    </tr>\n",
       "    <tr>\n",
       "      <th>10237</th>\n",
       "      <td>[-0.0009112566, -0.07803145, -0.061803922, -0....</td>\n",
       "      <td>1</td>\n",
       "    </tr>\n",
       "    <tr>\n",
       "      <th>10238</th>\n",
       "      <td>[-0.0011903327, -0.123977154, -0.099081725, -0...</td>\n",
       "      <td>4</td>\n",
       "    </tr>\n",
       "  </tbody>\n",
       "</table>\n",
       "<p>10239 rows × 2 columns</p>\n",
       "</div>"
      ],
      "text/plain": [
       "                                               statement  label\n",
       "0      [-0.0040259003, -0.17850009, -0.13520569, -0.2...      1\n",
       "1      [-0.002654828, -0.167645, -0.12466294, -0.2386...      2\n",
       "2      [-0.009619445, -0.20366926, -0.14943995, -0.28...      3\n",
       "3      [-0.025814641, -0.19327046, -0.16594973, -0.28...      1\n",
       "4      [-0.0020332315, -0.16169459, -0.12753485, -0.2...      2\n",
       "5      [0.0025528215, -0.14907233, -0.12153394, -0.20...      5\n",
       "6      [0.0017709574, -0.1622499, -0.13071102, -0.225...      0\n",
       "7      [-0.0017794677, -0.14854343, -0.11992144, -0.2...      2\n",
       "8      [-0.002655061, -0.12791798, -0.101390205, -0.1...      2\n",
       "9      [-0.004221204, -0.14958103, -0.11913328, -0.21...      3\n",
       "10     [-0.0007140011, -0.17313308, -0.13817644, -0.2...      3\n",
       "11     [-0.0031331284, -0.19414192, -0.15630697, -0.2...      2\n",
       "12     [-0.0026709025, -0.21066345, -0.16890216, -0.2...      1\n",
       "13     [-0.0041949195, -0.17018318, -0.14026286, -0.2...      3\n",
       "14     [-0.015921181, -0.1183765, -0.100105666, -0.16...      0\n",
       "15     [-0.00129402, -0.22362235, -0.1832479, -0.3154...      2\n",
       "16     [-0.00514964, -0.16493294, -0.13220449, -0.236...      5\n",
       "17     [-0.002385073, -0.12937102, -0.10211786, -0.18...      0\n",
       "18     [-0.0008798335, -0.1405745, -0.11491371, -0.19...      2\n",
       "19     [0.0021643306, -0.1876321, -0.15277283, -0.260...      3\n",
       "20     [-0.00166126, -0.19609545, -0.1559198, -0.2763...      1\n",
       "21     [-2.5150257e-05, -0.24006966, -0.19811857, -0....      3\n",
       "22     [0.0016418532, -0.1992942, -0.1610776, -0.2795...      3\n",
       "23     [-0.037474602, -0.24352758, -0.19072266, -0.33...      2\n",
       "24     [-0.009039928, -0.2238482, -0.16967529, -0.313...      0\n",
       "25     [-0.0013218105, -0.12173066, -0.09677214, -0.1...      1\n",
       "26     [-0.00084499293, -0.10555966, -0.08516417, -0....      3\n",
       "27     [-0.002694204, -0.19549693, -0.15212792, -0.27...      2\n",
       "28     [-0.0014962448, -0.101996645, -0.07898988, -0....      1\n",
       "29     [0.002741314, -0.16478057, -0.1359432, -0.2309...      3\n",
       "...                                                  ...    ...\n",
       "10209  [-0.016156813, -0.22887447, -0.18790402, -0.32...      5\n",
       "10210  [-0.007145515, -0.20706044, -0.1543816, -0.279...      5\n",
       "10211  [-0.0038622618, -0.17831184, -0.13820267, -0.2...      2\n",
       "10212  [-0.007595181, -0.17705493, -0.13047633, -0.23...      0\n",
       "10213  [-0.020555187, -0.16811624, -0.14505397, -0.24...      1\n",
       "10214  [-0.0062619634, -0.1639982, -0.12186691, -0.23...      0\n",
       "10215  [0.00082469324, -0.11049953, -0.08842846, -0.1...      1\n",
       "10216  [-0.002764985, -0.18049435, -0.13860418, -0.25...      2\n",
       "10217  [-0.00147186, -0.1388025, -0.10907189, -0.1972...      1\n",
       "10218  [-0.0012008296, -0.17612536, -0.14131509, -0.2...      2\n",
       "10219  [-0.003639979, -0.17645274, -0.1359289, -0.245...      3\n",
       "10220  [-0.0044823512, -0.1921973, -0.1562287, -0.269...      1\n",
       "10221  [-1.2181535e-05, -0.2149926, -0.17331398, -0.3...      5\n",
       "10222  [-0.013428245, -0.15876831, -0.102911025, -0.2...      3\n",
       "10223  [-0.0017069684, -0.18130921, -0.14471683, -0.2...      0\n",
       "10224  [-0.0017251194, -0.20183812, -0.16053489, -0.2...      2\n",
       "10225  [-0.001966719, -0.16463034, -0.13281004, -0.23...      3\n",
       "10226  [-0.0016064872, -0.16398028, -0.1310336, -0.23...      4\n",
       "10227  [-0.0018157349, -0.088403754, -0.06969017, -0....      0\n",
       "10228  [-0.0020362076, -0.13469204, -0.10556295, -0.1...      3\n",
       "10229  [-0.0010164626, -0.1177479, -0.094751984, -0.1...      0\n",
       "10230  [-0.002493323, -0.19563314, -0.15343997, -0.27...      2\n",
       "10231  [-0.002622774, -0.23294087, -0.18301973, -0.32...      2\n",
       "10232  [-0.0031165439, -0.21836238, -0.17770708, -0.3...      4\n",
       "10233  [-0.0061093476, -0.24577208, -0.19241486, -0.3...      2\n",
       "10234  [7.651487e-05, -0.17139497, -0.13623852, -0.24...      3\n",
       "10235  [-0.0011275474, -0.16314264, -0.12801297, -0.2...      3\n",
       "10236  [0.0005839004, -0.18057777, -0.13993517, -0.25...      2\n",
       "10237  [-0.0009112566, -0.07803145, -0.061803922, -0....      1\n",
       "10238  [-0.0011903327, -0.123977154, -0.099081725, -0...      4\n",
       "\n",
       "[10239 rows x 2 columns]"
      ]
     },
     "execution_count": 1081,
     "metadata": {},
     "output_type": "execute_result"
    }
   ],
   "source": [
    "df_train_statements['statement']=df_train_statements['statement'].apply(document_vector)\n",
    "df_train_statements.drop(index=4497,inplace=True)\n",
    "df_train_statements.reset_index(drop=True)"
   ]
  },
  {
   "cell_type": "code",
   "execution_count": 1082,
   "metadata": {},
   "outputs": [],
   "source": [
    "texts=[]\n",
    "for x in df_train_statements['statement'].values:\n",
    "    texts.append(x.tolist())   \n",
    "X=pd.DataFrame(texts)\n",
    "y=df_train_statements[['label']]\n",
    "X_train,X_test,y_train,y_test=train_test_split(X, y,test_size = .3, random_state = 1)"
   ]
  },
  {
   "cell_type": "code",
   "execution_count": 1083,
   "metadata": {},
   "outputs": [
    {
     "data": {
      "text/html": [
       "<div>\n",
       "<style scoped>\n",
       "    .dataframe tbody tr th:only-of-type {\n",
       "        vertical-align: middle;\n",
       "    }\n",
       "\n",
       "    .dataframe tbody tr th {\n",
       "        vertical-align: top;\n",
       "    }\n",
       "\n",
       "    .dataframe thead th {\n",
       "        text-align: right;\n",
       "    }\n",
       "</style>\n",
       "<table border=\"1\" class=\"dataframe\">\n",
       "  <thead>\n",
       "    <tr style=\"text-align: right;\">\n",
       "      <th></th>\n",
       "      <th>0</th>\n",
       "      <th>1</th>\n",
       "      <th>2</th>\n",
       "      <th>3</th>\n",
       "      <th>4</th>\n",
       "      <th>5</th>\n",
       "      <th>6</th>\n",
       "      <th>7</th>\n",
       "      <th>8</th>\n",
       "      <th>9</th>\n",
       "      <th>...</th>\n",
       "      <th>290</th>\n",
       "      <th>291</th>\n",
       "      <th>292</th>\n",
       "      <th>293</th>\n",
       "      <th>294</th>\n",
       "      <th>295</th>\n",
       "      <th>296</th>\n",
       "      <th>297</th>\n",
       "      <th>298</th>\n",
       "      <th>299</th>\n",
       "    </tr>\n",
       "  </thead>\n",
       "  <tbody>\n",
       "    <tr>\n",
       "      <th>3474</th>\n",
       "      <td>-0.006840</td>\n",
       "      <td>-0.140751</td>\n",
       "      <td>-0.110036</td>\n",
       "      <td>-0.205117</td>\n",
       "      <td>-0.098143</td>\n",
       "      <td>-0.162936</td>\n",
       "      <td>0.148352</td>\n",
       "      <td>-0.140913</td>\n",
       "      <td>-0.026638</td>\n",
       "      <td>-0.188146</td>\n",
       "      <td>...</td>\n",
       "      <td>-0.067565</td>\n",
       "      <td>0.259932</td>\n",
       "      <td>-0.061032</td>\n",
       "      <td>0.378177</td>\n",
       "      <td>-0.071339</td>\n",
       "      <td>-0.007769</td>\n",
       "      <td>0.371378</td>\n",
       "      <td>-0.076495</td>\n",
       "      <td>0.039138</td>\n",
       "      <td>-0.100312</td>\n",
       "    </tr>\n",
       "    <tr>\n",
       "      <th>6202</th>\n",
       "      <td>-0.002061</td>\n",
       "      <td>-0.182017</td>\n",
       "      <td>-0.143264</td>\n",
       "      <td>-0.256241</td>\n",
       "      <td>-0.113725</td>\n",
       "      <td>-0.189797</td>\n",
       "      <td>0.192361</td>\n",
       "      <td>-0.174567</td>\n",
       "      <td>-0.041348</td>\n",
       "      <td>-0.230048</td>\n",
       "      <td>...</td>\n",
       "      <td>-0.069965</td>\n",
       "      <td>0.329925</td>\n",
       "      <td>-0.083785</td>\n",
       "      <td>0.462722</td>\n",
       "      <td>-0.093866</td>\n",
       "      <td>-0.011044</td>\n",
       "      <td>0.458214</td>\n",
       "      <td>-0.094147</td>\n",
       "      <td>0.042172</td>\n",
       "      <td>-0.117292</td>\n",
       "    </tr>\n",
       "    <tr>\n",
       "      <th>5868</th>\n",
       "      <td>-0.002857</td>\n",
       "      <td>-0.123130</td>\n",
       "      <td>-0.090717</td>\n",
       "      <td>-0.171462</td>\n",
       "      <td>-0.086038</td>\n",
       "      <td>-0.138797</td>\n",
       "      <td>0.126842</td>\n",
       "      <td>-0.120131</td>\n",
       "      <td>-0.018853</td>\n",
       "      <td>-0.157202</td>\n",
       "      <td>...</td>\n",
       "      <td>-0.057994</td>\n",
       "      <td>0.221802</td>\n",
       "      <td>-0.056784</td>\n",
       "      <td>0.323648</td>\n",
       "      <td>-0.060726</td>\n",
       "      <td>-0.002222</td>\n",
       "      <td>0.324702</td>\n",
       "      <td>-0.064687</td>\n",
       "      <td>0.034429</td>\n",
       "      <td>-0.081101</td>\n",
       "    </tr>\n",
       "    <tr>\n",
       "      <th>7357</th>\n",
       "      <td>0.001315</td>\n",
       "      <td>-0.239885</td>\n",
       "      <td>-0.188788</td>\n",
       "      <td>-0.341966</td>\n",
       "      <td>-0.161229</td>\n",
       "      <td>-0.258879</td>\n",
       "      <td>0.250409</td>\n",
       "      <td>-0.232283</td>\n",
       "      <td>-0.049744</td>\n",
       "      <td>-0.313218</td>\n",
       "      <td>...</td>\n",
       "      <td>-0.098343</td>\n",
       "      <td>0.439246</td>\n",
       "      <td>-0.110157</td>\n",
       "      <td>0.624469</td>\n",
       "      <td>-0.122149</td>\n",
       "      <td>-0.010197</td>\n",
       "      <td>0.615455</td>\n",
       "      <td>-0.131387</td>\n",
       "      <td>0.058318</td>\n",
       "      <td>-0.159992</td>\n",
       "    </tr>\n",
       "    <tr>\n",
       "      <th>9514</th>\n",
       "      <td>-0.006279</td>\n",
       "      <td>-0.163393</td>\n",
       "      <td>-0.127731</td>\n",
       "      <td>-0.230966</td>\n",
       "      <td>-0.111414</td>\n",
       "      <td>-0.175362</td>\n",
       "      <td>0.170199</td>\n",
       "      <td>-0.158254</td>\n",
       "      <td>-0.039234</td>\n",
       "      <td>-0.213806</td>\n",
       "      <td>...</td>\n",
       "      <td>-0.066187</td>\n",
       "      <td>0.296451</td>\n",
       "      <td>-0.073219</td>\n",
       "      <td>0.418836</td>\n",
       "      <td>-0.085780</td>\n",
       "      <td>-0.006405</td>\n",
       "      <td>0.415549</td>\n",
       "      <td>-0.088716</td>\n",
       "      <td>0.040120</td>\n",
       "      <td>-0.106150</td>\n",
       "    </tr>\n",
       "  </tbody>\n",
       "</table>\n",
       "<p>5 rows × 300 columns</p>\n",
       "</div>"
      ],
      "text/plain": [
       "           0         1         2         3         4         5         6    \\\n",
       "3474 -0.006840 -0.140751 -0.110036 -0.205117 -0.098143 -0.162936  0.148352   \n",
       "6202 -0.002061 -0.182017 -0.143264 -0.256241 -0.113725 -0.189797  0.192361   \n",
       "5868 -0.002857 -0.123130 -0.090717 -0.171462 -0.086038 -0.138797  0.126842   \n",
       "7357  0.001315 -0.239885 -0.188788 -0.341966 -0.161229 -0.258879  0.250409   \n",
       "9514 -0.006279 -0.163393 -0.127731 -0.230966 -0.111414 -0.175362  0.170199   \n",
       "\n",
       "           7         8         9      ...          290       291       292  \\\n",
       "3474 -0.140913 -0.026638 -0.188146    ...    -0.067565  0.259932 -0.061032   \n",
       "6202 -0.174567 -0.041348 -0.230048    ...    -0.069965  0.329925 -0.083785   \n",
       "5868 -0.120131 -0.018853 -0.157202    ...    -0.057994  0.221802 -0.056784   \n",
       "7357 -0.232283 -0.049744 -0.313218    ...    -0.098343  0.439246 -0.110157   \n",
       "9514 -0.158254 -0.039234 -0.213806    ...    -0.066187  0.296451 -0.073219   \n",
       "\n",
       "           293       294       295       296       297       298       299  \n",
       "3474  0.378177 -0.071339 -0.007769  0.371378 -0.076495  0.039138 -0.100312  \n",
       "6202  0.462722 -0.093866 -0.011044  0.458214 -0.094147  0.042172 -0.117292  \n",
       "5868  0.323648 -0.060726 -0.002222  0.324702 -0.064687  0.034429 -0.081101  \n",
       "7357  0.624469 -0.122149 -0.010197  0.615455 -0.131387  0.058318 -0.159992  \n",
       "9514  0.418836 -0.085780 -0.006405  0.415549 -0.088716  0.040120 -0.106150  \n",
       "\n",
       "[5 rows x 300 columns]"
      ]
     },
     "execution_count": 1083,
     "metadata": {},
     "output_type": "execute_result"
    }
   ],
   "source": [
    "X_train.head()"
   ]
  },
  {
   "cell_type": "code",
   "execution_count": 1084,
   "metadata": {},
   "outputs": [],
   "source": [
    "from sklearn.linear_model import LogisticRegression\n",
    "logisticRegr = LogisticRegression()\n",
    "logisticRegr.fit(X_train, y_train)\n",
    "lr_pred = logisticRegr.predict(X_test)"
   ]
  },
  {
   "cell_type": "code",
   "execution_count": 1085,
   "metadata": {},
   "outputs": [
    {
     "name": "stdout",
     "output_type": "stream",
     "text": [
      "[[  1 187 186  78   0   0]\n",
      " [  4 249 251 109   0   0]\n",
      " [  3 212 271 148   1   0]\n",
      " [  1 176 247 180   0   0]\n",
      " [  0 134  90  30   2   0]\n",
      " [  1 176 205 130   0   0]]\n"
     ]
    }
   ],
   "source": [
    "from sklearn import metrics\n",
    "# Lets print the confusion matrix\n",
    "print(metrics.confusion_matrix(y_test,lr_pred))"
   ]
  },
  {
   "cell_type": "code",
   "execution_count": 1086,
   "metadata": {},
   "outputs": [
    {
     "name": "stdout",
     "output_type": "stream",
     "text": [
      "             precision    recall  f1-score   support\n",
      "\n",
      "          0       0.10      0.00      0.00       452\n",
      "          1       0.22      0.41      0.29       613\n",
      "          2       0.22      0.43      0.29       635\n",
      "          3       0.27      0.30      0.28       604\n",
      "          4       0.67      0.01      0.02       256\n",
      "          5       0.00      0.00      0.00       512\n",
      "\n",
      "avg / total       0.21      0.23      0.17      3072\n",
      "\n"
     ]
    }
   ],
   "source": [
    "print(metrics.classification_report(y_test,lr_pred))"
   ]
  },
  {
   "cell_type": "code",
   "execution_count": 1087,
   "metadata": {},
   "outputs": [],
   "source": [
    "from sklearn.ensemble import RandomForestClassifier\n",
    "# Lets try with 100 trees\n",
    "num_trees=100\n",
    "rf=RandomForestClassifier(n_estimators=num_trees)\n",
    "rf.fit(X_train, y_train)\n",
    "rf_pred=rf.predict(X_test)"
   ]
  },
  {
   "cell_type": "code",
   "execution_count": 1088,
   "metadata": {},
   "outputs": [
    {
     "name": "stdout",
     "output_type": "stream",
     "text": [
      "[[  1 187 186  78   0   0]\n",
      " [  4 249 251 109   0   0]\n",
      " [  3 212 271 148   1   0]\n",
      " [  1 176 247 180   0   0]\n",
      " [  0 134  90  30   2   0]\n",
      " [  1 176 205 130   0   0]]\n"
     ]
    }
   ],
   "source": [
    "print(metrics.confusion_matrix(y_test,lr_pred))"
   ]
  },
  {
   "cell_type": "code",
   "execution_count": 1089,
   "metadata": {},
   "outputs": [
    {
     "name": "stdout",
     "output_type": "stream",
     "text": [
      "             precision    recall  f1-score   support\n",
      "\n",
      "          0       0.10      0.00      0.00       452\n",
      "          1       0.22      0.41      0.29       613\n",
      "          2       0.22      0.43      0.29       635\n",
      "          3       0.27      0.30      0.28       604\n",
      "          4       0.67      0.01      0.02       256\n",
      "          5       0.00      0.00      0.00       512\n",
      "\n",
      "avg / total       0.21      0.23      0.17      3072\n",
      "\n"
     ]
    }
   ],
   "source": [
    "print(metrics.classification_report(y_test,lr_pred))"
   ]
  },
  {
   "cell_type": "markdown",
   "metadata": {},
   "source": [
    "## Doc2Vec"
   ]
  },
  {
   "cell_type": "code",
   "execution_count": 1090,
   "metadata": {},
   "outputs": [],
   "source": [
    "from gensim.models.doc2vec import Doc2Vec"
   ]
  },
  {
   "cell_type": "code",
   "execution_count": 1091,
   "metadata": {},
   "outputs": [],
   "source": [
    "df_train_statements_d2v=df_train[['statement','label']]"
   ]
  },
  {
   "cell_type": "code",
   "execution_count": 1092,
   "metadata": {},
   "outputs": [
    {
     "name": "stdout",
     "output_type": "stream",
     "text": [
      "Model Saved\n"
     ]
    }
   ],
   "source": [
    "max_epochs = 100\n",
    "vec_size = 20\n",
    "alpha = 0.025\n",
    "\n",
    "model = Doc2Vec(size=vec_size,\n",
    "                alpha=alpha, \n",
    "                min_alpha=0.00025,\n",
    "                min_count=1,\n",
    "                dm =1)\n",
    "  \n",
    "model.build_vocab(tagged_data)\n",
    "\n",
    "for epoch in range(max_epochs):\n",
    "    #print('iteration {0}'.format(epoch))\n",
    "    model.train(tagged_data,\n",
    "                total_examples=model.corpus_count,\n",
    "                epochs=model.iter)\n",
    "    # decrease the learning rate\n",
    "    model.alpha -= 0.0002\n",
    "    # fix the learning rate, no decay\n",
    "    model.min_alpha = model.alpha\n",
    "    \n",
    "model.save(\"d2v.model\")\n",
    "print(\"Model Saved\")    "
   ]
  },
  {
   "cell_type": "code",
   "execution_count": 1093,
   "metadata": {},
   "outputs": [],
   "source": [
    "model= Doc2Vec.load(\"d2v.model\")\n",
    "texts=[]\n",
    "for x in df_train_statements_d2v['statement']:\n",
    "    texts.append(model.infer_vector(x))"
   ]
  },
  {
   "cell_type": "code",
   "execution_count": 1094,
   "metadata": {},
   "outputs": [],
   "source": [
    "X=pd.DataFrame(texts)\n",
    "y=df_train_statements_d2v[['label']]\n",
    "X_train,X_test,y_train,y_test=train_test_split(X, y,test_size = .3, random_state = 1)"
   ]
  },
  {
   "cell_type": "code",
   "execution_count": 1095,
   "metadata": {},
   "outputs": [
    {
     "data": {
      "text/html": [
       "<div>\n",
       "<style scoped>\n",
       "    .dataframe tbody tr th:only-of-type {\n",
       "        vertical-align: middle;\n",
       "    }\n",
       "\n",
       "    .dataframe tbody tr th {\n",
       "        vertical-align: top;\n",
       "    }\n",
       "\n",
       "    .dataframe thead th {\n",
       "        text-align: right;\n",
       "    }\n",
       "</style>\n",
       "<table border=\"1\" class=\"dataframe\">\n",
       "  <thead>\n",
       "    <tr style=\"text-align: right;\">\n",
       "      <th></th>\n",
       "      <th>0</th>\n",
       "      <th>1</th>\n",
       "      <th>2</th>\n",
       "      <th>3</th>\n",
       "      <th>4</th>\n",
       "      <th>5</th>\n",
       "      <th>6</th>\n",
       "      <th>7</th>\n",
       "      <th>8</th>\n",
       "      <th>9</th>\n",
       "      <th>10</th>\n",
       "      <th>11</th>\n",
       "      <th>12</th>\n",
       "      <th>13</th>\n",
       "      <th>14</th>\n",
       "      <th>15</th>\n",
       "      <th>16</th>\n",
       "      <th>17</th>\n",
       "      <th>18</th>\n",
       "      <th>19</th>\n",
       "    </tr>\n",
       "  </thead>\n",
       "  <tbody>\n",
       "    <tr>\n",
       "      <th>3474</th>\n",
       "      <td>-0.929196</td>\n",
       "      <td>0.172149</td>\n",
       "      <td>0.393768</td>\n",
       "      <td>-1.316728</td>\n",
       "      <td>-1.018364</td>\n",
       "      <td>0.233169</td>\n",
       "      <td>1.045072</td>\n",
       "      <td>-0.290480</td>\n",
       "      <td>0.099113</td>\n",
       "      <td>-0.766517</td>\n",
       "      <td>-1.083949</td>\n",
       "      <td>1.563456</td>\n",
       "      <td>-0.106640</td>\n",
       "      <td>1.145131</td>\n",
       "      <td>0.439453</td>\n",
       "      <td>0.916190</td>\n",
       "      <td>0.397706</td>\n",
       "      <td>-0.089111</td>\n",
       "      <td>-0.168837</td>\n",
       "      <td>0.506167</td>\n",
       "    </tr>\n",
       "    <tr>\n",
       "      <th>6202</th>\n",
       "      <td>-0.148717</td>\n",
       "      <td>-0.266286</td>\n",
       "      <td>-0.131387</td>\n",
       "      <td>-0.203473</td>\n",
       "      <td>0.234180</td>\n",
       "      <td>-0.651463</td>\n",
       "      <td>-0.425725</td>\n",
       "      <td>-0.270623</td>\n",
       "      <td>-0.478659</td>\n",
       "      <td>-0.593770</td>\n",
       "      <td>-0.475428</td>\n",
       "      <td>0.380694</td>\n",
       "      <td>-0.146951</td>\n",
       "      <td>0.320158</td>\n",
       "      <td>0.880479</td>\n",
       "      <td>-0.107434</td>\n",
       "      <td>-0.176167</td>\n",
       "      <td>0.264440</td>\n",
       "      <td>0.681509</td>\n",
       "      <td>0.145196</td>\n",
       "    </tr>\n",
       "    <tr>\n",
       "      <th>5868</th>\n",
       "      <td>-0.975056</td>\n",
       "      <td>-0.133435</td>\n",
       "      <td>-0.495198</td>\n",
       "      <td>0.341962</td>\n",
       "      <td>-0.788630</td>\n",
       "      <td>-1.324187</td>\n",
       "      <td>-0.194348</td>\n",
       "      <td>-0.844574</td>\n",
       "      <td>-0.460697</td>\n",
       "      <td>-0.823141</td>\n",
       "      <td>0.059151</td>\n",
       "      <td>0.649701</td>\n",
       "      <td>0.097845</td>\n",
       "      <td>0.277172</td>\n",
       "      <td>0.939350</td>\n",
       "      <td>0.511389</td>\n",
       "      <td>0.633369</td>\n",
       "      <td>0.166521</td>\n",
       "      <td>-0.075048</td>\n",
       "      <td>1.232380</td>\n",
       "    </tr>\n",
       "    <tr>\n",
       "      <th>7357</th>\n",
       "      <td>-0.177941</td>\n",
       "      <td>-0.393712</td>\n",
       "      <td>-0.310750</td>\n",
       "      <td>-0.696553</td>\n",
       "      <td>0.014660</td>\n",
       "      <td>-0.349131</td>\n",
       "      <td>-0.807833</td>\n",
       "      <td>-0.851454</td>\n",
       "      <td>-0.446144</td>\n",
       "      <td>-0.128066</td>\n",
       "      <td>0.104726</td>\n",
       "      <td>0.089895</td>\n",
       "      <td>0.051546</td>\n",
       "      <td>0.418787</td>\n",
       "      <td>0.290757</td>\n",
       "      <td>0.519480</td>\n",
       "      <td>0.428024</td>\n",
       "      <td>-0.095977</td>\n",
       "      <td>0.921999</td>\n",
       "      <td>0.605033</td>\n",
       "    </tr>\n",
       "    <tr>\n",
       "      <th>9514</th>\n",
       "      <td>0.062472</td>\n",
       "      <td>0.306725</td>\n",
       "      <td>-0.713696</td>\n",
       "      <td>0.019058</td>\n",
       "      <td>-0.203017</td>\n",
       "      <td>-0.249745</td>\n",
       "      <td>0.957395</td>\n",
       "      <td>-0.458309</td>\n",
       "      <td>-0.207691</td>\n",
       "      <td>-0.421475</td>\n",
       "      <td>-0.014709</td>\n",
       "      <td>-0.046020</td>\n",
       "      <td>0.171722</td>\n",
       "      <td>0.675689</td>\n",
       "      <td>0.512219</td>\n",
       "      <td>0.365270</td>\n",
       "      <td>0.493407</td>\n",
       "      <td>0.077373</td>\n",
       "      <td>0.258072</td>\n",
       "      <td>-0.587226</td>\n",
       "    </tr>\n",
       "  </tbody>\n",
       "</table>\n",
       "</div>"
      ],
      "text/plain": [
       "            0         1         2         3         4         5         6   \\\n",
       "3474 -0.929196  0.172149  0.393768 -1.316728 -1.018364  0.233169  1.045072   \n",
       "6202 -0.148717 -0.266286 -0.131387 -0.203473  0.234180 -0.651463 -0.425725   \n",
       "5868 -0.975056 -0.133435 -0.495198  0.341962 -0.788630 -1.324187 -0.194348   \n",
       "7357 -0.177941 -0.393712 -0.310750 -0.696553  0.014660 -0.349131 -0.807833   \n",
       "9514  0.062472  0.306725 -0.713696  0.019058 -0.203017 -0.249745  0.957395   \n",
       "\n",
       "            7         8         9         10        11        12        13  \\\n",
       "3474 -0.290480  0.099113 -0.766517 -1.083949  1.563456 -0.106640  1.145131   \n",
       "6202 -0.270623 -0.478659 -0.593770 -0.475428  0.380694 -0.146951  0.320158   \n",
       "5868 -0.844574 -0.460697 -0.823141  0.059151  0.649701  0.097845  0.277172   \n",
       "7357 -0.851454 -0.446144 -0.128066  0.104726  0.089895  0.051546  0.418787   \n",
       "9514 -0.458309 -0.207691 -0.421475 -0.014709 -0.046020  0.171722  0.675689   \n",
       "\n",
       "            14        15        16        17        18        19  \n",
       "3474  0.439453  0.916190  0.397706 -0.089111 -0.168837  0.506167  \n",
       "6202  0.880479 -0.107434 -0.176167  0.264440  0.681509  0.145196  \n",
       "5868  0.939350  0.511389  0.633369  0.166521 -0.075048  1.232380  \n",
       "7357  0.290757  0.519480  0.428024 -0.095977  0.921999  0.605033  \n",
       "9514  0.512219  0.365270  0.493407  0.077373  0.258072 -0.587226  "
      ]
     },
     "execution_count": 1095,
     "metadata": {},
     "output_type": "execute_result"
    }
   ],
   "source": [
    "X_train.head()"
   ]
  },
  {
   "cell_type": "code",
   "execution_count": 1096,
   "metadata": {},
   "outputs": [],
   "source": [
    "from sklearn.linear_model import LogisticRegression\n",
    "logisticRegr = LogisticRegression(C=100)\n",
    "logisticRegr.fit(X_train, y_train)\n",
    "lr_pred = logisticRegr.predict(X_test)"
   ]
  },
  {
   "cell_type": "code",
   "execution_count": 1097,
   "metadata": {},
   "outputs": [
    {
     "name": "stdout",
     "output_type": "stream",
     "text": [
      "[[ 55 154 142 105   0  11]\n",
      " [ 64 236 152 145   0  15]\n",
      " [ 55 190 233 158   0  13]\n",
      " [ 56 156 191 170   0  13]\n",
      " [ 21 115  50  59   0   7]\n",
      " [ 41 148 149 151   0  17]]\n"
     ]
    }
   ],
   "source": [
    "print(metrics.confusion_matrix(y_test,lr_pred))"
   ]
  },
  {
   "cell_type": "code",
   "execution_count": 1098,
   "metadata": {},
   "outputs": [
    {
     "name": "stdout",
     "output_type": "stream",
     "text": [
      "             precision    recall  f1-score   support\n",
      "\n",
      "barely-true       0.19      0.12      0.14       467\n",
      "      false       0.24      0.39      0.29       612\n",
      "  half-true       0.25      0.36      0.30       649\n",
      "mostly-true       0.22      0.29      0.25       586\n",
      " pants-fire       0.00      0.00      0.00       252\n",
      "       true       0.22      0.03      0.06       506\n",
      "\n",
      "avg / total       0.21      0.23      0.20      3072\n",
      "\n"
     ]
    }
   ],
   "source": [
    "print(metrics.classification_report(y_test,lr_pred))"
   ]
  },
  {
   "cell_type": "code",
   "execution_count": 1099,
   "metadata": {},
   "outputs": [],
   "source": [
    "from sklearn.ensemble import RandomForestClassifier\n",
    "# Lets try with 100 trees\n",
    "num_trees=100\n",
    "rf=RandomForestClassifier(n_estimators=num_trees)\n",
    "rf.fit(X_train, y_train)\n",
    "rf_pred=rf.predict(X_test)"
   ]
  },
  {
   "cell_type": "code",
   "execution_count": 1100,
   "metadata": {},
   "outputs": [
    {
     "name": "stdout",
     "output_type": "stream",
     "text": [
      "[[ 55 154 142 105   0  11]\n",
      " [ 64 236 152 145   0  15]\n",
      " [ 55 190 233 158   0  13]\n",
      " [ 56 156 191 170   0  13]\n",
      " [ 21 115  50  59   0   7]\n",
      " [ 41 148 149 151   0  17]]\n"
     ]
    }
   ],
   "source": [
    "print(metrics.confusion_matrix(y_test,lr_pred))"
   ]
  },
  {
   "cell_type": "code",
   "execution_count": 1101,
   "metadata": {},
   "outputs": [
    {
     "name": "stdout",
     "output_type": "stream",
     "text": [
      "             precision    recall  f1-score   support\n",
      "\n",
      "barely-true       0.19      0.12      0.14       467\n",
      "      false       0.24      0.39      0.29       612\n",
      "  half-true       0.25      0.36      0.30       649\n",
      "mostly-true       0.22      0.29      0.25       586\n",
      " pants-fire       0.00      0.00      0.00       252\n",
      "       true       0.22      0.03      0.06       506\n",
      "\n",
      "avg / total       0.21      0.23      0.20      3072\n",
      "\n"
     ]
    }
   ],
   "source": [
    "print(metrics.classification_report(y_test,lr_pred))"
   ]
  },
  {
   "cell_type": "code",
   "execution_count": 1102,
   "metadata": {},
   "outputs": [
    {
     "name": "stdout",
     "output_type": "stream",
     "text": [
      "[('4664', 0.7571046948432922), ('9927', 0.7524600625038147), ('9047', 0.7381577491760254), ('3351', 0.736608624458313), ('2877', 0.7346912026405334), ('5714', 0.732650637626648), ('5009', 0.7278880476951599), ('5263', 0.7261061668395996), ('9679', 0.7213753461837769), ('4', 0.7203757762908936)]\n"
     ]
    }
   ],
   "source": [
    "similar_doc = model.docvecs.most_similar('1')\n",
    "print(similar_doc)"
   ]
  },
  {
   "cell_type": "markdown",
   "metadata": {},
   "source": [
    "### K-means for vectorized docs"
   ]
  },
  {
   "cell_type": "code",
   "execution_count": 1103,
   "metadata": {},
   "outputs": [],
   "source": [
    "from nltk.cluster import KMeansClusterer"
   ]
  },
  {
   "cell_type": "code",
   "execution_count": 1104,
   "metadata": {},
   "outputs": [],
   "source": [
    "#Taking a very long time\n",
    "kclusterer = KMeansClusterer(5, distance=nltk.cluster.util.cosine_distance, repeats=5)\n",
    "assigned_clusters = kclusterer.cluster(texts, assign_clusters=True)"
   ]
  },
  {
   "cell_type": "code",
   "execution_count": 1105,
   "metadata": {},
   "outputs": [
    {
     "name": "stdout",
     "output_type": "stream",
     "text": [
      "[ 0.14927846 -1.1621119  -0.9016655  -0.09167448 -0.43202588 -0.38233116\n",
      "  0.11902588 -0.24962123  0.80018884 -0.37761986 -1.2990891  -1.5778913\n",
      " -0.0123128  -0.65936774  0.76382226  1.6621412   0.89860374  0.6922449\n",
      "  2.2779279   0.04066165] 3\n"
     ]
    }
   ],
   "source": [
    "#for i, word in enumerate(texts):  \n",
    "#    print (texts[i] , assigned_clusters[i])\n",
    "print (texts[1] , assigned_clusters[1])"
   ]
  },
  {
   "cell_type": "code",
   "execution_count": 1106,
   "metadata": {},
   "outputs": [
    {
     "data": {
      "image/png": "[encoded data removed]",
      "text/plain": [
       "<Figure size 432x288 with 1 Axes>"
      ]
     },
     "metadata": {},
     "output_type": "display_data"
    }
   ],
   "source": [
    "from sklearn.cluster import KMeans as km\n",
    "import matplotlib.pyplot as plt\n",
    "def kmeans_plot(k):\n",
    "    kmeans=km(n_clusters=k,random_state=0).fit(texts)\n",
    "    labels=kmeans.labels_\n",
    "    centroids=kmeans.cluster_centers_    \n",
    "    colors = ['r','g','b','y','c','m','r','g','b','y','c','m','r','g','b','y','c','m']\n",
    "    fig, ax=plt.subplots()\n",
    "    \n",
    "    for i in range(k):\n",
    "        points=np.array([texts[j] for j in range(len(texts)) if labels[j]==i])\n",
    "        ax.scatter(points[:,0],points[:,1],s=7,c=colors[i])\n",
    "    ax.scatter(centroids[:,0],centroids[:,1],marker='*',s=200,c='#050505')     \n",
    "kmeans_plot(6)    "
   ]
  },
  {
   "cell_type": "code",
   "execution_count": 1107,
   "metadata": {},
   "outputs": [
    {
     "data": {
      "text/plain": [
       "5"
      ]
     },
     "execution_count": 1107,
     "metadata": {},
     "output_type": "execute_result"
    }
   ],
   "source": [
    "assigned_clusters[0]"
   ]
  },
  {
   "cell_type": "markdown",
   "metadata": {},
   "source": [
    "## Tag Cloud\n",
    "To understand most frequent words in the corpus\n",
    "- pip install wordcloud"
   ]
  },
  {
   "cell_type": "code",
   "execution_count": 1108,
   "metadata": {},
   "outputs": [],
   "source": [
    "from wordcloud import WordCloud\n",
    "import matplotlib.pyplot as plt"
   ]
  },
  {
   "cell_type": "code",
   "execution_count": 180,
   "metadata": {},
   "outputs": [],
   "source": [
    "statements=''.join(df_lair['statement'].values.tolist())"
   ]
  },
  {
   "cell_type": "code",
   "execution_count": 181,
   "metadata": {},
   "outputs": [
    {
     "data": {
      "image/png": "[encoded data removed]",
      "text/plain": [
       "<Figure size 432x288 with 1 Axes>"
      ]
     },
     "metadata": {},
     "output_type": "display_data"
    }
   ],
   "source": [
    "# lower max_font_size, change the maximum number of word and lighten the background:\n",
    "wordcloud = WordCloud(max_font_size=50, max_words=100, background_color=\"white\").generate(statements)\n",
    "plt.figure()\n",
    "plt.imshow(wordcloud, interpolation=\"bilinear\")\n",
    "plt.axis(\"off\")\n",
    "plt.show()"
   ]
  },
  {
   "cell_type": "markdown",
   "metadata": {},
   "source": [
    "Conclusion is corpus looks like is mostly political and money related"
   ]
  },
  {
   "cell_type": "markdown",
   "metadata": {},
   "source": [
    "## LDA Topic Modelling to see if we can find any topic"
   ]
  },
  {
   "cell_type": "code",
   "execution_count": 182,
   "metadata": {},
   "outputs": [],
   "source": [
    "from gensim import corpora, models"
   ]
  },
  {
   "cell_type": "code",
   "execution_count": 183,
   "metadata": {},
   "outputs": [],
   "source": [
    "texts=df_train['statement']"
   ]
  },
  {
   "cell_type": "code",
   "execution_count": 184,
   "metadata": {},
   "outputs": [],
   "source": [
    "dictionary = corpora.Dictionary(texts)"
   ]
  },
  {
   "cell_type": "code",
   "execution_count": 185,
   "metadata": {},
   "outputs": [],
   "source": [
    "corpus = [dictionary.doc2bow(text) for text in texts]"
   ]
  },
  {
   "cell_type": "code",
   "execution_count": 194,
   "metadata": {},
   "outputs": [],
   "source": [
    "ldamodel = gensim.models.ldamodel.LdaModel(corpus, num_topics=7, id2word = dictionary, passes=20)"
   ]
  },
  {
   "cell_type": "code",
   "execution_count": 195,
   "metadata": {},
   "outputs": [
    {
     "name": "stdout",
     "output_type": "stream",
     "text": [
      "Topic: 0 \n",
      "Words: 0.029*\"health\" + 0.028*\"obama\" + 0.027*\"say\" + 0.026*\"care\" + 0.019*\"vote\" + 0.018*\"presid\" + 0.017*\"barack\" + 0.014*\"law\" + 0.012*\"insur\" + 0.010*\"bill\"\n",
      "Topic: 1 \n",
      "Words: 0.031*\"say\" + 0.022*\"school\" + 0.019*\"public\" + 0.016*\"romney\" + 0.015*\"fund\" + 0.014*\"student\" + 0.012*\"mitt\" + 0.011*\"state\" + 0.008*\"whether\" + 0.008*\"educ\"\n",
      "Topic: 2 \n",
      "Words: 0.028*\"say\" + 0.018*\"scott\" + 0.016*\"gov\" + 0.016*\"campaign\" + 0.012*\"state\" + 0.012*\"rick\" + 0.011*\"walker\" + 0.010*\"wisconsin\" + 0.009*\"ever\" + 0.009*\"governor\"\n",
      "Topic: 3 \n",
      "Words: 0.020*\"citi\" + 0.019*\"say\" + 0.018*\"illeg\" + 0.016*\"immigr\" + 0.015*\"counti\" + 0.015*\"new\" + 0.013*\"year\" + 0.010*\"austin\" + 0.010*\"border\" + 0.008*\"one\"\n",
      "Topic: 4 \n",
      "Words: 0.036*\"say\" + 0.023*\"republican\" + 0.018*\"clinton\" + 0.016*\"vote\" + 0.014*\"democrat\" + 0.012*\"trump\" + 0.012*\"secur\" + 0.012*\"hillari\" + 0.011*\"elect\" + 0.011*\"said\"\n",
      "Topic: 5 \n",
      "Words: 0.039*\"tax\" + 0.033*\"year\" + 0.032*\"percent\" + 0.018*\"job\" + 0.013*\"state\" + 0.011*\"billion\" + 0.011*\"million\" + 0.011*\"spend\" + 0.011*\"say\" + 0.011*\"pay\"\n",
      "Topic: 6 \n",
      "Words: 0.052*\"state\" + 0.022*\"unit\" + 0.012*\"nation\" + 0.011*\"percent\" + 0.009*\"countri\" + 0.008*\"child\" + 0.008*\"world\" + 0.008*\"america\" + 0.008*\"island\" + 0.008*\"allow\"\n"
     ]
    }
   ],
   "source": [
    "for idx, topic in ldamodel.print_topics(-1):\n",
    "    print('Topic: {} \\nWords: {}'.format(idx, topic))"
   ]
  },
  {
   "cell_type": "markdown",
   "metadata": {},
   "source": [
    "### Topics Seems like are all related to Politics, broadly followings:\n",
    "- Tax Cut\n",
    "- Health Care\n",
    "- Immigration and Tax Policies\n",
    "- 2016 Presidential Campaigns"
   ]
  },
  {
   "cell_type": "markdown",
   "metadata": {},
   "source": [
    "## Factor Political Affiliation"
   ]
  },
  {
   "cell_type": "code",
   "execution_count": 112,
   "metadata": {},
   "outputs": [],
   "source": [
    "vocab_political_affiliation=['president','george','bushs','administration','republican','democrats','barack','obama','hillary','clinton','donald','trump','senate','house']\n",
    "#vocab_political_affiliation=['president','george','bushs','administration']"
   ]
  },
  {
   "cell_type": "code",
   "execution_count": 113,
   "metadata": {},
   "outputs": [],
   "source": [
    "l_statments=df_lair['statement'].str.lower().values.tolist()"
   ]
  },
  {
   "cell_type": "code",
   "execution_count": 114,
   "metadata": {},
   "outputs": [],
   "source": [
    "from sklearn.feature_extraction.text import TfidfVectorizer\n",
    "vectorizer = TfidfVectorizer(vocabulary=vocab_political_affiliation)\n",
    "#vectorizer = TfidfVectorizer()\n",
    "tfidf_matrix = vectorizer.fit_transform(l_statments)\n",
    "feature_names = vectorizer.get_feature_names()"
   ]
  },
  {
   "cell_type": "code",
   "execution_count": 115,
   "metadata": {},
   "outputs": [
    {
     "data": {
      "text/plain": [
       "10240"
      ]
     },
     "execution_count": 115,
     "metadata": {},
     "output_type": "execute_result"
    }
   ],
   "source": [
    "len(tfidf_matrix.toarray())"
   ]
  },
  {
   "cell_type": "code",
   "execution_count": 156,
   "metadata": {},
   "outputs": [
    {
     "data": {
      "text/plain": [
       "array([0.45341211, 0.6517705 , 0.50286013, 0.34167875, 0.        ,\n",
       "       0.        , 0.        , 0.        , 0.        , 0.        ,\n",
       "       0.        , 0.        , 0.        , 0.        ])"
      ]
     },
     "execution_count": 156,
     "metadata": {},
     "output_type": "execute_result"
    }
   ],
   "source": [
    "tf_idf_vals=[]\n",
    "for i in range(len(tfidf_matrix.toarray())):\n",
    "    tf_idf_doc=np.zeros(len(vocab_political_affiliation))\n",
    "    feature_index = tfidf_matrix[i,:].nonzero()[1]\n",
    "    tfidf_scores = zip(feature_index, [tfidf_matrix[doc, x] for x in feature_index])\n",
    "    count=0\n",
    "    for w, s in [(feature_names[i], s) for (i, s) in tfidf_scores]:\n",
    "        if (w in vocab_political_affiliation):\n",
    "            tf_idf_doc[count]=s\n",
    "            count+=1\n",
    "    tf_idf_vals.append(tf_idf_doc.tolist())   \n",
    "tf_idf_vals=np.array(tf_idf_vals)\n",
    "tf_idf_vals=tf_idf_vals[~(tf_idf_vals==0).all(1)]\n",
    "tf_idf_vals[0]\n",
    "#tf_idf_vals[np.all(tf_idf_vals == 0,axis=1)]"
   ]
  },
  {
   "cell_type": "markdown",
   "metadata": {},
   "source": [
    "## Conclusion: Document with higher tf-idf has higher political affilication"
   ]
  }
 ],
 "metadata": {
  "kernelspec": {
   "display_name": "Python 3",
   "language": "python",
   "name": "python3"
  },
  "language_info": {
   "codemirror_mode": {
    "name": "ipython",
    "version": 3
   },
   "file_extension": ".py",
   "mimetype": "text/x-python",
   "name": "python",
   "nbconvert_exporter": "python",
   "pygments_lexer": "ipython3",
   "version": "3.6.5"
  }
 },
 "nbformat": 4,
 "nbformat_minor": 2
}

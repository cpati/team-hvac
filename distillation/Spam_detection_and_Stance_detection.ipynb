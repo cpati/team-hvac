{
 "cells": [
  {
   "cell_type": "markdown",
   "metadata": {},
   "source": [
    "### Import all the dependencies"
   ]
  },
  {
   "cell_type": "code",
   "execution_count": 35,
   "metadata": {},
   "outputs": [],
   "source": [
    "import pandas as pd\n",
    "import numpy as np\n",
    "import nltk\n",
    "from nltk.stem import SnowballStemmer\n",
    "from nltk.stem.porter import PorterStemmer\n",
    "from nltk.tokenize import word_tokenize"
   ]
  },
  {
   "cell_type": "markdown",
   "metadata": {},
   "source": [
    "### Load the dataset"
   ]
  },
  {
   "cell_type": "code",
   "execution_count": 36,
   "metadata": {},
   "outputs": [],
   "source": [
    "data = pd.read_csv('himangini_train.tsv', sep='\\t')"
   ]
  },
  {
   "cell_type": "markdown",
   "metadata": {},
   "source": [
    "#### Take a peek at the dataset"
   ]
  },
  {
   "cell_type": "code",
   "execution_count": 37,
   "metadata": {},
   "outputs": [
    {
     "data": {
      "text/html": [
       "<div>\n",
       "<style scoped>\n",
       "    .dataframe tbody tr th:only-of-type {\n",
       "        vertical-align: middle;\n",
       "    }\n",
       "\n",
       "    .dataframe tbody tr th {\n",
       "        vertical-align: top;\n",
       "    }\n",
       "\n",
       "    .dataframe thead th {\n",
       "        text-align: right;\n",
       "    }\n",
       "</style>\n",
       "<table border=\"1\" class=\"dataframe\">\n",
       "  <thead>\n",
       "    <tr style=\"text-align: right;\">\n",
       "      <th></th>\n",
       "      <th>file</th>\n",
       "      <th>value</th>\n",
       "      <th>statement</th>\n",
       "      <th>topic</th>\n",
       "      <th>name</th>\n",
       "      <th>occupation</th>\n",
       "      <th>state</th>\n",
       "      <th>party</th>\n",
       "      <th>barely true counts</th>\n",
       "      <th>false counts</th>\n",
       "      <th>half true counts</th>\n",
       "      <th>mostly true counts</th>\n",
       "      <th>pants on fire counts</th>\n",
       "      <th>context</th>\n",
       "      <th>date</th>\n",
       "      <th>edited by</th>\n",
       "      <th>researchedby</th>\n",
       "      <th>source</th>\n",
       "    </tr>\n",
       "  </thead>\n",
       "  <tbody>\n",
       "    <tr>\n",
       "      <th>0</th>\n",
       "      <td>2635.json</td>\n",
       "      <td>FALSE</td>\n",
       "      <td>Says the Annies List political group supports ...</td>\n",
       "      <td>abortion</td>\n",
       "      <td>dwayne-bohac</td>\n",
       "      <td>State representative</td>\n",
       "      <td>Texas</td>\n",
       "      <td>republican</td>\n",
       "      <td>0.0</td>\n",
       "      <td>1.0</td>\n",
       "      <td>0.0</td>\n",
       "      <td>0.0</td>\n",
       "      <td>0.0</td>\n",
       "      <td>a mailer</td>\n",
       "      <td>10/20/10</td>\n",
       "      <td>Brenda Bell, W. Gardner Selby</td>\n",
       "      <td>Meghan Ashford_Grooms</td>\n",
       "      <td>NaN</td>\n",
       "    </tr>\n",
       "    <tr>\n",
       "      <th>1</th>\n",
       "      <td>10540.json</td>\n",
       "      <td>half-true</td>\n",
       "      <td>When did the decline of coal start? It started...</td>\n",
       "      <td>energy,history,job-accomplishments</td>\n",
       "      <td>scott-surovell</td>\n",
       "      <td>State delegate</td>\n",
       "      <td>Virginia</td>\n",
       "      <td>democrat</td>\n",
       "      <td>0.0</td>\n",
       "      <td>0.0</td>\n",
       "      <td>1.0</td>\n",
       "      <td>1.0</td>\n",
       "      <td>0.0</td>\n",
       "      <td>a floor speech.</td>\n",
       "      <td>NaN</td>\n",
       "      <td>NaN</td>\n",
       "      <td>NaN</td>\n",
       "      <td>NaN</td>\n",
       "    </tr>\n",
       "    <tr>\n",
       "      <th>2</th>\n",
       "      <td>324.json</td>\n",
       "      <td>mostly-true</td>\n",
       "      <td>Hillary Clinton agrees with John McCain \"by vo...</td>\n",
       "      <td>foreign-policy</td>\n",
       "      <td>barack-obama</td>\n",
       "      <td>President</td>\n",
       "      <td>Illinois</td>\n",
       "      <td>democrat</td>\n",
       "      <td>70.0</td>\n",
       "      <td>71.0</td>\n",
       "      <td>160.0</td>\n",
       "      <td>163.0</td>\n",
       "      <td>9.0</td>\n",
       "      <td>Denver</td>\n",
       "      <td>NaN</td>\n",
       "      <td>NaN</td>\n",
       "      <td>NaN</td>\n",
       "      <td>NaN</td>\n",
       "    </tr>\n",
       "    <tr>\n",
       "      <th>3</th>\n",
       "      <td>1123.json</td>\n",
       "      <td>FALSE</td>\n",
       "      <td>Health care reform legislation is likely to ma...</td>\n",
       "      <td>health-care</td>\n",
       "      <td>blog-posting</td>\n",
       "      <td>NaN</td>\n",
       "      <td>NaN</td>\n",
       "      <td>none</td>\n",
       "      <td>7.0</td>\n",
       "      <td>19.0</td>\n",
       "      <td>3.0</td>\n",
       "      <td>5.0</td>\n",
       "      <td>44.0</td>\n",
       "      <td>a news release</td>\n",
       "      <td>NaN</td>\n",
       "      <td>NaN</td>\n",
       "      <td>NaN</td>\n",
       "      <td>NaN</td>\n",
       "    </tr>\n",
       "    <tr>\n",
       "      <th>4</th>\n",
       "      <td>9028.json</td>\n",
       "      <td>half-true</td>\n",
       "      <td>The economic turnaround started at the end of ...</td>\n",
       "      <td>economy,jobs</td>\n",
       "      <td>charlie-crist</td>\n",
       "      <td>NaN</td>\n",
       "      <td>Florida</td>\n",
       "      <td>democrat</td>\n",
       "      <td>15.0</td>\n",
       "      <td>9.0</td>\n",
       "      <td>20.0</td>\n",
       "      <td>19.0</td>\n",
       "      <td>2.0</td>\n",
       "      <td>an interview on CNN</td>\n",
       "      <td>NaN</td>\n",
       "      <td>NaN</td>\n",
       "      <td>NaN</td>\n",
       "      <td>NaN</td>\n",
       "    </tr>\n",
       "  </tbody>\n",
       "</table>\n",
       "</div>"
      ],
      "text/plain": [
       "         file        value                                          statement  \\\n",
       "0   2635.json        FALSE  Says the Annies List political group supports ...   \n",
       "1  10540.json    half-true  When did the decline of coal start? It started...   \n",
       "2    324.json  mostly-true  Hillary Clinton agrees with John McCain \"by vo...   \n",
       "3   1123.json        FALSE  Health care reform legislation is likely to ma...   \n",
       "4   9028.json    half-true  The economic turnaround started at the end of ...   \n",
       "\n",
       "                                topic            name            occupation  \\\n",
       "0                            abortion    dwayne-bohac  State representative   \n",
       "1  energy,history,job-accomplishments  scott-surovell        State delegate   \n",
       "2                      foreign-policy    barack-obama             President   \n",
       "3                         health-care    blog-posting                   NaN   \n",
       "4                        economy,jobs   charlie-crist                   NaN   \n",
       "\n",
       "      state       party  barely true counts  false counts  half true counts  \\\n",
       "0     Texas  republican                 0.0           1.0               0.0   \n",
       "1  Virginia    democrat                 0.0           0.0               1.0   \n",
       "2  Illinois    democrat                70.0          71.0             160.0   \n",
       "3       NaN        none                 7.0          19.0               3.0   \n",
       "4   Florida    democrat                15.0           9.0              20.0   \n",
       "\n",
       "   mostly true counts  pants on fire counts              context      date  \\\n",
       "0                 0.0                   0.0             a mailer  10/20/10   \n",
       "1                 1.0                   0.0      a floor speech.       NaN   \n",
       "2               163.0                   9.0               Denver       NaN   \n",
       "3                 5.0                  44.0       a news release       NaN   \n",
       "4                19.0                   2.0  an interview on CNN       NaN   \n",
       "\n",
       "                       edited by           researchedby  source  \n",
       "0  Brenda Bell, W. Gardner Selby  Meghan Ashford_Grooms     NaN  \n",
       "1                            NaN                    NaN     NaN  \n",
       "2                            NaN                    NaN     NaN  \n",
       "3                            NaN                    NaN     NaN  \n",
       "4                            NaN                    NaN     NaN  "
      ]
     },
     "execution_count": 37,
     "metadata": {},
     "output_type": "execute_result"
    }
   ],
   "source": [
    "data.head()"
   ]
  },
  {
   "cell_type": "markdown",
   "metadata": {},
   "source": [
    "### Data Cleaning and Preprocessing:\n",
    "1. **Tokenization**: Split the text into sentences and the sentences into words. \n",
    "2. **Lowercase** the words and **remove punctuation**.\n",
    "3. Words that have fewer than 3 characters are removed.\n",
    "4. All **stopwords** are removed.\n",
    "5. Words are **lemmatized** — words in third person are changed to first person and verbs in past and future tenses are changed into present.\n",
    "6. Words are **stemmed** — words are reduced to their root form.\n"
   ]
  },
  {
   "cell_type": "code",
   "execution_count": 38,
   "metadata": {},
   "outputs": [
    {
     "name": "stdout",
     "output_type": "stream",
     "text": [
      "10240\n",
      "                                           statement  index\n",
      "0  Says the Annies List political group supports ...      0\n",
      "1  When did the decline of coal start? It started...      1\n",
      "2  Hillary Clinton agrees with John McCain \"by vo...      2\n",
      "3  Health care reform legislation is likely to ma...      3\n",
      "4  The economic turnaround started at the end of ...      4\n"
     ]
    }
   ],
   "source": [
    "import sys\n",
    "if not sys.warnoptions:\n",
    "    import warnings\n",
    "    warnings.simplefilter(\"ignore\")\n",
    "\n",
    "data_text=data[['statement']]\n",
    "data_text['index'] = data_text.index\n",
    "documents = data_text\n",
    "print(len(documents))\n",
    "print(documents[:5])"
   ]
  },
  {
   "cell_type": "markdown",
   "metadata": {},
   "source": [
    "#### Loading gensim and nltk libraries"
   ]
  },
  {
   "cell_type": "code",
   "execution_count": 39,
   "metadata": {},
   "outputs": [
    {
     "name": "stdout",
     "output_type": "stream",
     "text": [
      "[nltk_data] Downloading package wordnet to\n",
      "[nltk_data]     /Users/himangini/nltk_data...\n",
      "[nltk_data]   Package wordnet is already up-to-date!\n"
     ]
    }
   ],
   "source": [
    "import gensim\n",
    "import nltk\n",
    "from gensim.utils import simple_preprocess\n",
    "from gensim.parsing.preprocessing import STOPWORDS\n",
    "from nltk.stem import WordNetLemmatizer, SnowballStemmer\n",
    "from nltk.stem.porter import *\n",
    "np.random.seed(2018)\n",
    "nltk.download('wordnet')\n",
    "stemmer = SnowballStemmer('english')"
   ]
  },
  {
   "cell_type": "markdown",
   "metadata": {},
   "source": [
    "#### Write a function to perform lemmatize and stem preprocessing steps on the data set"
   ]
  },
  {
   "cell_type": "code",
   "execution_count": 40,
   "metadata": {},
   "outputs": [],
   "source": [
    "def lemmatize_stemming(text):\n",
    "    return stemmer.stem(WordNetLemmatizer().lemmatize(text,pos='v'))\n",
    "def preprocess(text):\n",
    "    result=[]\n",
    "    for token in gensim.utils.simple_preprocess(text):\n",
    "        if token not in gensim.parsing.preprocessing.STOPWORDS and len(token) >3:\n",
    "            result.append(lemmatize_stemming(token))\n",
    "    return result"
   ]
  },
  {
   "cell_type": "markdown",
   "metadata": {},
   "source": [
    "#### Select a document to preview after preprocessing"
   ]
  },
  {
   "cell_type": "code",
   "execution_count": 41,
   "metadata": {},
   "outputs": [
    {
     "name": "stdout",
     "output_type": "stream",
     "text": [
      "original document: \n",
      "['Says', 'the', 'Annies', 'List', 'political', 'group', 'supports', 'third-trimester', 'abortions', 'on', 'demand.']\n",
      "\n",
      "\n",
      " tokenized and lemmatized document: \n",
      "['say', 'anni', 'list', 'polit', 'group', 'support', 'trimest', 'abort', 'demand']\n"
     ]
    }
   ],
   "source": [
    "doc_sample = documents[documents['index'] == 0].values[0][0]\n",
    "print('original document: ')\n",
    "words = []\n",
    "for word in doc_sample.split(' '):\n",
    "    words.append(word)\n",
    "print(words)\n",
    "print('\\n\\n tokenized and lemmatized document: ')\n",
    "print(preprocess(doc_sample))"
   ]
  },
  {
   "cell_type": "markdown",
   "metadata": {},
   "source": []
  },
  {
   "cell_type": "markdown",
   "metadata": {},
   "source": [
    "#### Preprocess the headline text, saving the results as ‘processed_docs’"
   ]
  },
  {
   "cell_type": "code",
   "execution_count": 42,
   "metadata": {},
   "outputs": [
    {
     "data": {
      "text/plain": [
       "0    [say, anni, list, polit, group, support, trime...\n",
       "1    [declin, coal, start, start, natur, take, star...\n",
       "2    [hillari, clinton, agre, john, mccain, vote, g...\n",
       "3    [health, care, reform, legisl, like, mandat, f...\n",
       "4                    [econom, turnaround, start, term]\n",
       "5    [chicago, bear, start, quarterback, year, tota...\n",
       "6               [dunnam, live, district, repres, year]\n",
       "7    [person, stage, work, activ, year, pass, russ,...\n",
       "8    [take, million, oregon, lotteri, fund, port, n...\n",
       "9    [say, primari, oppon, glenn, grothman, leibham...\n",
       "Name: statement, dtype: object"
      ]
     },
     "execution_count": 42,
     "metadata": {},
     "output_type": "execute_result"
    }
   ],
   "source": [
    "processed_docs = documents['statement'].map(preprocess)\n",
    "processed_docs[:10]"
   ]
  },
  {
   "cell_type": "markdown",
   "metadata": {},
   "source": [
    "## Bag of Words on the Data set\n",
    "#### Create a dictionary from ‘processed_docs’ containing the number of times a word appears in the training set"
   ]
  },
  {
   "cell_type": "code",
   "execution_count": 43,
   "metadata": {},
   "outputs": [
    {
     "name": "stdout",
     "output_type": "stream",
     "text": [
      "0 abort\n",
      "1 anni\n",
      "2 demand\n",
      "3 group\n",
      "4 list\n",
      "5 polit\n",
      "6 say\n",
      "7 support\n",
      "8 trimest\n",
      "9 administr\n",
      "10 begin\n"
     ]
    }
   ],
   "source": [
    "dictionary = gensim.corpora.Dictionary(processed_docs)\n",
    "count = 0\n",
    "for k,v in dictionary.iteritems():\n",
    "    print(k,v)\n",
    "    count+=1\n",
    "    if count > 10:\n",
    "        break"
   ]
  },
  {
   "cell_type": "markdown",
   "metadata": {},
   "source": [
    "### Gensim filter_extremes\n",
    "#### Filter out tokens that appear in \n",
    "1. less than 15 documents (absolute number)\n",
    "2. more than 0.5 documents (fraction of total corpus size, not absolute number). \n",
    "3. After the above two steps, keep only the first 100k most frequent tokens. "
   ]
  },
  {
   "cell_type": "markdown",
   "metadata": {},
   "source": [
    "#### Visuale the shape of the corpus"
   ]
  },
  {
   "cell_type": "code",
   "execution_count": 44,
   "metadata": {},
   "outputs": [
    {
     "data": {
      "text/plain": [
       "(10240,)"
      ]
     },
     "execution_count": 44,
     "metadata": {},
     "output_type": "execute_result"
    }
   ],
   "source": [
    "processed_docs.shape"
   ]
  },
  {
   "cell_type": "code",
   "execution_count": 45,
   "metadata": {},
   "outputs": [],
   "source": [
    "dictionary.filter_extremes(no_below=15,no_above=0.5,keep_n=100000)"
   ]
  },
  {
   "cell_type": "markdown",
   "metadata": {},
   "source": [
    "### Gensim doc2bow\n",
    "For each document I have created a dictionary reporting how many words and how many times those words appear. \n",
    "Save this to ‘bow_corpus’, then check our selected document earlier."
   ]
  },
  {
   "cell_type": "code",
   "execution_count": 72,
   "metadata": {},
   "outputs": [
    {
     "data": {
      "text/plain": [
       "[[(0, 1), (1, 1), (2, 1), (3, 1), (4, 1), (5, 1), (6, 1)],\n",
       " [(7, 1),\n",
       "  (8, 1),\n",
       "  (9, 1),\n",
       "  (10, 1),\n",
       "  (11, 1),\n",
       "  (12, 1),\n",
       "  (13, 1),\n",
       "  (14, 1),\n",
       "  (15, 3),\n",
       "  (16, 1)],\n",
       " [(9, 1),\n",
       "  (12, 1),\n",
       "  (17, 1),\n",
       "  (18, 1),\n",
       "  (19, 1),\n",
       "  (20, 1),\n",
       "  (21, 1),\n",
       "  (22, 1),\n",
       "  (23, 1),\n",
       "  (24, 1)],\n",
       " [(25, 1), (26, 1), (27, 1), (28, 1), (29, 1), (30, 1), (31, 1), (32, 1)],\n",
       " [(15, 1), (33, 1), (34, 1)],\n",
       " [(15, 1), (35, 1), (36, 1), (37, 1), (38, 1), (39, 1), (40, 1)],\n",
       " [(40, 1), (41, 1), (42, 1), (43, 1)],\n",
       " [(32, 1),\n",
       "  (40, 1),\n",
       "  (44, 1),\n",
       "  (45, 1),\n",
       "  (46, 1),\n",
       "  (47, 1),\n",
       "  (48, 1),\n",
       "  (49, 1),\n",
       "  (50, 1)],\n",
       " [(16, 1), (51, 1), (52, 1), (53, 1), (54, 1), (55, 1), (56, 1), (57, 1)],\n",
       " [(5, 1),\n",
       "  (24, 1),\n",
       "  (54, 1),\n",
       "  (58, 1),\n",
       "  (59, 2),\n",
       "  (60, 1),\n",
       "  (61, 1),\n",
       "  (62, 1),\n",
       "  (63, 1)]]"
      ]
     },
     "execution_count": 72,
     "metadata": {},
     "output_type": "execute_result"
    }
   ],
   "source": [
    "bow_corpus = [dictionary.doc2bow(doc) for doc in processed_docs]\n",
    "bow_corpus[:10]"
   ]
  },
  {
   "cell_type": "markdown",
   "metadata": {},
   "source": [
    "#### Preview Bag Of Words for our sample preprocessed document"
   ]
  },
  {
   "cell_type": "code",
   "execution_count": 47,
   "metadata": {},
   "outputs": [
    {
     "name": "stdout",
     "output_type": "stream",
     "text": [
      "abort - 1\n",
      "demand - 1\n",
      "group - 1\n",
      "list - 1\n",
      "polit - 1\n",
      "say - 1\n",
      "support - 1\n"
     ]
    }
   ],
   "source": [
    "bow_doc_0 = bow_corpus[0]\n",
    "for i in range(len(bow_doc_0)):\n",
    "    print(\"{} - {}\".format(dictionary[bow_doc_0[i][0]],bow_doc_0[i][1]))"
   ]
  },
  {
   "cell_type": "markdown",
   "metadata": {},
   "source": [
    "## TF-IDF\n",
    "Create tf-idf model object using models.TfidfModel on ‘bow_corpus’ and save it to ‘tfidf’, \n",
    "then apply transformation to the entire corpus and call it ‘corpus_tfidf’. \n",
    "Finally we preview TF-IDF scores for our first document."
   ]
  },
  {
   "cell_type": "code",
   "execution_count": 48,
   "metadata": {},
   "outputs": [
    {
     "name": "stdout",
     "output_type": "stream",
     "text": [
      "[(0, 0.3397402827336795),\n",
      " (1, 0.5002880765433487),\n",
      " (2, 0.4088224168287155),\n",
      " (3, 0.4639566513984633),\n",
      " (4, 0.40750764496407926),\n",
      " (5, 0.10879086838115597),\n",
      " (6, 0.27202739591951525)]\n"
     ]
    }
   ],
   "source": [
    "from gensim import corpora, models\n",
    "tfidf = models.TfidfModel(bow_corpus)\n",
    "corpus_tfidf = tfidf[bow_corpus]\n",
    "from pprint import pprint\n",
    "for doc in corpus_tfidf:\n",
    "    pprint (doc)\n",
    "    break"
   ]
  },
  {
   "cell_type": "markdown",
   "metadata": {},
   "source": [
    "### Running LDA using Bag of Words\n",
    "Train our lda model using gensim.models.LdaMulticore and save it to ‘lda_model’"
   ]
  },
  {
   "cell_type": "code",
   "execution_count": 49,
   "metadata": {},
   "outputs": [
    {
     "data": {
      "text/plain": [
       "[(0,\n",
       "  '0.058*\"say\" + 0.025*\"state\" + 0.017*\"vote\" + 0.015*\"american\" + 0.014*\"texa\" + 0.012*\"year\" + 0.012*\"million\" + 0.011*\"percent\" + 0.010*\"billion\" + 0.008*\"america\"'),\n",
       " (1,\n",
       "  '0.040*\"say\" + 0.015*\"vote\" + 0.015*\"care\" + 0.014*\"american\" + 0.013*\"state\" + 0.010*\"obamacar\" + 0.010*\"health\" + 0.010*\"year\" + 0.009*\"obama\" + 0.009*\"trump\"'),\n",
       " (2,\n",
       "  '0.045*\"obama\" + 0.040*\"say\" + 0.034*\"presid\" + 0.027*\"barack\" + 0.022*\"year\" + 0.014*\"time\" + 0.011*\"rate\" + 0.011*\"illeg\" + 0.010*\"support\" + 0.010*\"immigr\"'),\n",
       " (3,\n",
       "  '0.043*\"say\" + 0.033*\"state\" + 0.028*\"health\" + 0.022*\"care\" + 0.011*\"job\" + 0.011*\"plan\" + 0.010*\"year\" + 0.010*\"want\" + 0.009*\"obama\" + 0.009*\"budget\"'),\n",
       " (4,\n",
       "  '0.049*\"percent\" + 0.032*\"say\" + 0.025*\"year\" + 0.017*\"state\" + 0.011*\"plan\" + 0.008*\"public\" + 0.008*\"employe\" + 0.008*\"peopl\" + 0.008*\"countri\" + 0.007*\"secur\"'),\n",
       " (5,\n",
       "  '0.042*\"say\" + 0.021*\"vote\" + 0.018*\"school\" + 0.017*\"year\" + 0.014*\"obama\" + 0.012*\"spend\" + 0.012*\"democrat\" + 0.011*\"peopl\" + 0.010*\"presid\" + 0.010*\"increas\"'),\n",
       " (6,\n",
       "  '0.034*\"year\" + 0.026*\"percent\" + 0.024*\"tax\" + 0.023*\"say\" + 0.017*\"rais\" + 0.013*\"state\" + 0.013*\"nation\" + 0.011*\"take\" + 0.011*\"presid\" + 0.010*\"debt\"'),\n",
       " (7,\n",
       "  '0.024*\"say\" + 0.022*\"peopl\" + 0.018*\"percent\" + 0.014*\"spend\" + 0.014*\"dont\" + 0.013*\"time\" + 0.013*\"american\" + 0.013*\"year\" + 0.011*\"obama\" + 0.010*\"job\"'),\n",
       " (8,\n",
       "  '0.032*\"say\" + 0.018*\"million\" + 0.017*\"state\" + 0.013*\"year\" + 0.013*\"job\" + 0.011*\"peopl\" + 0.011*\"creat\" + 0.010*\"republican\" + 0.009*\"obama\" + 0.008*\"wisconsin\"'),\n",
       " (9,\n",
       "  '0.041*\"state\" + 0.032*\"say\" + 0.016*\"percent\" + 0.015*\"unit\" + 0.011*\"obama\" + 0.011*\"spend\" + 0.011*\"vote\" + 0.011*\"govern\" + 0.010*\"cost\" + 0.009*\"million\"')]"
      ]
     },
     "execution_count": 49,
     "metadata": {},
     "output_type": "execute_result"
    }
   ],
   "source": [
    "lda_model = gensim.models.LdaMulticore(bow_corpus,num_topics=10,id2word=dictionary,passes=2)\n",
    "lda_model.print_topics(-1)"
   ]
  },
  {
   "cell_type": "markdown",
   "metadata": {},
   "source": [
    "#### For each topic, we will explore the words occuring in that topic and its relative weight."
   ]
  },
  {
   "cell_type": "code",
   "execution_count": 50,
   "metadata": {},
   "outputs": [
    {
     "name": "stdout",
     "output_type": "stream",
     "text": [
      "Topic: 0 \n",
      " Words: 0.058*\"say\" + 0.025*\"state\" + 0.017*\"vote\" + 0.015*\"american\" + 0.014*\"texa\" + 0.012*\"year\" + 0.012*\"million\" + 0.011*\"percent\" + 0.010*\"billion\" + 0.008*\"america\"\n",
      "Topic: 1 \n",
      " Words: 0.040*\"say\" + 0.015*\"vote\" + 0.015*\"care\" + 0.014*\"american\" + 0.013*\"state\" + 0.010*\"obamacar\" + 0.010*\"health\" + 0.010*\"year\" + 0.009*\"obama\" + 0.009*\"trump\"\n",
      "Topic: 2 \n",
      " Words: 0.045*\"obama\" + 0.040*\"say\" + 0.034*\"presid\" + 0.027*\"barack\" + 0.022*\"year\" + 0.014*\"time\" + 0.011*\"rate\" + 0.011*\"illeg\" + 0.010*\"support\" + 0.010*\"immigr\"\n",
      "Topic: 3 \n",
      " Words: 0.043*\"say\" + 0.033*\"state\" + 0.028*\"health\" + 0.022*\"care\" + 0.011*\"job\" + 0.011*\"plan\" + 0.010*\"year\" + 0.010*\"want\" + 0.009*\"obama\" + 0.009*\"budget\"\n",
      "Topic: 4 \n",
      " Words: 0.049*\"percent\" + 0.032*\"say\" + 0.025*\"year\" + 0.017*\"state\" + 0.011*\"plan\" + 0.008*\"public\" + 0.008*\"employe\" + 0.008*\"peopl\" + 0.008*\"countri\" + 0.007*\"secur\"\n",
      "Topic: 5 \n",
      " Words: 0.042*\"say\" + 0.021*\"vote\" + 0.018*\"school\" + 0.017*\"year\" + 0.014*\"obama\" + 0.012*\"spend\" + 0.012*\"democrat\" + 0.011*\"peopl\" + 0.010*\"presid\" + 0.010*\"increas\"\n",
      "Topic: 6 \n",
      " Words: 0.034*\"year\" + 0.026*\"percent\" + 0.024*\"tax\" + 0.023*\"say\" + 0.017*\"rais\" + 0.013*\"state\" + 0.013*\"nation\" + 0.011*\"take\" + 0.011*\"presid\" + 0.010*\"debt\"\n",
      "Topic: 7 \n",
      " Words: 0.024*\"say\" + 0.022*\"peopl\" + 0.018*\"percent\" + 0.014*\"spend\" + 0.014*\"dont\" + 0.013*\"time\" + 0.013*\"american\" + 0.013*\"year\" + 0.011*\"obama\" + 0.010*\"job\"\n",
      "Topic: 8 \n",
      " Words: 0.032*\"say\" + 0.018*\"million\" + 0.017*\"state\" + 0.013*\"year\" + 0.013*\"job\" + 0.011*\"peopl\" + 0.011*\"creat\" + 0.010*\"republican\" + 0.009*\"obama\" + 0.008*\"wisconsin\"\n",
      "Topic: 9 \n",
      " Words: 0.041*\"state\" + 0.032*\"say\" + 0.016*\"percent\" + 0.015*\"unit\" + 0.011*\"obama\" + 0.011*\"spend\" + 0.011*\"vote\" + 0.011*\"govern\" + 0.010*\"cost\" + 0.009*\"million\"\n"
     ]
    }
   ],
   "source": [
    "for idx, topic in lda_model.print_topics(-1):\n",
    "    print (\"Topic: {} \\n Words: {}\".format(idx,topic))"
   ]
  },
  {
   "cell_type": "markdown",
   "metadata": {},
   "source": [
    "### Running LDA using TF-IDF"
   ]
  },
  {
   "cell_type": "code",
   "execution_count": 51,
   "metadata": {},
   "outputs": [
    {
     "name": "stdout",
     "output_type": "stream",
     "text": [
      "Topic: 0 \n",
      " Word: 0.015*\"say\" + 0.012*\"state\" + 0.011*\"year\" + 0.009*\"immigr\" + 0.008*\"illeg\" + 0.008*\"presid\" + 0.008*\"senat\" + 0.007*\"oppos\" + 0.007*\"obama\" + 0.007*\"hous\"\n",
      "Topic: 1 \n",
      " Word: 0.013*\"percent\" + 0.013*\"state\" + 0.012*\"say\" + 0.010*\"million\" + 0.009*\"year\" + 0.008*\"obama\" + 0.008*\"presid\" + 0.008*\"spend\" + 0.008*\"feder\" + 0.007*\"governor\"\n",
      "Topic: 2 \n",
      " Word: 0.015*\"year\" + 0.010*\"percent\" + 0.010*\"say\" + 0.009*\"school\" + 0.009*\"averag\" + 0.008*\"spend\" + 0.008*\"american\" + 0.008*\"student\" + 0.008*\"state\" + 0.008*\"unemploy\"\n",
      "Topic: 3 \n",
      " Word: 0.015*\"state\" + 0.012*\"say\" + 0.012*\"year\" + 0.011*\"health\" + 0.010*\"percent\" + 0.010*\"billion\" + 0.009*\"nation\" + 0.009*\"obamacar\" + 0.009*\"insur\" + 0.008*\"job\"\n",
      "Topic: 4 \n",
      " Word: 0.014*\"job\" + 0.012*\"say\" + 0.012*\"obama\" + 0.012*\"presid\" + 0.010*\"month\" + 0.010*\"state\" + 0.009*\"creat\" + 0.009*\"year\" + 0.008*\"rate\" + 0.008*\"percent\"\n",
      "Topic: 5 \n",
      " Word: 0.017*\"say\" + 0.011*\"obama\" + 0.009*\"presid\" + 0.009*\"governor\" + 0.009*\"state\" + 0.008*\"barack\" + 0.008*\"peopl\" + 0.008*\"percent\" + 0.007*\"drill\" + 0.007*\"unit\"\n",
      "Topic: 6 \n",
      " Word: 0.013*\"say\" + 0.010*\"year\" + 0.009*\"health\" + 0.008*\"spend\" + 0.008*\"want\" + 0.007*\"obama\" + 0.007*\"care\" + 0.007*\"clinton\" + 0.007*\"percent\" + 0.007*\"presid\"\n",
      "Topic: 7 \n",
      " Word: 0.016*\"percent\" + 0.014*\"rais\" + 0.013*\"tax\" + 0.012*\"say\" + 0.010*\"vote\" + 0.010*\"care\" + 0.009*\"romney\" + 0.009*\"health\" + 0.008*\"time\" + 0.008*\"world\"\n",
      "Topic: 8 \n",
      " Word: 0.012*\"say\" + 0.011*\"percent\" + 0.011*\"state\" + 0.010*\"parti\" + 0.010*\"democrat\" + 0.009*\"food\" + 0.009*\"republican\" + 0.008*\"vote\" + 0.008*\"unit\" + 0.007*\"senat\"\n",
      "Topic: 9 \n",
      " Word: 0.013*\"say\" + 0.011*\"care\" + 0.011*\"plan\" + 0.010*\"citi\" + 0.010*\"america\" + 0.009*\"health\" + 0.008*\"percent\" + 0.007*\"support\" + 0.007*\"govern\" + 0.007*\"budget\"\n"
     ]
    }
   ],
   "source": [
    "lda_model_tfidf = gensim.models.LdaMulticore(corpus_tfidf, num_topics=10, id2word=dictionary, passes=2, workers=4)\n",
    "for idx, topic in lda_model_tfidf.print_topics(-1):\n",
    "    print('Topic: {} \\n Word: {}'.format(idx, topic))"
   ]
  },
  {
   "cell_type": "markdown",
   "metadata": {},
   "source": [
    "### Performance evaluation by classifying sample document using LDA Bag of Words model\n",
    "We will check where our test document would be classified."
   ]
  },
  {
   "cell_type": "code",
   "execution_count": 52,
   "metadata": {},
   "outputs": [
    {
     "data": {
      "text/plain": [
       "['republican', 'repeat', 'say', 'agre', 'percent']"
      ]
     },
     "execution_count": 52,
     "metadata": {},
     "output_type": "execute_result"
    }
   ],
   "source": [
    "processed_docs[10000]"
   ]
  },
  {
   "cell_type": "code",
   "execution_count": 53,
   "metadata": {},
   "outputs": [
    {
     "name": "stdout",
     "output_type": "stream",
     "text": [
      "Score: 0.5788266658782959\n",
      "Topic: 0.045*\"obama\" + 0.040*\"say\" + 0.034*\"presid\" + 0.027*\"barack\" + 0.022*\"year\" + 0.014*\"time\" + 0.011*\"rate\" + 0.011*\"illeg\" + 0.010*\"support\" + 0.010*\"immigr\"\n",
      "Score: 0.3211537003517151\n",
      "Topic: 0.042*\"say\" + 0.021*\"vote\" + 0.018*\"school\" + 0.017*\"year\" + 0.014*\"obama\" + 0.012*\"spend\" + 0.012*\"democrat\" + 0.011*\"peopl\" + 0.010*\"presid\" + 0.010*\"increas\"\n",
      "Score: 0.012503399513661861\n",
      "Topic: 0.049*\"percent\" + 0.032*\"say\" + 0.025*\"year\" + 0.017*\"state\" + 0.011*\"plan\" + 0.008*\"public\" + 0.008*\"employe\" + 0.008*\"peopl\" + 0.008*\"countri\" + 0.007*\"secur\"\n",
      "Score: 0.012503117322921753\n",
      "Topic: 0.043*\"say\" + 0.033*\"state\" + 0.028*\"health\" + 0.022*\"care\" + 0.011*\"job\" + 0.011*\"plan\" + 0.010*\"year\" + 0.010*\"want\" + 0.009*\"obama\" + 0.009*\"budget\"\n",
      "Score: 0.012502861209213734\n",
      "Topic: 0.041*\"state\" + 0.032*\"say\" + 0.016*\"percent\" + 0.015*\"unit\" + 0.011*\"obama\" + 0.011*\"spend\" + 0.011*\"vote\" + 0.011*\"govern\" + 0.010*\"cost\" + 0.009*\"million\"\n",
      "Score: 0.012502454221248627\n",
      "Topic: 0.024*\"say\" + 0.022*\"peopl\" + 0.018*\"percent\" + 0.014*\"spend\" + 0.014*\"dont\" + 0.013*\"time\" + 0.013*\"american\" + 0.013*\"year\" + 0.011*\"obama\" + 0.010*\"job\"\n",
      "Score: 0.012502321973443031\n",
      "Topic: 0.032*\"say\" + 0.018*\"million\" + 0.017*\"state\" + 0.013*\"year\" + 0.013*\"job\" + 0.011*\"peopl\" + 0.011*\"creat\" + 0.010*\"republican\" + 0.009*\"obama\" + 0.008*\"wisconsin\"\n",
      "Score: 0.012502199970185757\n",
      "Topic: 0.058*\"say\" + 0.025*\"state\" + 0.017*\"vote\" + 0.015*\"american\" + 0.014*\"texa\" + 0.012*\"year\" + 0.012*\"million\" + 0.011*\"percent\" + 0.010*\"billion\" + 0.008*\"america\"\n",
      "Score: 0.012501911260187626\n",
      "Topic: 0.034*\"year\" + 0.026*\"percent\" + 0.024*\"tax\" + 0.023*\"say\" + 0.017*\"rais\" + 0.013*\"state\" + 0.013*\"nation\" + 0.011*\"take\" + 0.011*\"presid\" + 0.010*\"debt\"\n",
      "Score: 0.012501397170126438\n",
      "Topic: 0.040*\"say\" + 0.015*\"vote\" + 0.015*\"care\" + 0.014*\"american\" + 0.013*\"state\" + 0.010*\"obamacar\" + 0.010*\"health\" + 0.010*\"year\" + 0.009*\"obama\" + 0.009*\"trump\"\n"
     ]
    }
   ],
   "source": [
    "for index, score in sorted(lda_model[bow_corpus[0]], key=lambda tup: -1*tup[1]):\n",
    "    print(\"Score: {}\\nTopic: {}\".format(score, lda_model.print_topic(index,10)))"
   ]
  },
  {
   "cell_type": "markdown",
   "metadata": {},
   "source": [
    "##### Our test document has the highest probability to be part of the topic that our model assigned, which is the accurate classification"
   ]
  },
  {
   "cell_type": "markdown",
   "metadata": {},
   "source": [
    "### Performance evaluation by classifying sample document using LDA TF-IDF model"
   ]
  },
  {
   "cell_type": "code",
   "execution_count": 54,
   "metadata": {},
   "outputs": [
    {
     "name": "stdout",
     "output_type": "stream",
     "text": [
      "\n",
      "Score: 0.8874684572219849\t \n",
      "Topic: 0.015*\"year\" + 0.010*\"percent\" + 0.010*\"say\" + 0.009*\"school\" + 0.009*\"averag\" + 0.008*\"spend\" + 0.008*\"american\" + 0.008*\"student\" + 0.008*\"state\" + 0.008*\"unemploy\"\n",
      "\n",
      "Score: 0.01250439789146185\t \n",
      "Topic: 0.015*\"state\" + 0.012*\"say\" + 0.012*\"year\" + 0.011*\"health\" + 0.010*\"percent\" + 0.010*\"billion\" + 0.009*\"nation\" + 0.009*\"obamacar\" + 0.009*\"insur\" + 0.008*\"job\"\n",
      "\n",
      "Score: 0.012503593228757381\t \n",
      "Topic: 0.013*\"percent\" + 0.013*\"state\" + 0.012*\"say\" + 0.010*\"million\" + 0.009*\"year\" + 0.008*\"obama\" + 0.008*\"presid\" + 0.008*\"spend\" + 0.008*\"feder\" + 0.007*\"governor\"\n",
      "\n",
      "Score: 0.012503591366112232\t \n",
      "Topic: 0.017*\"say\" + 0.011*\"obama\" + 0.009*\"presid\" + 0.009*\"governor\" + 0.009*\"state\" + 0.008*\"barack\" + 0.008*\"peopl\" + 0.008*\"percent\" + 0.007*\"drill\" + 0.007*\"unit\"\n",
      "\n",
      "Score: 0.012503533624112606\t \n",
      "Topic: 0.013*\"say\" + 0.010*\"year\" + 0.009*\"health\" + 0.008*\"spend\" + 0.008*\"want\" + 0.007*\"obama\" + 0.007*\"care\" + 0.007*\"clinton\" + 0.007*\"percent\" + 0.007*\"presid\"\n",
      "\n",
      "Score: 0.012503517791628838\t \n",
      "Topic: 0.013*\"say\" + 0.011*\"care\" + 0.011*\"plan\" + 0.010*\"citi\" + 0.010*\"america\" + 0.009*\"health\" + 0.008*\"percent\" + 0.007*\"support\" + 0.007*\"govern\" + 0.007*\"budget\"\n",
      "\n",
      "Score: 0.012503509409725666\t \n",
      "Topic: 0.012*\"say\" + 0.011*\"percent\" + 0.011*\"state\" + 0.010*\"parti\" + 0.010*\"democrat\" + 0.009*\"food\" + 0.009*\"republican\" + 0.008*\"vote\" + 0.008*\"unit\" + 0.007*\"senat\"\n",
      "\n",
      "Score: 0.012503384612500668\t \n",
      "Topic: 0.015*\"say\" + 0.012*\"state\" + 0.011*\"year\" + 0.009*\"immigr\" + 0.008*\"illeg\" + 0.008*\"presid\" + 0.008*\"senat\" + 0.007*\"oppos\" + 0.007*\"obama\" + 0.007*\"hous\"\n",
      "\n",
      "Score: 0.012502997182309628\t \n",
      "Topic: 0.016*\"percent\" + 0.014*\"rais\" + 0.013*\"tax\" + 0.012*\"say\" + 0.010*\"vote\" + 0.010*\"care\" + 0.009*\"romney\" + 0.009*\"health\" + 0.008*\"time\" + 0.008*\"world\"\n",
      "\n",
      "Score: 0.012502993457019329\t \n",
      "Topic: 0.014*\"job\" + 0.012*\"say\" + 0.012*\"obama\" + 0.012*\"presid\" + 0.010*\"month\" + 0.010*\"state\" + 0.009*\"creat\" + 0.009*\"year\" + 0.008*\"rate\" + 0.008*\"percent\"\n"
     ]
    }
   ],
   "source": [
    "for index, score in sorted(lda_model_tfidf[bow_corpus[0]], key=lambda tup: -1*tup[1]):\n",
    "    print(\"\\nScore: {}\\t \\nTopic: {}\".format(score, lda_model_tfidf.print_topic(index, 10)))"
   ]
  },
  {
   "cell_type": "markdown",
   "metadata": {},
   "source": [
    "##### Our test document has the highest probability to be part of the topic that our model assigned, which is the accurate classification."
   ]
  },
  {
   "cell_type": "markdown",
   "metadata": {},
   "source": [
    "### Testing model on a current affair document"
   ]
  },
  {
   "cell_type": "code",
   "execution_count": 55,
   "metadata": {},
   "outputs": [
    {
     "name": "stdout",
     "output_type": "stream",
     "text": [
      "Score: 0.8874720335006714\n",
      "Topic: 0.040*\"say\" + 0.015*\"vote\" + 0.015*\"care\" + 0.014*\"american\" + 0.013*\"state\" + 0.010*\"obamacar\" + 0.010*\"health\" + 0.010*\"year\" + 0.009*\"obama\" + 0.009*\"trump\"\n",
      "Score: 0.012507018633186817\n",
      "Topic: 0.032*\"say\" + 0.018*\"million\" + 0.017*\"state\" + 0.013*\"year\" + 0.013*\"job\" + 0.011*\"peopl\" + 0.011*\"creat\" + 0.010*\"republican\" + 0.009*\"obama\" + 0.008*\"wisconsin\"\n",
      "Score: 0.012503609992563725\n",
      "Topic: 0.024*\"say\" + 0.022*\"peopl\" + 0.018*\"percent\" + 0.014*\"spend\" + 0.014*\"dont\" + 0.013*\"time\" + 0.013*\"american\" + 0.013*\"year\" + 0.011*\"obama\" + 0.010*\"job\"\n",
      "Score: 0.012503431178629398\n",
      "Topic: 0.034*\"year\" + 0.026*\"percent\" + 0.024*\"tax\" + 0.023*\"say\" + 0.017*\"rais\" + 0.013*\"state\" + 0.013*\"nation\" + 0.011*\"take\" + 0.011*\"presid\" + 0.010*\"debt\"\n",
      "Score: 0.01250336691737175\n",
      "Topic: 0.041*\"state\" + 0.032*\"say\" + 0.016*\"percent\" + 0.015*\"unit\" + 0.011*\"obama\" + 0.011*\"spend\" + 0.011*\"vote\" + 0.011*\"govern\" + 0.010*\"cost\" + 0.009*\"million\"\n",
      "Score: 0.012503361329436302\n",
      "Topic: 0.058*\"say\" + 0.025*\"state\" + 0.017*\"vote\" + 0.015*\"american\" + 0.014*\"texa\" + 0.012*\"year\" + 0.012*\"million\" + 0.011*\"percent\" + 0.010*\"billion\" + 0.008*\"america\"\n",
      "Score: 0.012502526864409447\n",
      "Topic: 0.049*\"percent\" + 0.032*\"say\" + 0.025*\"year\" + 0.017*\"state\" + 0.011*\"plan\" + 0.008*\"public\" + 0.008*\"employe\" + 0.008*\"peopl\" + 0.008*\"countri\" + 0.007*\"secur\"\n",
      "Score: 0.01250169426202774\n",
      "Topic: 0.043*\"say\" + 0.033*\"state\" + 0.028*\"health\" + 0.022*\"care\" + 0.011*\"job\" + 0.011*\"plan\" + 0.010*\"year\" + 0.010*\"want\" + 0.009*\"obama\" + 0.009*\"budget\"\n",
      "Score: 0.01250167191028595\n",
      "Topic: 0.042*\"say\" + 0.021*\"vote\" + 0.018*\"school\" + 0.017*\"year\" + 0.014*\"obama\" + 0.012*\"spend\" + 0.012*\"democrat\" + 0.011*\"peopl\" + 0.010*\"presid\" + 0.010*\"increas\"\n",
      "Score: 0.012501337565481663\n",
      "Topic: 0.045*\"obama\" + 0.040*\"say\" + 0.034*\"presid\" + 0.027*\"barack\" + 0.022*\"year\" + 0.014*\"time\" + 0.011*\"rate\" + 0.011*\"illeg\" + 0.010*\"support\" + 0.010*\"immigr\"\n"
     ]
    }
   ],
   "source": [
    "test_doc = 'Hyde-Smith projected to keep seat in Republican hands, building on Senate majority'\n",
    "bow_vector = dictionary.doc2bow(preprocess(test_doc))\n",
    "for index, score in sorted(lda_model[bow_vector], key=lambda tup: -1*tup[1]):\n",
    "    print(\"Score: {}\\nTopic: {}\".format(score, lda_model.print_topic(index)))"
   ]
  },
  {
   "cell_type": "markdown",
   "metadata": {},
   "source": [
    "## Spam Detection\n",
    "#### The context feature in the dataset has variety of fields such as messages, mails etc\n",
    "#### which gave me a thought to measure the factor of spam detection and check the alternus vera of fake news"
   ]
  },
  {
   "cell_type": "markdown",
   "metadata": {},
   "source": [
    "Here I import the data and change the names of the columns which are more self descriptive"
   ]
  },
  {
   "cell_type": "markdown",
   "metadata": {},
   "source": [
    "### The dataset is from a Kaggle SMS Spam Collection dataset\n",
    "https://www.kaggle.com/uciml/sms-spam-collection-dataset"
   ]
  },
  {
   "cell_type": "code",
   "execution_count": 56,
   "metadata": {},
   "outputs": [],
   "source": [
    "spam_dataset = pd.read_csv(\"spam.csv\", encoding = \"latin-1\")\n",
    "spam_dataset = spam_dataset[['v1', 'v2']]\n",
    "spam_dataset = spam_dataset.rename(columns = {'v1': 'label', 'v2': 'text'})"
   ]
  },
  {
   "cell_type": "markdown",
   "metadata": {},
   "source": [
    "Take a peek at the dataset"
   ]
  },
  {
   "cell_type": "markdown",
   "metadata": {},
   "source": [
    "* ham - an indication of legitimate\n",
    "* spam - an unsolicited messages/texts or emails, especially advertising"
   ]
  },
  {
   "cell_type": "code",
   "execution_count": 57,
   "metadata": {},
   "outputs": [
    {
     "data": {
      "text/html": [
       "<div>\n",
       "<style scoped>\n",
       "    .dataframe tbody tr th:only-of-type {\n",
       "        vertical-align: middle;\n",
       "    }\n",
       "\n",
       "    .dataframe tbody tr th {\n",
       "        vertical-align: top;\n",
       "    }\n",
       "\n",
       "    .dataframe thead th {\n",
       "        text-align: right;\n",
       "    }\n",
       "</style>\n",
       "<table border=\"1\" class=\"dataframe\">\n",
       "  <thead>\n",
       "    <tr style=\"text-align: right;\">\n",
       "      <th></th>\n",
       "      <th>label</th>\n",
       "      <th>text</th>\n",
       "    </tr>\n",
       "  </thead>\n",
       "  <tbody>\n",
       "    <tr>\n",
       "      <th>0</th>\n",
       "      <td>ham</td>\n",
       "      <td>Go until jurong point, crazy.. Available only ...</td>\n",
       "    </tr>\n",
       "    <tr>\n",
       "      <th>1</th>\n",
       "      <td>ham</td>\n",
       "      <td>Ok lar... Joking wif u oni...</td>\n",
       "    </tr>\n",
       "    <tr>\n",
       "      <th>2</th>\n",
       "      <td>spam</td>\n",
       "      <td>Free entry in 2 a wkly comp to win FA Cup fina...</td>\n",
       "    </tr>\n",
       "    <tr>\n",
       "      <th>3</th>\n",
       "      <td>ham</td>\n",
       "      <td>U dun say so early hor... U c already then say...</td>\n",
       "    </tr>\n",
       "    <tr>\n",
       "      <th>4</th>\n",
       "      <td>ham</td>\n",
       "      <td>Nah I don't think he goes to usf, he lives aro...</td>\n",
       "    </tr>\n",
       "    <tr>\n",
       "      <th>5</th>\n",
       "      <td>spam</td>\n",
       "      <td>FreeMsg Hey there darling it's been 3 week's n...</td>\n",
       "    </tr>\n",
       "    <tr>\n",
       "      <th>6</th>\n",
       "      <td>ham</td>\n",
       "      <td>Even my brother is not like to speak with me. ...</td>\n",
       "    </tr>\n",
       "    <tr>\n",
       "      <th>7</th>\n",
       "      <td>ham</td>\n",
       "      <td>As per your request 'Melle Melle (Oru Minnamin...</td>\n",
       "    </tr>\n",
       "    <tr>\n",
       "      <th>8</th>\n",
       "      <td>spam</td>\n",
       "      <td>WINNER!! As a valued network customer you have...</td>\n",
       "    </tr>\n",
       "    <tr>\n",
       "      <th>9</th>\n",
       "      <td>spam</td>\n",
       "      <td>Had your mobile 11 months or more? U R entitle...</td>\n",
       "    </tr>\n",
       "  </tbody>\n",
       "</table>\n",
       "</div>"
      ],
      "text/plain": [
       "  label                                               text\n",
       "0   ham  Go until jurong point, crazy.. Available only ...\n",
       "1   ham                      Ok lar... Joking wif u oni...\n",
       "2  spam  Free entry in 2 a wkly comp to win FA Cup fina...\n",
       "3   ham  U dun say so early hor... U c already then say...\n",
       "4   ham  Nah I don't think he goes to usf, he lives aro...\n",
       "5  spam  FreeMsg Hey there darling it's been 3 week's n...\n",
       "6   ham  Even my brother is not like to speak with me. ...\n",
       "7   ham  As per your request 'Melle Melle (Oru Minnamin...\n",
       "8  spam  WINNER!! As a valued network customer you have...\n",
       "9  spam  Had your mobile 11 months or more? U R entitle..."
      ]
     },
     "execution_count": 57,
     "metadata": {},
     "output_type": "execute_result"
    }
   ],
   "source": [
    "spam_dataset.head(10)"
   ]
  },
  {
   "cell_type": "markdown",
   "metadata": {},
   "source": [
    "#### From briefly exploring the data, I could gain some insight into the text that I was working with: colloquial English. \n",
    "#### This particular data set also has 87% messages labelled as “ham” and 13% messages labelled as “spam”. \n",
    "#### The class imbalance will become important later when assessing the strength of our classifier."
   ]
  },
  {
   "cell_type": "code",
   "execution_count": 58,
   "metadata": {},
   "outputs": [],
   "source": [
    "from nltk.corpus import stopwords"
   ]
  },
  {
   "cell_type": "code",
   "execution_count": 59,
   "metadata": {},
   "outputs": [],
   "source": [
    "lemmatizer = WordNetLemmatizer()\n",
    "stopwords = set(stopwords.words('english'))\n",
    "def review_messages(msg):\n",
    "    # converting messages to lowercase\n",
    "    msg = msg.lower()\n",
    "    return msg\n",
    "\n",
    "def alternative_review_messages(msg):\n",
    "    # converting messages to lowercase\n",
    "    msg = msg.lower()\n",
    "\n",
    "    # removing stopwords \n",
    "    msg = [word for word in msg.split() if word not in stopwords]\n",
    "\n",
    "    # uses a lemmatizer\n",
    "    msg = \" \".join([lemmatizer.lemmatize(word) for word in msg])\n",
    "    return msg"
   ]
  },
  {
   "cell_type": "markdown",
   "metadata": {},
   "source": [
    "#### Processing text messages"
   ]
  },
  {
   "cell_type": "code",
   "execution_count": 60,
   "metadata": {},
   "outputs": [
    {
     "data": {
      "text/html": [
       "<div>\n",
       "<style scoped>\n",
       "    .dataframe tbody tr th:only-of-type {\n",
       "        vertical-align: middle;\n",
       "    }\n",
       "\n",
       "    .dataframe tbody tr th {\n",
       "        vertical-align: top;\n",
       "    }\n",
       "\n",
       "    .dataframe thead th {\n",
       "        text-align: right;\n",
       "    }\n",
       "</style>\n",
       "<table border=\"1\" class=\"dataframe\">\n",
       "  <thead>\n",
       "    <tr style=\"text-align: right;\">\n",
       "      <th></th>\n",
       "      <th>label</th>\n",
       "      <th>text</th>\n",
       "    </tr>\n",
       "  </thead>\n",
       "  <tbody>\n",
       "    <tr>\n",
       "      <th>0</th>\n",
       "      <td>ham</td>\n",
       "      <td>go until jurong point, crazy.. available only ...</td>\n",
       "    </tr>\n",
       "    <tr>\n",
       "      <th>1</th>\n",
       "      <td>ham</td>\n",
       "      <td>ok lar... joking wif u oni...</td>\n",
       "    </tr>\n",
       "    <tr>\n",
       "      <th>2</th>\n",
       "      <td>spam</td>\n",
       "      <td>free entry in 2 a wkly comp to win fa cup fina...</td>\n",
       "    </tr>\n",
       "    <tr>\n",
       "      <th>3</th>\n",
       "      <td>ham</td>\n",
       "      <td>u dun say so early hor... u c already then say...</td>\n",
       "    </tr>\n",
       "    <tr>\n",
       "      <th>4</th>\n",
       "      <td>ham</td>\n",
       "      <td>nah i don't think he goes to usf, he lives aro...</td>\n",
       "    </tr>\n",
       "  </tbody>\n",
       "</table>\n",
       "</div>"
      ],
      "text/plain": [
       "  label                                               text\n",
       "0   ham  go until jurong point, crazy.. available only ...\n",
       "1   ham                      ok lar... joking wif u oni...\n",
       "2  spam  free entry in 2 a wkly comp to win fa cup fina...\n",
       "3   ham  u dun say so early hor... u c already then say...\n",
       "4   ham  nah i don't think he goes to usf, he lives aro..."
      ]
     },
     "execution_count": 60,
     "metadata": {},
     "output_type": "execute_result"
    }
   ],
   "source": [
    "spam_dataset['text'] = spam_dataset['text'].apply(review_messages)\n",
    "spam_dataset.head()"
   ]
  },
  {
   "cell_type": "markdown",
   "metadata": {},
   "source": [
    "#### Train test and split dataset"
   ]
  },
  {
   "cell_type": "code",
   "execution_count": 61,
   "metadata": {},
   "outputs": [],
   "source": [
    "from sklearn.model_selection import train_test_split\n",
    "X_train, X_test, y_train, y_test = train_test_split(spam_dataset['text'], spam_dataset['label'], test_size = 0.1, random_state = 1)"
   ]
  },
  {
   "cell_type": "markdown",
   "metadata": {},
   "source": [
    "#### Vectorizing the Text"
   ]
  },
  {
   "cell_type": "code",
   "execution_count": 62,
   "metadata": {},
   "outputs": [],
   "source": [
    "from sklearn.feature_extraction.text import TfidfVectorizer\n",
    "vectorizer = TfidfVectorizer()\n",
    "X_train = vectorizer.fit_transform(X_train)"
   ]
  },
  {
   "cell_type": "markdown",
   "metadata": {},
   "source": [
    "#### Training the classifier"
   ]
  },
  {
   "cell_type": "code",
   "execution_count": 63,
   "metadata": {},
   "outputs": [
    {
     "data": {
      "text/plain": [
       "SVC(C=1000, cache_size=200, class_weight=None, coef0=0.0,\n",
       "  decision_function_shape='ovr', degree=3, gamma='auto', kernel='rbf',\n",
       "  max_iter=-1, probability=False, random_state=None, shrinking=True,\n",
       "  tol=0.001, verbose=False)"
      ]
     },
     "execution_count": 63,
     "metadata": {},
     "output_type": "execute_result"
    }
   ],
   "source": [
    "from sklearn import svm\n",
    "svm = svm.SVC(C=1000)\n",
    "svm.fit(X_train, y_train)"
   ]
  },
  {
   "cell_type": "markdown",
   "metadata": {},
   "source": [
    "#### Testing against testing set "
   ]
  },
  {
   "cell_type": "code",
   "execution_count": 64,
   "metadata": {},
   "outputs": [],
   "source": [
    "from sklearn.metrics import confusion_matrix\n",
    "X_test = vectorizer.transform(X_test)\n",
    "y_pred = svm.predict(X_test)"
   ]
  },
  {
   "cell_type": "markdown",
   "metadata": {},
   "source": [
    "#### Confusion Matrix"
   ]
  },
  {
   "cell_type": "code",
   "execution_count": 65,
   "metadata": {},
   "outputs": [
    {
     "name": "stdout",
     "output_type": "stream",
     "text": [
      "[[490   0]\n",
      " [ 10  58]]\n"
     ]
    },
    {
     "data": {
      "image/png": "[encoded data removed]",
      "text/plain": [
       "<Figure size 432x288 with 2 Axes>"
      ]
     },
     "metadata": {},
     "output_type": "display_data"
    }
   ],
   "source": [
    "import seaborn as sns\n",
    "from sklearn import metrics\n",
    "import matplotlib.pyplot as plt\n",
    "ham_vs_spam = metrics.confusion_matrix(y_test, y_pred)\n",
    "sns.heatmap(pd.DataFrame(ham_vs_spam), annot=True, cmap=\"YlGnBu\" ,fmt='g')\n",
    "plt.tight_layout()\n",
    "plt.ylabel('Predicted label')\n",
    "plt.xlabel('Actual label')\n",
    "print(confusion_matrix(y_test, y_pred))"
   ]
  },
  {
   "cell_type": "markdown",
   "metadata": {},
   "source": [
    "#### Function to test against new dataset"
   ]
  },
  {
   "cell_type": "code",
   "execution_count": 66,
   "metadata": {},
   "outputs": [],
   "source": [
    "def pred(msg):\n",
    "    msg = vectorizer.transform([msg])\n",
    "    prediction = svm.predict(msg)\n",
    "    return prediction[0]"
   ]
  },
  {
   "cell_type": "code",
   "execution_count": 67,
   "metadata": {},
   "outputs": [
    {
     "name": "stdout",
     "output_type": "stream",
     "text": [
      "Headline: Says the Annies List political group supports third-trimester abortions on demand. which is labeled as \n",
      "\n",
      "ham\n",
      "\n",
      "Headline: When did the decline of coal start? It started when natural gas took off that started to begin in (President George W.) Bushs administration. which is labeled as \n",
      "\n",
      "ham\n",
      "\n",
      "Headline: Hillary Clinton agrees with John McCain \"by voting to give George Bush the benefit of the doubt on Iran.\" which is labeled as \n",
      "\n",
      "ham\n",
      "\n",
      "Headline: Health care reform legislation is likely to mandate free sex change surgeries. which is labeled as \n",
      "\n",
      "ham\n",
      "\n",
      "Headline: The economic turnaround started at the end of my term. which is labeled as \n",
      "\n",
      "ham\n",
      "\n",
      "Headline: The Chicago Bears have had more starting quarterbacks in the last 10 years than the total number of tenured (UW) faculty fired during the last two decades. which is labeled as \n",
      "\n",
      "ham\n",
      "\n",
      "Headline: Jim Dunnam has not lived in the district he represents for years now. which is labeled as \n",
      "\n",
      "ham\n",
      "\n",
      "Headline: I'm the only person on this stage who has worked actively just last year passing, along with Russ Feingold, some of the toughest ethics reform since Watergate. which is labeled as \n",
      "\n",
      "ham\n",
      "\n",
      "Headline: However, it took $19.5 million in Oregon Lottery funds for the Port of Newport to eventually land the new NOAA Marine Operations Center-Pacific. which is labeled as \n",
      "\n",
      "ham\n",
      "\n",
      "Headline: Says GOP primary opponents Glenn Grothman and Joe Leibham cast a compromise vote that cost $788 million in higher electricity costs. which is labeled as \n",
      "\n",
      "ham\n",
      "\n"
     ]
    }
   ],
   "source": [
    "msgs = []\n",
    "count=0\n",
    "for i in documents['statement']:\n",
    "    msgs.append(i)\n",
    "for m in msgs:\n",
    "    print(\"Headline: {} which is labeled as \\n\\n{}\\n\".format(m, pred(m)))\n",
    "    count+=1\n",
    "    if count==10:\n",
    "        break\n"
   ]
  },
  {
   "cell_type": "markdown",
   "metadata": {},
   "source": [
    "## Doc2Vec Gensim"
   ]
  },
  {
   "cell_type": "markdown",
   "metadata": {},
   "source": [
    "## Similar news to the claim"
   ]
  },
  {
   "cell_type": "markdown",
   "metadata": {},
   "source": [
    "#### Import all the dependencies"
   ]
  },
  {
   "cell_type": "code",
   "execution_count": 44,
   "metadata": {},
   "outputs": [],
   "source": [
    "from gensim.models.doc2vec import Doc2Vec, TaggedDocument\n",
    "from nltk.tokenize import word_tokenize"
   ]
  },
  {
   "cell_type": "markdown",
   "metadata": {},
   "source": [
    "### Let’s prepare data for training our doc2vec model"
   ]
  },
  {
   "cell_type": "markdown",
   "metadata": {},
   "source": [
    "Here we have a list of statements from our dataset which we processed earlier as training data. \n",
    "Now I have tagged the data and its ready for training."
   ]
  },
  {
   "cell_type": "code",
   "execution_count": 45,
   "metadata": {},
   "outputs": [
    {
     "data": {
      "text/plain": [
       "['Says GOP primary opponents Glenn Grothman and Joe Leibham cast a compromise vote that cost $788 million in higher electricity costs.']"
      ]
     },
     "execution_count": 45,
     "metadata": {},
     "output_type": "execute_result"
    }
   ],
   "source": [
    "training_doc = [documents['statement'][9]]\n",
    "training_doc"
   ]
  },
  {
   "cell_type": "markdown",
   "metadata": {},
   "source": [
    "#### Dataset is used from fakenewschallenge.org"
   ]
  },
  {
   "cell_type": "code",
   "execution_count": 46,
   "metadata": {},
   "outputs": [
    {
     "data": {
      "text/html": [
       "<div>\n",
       "<style scoped>\n",
       "    .dataframe tbody tr th:only-of-type {\n",
       "        vertical-align: middle;\n",
       "    }\n",
       "\n",
       "    .dataframe tbody tr th {\n",
       "        vertical-align: top;\n",
       "    }\n",
       "\n",
       "    .dataframe thead th {\n",
       "        text-align: right;\n",
       "    }\n",
       "</style>\n",
       "<table border=\"1\" class=\"dataframe\">\n",
       "  <thead>\n",
       "    <tr style=\"text-align: right;\">\n",
       "      <th></th>\n",
       "      <th>Headline</th>\n",
       "      <th>Body ID</th>\n",
       "      <th>Stance</th>\n",
       "    </tr>\n",
       "  </thead>\n",
       "  <tbody>\n",
       "    <tr>\n",
       "      <th>0</th>\n",
       "      <td>Soldier shot, Parliament locked down after gun...</td>\n",
       "      <td>0</td>\n",
       "      <td>unrelated</td>\n",
       "    </tr>\n",
       "    <tr>\n",
       "      <th>1</th>\n",
       "      <td>Tourist dubbed ‘Spider Man’ after spider burro...</td>\n",
       "      <td>0</td>\n",
       "      <td>unrelated</td>\n",
       "    </tr>\n",
       "    <tr>\n",
       "      <th>2</th>\n",
       "      <td>Luke Somers 'killed in failed rescue attempt i...</td>\n",
       "      <td>0</td>\n",
       "      <td>unrelated</td>\n",
       "    </tr>\n",
       "    <tr>\n",
       "      <th>3</th>\n",
       "      <td>BREAKING: Soldier shot at War Memorial in Ottawa</td>\n",
       "      <td>0</td>\n",
       "      <td>unrelated</td>\n",
       "    </tr>\n",
       "    <tr>\n",
       "      <th>4</th>\n",
       "      <td>Giant 8ft 9in catfish weighing 19 stone caught...</td>\n",
       "      <td>0</td>\n",
       "      <td>unrelated</td>\n",
       "    </tr>\n",
       "    <tr>\n",
       "      <th>5</th>\n",
       "      <td>Enormous 20-stone catfish caught with fishing ...</td>\n",
       "      <td>0</td>\n",
       "      <td>unrelated</td>\n",
       "    </tr>\n",
       "    <tr>\n",
       "      <th>6</th>\n",
       "      <td>Italian catches huge wels catfish; is it a rec...</td>\n",
       "      <td>0</td>\n",
       "      <td>unrelated</td>\n",
       "    </tr>\n",
       "    <tr>\n",
       "      <th>7</th>\n",
       "      <td>Not coming to a store near you: The pumpkin sp...</td>\n",
       "      <td>0</td>\n",
       "      <td>unrelated</td>\n",
       "    </tr>\n",
       "    <tr>\n",
       "      <th>8</th>\n",
       "      <td>One gunman killed in shooting on Parliament Hi...</td>\n",
       "      <td>0</td>\n",
       "      <td>unrelated</td>\n",
       "    </tr>\n",
       "    <tr>\n",
       "      <th>9</th>\n",
       "      <td>Soldier shot at war memorial in Canada</td>\n",
       "      <td>0</td>\n",
       "      <td>unrelated</td>\n",
       "    </tr>\n",
       "  </tbody>\n",
       "</table>\n",
       "</div>"
      ],
      "text/plain": [
       "                                            Headline  Body ID     Stance\n",
       "0  Soldier shot, Parliament locked down after gun...        0  unrelated\n",
       "1  Tourist dubbed ‘Spider Man’ after spider burro...        0  unrelated\n",
       "2  Luke Somers 'killed in failed rescue attempt i...        0  unrelated\n",
       "3   BREAKING: Soldier shot at War Memorial in Ottawa        0  unrelated\n",
       "4  Giant 8ft 9in catfish weighing 19 stone caught...        0  unrelated\n",
       "5  Enormous 20-stone catfish caught with fishing ...        0  unrelated\n",
       "6  Italian catches huge wels catfish; is it a rec...        0  unrelated\n",
       "7  Not coming to a store near you: The pumpkin sp...        0  unrelated\n",
       "8  One gunman killed in shooting on Parliament Hi...        0  unrelated\n",
       "9             Soldier shot at war memorial in Canada        0  unrelated"
      ]
     },
     "execution_count": 46,
     "metadata": {},
     "output_type": "execute_result"
    }
   ],
   "source": [
    "dataset_stances2 = pd.read_csv('train_stances.csv', sep=',')\n",
    "dataset_stances2.head(10)"
   ]
  },
  {
   "cell_type": "code",
   "execution_count": 47,
   "metadata": {},
   "outputs": [
    {
     "data": {
      "text/html": [
       "<div>\n",
       "<style scoped>\n",
       "    .dataframe tbody tr th:only-of-type {\n",
       "        vertical-align: middle;\n",
       "    }\n",
       "\n",
       "    .dataframe tbody tr th {\n",
       "        vertical-align: top;\n",
       "    }\n",
       "\n",
       "    .dataframe thead th {\n",
       "        text-align: right;\n",
       "    }\n",
       "</style>\n",
       "<table border=\"1\" class=\"dataframe\">\n",
       "  <thead>\n",
       "    <tr style=\"text-align: right;\">\n",
       "      <th></th>\n",
       "      <th>Body ID</th>\n",
       "      <th>articleBody</th>\n",
       "    </tr>\n",
       "  </thead>\n",
       "  <tbody>\n",
       "    <tr>\n",
       "      <th>0</th>\n",
       "      <td>0</td>\n",
       "      <td>A small meteorite crashed into a wooded area i...</td>\n",
       "    </tr>\n",
       "    <tr>\n",
       "      <th>1</th>\n",
       "      <td>4</td>\n",
       "      <td>Last week we hinted at what was to come as Ebo...</td>\n",
       "    </tr>\n",
       "    <tr>\n",
       "      <th>2</th>\n",
       "      <td>5</td>\n",
       "      <td>(NEWSER) – Wonder how long a Quarter Pounder w...</td>\n",
       "    </tr>\n",
       "    <tr>\n",
       "      <th>3</th>\n",
       "      <td>6</td>\n",
       "      <td>Posting photos of a gun-toting child online, I...</td>\n",
       "    </tr>\n",
       "    <tr>\n",
       "      <th>4</th>\n",
       "      <td>7</td>\n",
       "      <td>At least 25 suspected Boko Haram insurgents we...</td>\n",
       "    </tr>\n",
       "    <tr>\n",
       "      <th>5</th>\n",
       "      <td>8</td>\n",
       "      <td>There is so much fake stuff on the Internet in...</td>\n",
       "    </tr>\n",
       "    <tr>\n",
       "      <th>6</th>\n",
       "      <td>9</td>\n",
       "      <td>(CNN) -- A meteorite crashed down in Managua, ...</td>\n",
       "    </tr>\n",
       "    <tr>\n",
       "      <th>7</th>\n",
       "      <td>10</td>\n",
       "      <td>Move over, Netflix and Hulu.\\nWord has it that...</td>\n",
       "    </tr>\n",
       "    <tr>\n",
       "      <th>8</th>\n",
       "      <td>11</td>\n",
       "      <td>We’ve all seen the traditional depictions of G...</td>\n",
       "    </tr>\n",
       "    <tr>\n",
       "      <th>9</th>\n",
       "      <td>13</td>\n",
       "      <td>A SOLDIER has been shot at Canada’s National W...</td>\n",
       "    </tr>\n",
       "  </tbody>\n",
       "</table>\n",
       "</div>"
      ],
      "text/plain": [
       "   Body ID                                        articleBody\n",
       "0        0  A small meteorite crashed into a wooded area i...\n",
       "1        4  Last week we hinted at what was to come as Ebo...\n",
       "2        5  (NEWSER) – Wonder how long a Quarter Pounder w...\n",
       "3        6  Posting photos of a gun-toting child online, I...\n",
       "4        7  At least 25 suspected Boko Haram insurgents we...\n",
       "5        8  There is so much fake stuff on the Internet in...\n",
       "6        9  (CNN) -- A meteorite crashed down in Managua, ...\n",
       "7       10  Move over, Netflix and Hulu.\\nWord has it that...\n",
       "8       11  We’ve all seen the traditional depictions of G...\n",
       "9       13  A SOLDIER has been shot at Canada’s National W..."
      ]
     },
     "execution_count": 47,
     "metadata": {},
     "output_type": "execute_result"
    }
   ],
   "source": [
    "dataset_body2 = pd.read_csv('train_bodies.csv', sep=',')\n",
    "dataset_body2.head(10)"
   ]
  },
  {
   "cell_type": "code",
   "execution_count": 48,
   "metadata": {},
   "outputs": [
    {
     "data": {
      "text/plain": [
       "(422419, 8)"
      ]
     },
     "execution_count": 48,
     "metadata": {},
     "output_type": "execute_result"
    }
   ],
   "source": [
    "UCI_Aggregator_load = pd.read_csv('uci-news-aggregator.csv',sep=',')\n",
    "UCI_Aggregator_load.shape"
   ]
  },
  {
   "cell_type": "code",
   "execution_count": 49,
   "metadata": {},
   "outputs": [
    {
     "data": {
      "text/plain": [
       "(422417, 8)"
      ]
     },
     "execution_count": 49,
     "metadata": {},
     "output_type": "execute_result"
    }
   ],
   "source": [
    "UCI_Aggregator = UCI_Aggregator_load.dropna(how='any')\n",
    "UCI_Aggregator.shape"
   ]
  },
  {
   "cell_type": "code",
   "execution_count": 50,
   "metadata": {},
   "outputs": [
    {
     "data": {
      "text/html": [
       "<div>\n",
       "<style scoped>\n",
       "    .dataframe tbody tr th:only-of-type {\n",
       "        vertical-align: middle;\n",
       "    }\n",
       "\n",
       "    .dataframe tbody tr th {\n",
       "        vertical-align: top;\n",
       "    }\n",
       "\n",
       "    .dataframe thead th {\n",
       "        text-align: right;\n",
       "    }\n",
       "</style>\n",
       "<table border=\"1\" class=\"dataframe\">\n",
       "  <thead>\n",
       "    <tr style=\"text-align: right;\">\n",
       "      <th></th>\n",
       "      <th>ID</th>\n",
       "      <th>TITLE</th>\n",
       "      <th>URL</th>\n",
       "      <th>PUBLISHER</th>\n",
       "      <th>CATEGORY</th>\n",
       "      <th>STORY</th>\n",
       "      <th>HOSTNAME</th>\n",
       "      <th>TIMESTAMP</th>\n",
       "    </tr>\n",
       "  </thead>\n",
       "  <tbody>\n",
       "    <tr>\n",
       "      <th>0</th>\n",
       "      <td>1</td>\n",
       "      <td>Fed official says weak data caused by weather,...</td>\n",
       "      <td>http://www.latimes.com/business/money/la-fi-mo...</td>\n",
       "      <td>Los Angeles Times</td>\n",
       "      <td>b</td>\n",
       "      <td>ddUyU0VZz0BRneMioxUPQVP6sIxvM</td>\n",
       "      <td>www.latimes.com</td>\n",
       "      <td>1394470370698</td>\n",
       "    </tr>\n",
       "    <tr>\n",
       "      <th>1</th>\n",
       "      <td>2</td>\n",
       "      <td>Fed's Charles Plosser sees high bar for change...</td>\n",
       "      <td>http://www.livemint.com/Politics/H2EvwJSK2VE6O...</td>\n",
       "      <td>Livemint</td>\n",
       "      <td>b</td>\n",
       "      <td>ddUyU0VZz0BRneMioxUPQVP6sIxvM</td>\n",
       "      <td>www.livemint.com</td>\n",
       "      <td>1394470371207</td>\n",
       "    </tr>\n",
       "    <tr>\n",
       "      <th>2</th>\n",
       "      <td>3</td>\n",
       "      <td>US open: Stocks fall after Fed official hints ...</td>\n",
       "      <td>http://www.ifamagazine.com/news/us-open-stocks...</td>\n",
       "      <td>IFA Magazine</td>\n",
       "      <td>b</td>\n",
       "      <td>ddUyU0VZz0BRneMioxUPQVP6sIxvM</td>\n",
       "      <td>www.ifamagazine.com</td>\n",
       "      <td>1394470371550</td>\n",
       "    </tr>\n",
       "    <tr>\n",
       "      <th>3</th>\n",
       "      <td>4</td>\n",
       "      <td>Fed risks falling 'behind the curve', Charles ...</td>\n",
       "      <td>http://www.ifamagazine.com/news/fed-risks-fall...</td>\n",
       "      <td>IFA Magazine</td>\n",
       "      <td>b</td>\n",
       "      <td>ddUyU0VZz0BRneMioxUPQVP6sIxvM</td>\n",
       "      <td>www.ifamagazine.com</td>\n",
       "      <td>1394470371793</td>\n",
       "    </tr>\n",
       "    <tr>\n",
       "      <th>4</th>\n",
       "      <td>5</td>\n",
       "      <td>Fed's Plosser: Nasty Weather Has Curbed Job Gr...</td>\n",
       "      <td>http://www.moneynews.com/Economy/federal-reser...</td>\n",
       "      <td>Moneynews</td>\n",
       "      <td>b</td>\n",
       "      <td>ddUyU0VZz0BRneMioxUPQVP6sIxvM</td>\n",
       "      <td>www.moneynews.com</td>\n",
       "      <td>1394470372027</td>\n",
       "    </tr>\n",
       "    <tr>\n",
       "      <th>5</th>\n",
       "      <td>6</td>\n",
       "      <td>Plosser: Fed May Have to Accelerate Tapering Pace</td>\n",
       "      <td>http://www.nasdaq.com/article/plosser-fed-may-...</td>\n",
       "      <td>NASDAQ</td>\n",
       "      <td>b</td>\n",
       "      <td>ddUyU0VZz0BRneMioxUPQVP6sIxvM</td>\n",
       "      <td>www.nasdaq.com</td>\n",
       "      <td>1394470372212</td>\n",
       "    </tr>\n",
       "    <tr>\n",
       "      <th>6</th>\n",
       "      <td>7</td>\n",
       "      <td>Fed's Plosser: Taper pace may be too slow</td>\n",
       "      <td>http://www.marketwatch.com/story/feds-plosser-...</td>\n",
       "      <td>MarketWatch</td>\n",
       "      <td>b</td>\n",
       "      <td>ddUyU0VZz0BRneMioxUPQVP6sIxvM</td>\n",
       "      <td>www.marketwatch.com</td>\n",
       "      <td>1394470372405</td>\n",
       "    </tr>\n",
       "    <tr>\n",
       "      <th>7</th>\n",
       "      <td>8</td>\n",
       "      <td>Fed's Plosser expects US unemployment to fall ...</td>\n",
       "      <td>http://www.fxstreet.com/news/forex-news/articl...</td>\n",
       "      <td>FXstreet.com</td>\n",
       "      <td>b</td>\n",
       "      <td>ddUyU0VZz0BRneMioxUPQVP6sIxvM</td>\n",
       "      <td>www.fxstreet.com</td>\n",
       "      <td>1394470372615</td>\n",
       "    </tr>\n",
       "    <tr>\n",
       "      <th>8</th>\n",
       "      <td>9</td>\n",
       "      <td>US jobs growth last month hit by weather:Fed P...</td>\n",
       "      <td>http://economictimes.indiatimes.com/news/inter...</td>\n",
       "      <td>Economic Times</td>\n",
       "      <td>b</td>\n",
       "      <td>ddUyU0VZz0BRneMioxUPQVP6sIxvM</td>\n",
       "      <td>economictimes.indiatimes.com</td>\n",
       "      <td>1394470372792</td>\n",
       "    </tr>\n",
       "    <tr>\n",
       "      <th>9</th>\n",
       "      <td>10</td>\n",
       "      <td>ECB unlikely to end sterilisation of SMP purch...</td>\n",
       "      <td>http://www.iii.co.uk/news-opinion/reuters/news...</td>\n",
       "      <td>Interactive Investor</td>\n",
       "      <td>b</td>\n",
       "      <td>dPhGU51DcrolUIMxbRm0InaHGA2XM</td>\n",
       "      <td>www.iii.co.uk</td>\n",
       "      <td>1394470501265</td>\n",
       "    </tr>\n",
       "  </tbody>\n",
       "</table>\n",
       "</div>"
      ],
      "text/plain": [
       "   ID                                              TITLE  \\\n",
       "0   1  Fed official says weak data caused by weather,...   \n",
       "1   2  Fed's Charles Plosser sees high bar for change...   \n",
       "2   3  US open: Stocks fall after Fed official hints ...   \n",
       "3   4  Fed risks falling 'behind the curve', Charles ...   \n",
       "4   5  Fed's Plosser: Nasty Weather Has Curbed Job Gr...   \n",
       "5   6  Plosser: Fed May Have to Accelerate Tapering Pace   \n",
       "6   7          Fed's Plosser: Taper pace may be too slow   \n",
       "7   8  Fed's Plosser expects US unemployment to fall ...   \n",
       "8   9  US jobs growth last month hit by weather:Fed P...   \n",
       "9  10  ECB unlikely to end sterilisation of SMP purch...   \n",
       "\n",
       "                                                 URL             PUBLISHER  \\\n",
       "0  http://www.latimes.com/business/money/la-fi-mo...     Los Angeles Times   \n",
       "1  http://www.livemint.com/Politics/H2EvwJSK2VE6O...              Livemint   \n",
       "2  http://www.ifamagazine.com/news/us-open-stocks...          IFA Magazine   \n",
       "3  http://www.ifamagazine.com/news/fed-risks-fall...          IFA Magazine   \n",
       "4  http://www.moneynews.com/Economy/federal-reser...             Moneynews   \n",
       "5  http://www.nasdaq.com/article/plosser-fed-may-...                NASDAQ   \n",
       "6  http://www.marketwatch.com/story/feds-plosser-...           MarketWatch   \n",
       "7  http://www.fxstreet.com/news/forex-news/articl...          FXstreet.com   \n",
       "8  http://economictimes.indiatimes.com/news/inter...        Economic Times   \n",
       "9  http://www.iii.co.uk/news-opinion/reuters/news...  Interactive Investor   \n",
       "\n",
       "  CATEGORY                          STORY                      HOSTNAME  \\\n",
       "0        b  ddUyU0VZz0BRneMioxUPQVP6sIxvM               www.latimes.com   \n",
       "1        b  ddUyU0VZz0BRneMioxUPQVP6sIxvM              www.livemint.com   \n",
       "2        b  ddUyU0VZz0BRneMioxUPQVP6sIxvM           www.ifamagazine.com   \n",
       "3        b  ddUyU0VZz0BRneMioxUPQVP6sIxvM           www.ifamagazine.com   \n",
       "4        b  ddUyU0VZz0BRneMioxUPQVP6sIxvM             www.moneynews.com   \n",
       "5        b  ddUyU0VZz0BRneMioxUPQVP6sIxvM                www.nasdaq.com   \n",
       "6        b  ddUyU0VZz0BRneMioxUPQVP6sIxvM           www.marketwatch.com   \n",
       "7        b  ddUyU0VZz0BRneMioxUPQVP6sIxvM              www.fxstreet.com   \n",
       "8        b  ddUyU0VZz0BRneMioxUPQVP6sIxvM  economictimes.indiatimes.com   \n",
       "9        b  dPhGU51DcrolUIMxbRm0InaHGA2XM                 www.iii.co.uk   \n",
       "\n",
       "       TIMESTAMP  \n",
       "0  1394470370698  \n",
       "1  1394470371207  \n",
       "2  1394470371550  \n",
       "3  1394470371793  \n",
       "4  1394470372027  \n",
       "5  1394470372212  \n",
       "6  1394470372405  \n",
       "7  1394470372615  \n",
       "8  1394470372792  \n",
       "9  1394470501265  "
      ]
     },
     "execution_count": 50,
     "metadata": {},
     "output_type": "execute_result"
    }
   ],
   "source": [
    "UCI_Aggregator.head(10)"
   ]
  },
  {
   "cell_type": "code",
   "execution_count": 51,
   "metadata": {},
   "outputs": [],
   "source": [
    "from gensim.models.doc2vec import Doc2Vec, TaggedDocument\n",
    "from nltk.tokenize import word_tokenize\n",
    "LabeledSentence = gensim.models.doc2vec.LabeledSentence"
   ]
  },
  {
   "cell_type": "code",
   "execution_count": 52,
   "metadata": {},
   "outputs": [
    {
     "name": "stderr",
     "output_type": "stream",
     "text": [
      "IOPub data rate exceeded.\n",
      "The notebook server will temporarily stop sending output\n",
      "to the client in order to avoid crashing it.\n",
      "To change this limit, set the config variable\n",
      "`--NotebookApp.iopub_data_rate_limit`.\n",
      "\n",
      "Current values:\n",
      "NotebookApp.iopub_data_rate_limit=1000000.0 (bytes/sec)\n",
      "NotebookApp.rate_limit_window=3.0 (secs)\n",
      "\n"
     ]
    }
   ],
   "source": [
    "tagged_data = [TaggedDocument(words=word_tokenize(_d.lower()), tags=[str(i)]) for i, _d in enumerate(dataset_body2['articleBody'])]\n",
    "print (tagged_data)"
   ]
  },
  {
   "cell_type": "code",
   "execution_count": 476,
   "metadata": {},
   "outputs": [
    {
     "name": "stderr",
     "output_type": "stream",
     "text": [
      "/anaconda3/lib/python3.6/site-packages/gensim/models/doc2vec.py:570: UserWarning: The parameter `size` is deprecated, will be removed in 4.0.0, use `vector_size` instead.\n",
      "  warnings.warn(\"The parameter `size` is deprecated, will be removed in 4.0.0, use `vector_size` instead.\")\n"
     ]
    },
    {
     "name": "stdout",
     "output_type": "stream",
     "text": [
      "Model Saved\n"
     ]
    }
   ],
   "source": [
    "max_epochs = 100\n",
    "vec_size = 20\n",
    "alpha = 0.025\n",
    "\n",
    "model = Doc2Vec(size=vec_size,\n",
    "                alpha=alpha, \n",
    "                min_alpha=0.00025,\n",
    "                min_count=1,\n",
    "                dm =0)\n",
    "  \n",
    "model.build_vocab(tagged_data)\n",
    "\n",
    "for epoch in range(max_epochs):\n",
    "    #print('iteration {0}'.format(epoch))\n",
    "    model.train(tagged_data,\n",
    "                total_examples=model.corpus_count,\n",
    "                epochs=model.iter)\n",
    "    # decrease the learning rate\n",
    "    model.alpha -= 0.0002\n",
    "    # fix the learning rate, no decay\n",
    "    model.min_alpha = model.alpha\n",
    "\n",
    "model.save(\"d2v.model\")\n",
    "print(\"Model Saved\")"
   ]
  },
  {
   "cell_type": "code",
   "execution_count": 462,
   "metadata": {},
   "outputs": [
    {
     "data": {
      "text/plain": [
       "(1683, 3)"
      ]
     },
     "execution_count": 462,
     "metadata": {},
     "output_type": "execute_result"
    }
   ],
   "source": [
    "dataset_body2.shape"
   ]
  },
  {
   "cell_type": "code",
   "execution_count": 472,
   "metadata": {},
   "outputs": [
    {
     "data": {
      "text/plain": [
       "'ANN ARBOR, Mich. – A pizza delivery man in Michigan got a huge surprise when he made a special delivery to a hotel last week.\\n“Rob”, the delivery driver, thought he was dropping off food for a guest, but he was escorted to a conference room where 200 Keller Williams realtors were holding their annual conference.\\nThey surprised him with a tip of more than $2,000 plus a VISA gift card, some lottery tickets and letters of encouragement.\\nRob was stunned.\\nThe realtors said they wanted to do something special for someone in the service industry.'"
      ]
     },
     "execution_count": 472,
     "metadata": {},
     "output_type": "execute_result"
    }
   ],
   "source": [
    "dataset_body2['articleBody'][1682]"
   ]
  },
  {
   "cell_type": "code",
   "execution_count": 477,
   "metadata": {},
   "outputs": [
    {
     "data": {
      "text/plain": [
       "'Fed official says weak data caused by weather, should not slow taper'"
      ]
     },
     "execution_count": 477,
     "metadata": {},
     "output_type": "execute_result"
    }
   ],
   "source": [
    "UCI_Aggregator['TITLE'][0]"
   ]
  },
  {
   "cell_type": "code",
   "execution_count": 478,
   "metadata": {},
   "outputs": [
    {
     "name": "stdout",
     "output_type": "stream",
     "text": [
      "this is test data\n",
      "['fed', 'official', 'says', 'weak', 'data', 'caused', 'by', 'weather', ',', 'should', 'not', 'slow', 'taper']\n",
      "V1_infer [-0.14679779  0.00303797 -0.01207398  0.06328587 -0.02022466 -0.05820651\n",
      " -0.01979999  0.04099819  0.04611995 -0.00210449 -0.11278879  0.0008722\n",
      "  0.26338258  0.23309529 -0.03208186 -0.01732718 -0.05816596 -0.13621832\n",
      " -0.09033366 -0.26364744]\n",
      "Ten most similar doc\n",
      "[('478', 0.9969601631164551), ('1105', 0.994560956954956), ('828', 0.975635826587677), ('1429', 0.9725823998451233), ('711', 0.9687265753746033), ('634', 0.9598904848098755), ('112', 0.9505059719085693), ('715', 0.9465100169181824), ('638', 0.943596601486206), ('512', 0.9371168613433838)]\n"
     ]
    }
   ],
   "source": [
    "from gensim.models.doc2vec import Doc2Vec\n",
    "\n",
    "model= Doc2Vec.load(\"d2v.model\")\n",
    "#to find the vector of a document which is not in training data\n",
    "test_data = word_tokenize('Fed official says weak data caused by weather, should not slow taper'.lower())\n",
    "print(\"this is test data\")\n",
    "print (test_data)\n",
    "v1 = model.infer_vector(test_data)\n",
    "print(\"V1_infer\", v1)\n",
    "\n",
    "# to find most similar doc using tags\n",
    "similar_doc = model.docvecs.most_similar('0')\n",
    "print(\"Ten most similar doc\")\n",
    "print(similar_doc)"
   ]
  },
  {
   "cell_type": "code",
   "execution_count": 479,
   "metadata": {},
   "outputs": [
    {
     "name": "stdout",
     "output_type": "stream",
     "text": [
      "[('673', 0.7827357053756714)]\n"
     ]
    }
   ],
   "source": [
    "similar_documents = model.docvecs.most_similar([v1], topn = 1)\n",
    "print (similar_documents)"
   ]
  },
  {
   "cell_type": "code",
   "execution_count": 483,
   "metadata": {},
   "outputs": [
    {
     "name": "stdout",
     "output_type": "stream",
     "text": [
      "673    Everyone's been waiting years and years for a ...\n",
      "Name: articleBody, dtype: object\n"
     ]
    }
   ],
   "source": [
    "dataset_body2['index'] = dataset_body2.index\n",
    "print(dataset_body2.loc[dataset_body2['index'] == 673, 'articleBody'])"
   ]
  },
  {
   "cell_type": "code",
   "execution_count": 481,
   "metadata": {},
   "outputs": [
    {
     "data": {
      "text/html": [
       "<div>\n",
       "<style scoped>\n",
       "    .dataframe tbody tr th:only-of-type {\n",
       "        vertical-align: middle;\n",
       "    }\n",
       "\n",
       "    .dataframe tbody tr th {\n",
       "        vertical-align: top;\n",
       "    }\n",
       "\n",
       "    .dataframe thead th {\n",
       "        text-align: right;\n",
       "    }\n",
       "</style>\n",
       "<table border=\"1\" class=\"dataframe\">\n",
       "  <thead>\n",
       "    <tr style=\"text-align: right;\">\n",
       "      <th></th>\n",
       "      <th>Body ID</th>\n",
       "      <th>articleBody</th>\n",
       "      <th>index</th>\n",
       "    </tr>\n",
       "  </thead>\n",
       "  <tbody>\n",
       "    <tr>\n",
       "      <th>0</th>\n",
       "      <td>0</td>\n",
       "      <td>A small meteorite crashed into a wooded area i...</td>\n",
       "      <td>0</td>\n",
       "    </tr>\n",
       "    <tr>\n",
       "      <th>1</th>\n",
       "      <td>4</td>\n",
       "      <td>Last week we hinted at what was to come as Ebo...</td>\n",
       "      <td>1</td>\n",
       "    </tr>\n",
       "    <tr>\n",
       "      <th>2</th>\n",
       "      <td>5</td>\n",
       "      <td>(NEWSER) – Wonder how long a Quarter Pounder w...</td>\n",
       "      <td>2</td>\n",
       "    </tr>\n",
       "    <tr>\n",
       "      <th>3</th>\n",
       "      <td>6</td>\n",
       "      <td>Posting photos of a gun-toting child online, I...</td>\n",
       "      <td>3</td>\n",
       "    </tr>\n",
       "    <tr>\n",
       "      <th>4</th>\n",
       "      <td>7</td>\n",
       "      <td>At least 25 suspected Boko Haram insurgents we...</td>\n",
       "      <td>4</td>\n",
       "    </tr>\n",
       "    <tr>\n",
       "      <th>5</th>\n",
       "      <td>8</td>\n",
       "      <td>There is so much fake stuff on the Internet in...</td>\n",
       "      <td>5</td>\n",
       "    </tr>\n",
       "    <tr>\n",
       "      <th>6</th>\n",
       "      <td>9</td>\n",
       "      <td>(CNN) -- A meteorite crashed down in Managua, ...</td>\n",
       "      <td>6</td>\n",
       "    </tr>\n",
       "    <tr>\n",
       "      <th>7</th>\n",
       "      <td>10</td>\n",
       "      <td>Move over, Netflix and Hulu.\\nWord has it that...</td>\n",
       "      <td>7</td>\n",
       "    </tr>\n",
       "    <tr>\n",
       "      <th>8</th>\n",
       "      <td>11</td>\n",
       "      <td>We’ve all seen the traditional depictions of G...</td>\n",
       "      <td>8</td>\n",
       "    </tr>\n",
       "    <tr>\n",
       "      <th>9</th>\n",
       "      <td>13</td>\n",
       "      <td>A SOLDIER has been shot at Canada’s National W...</td>\n",
       "      <td>9</td>\n",
       "    </tr>\n",
       "  </tbody>\n",
       "</table>\n",
       "</div>"
      ],
      "text/plain": [
       "   Body ID                                        articleBody  index\n",
       "0        0  A small meteorite crashed into a wooded area i...      0\n",
       "1        4  Last week we hinted at what was to come as Ebo...      1\n",
       "2        5  (NEWSER) – Wonder how long a Quarter Pounder w...      2\n",
       "3        6  Posting photos of a gun-toting child online, I...      3\n",
       "4        7  At least 25 suspected Boko Haram insurgents we...      4\n",
       "5        8  There is so much fake stuff on the Internet in...      5\n",
       "6        9  (CNN) -- A meteorite crashed down in Managua, ...      6\n",
       "7       10  Move over, Netflix and Hulu.\\nWord has it that...      7\n",
       "8       11  We’ve all seen the traditional depictions of G...      8\n",
       "9       13  A SOLDIER has been shot at Canada’s National W...      9"
      ]
     },
     "execution_count": 481,
     "metadata": {},
     "output_type": "execute_result"
    }
   ],
   "source": [
    "dataset_body2.head(10)"
   ]
  },
  {
   "cell_type": "code",
   "execution_count": 516,
   "metadata": {
    "scrolled": true
   },
   "outputs": [
    {
     "name": "stdout",
     "output_type": "stream",
     "text": [
      "1\n",
      "At index 2953, Claim - Netflix Sees Comcast Performance Boost After Traffic Deal\n",
      "** Similar news articles **\n",
      "15    HBO's subscription streaming service will be c...\n",
      "Name: articleBody, dtype: object\n",
      "2\n",
      "At index 2960, Claim - Comcast customers can now watch 'House of Cards' without a Netflix subscription\n",
      "** Similar news articles **\n",
      "15    HBO's subscription streaming service will be c...\n",
      "Name: articleBody, dtype: object\n",
      "3\n",
      "At index 2963, Claim - Comcast/Sony deal lets Comcast subscribers watch Netflix shows\n",
      "** Similar news articles **\n",
      "15    HBO's subscription streaming service will be c...\n",
      "Name: articleBody, dtype: object\n",
      "4\n",
      "At index 4537, Claim - Pot sales generate $2M in Colorado taxes\n",
      "** Similar news articles **\n",
      "907    KFC (NYSE:YUM) Gets Occupational Business Lice...\n",
      "Name: articleBody, dtype: object\n"
     ]
    }
   ],
   "source": [
    "count=1\n",
    "for i in range(4555):\n",
    "    claim1=UCI_Aggregator['TITLE'][i]\n",
    "    claim1.lower()\n",
    "    new_test_data = word_tokenize(claim1.lower())\n",
    "    v2 = model.infer_vector(new_test_data)\n",
    "    similar_documents = model.docvecs.most_similar([v2], topn = 1)\n",
    "    #print (similar_documents)\n",
    "    myarray = np.asarray(similar_documents)\n",
    "    new_a=myarray.squeeze()\n",
    "    similarity_score=new_a[1]\n",
    "    article_id = new_a[0]\n",
    "    if float(similarity_score) > 0.9:\n",
    "        print (\"{}\".format(count))\n",
    "        print (\"At index {}, Claim - {}\".format(i, claim1))\n",
    "        print(\"** Similar news articles **\")\n",
    "        print(dataset_body2.loc[dataset_body2['index'] == int(new_a[0]), 'articleBody'])\n",
    "        count+=1"
   ]
  },
  {
   "cell_type": "code",
   "execution_count": 515,
   "metadata": {},
   "outputs": [
    {
     "name": "stdout",
     "output_type": "stream",
     "text": [
      "1\n",
      "At index 147457, Claim - Home > Danny Boyle > Danny Boyle, Leonardo Dicaprio For Steve Jobs Movie?\n",
      "** Similar news articles **\n",
      "1468    It looks like Christian Bale will no longer be...\n",
      "Name: articleBody, dtype: object\n",
      "2\n",
      "At index 157211, Claim - Amazon beats Netflix to HBO offerings online with Prime\n",
      "** Similar news articles **\n",
      "15    HBO's subscription streaming service will be c...\n",
      "Name: articleBody, dtype: object\n"
     ]
    }
   ],
   "source": [
    "count=1\n",
    "for i in range(14204, 400000):\n",
    "    claim1=UCI_Aggregator['TITLE'][i]\n",
    "    claim1.lower()\n",
    "    new_test_data = word_tokenize(claim1.lower())\n",
    "    v2 = model.infer_vector(new_test_data)\n",
    "    similar_documents = model.docvecs.most_similar([v2], topn = 1)\n",
    "    #print (similar_documents)\n",
    "    myarray = np.asarray(similar_documents)\n",
    "    new_a=myarray.squeeze()\n",
    "    similarity_score=new_a[1]\n",
    "    article_id = new_a[0]\n",
    "    if float(similarity_score) > 0.95:\n",
    "        print (\"{}\".format(count))\n",
    "        print (\"At index {}, Claim - {}\".format(i, claim1))\n",
    "        print(\"** Similar news articles **\")\n",
    "        print(dataset_body2.loc[dataset_body2['index'] == int(new_a[0]), 'articleBody'])\n",
    "        count+=1"
   ]
  },
  {
   "cell_type": "markdown",
   "metadata": {},
   "source": [
    "### News Headline"
   ]
  },
  {
   "cell_type": "code",
   "execution_count": 524,
   "metadata": {},
   "outputs": [
    {
     "data": {
      "text/plain": [
       "'Home > Danny Boyle > Danny Boyle, Leonardo Dicaprio For Steve Jobs Movie?'"
      ]
     },
     "execution_count": 524,
     "metadata": {},
     "output_type": "execute_result"
    }
   ],
   "source": [
    "UCI_Aggregator['TITLE'][147457]"
   ]
  },
  {
   "cell_type": "markdown",
   "metadata": {},
   "source": [
    "### News body from Kaggle Dataset"
   ]
  },
  {
   "cell_type": "code",
   "execution_count": 523,
   "metadata": {},
   "outputs": [
    {
     "data": {
      "text/html": [
       "<div>\n",
       "<style scoped>\n",
       "    .dataframe tbody tr th:only-of-type {\n",
       "        vertical-align: middle;\n",
       "    }\n",
       "\n",
       "    .dataframe tbody tr th {\n",
       "        vertical-align: top;\n",
       "    }\n",
       "\n",
       "    .dataframe thead th {\n",
       "        text-align: right;\n",
       "    }\n",
       "</style>\n",
       "<table border=\"1\" class=\"dataframe\">\n",
       "  <thead>\n",
       "    <tr style=\"text-align: right;\">\n",
       "      <th></th>\n",
       "      <th>Body ID</th>\n",
       "      <th>articleBody</th>\n",
       "      <th>index</th>\n",
       "    </tr>\n",
       "  </thead>\n",
       "  <tbody>\n",
       "    <tr>\n",
       "      <th>1468</th>\n",
       "      <td>2211</td>\n",
       "      <td>It looks like Christian Bale will no longer be...</td>\n",
       "      <td>1468</td>\n",
       "    </tr>\n",
       "  </tbody>\n",
       "</table>\n",
       "</div>"
      ],
      "text/plain": [
       "      Body ID                                        articleBody  index\n",
       "1468     2211  It looks like Christian Bale will no longer be...   1468"
      ]
     },
     "execution_count": 523,
     "metadata": {},
     "output_type": "execute_result"
    }
   ],
   "source": [
    "dataset_body2[dataset_body2['index'] == 1468]"
   ]
  },
  {
   "cell_type": "code",
   "execution_count": 525,
   "metadata": {},
   "outputs": [
    {
     "data": {
      "text/plain": [
       "'It looks like Christian Bale will no longer be playing Steve Jobs in Danny Boyle\\'s upcoming biopic on the Apple founder.\\n\\nAccording to The Hollywood Reporter, the decision to leave the film was made by Bale himself, who decided the film wasn\\'t a good fit.\\n\\n\"Sources say Bale, after much deliberation and conflicting feelings, came to the conclusion he was not right for the part and decided to withdraw,\" says The Hollywood Reporter.\\n\\nThe film\\'s screenplay, which was written by Academy and Emmy award winning writer Aaron Sorkin, is said to focus on three pivotal keynote presentations given by Steve Jobs.\\n\\nSeth Rogen is also reportedly in talks to play Apple co-founder Steve Wozniak, though an official offer has yet to be made.\\n\\nBale\\'s departure could come at a bad time for the project, which was scheduled to begin filming later this winter.\\n\\nYou can read the full report over at The Hollywood Reporter.\\n\\nSEE ALSO:  Here\\'s Why Innovation Dies At Big Tech Companies, According To Steve Jobs'"
      ]
     },
     "execution_count": 525,
     "metadata": {},
     "output_type": "execute_result"
    }
   ],
   "source": [
    "dataset_body2['articleBody'][1468]"
   ]
  },
  {
   "cell_type": "markdown",
   "metadata": {},
   "source": [
    "### Claim stances from Kaggle Dataset"
   ]
  },
  {
   "cell_type": "code",
   "execution_count": 542,
   "metadata": {},
   "outputs": [],
   "source": [
    "Body_ID = dataset_body2.loc[dataset_body2['index'] == 1468, 'Body ID']\n",
    "new_df = dataset_stances2[dataset_stances2['Body ID'] == int(Body_ID)]"
   ]
  },
  {
   "cell_type": "code",
   "execution_count": 543,
   "metadata": {},
   "outputs": [
    {
     "data": {
      "text/html": [
       "<div>\n",
       "<style scoped>\n",
       "    .dataframe tbody tr th:only-of-type {\n",
       "        vertical-align: middle;\n",
       "    }\n",
       "\n",
       "    .dataframe tbody tr th {\n",
       "        vertical-align: top;\n",
       "    }\n",
       "\n",
       "    .dataframe thead th {\n",
       "        text-align: right;\n",
       "    }\n",
       "</style>\n",
       "<table border=\"1\" class=\"dataframe\">\n",
       "  <thead>\n",
       "    <tr style=\"text-align: right;\">\n",
       "      <th></th>\n",
       "      <th>Headline</th>\n",
       "      <th>Body ID</th>\n",
       "      <th>Stance</th>\n",
       "      <th>index</th>\n",
       "    </tr>\n",
       "  </thead>\n",
       "  <tbody>\n",
       "    <tr>\n",
       "      <th>42476</th>\n",
       "      <td>Christian Bale to play Steve Jobs in upcoming ...</td>\n",
       "      <td>2211</td>\n",
       "      <td>disagree</td>\n",
       "      <td>42476</td>\n",
       "    </tr>\n",
       "    <tr>\n",
       "      <th>42477</th>\n",
       "      <td>Report: Christian Bale Just Bailed on the Stev...</td>\n",
       "      <td>2211</td>\n",
       "      <td>agree</td>\n",
       "      <td>42477</td>\n",
       "    </tr>\n",
       "    <tr>\n",
       "      <th>42478</th>\n",
       "      <td>Gold Apple Watch Edition price? Speculators sa...</td>\n",
       "      <td>2211</td>\n",
       "      <td>unrelated</td>\n",
       "      <td>42478</td>\n",
       "    </tr>\n",
       "    <tr>\n",
       "      <th>42479</th>\n",
       "      <td>Christian Bale Is Steve Jobs</td>\n",
       "      <td>2211</td>\n",
       "      <td>disagree</td>\n",
       "      <td>42479</td>\n",
       "    </tr>\n",
       "    <tr>\n",
       "      <th>42480</th>\n",
       "      <td>Apple's New MacBook Will Be A Thinner, Cleaner...</td>\n",
       "      <td>2211</td>\n",
       "      <td>unrelated</td>\n",
       "      <td>42480</td>\n",
       "    </tr>\n",
       "    <tr>\n",
       "      <th>42481</th>\n",
       "      <td>Christian Bale set to play Steve Jobs in forth...</td>\n",
       "      <td>2211</td>\n",
       "      <td>disagree</td>\n",
       "      <td>42481</td>\n",
       "    </tr>\n",
       "    <tr>\n",
       "      <th>42482</th>\n",
       "      <td>Passenger Wears A Hazmat Suit To Dulles Airpor...</td>\n",
       "      <td>2211</td>\n",
       "      <td>unrelated</td>\n",
       "      <td>42482</td>\n",
       "    </tr>\n",
       "    <tr>\n",
       "      <th>42483</th>\n",
       "      <td>Why the Gold Apple Watch Edition Must Cost $10...</td>\n",
       "      <td>2211</td>\n",
       "      <td>unrelated</td>\n",
       "      <td>42483</td>\n",
       "    </tr>\n",
       "    <tr>\n",
       "      <th>42484</th>\n",
       "      <td>Christian Bale In Talks To Play Steve Jobs In ...</td>\n",
       "      <td>2211</td>\n",
       "      <td>disagree</td>\n",
       "      <td>42484</td>\n",
       "    </tr>\n",
       "    <tr>\n",
       "      <th>42485</th>\n",
       "      <td>Christian Bale quits Steve Jobs movie</td>\n",
       "      <td>2211</td>\n",
       "      <td>agree</td>\n",
       "      <td>42485</td>\n",
       "    </tr>\n",
       "    <tr>\n",
       "      <th>42486</th>\n",
       "      <td>Oscar winner Christian Bale to play Steve Jobs...</td>\n",
       "      <td>2211</td>\n",
       "      <td>disagree</td>\n",
       "      <td>42486</td>\n",
       "    </tr>\n",
       "    <tr>\n",
       "      <th>42487</th>\n",
       "      <td>Why the most expensive Apple Watch will probab...</td>\n",
       "      <td>2211</td>\n",
       "      <td>unrelated</td>\n",
       "      <td>42487</td>\n",
       "    </tr>\n",
       "    <tr>\n",
       "      <th>42488</th>\n",
       "      <td>Who Should Play Steve Jobs Now That Christian ...</td>\n",
       "      <td>2211</td>\n",
       "      <td>agree</td>\n",
       "      <td>42488</td>\n",
       "    </tr>\n",
       "    <tr>\n",
       "      <th>42489</th>\n",
       "      <td>Aaron Sorkin Confirms Christian Bale Will Play...</td>\n",
       "      <td>2211</td>\n",
       "      <td>disagree</td>\n",
       "      <td>42489</td>\n",
       "    </tr>\n",
       "    <tr>\n",
       "      <th>42490</th>\n",
       "      <td>Christian Bale passes on role of Steve Jobs, a...</td>\n",
       "      <td>2211</td>\n",
       "      <td>agree</td>\n",
       "      <td>42490</td>\n",
       "    </tr>\n",
       "    <tr>\n",
       "      <th>42491</th>\n",
       "      <td>Batman Set To Play Steve Jobs In Upcoming Biopic</td>\n",
       "      <td>2211</td>\n",
       "      <td>disagree</td>\n",
       "      <td>42491</td>\n",
       "    </tr>\n",
       "    <tr>\n",
       "      <th>42492</th>\n",
       "      <td>Christian Bale Exits Steve Jobs Movie (Exclusive)</td>\n",
       "      <td>2211</td>\n",
       "      <td>agree</td>\n",
       "      <td>42492</td>\n",
       "    </tr>\n",
       "    <tr>\n",
       "      <th>42493</th>\n",
       "      <td>Christian Bale Won't Play Steve Jobs After All</td>\n",
       "      <td>2211</td>\n",
       "      <td>agree</td>\n",
       "      <td>42493</td>\n",
       "    </tr>\n",
       "    <tr>\n",
       "      <th>42494</th>\n",
       "      <td>Christian Bale in Talks to Star in Sony's Stev...</td>\n",
       "      <td>2211</td>\n",
       "      <td>discuss</td>\n",
       "      <td>42494</td>\n",
       "    </tr>\n",
       "    <tr>\n",
       "      <th>42495</th>\n",
       "      <td>Christian Bale Pulls Out of Upcoming Steve Job...</td>\n",
       "      <td>2211</td>\n",
       "      <td>agree</td>\n",
       "      <td>42495</td>\n",
       "    </tr>\n",
       "    <tr>\n",
       "      <th>42496</th>\n",
       "      <td>Christian Bale in Talks to Play Steve Jobs (Ex...</td>\n",
       "      <td>2211</td>\n",
       "      <td>discuss</td>\n",
       "      <td>42496</td>\n",
       "    </tr>\n",
       "    <tr>\n",
       "      <th>42497</th>\n",
       "      <td>Christian Bale won't play Steve Jobs</td>\n",
       "      <td>2211</td>\n",
       "      <td>agree</td>\n",
       "      <td>42497</td>\n",
       "    </tr>\n",
       "    <tr>\n",
       "      <th>42498</th>\n",
       "      <td>Would you pay $10,000 for the Apple Watch?</td>\n",
       "      <td>2211</td>\n",
       "      <td>unrelated</td>\n",
       "      <td>42498</td>\n",
       "    </tr>\n",
       "    <tr>\n",
       "      <th>42499</th>\n",
       "      <td>That Was Fast: Christian Bale Bails on Steve J...</td>\n",
       "      <td>2211</td>\n",
       "      <td>agree</td>\n",
       "      <td>42499</td>\n",
       "    </tr>\n",
       "    <tr>\n",
       "      <th>42500</th>\n",
       "      <td>Report: Christian Bale Drops Out Of Steve Jobs...</td>\n",
       "      <td>2211</td>\n",
       "      <td>agree</td>\n",
       "      <td>42500</td>\n",
       "    </tr>\n",
       "    <tr>\n",
       "      <th>42501</th>\n",
       "      <td>Report: Christian Bale Will Play Steve Jobs</td>\n",
       "      <td>2211</td>\n",
       "      <td>discuss</td>\n",
       "      <td>42501</td>\n",
       "    </tr>\n",
       "    <tr>\n",
       "      <th>42502</th>\n",
       "      <td>Christian Bale Drops Out of Steve Jobs Biopic</td>\n",
       "      <td>2211</td>\n",
       "      <td>agree</td>\n",
       "      <td>42502</td>\n",
       "    </tr>\n",
       "    <tr>\n",
       "      <th>42503</th>\n",
       "      <td>Christian Bale will not play Steve Jobs</td>\n",
       "      <td>2211</td>\n",
       "      <td>agree</td>\n",
       "      <td>42503</td>\n",
       "    </tr>\n",
       "    <tr>\n",
       "      <th>42504</th>\n",
       "      <td>Christian Bale in Talks to Play Steve Jobs in ...</td>\n",
       "      <td>2211</td>\n",
       "      <td>discuss</td>\n",
       "      <td>42504</td>\n",
       "    </tr>\n",
       "  </tbody>\n",
       "</table>\n",
       "</div>"
      ],
      "text/plain": [
       "                                                Headline  Body ID     Stance  \\\n",
       "42476  Christian Bale to play Steve Jobs in upcoming ...     2211   disagree   \n",
       "42477  Report: Christian Bale Just Bailed on the Stev...     2211      agree   \n",
       "42478  Gold Apple Watch Edition price? Speculators sa...     2211  unrelated   \n",
       "42479                       Christian Bale Is Steve Jobs     2211   disagree   \n",
       "42480  Apple's New MacBook Will Be A Thinner, Cleaner...     2211  unrelated   \n",
       "42481  Christian Bale set to play Steve Jobs in forth...     2211   disagree   \n",
       "42482  Passenger Wears A Hazmat Suit To Dulles Airpor...     2211  unrelated   \n",
       "42483  Why the Gold Apple Watch Edition Must Cost $10...     2211  unrelated   \n",
       "42484  Christian Bale In Talks To Play Steve Jobs In ...     2211   disagree   \n",
       "42485              Christian Bale quits Steve Jobs movie     2211      agree   \n",
       "42486  Oscar winner Christian Bale to play Steve Jobs...     2211   disagree   \n",
       "42487  Why the most expensive Apple Watch will probab...     2211  unrelated   \n",
       "42488  Who Should Play Steve Jobs Now That Christian ...     2211      agree   \n",
       "42489  Aaron Sorkin Confirms Christian Bale Will Play...     2211   disagree   \n",
       "42490  Christian Bale passes on role of Steve Jobs, a...     2211      agree   \n",
       "42491   Batman Set To Play Steve Jobs In Upcoming Biopic     2211   disagree   \n",
       "42492  Christian Bale Exits Steve Jobs Movie (Exclusive)     2211      agree   \n",
       "42493     Christian Bale Won't Play Steve Jobs After All     2211      agree   \n",
       "42494  Christian Bale in Talks to Star in Sony's Stev...     2211    discuss   \n",
       "42495  Christian Bale Pulls Out of Upcoming Steve Job...     2211      agree   \n",
       "42496  Christian Bale in Talks to Play Steve Jobs (Ex...     2211    discuss   \n",
       "42497               Christian Bale won't play Steve Jobs     2211      agree   \n",
       "42498         Would you pay $10,000 for the Apple Watch?     2211  unrelated   \n",
       "42499  That Was Fast: Christian Bale Bails on Steve J...     2211      agree   \n",
       "42500  Report: Christian Bale Drops Out Of Steve Jobs...     2211      agree   \n",
       "42501        Report: Christian Bale Will Play Steve Jobs     2211    discuss   \n",
       "42502      Christian Bale Drops Out of Steve Jobs Biopic     2211      agree   \n",
       "42503            Christian Bale will not play Steve Jobs     2211      agree   \n",
       "42504  Christian Bale in Talks to Play Steve Jobs in ...     2211    discuss   \n",
       "\n",
       "       index  \n",
       "42476  42476  \n",
       "42477  42477  \n",
       "42478  42478  \n",
       "42479  42479  \n",
       "42480  42480  \n",
       "42481  42481  \n",
       "42482  42482  \n",
       "42483  42483  \n",
       "42484  42484  \n",
       "42485  42485  \n",
       "42486  42486  \n",
       "42487  42487  \n",
       "42488  42488  \n",
       "42489  42489  \n",
       "42490  42490  \n",
       "42491  42491  \n",
       "42492  42492  \n",
       "42493  42493  \n",
       "42494  42494  \n",
       "42495  42495  \n",
       "42496  42496  \n",
       "42497  42497  \n",
       "42498  42498  \n",
       "42499  42499  \n",
       "42500  42500  \n",
       "42501  42501  \n",
       "42502  42502  \n",
       "42503  42503  \n",
       "42504  42504  "
      ]
     },
     "execution_count": 543,
     "metadata": {},
     "output_type": "execute_result"
    }
   ],
   "source": [
    "new_df"
   ]
  },
  {
   "cell_type": "markdown",
   "metadata": {},
   "source": [
    "### One hot encoding for stance"
   ]
  },
  {
   "cell_type": "code",
   "execution_count": 544,
   "metadata": {},
   "outputs": [
    {
     "data": {
      "text/html": [
       "<div>\n",
       "<style scoped>\n",
       "    .dataframe tbody tr th:only-of-type {\n",
       "        vertical-align: middle;\n",
       "    }\n",
       "\n",
       "    .dataframe tbody tr th {\n",
       "        vertical-align: top;\n",
       "    }\n",
       "\n",
       "    .dataframe thead th {\n",
       "        text-align: right;\n",
       "    }\n",
       "</style>\n",
       "<table border=\"1\" class=\"dataframe\">\n",
       "  <thead>\n",
       "    <tr style=\"text-align: right;\">\n",
       "      <th></th>\n",
       "      <th>Headline</th>\n",
       "      <th>Body ID</th>\n",
       "      <th>Stance</th>\n",
       "      <th>index</th>\n",
       "      <th>agree</th>\n",
       "      <th>disagree</th>\n",
       "      <th>discuss</th>\n",
       "      <th>unrelated</th>\n",
       "    </tr>\n",
       "  </thead>\n",
       "  <tbody>\n",
       "    <tr>\n",
       "      <th>42476</th>\n",
       "      <td>Christian Bale to play Steve Jobs in upcoming ...</td>\n",
       "      <td>2211</td>\n",
       "      <td>disagree</td>\n",
       "      <td>42476</td>\n",
       "      <td>0</td>\n",
       "      <td>1</td>\n",
       "      <td>0</td>\n",
       "      <td>0</td>\n",
       "    </tr>\n",
       "    <tr>\n",
       "      <th>42477</th>\n",
       "      <td>Report: Christian Bale Just Bailed on the Stev...</td>\n",
       "      <td>2211</td>\n",
       "      <td>agree</td>\n",
       "      <td>42477</td>\n",
       "      <td>1</td>\n",
       "      <td>0</td>\n",
       "      <td>0</td>\n",
       "      <td>0</td>\n",
       "    </tr>\n",
       "    <tr>\n",
       "      <th>42478</th>\n",
       "      <td>Gold Apple Watch Edition price? Speculators sa...</td>\n",
       "      <td>2211</td>\n",
       "      <td>unrelated</td>\n",
       "      <td>42478</td>\n",
       "      <td>0</td>\n",
       "      <td>0</td>\n",
       "      <td>0</td>\n",
       "      <td>1</td>\n",
       "    </tr>\n",
       "    <tr>\n",
       "      <th>42479</th>\n",
       "      <td>Christian Bale Is Steve Jobs</td>\n",
       "      <td>2211</td>\n",
       "      <td>disagree</td>\n",
       "      <td>42479</td>\n",
       "      <td>0</td>\n",
       "      <td>1</td>\n",
       "      <td>0</td>\n",
       "      <td>0</td>\n",
       "    </tr>\n",
       "    <tr>\n",
       "      <th>42480</th>\n",
       "      <td>Apple's New MacBook Will Be A Thinner, Cleaner...</td>\n",
       "      <td>2211</td>\n",
       "      <td>unrelated</td>\n",
       "      <td>42480</td>\n",
       "      <td>0</td>\n",
       "      <td>0</td>\n",
       "      <td>0</td>\n",
       "      <td>1</td>\n",
       "    </tr>\n",
       "    <tr>\n",
       "      <th>42481</th>\n",
       "      <td>Christian Bale set to play Steve Jobs in forth...</td>\n",
       "      <td>2211</td>\n",
       "      <td>disagree</td>\n",
       "      <td>42481</td>\n",
       "      <td>0</td>\n",
       "      <td>1</td>\n",
       "      <td>0</td>\n",
       "      <td>0</td>\n",
       "    </tr>\n",
       "    <tr>\n",
       "      <th>42482</th>\n",
       "      <td>Passenger Wears A Hazmat Suit To Dulles Airpor...</td>\n",
       "      <td>2211</td>\n",
       "      <td>unrelated</td>\n",
       "      <td>42482</td>\n",
       "      <td>0</td>\n",
       "      <td>0</td>\n",
       "      <td>0</td>\n",
       "      <td>1</td>\n",
       "    </tr>\n",
       "    <tr>\n",
       "      <th>42483</th>\n",
       "      <td>Why the Gold Apple Watch Edition Must Cost $10...</td>\n",
       "      <td>2211</td>\n",
       "      <td>unrelated</td>\n",
       "      <td>42483</td>\n",
       "      <td>0</td>\n",
       "      <td>0</td>\n",
       "      <td>0</td>\n",
       "      <td>1</td>\n",
       "    </tr>\n",
       "    <tr>\n",
       "      <th>42484</th>\n",
       "      <td>Christian Bale In Talks To Play Steve Jobs In ...</td>\n",
       "      <td>2211</td>\n",
       "      <td>disagree</td>\n",
       "      <td>42484</td>\n",
       "      <td>0</td>\n",
       "      <td>1</td>\n",
       "      <td>0</td>\n",
       "      <td>0</td>\n",
       "    </tr>\n",
       "    <tr>\n",
       "      <th>42485</th>\n",
       "      <td>Christian Bale quits Steve Jobs movie</td>\n",
       "      <td>2211</td>\n",
       "      <td>agree</td>\n",
       "      <td>42485</td>\n",
       "      <td>1</td>\n",
       "      <td>0</td>\n",
       "      <td>0</td>\n",
       "      <td>0</td>\n",
       "    </tr>\n",
       "    <tr>\n",
       "      <th>42486</th>\n",
       "      <td>Oscar winner Christian Bale to play Steve Jobs...</td>\n",
       "      <td>2211</td>\n",
       "      <td>disagree</td>\n",
       "      <td>42486</td>\n",
       "      <td>0</td>\n",
       "      <td>1</td>\n",
       "      <td>0</td>\n",
       "      <td>0</td>\n",
       "    </tr>\n",
       "    <tr>\n",
       "      <th>42487</th>\n",
       "      <td>Why the most expensive Apple Watch will probab...</td>\n",
       "      <td>2211</td>\n",
       "      <td>unrelated</td>\n",
       "      <td>42487</td>\n",
       "      <td>0</td>\n",
       "      <td>0</td>\n",
       "      <td>0</td>\n",
       "      <td>1</td>\n",
       "    </tr>\n",
       "    <tr>\n",
       "      <th>42488</th>\n",
       "      <td>Who Should Play Steve Jobs Now That Christian ...</td>\n",
       "      <td>2211</td>\n",
       "      <td>agree</td>\n",
       "      <td>42488</td>\n",
       "      <td>1</td>\n",
       "      <td>0</td>\n",
       "      <td>0</td>\n",
       "      <td>0</td>\n",
       "    </tr>\n",
       "    <tr>\n",
       "      <th>42489</th>\n",
       "      <td>Aaron Sorkin Confirms Christian Bale Will Play...</td>\n",
       "      <td>2211</td>\n",
       "      <td>disagree</td>\n",
       "      <td>42489</td>\n",
       "      <td>0</td>\n",
       "      <td>1</td>\n",
       "      <td>0</td>\n",
       "      <td>0</td>\n",
       "    </tr>\n",
       "    <tr>\n",
       "      <th>42490</th>\n",
       "      <td>Christian Bale passes on role of Steve Jobs, a...</td>\n",
       "      <td>2211</td>\n",
       "      <td>agree</td>\n",
       "      <td>42490</td>\n",
       "      <td>1</td>\n",
       "      <td>0</td>\n",
       "      <td>0</td>\n",
       "      <td>0</td>\n",
       "    </tr>\n",
       "    <tr>\n",
       "      <th>42491</th>\n",
       "      <td>Batman Set To Play Steve Jobs In Upcoming Biopic</td>\n",
       "      <td>2211</td>\n",
       "      <td>disagree</td>\n",
       "      <td>42491</td>\n",
       "      <td>0</td>\n",
       "      <td>1</td>\n",
       "      <td>0</td>\n",
       "      <td>0</td>\n",
       "    </tr>\n",
       "    <tr>\n",
       "      <th>42492</th>\n",
       "      <td>Christian Bale Exits Steve Jobs Movie (Exclusive)</td>\n",
       "      <td>2211</td>\n",
       "      <td>agree</td>\n",
       "      <td>42492</td>\n",
       "      <td>1</td>\n",
       "      <td>0</td>\n",
       "      <td>0</td>\n",
       "      <td>0</td>\n",
       "    </tr>\n",
       "    <tr>\n",
       "      <th>42493</th>\n",
       "      <td>Christian Bale Won't Play Steve Jobs After All</td>\n",
       "      <td>2211</td>\n",
       "      <td>agree</td>\n",
       "      <td>42493</td>\n",
       "      <td>1</td>\n",
       "      <td>0</td>\n",
       "      <td>0</td>\n",
       "      <td>0</td>\n",
       "    </tr>\n",
       "    <tr>\n",
       "      <th>42494</th>\n",
       "      <td>Christian Bale in Talks to Star in Sony's Stev...</td>\n",
       "      <td>2211</td>\n",
       "      <td>discuss</td>\n",
       "      <td>42494</td>\n",
       "      <td>0</td>\n",
       "      <td>0</td>\n",
       "      <td>1</td>\n",
       "      <td>0</td>\n",
       "    </tr>\n",
       "    <tr>\n",
       "      <th>42495</th>\n",
       "      <td>Christian Bale Pulls Out of Upcoming Steve Job...</td>\n",
       "      <td>2211</td>\n",
       "      <td>agree</td>\n",
       "      <td>42495</td>\n",
       "      <td>1</td>\n",
       "      <td>0</td>\n",
       "      <td>0</td>\n",
       "      <td>0</td>\n",
       "    </tr>\n",
       "    <tr>\n",
       "      <th>42496</th>\n",
       "      <td>Christian Bale in Talks to Play Steve Jobs (Ex...</td>\n",
       "      <td>2211</td>\n",
       "      <td>discuss</td>\n",
       "      <td>42496</td>\n",
       "      <td>0</td>\n",
       "      <td>0</td>\n",
       "      <td>1</td>\n",
       "      <td>0</td>\n",
       "    </tr>\n",
       "    <tr>\n",
       "      <th>42497</th>\n",
       "      <td>Christian Bale won't play Steve Jobs</td>\n",
       "      <td>2211</td>\n",
       "      <td>agree</td>\n",
       "      <td>42497</td>\n",
       "      <td>1</td>\n",
       "      <td>0</td>\n",
       "      <td>0</td>\n",
       "      <td>0</td>\n",
       "    </tr>\n",
       "    <tr>\n",
       "      <th>42498</th>\n",
       "      <td>Would you pay $10,000 for the Apple Watch?</td>\n",
       "      <td>2211</td>\n",
       "      <td>unrelated</td>\n",
       "      <td>42498</td>\n",
       "      <td>0</td>\n",
       "      <td>0</td>\n",
       "      <td>0</td>\n",
       "      <td>1</td>\n",
       "    </tr>\n",
       "    <tr>\n",
       "      <th>42499</th>\n",
       "      <td>That Was Fast: Christian Bale Bails on Steve J...</td>\n",
       "      <td>2211</td>\n",
       "      <td>agree</td>\n",
       "      <td>42499</td>\n",
       "      <td>1</td>\n",
       "      <td>0</td>\n",
       "      <td>0</td>\n",
       "      <td>0</td>\n",
       "    </tr>\n",
       "    <tr>\n",
       "      <th>42500</th>\n",
       "      <td>Report: Christian Bale Drops Out Of Steve Jobs...</td>\n",
       "      <td>2211</td>\n",
       "      <td>agree</td>\n",
       "      <td>42500</td>\n",
       "      <td>1</td>\n",
       "      <td>0</td>\n",
       "      <td>0</td>\n",
       "      <td>0</td>\n",
       "    </tr>\n",
       "    <tr>\n",
       "      <th>42501</th>\n",
       "      <td>Report: Christian Bale Will Play Steve Jobs</td>\n",
       "      <td>2211</td>\n",
       "      <td>discuss</td>\n",
       "      <td>42501</td>\n",
       "      <td>0</td>\n",
       "      <td>0</td>\n",
       "      <td>1</td>\n",
       "      <td>0</td>\n",
       "    </tr>\n",
       "    <tr>\n",
       "      <th>42502</th>\n",
       "      <td>Christian Bale Drops Out of Steve Jobs Biopic</td>\n",
       "      <td>2211</td>\n",
       "      <td>agree</td>\n",
       "      <td>42502</td>\n",
       "      <td>1</td>\n",
       "      <td>0</td>\n",
       "      <td>0</td>\n",
       "      <td>0</td>\n",
       "    </tr>\n",
       "    <tr>\n",
       "      <th>42503</th>\n",
       "      <td>Christian Bale will not play Steve Jobs</td>\n",
       "      <td>2211</td>\n",
       "      <td>agree</td>\n",
       "      <td>42503</td>\n",
       "      <td>1</td>\n",
       "      <td>0</td>\n",
       "      <td>0</td>\n",
       "      <td>0</td>\n",
       "    </tr>\n",
       "    <tr>\n",
       "      <th>42504</th>\n",
       "      <td>Christian Bale in Talks to Play Steve Jobs in ...</td>\n",
       "      <td>2211</td>\n",
       "      <td>discuss</td>\n",
       "      <td>42504</td>\n",
       "      <td>0</td>\n",
       "      <td>0</td>\n",
       "      <td>1</td>\n",
       "      <td>0</td>\n",
       "    </tr>\n",
       "  </tbody>\n",
       "</table>\n",
       "</div>"
      ],
      "text/plain": [
       "                                                Headline  Body ID     Stance  \\\n",
       "42476  Christian Bale to play Steve Jobs in upcoming ...     2211   disagree   \n",
       "42477  Report: Christian Bale Just Bailed on the Stev...     2211      agree   \n",
       "42478  Gold Apple Watch Edition price? Speculators sa...     2211  unrelated   \n",
       "42479                       Christian Bale Is Steve Jobs     2211   disagree   \n",
       "42480  Apple's New MacBook Will Be A Thinner, Cleaner...     2211  unrelated   \n",
       "42481  Christian Bale set to play Steve Jobs in forth...     2211   disagree   \n",
       "42482  Passenger Wears A Hazmat Suit To Dulles Airpor...     2211  unrelated   \n",
       "42483  Why the Gold Apple Watch Edition Must Cost $10...     2211  unrelated   \n",
       "42484  Christian Bale In Talks To Play Steve Jobs In ...     2211   disagree   \n",
       "42485              Christian Bale quits Steve Jobs movie     2211      agree   \n",
       "42486  Oscar winner Christian Bale to play Steve Jobs...     2211   disagree   \n",
       "42487  Why the most expensive Apple Watch will probab...     2211  unrelated   \n",
       "42488  Who Should Play Steve Jobs Now That Christian ...     2211      agree   \n",
       "42489  Aaron Sorkin Confirms Christian Bale Will Play...     2211   disagree   \n",
       "42490  Christian Bale passes on role of Steve Jobs, a...     2211      agree   \n",
       "42491   Batman Set To Play Steve Jobs In Upcoming Biopic     2211   disagree   \n",
       "42492  Christian Bale Exits Steve Jobs Movie (Exclusive)     2211      agree   \n",
       "42493     Christian Bale Won't Play Steve Jobs After All     2211      agree   \n",
       "42494  Christian Bale in Talks to Star in Sony's Stev...     2211    discuss   \n",
       "42495  Christian Bale Pulls Out of Upcoming Steve Job...     2211      agree   \n",
       "42496  Christian Bale in Talks to Play Steve Jobs (Ex...     2211    discuss   \n",
       "42497               Christian Bale won't play Steve Jobs     2211      agree   \n",
       "42498         Would you pay $10,000 for the Apple Watch?     2211  unrelated   \n",
       "42499  That Was Fast: Christian Bale Bails on Steve J...     2211      agree   \n",
       "42500  Report: Christian Bale Drops Out Of Steve Jobs...     2211      agree   \n",
       "42501        Report: Christian Bale Will Play Steve Jobs     2211    discuss   \n",
       "42502      Christian Bale Drops Out of Steve Jobs Biopic     2211      agree   \n",
       "42503            Christian Bale will not play Steve Jobs     2211      agree   \n",
       "42504  Christian Bale in Talks to Play Steve Jobs in ...     2211    discuss   \n",
       "\n",
       "       index  agree  disagree  discuss  unrelated  \n",
       "42476  42476      0         1        0          0  \n",
       "42477  42477      1         0        0          0  \n",
       "42478  42478      0         0        0          1  \n",
       "42479  42479      0         1        0          0  \n",
       "42480  42480      0         0        0          1  \n",
       "42481  42481      0         1        0          0  \n",
       "42482  42482      0         0        0          1  \n",
       "42483  42483      0         0        0          1  \n",
       "42484  42484      0         1        0          0  \n",
       "42485  42485      1         0        0          0  \n",
       "42486  42486      0         1        0          0  \n",
       "42487  42487      0         0        0          1  \n",
       "42488  42488      1         0        0          0  \n",
       "42489  42489      0         1        0          0  \n",
       "42490  42490      1         0        0          0  \n",
       "42491  42491      0         1        0          0  \n",
       "42492  42492      1         0        0          0  \n",
       "42493  42493      1         0        0          0  \n",
       "42494  42494      0         0        1          0  \n",
       "42495  42495      1         0        0          0  \n",
       "42496  42496      0         0        1          0  \n",
       "42497  42497      1         0        0          0  \n",
       "42498  42498      0         0        0          1  \n",
       "42499  42499      1         0        0          0  \n",
       "42500  42500      1         0        0          0  \n",
       "42501  42501      0         0        1          0  \n",
       "42502  42502      1         0        0          0  \n",
       "42503  42503      1         0        0          0  \n",
       "42504  42504      0         0        1          0  "
      ]
     },
     "execution_count": 544,
     "metadata": {},
     "output_type": "execute_result"
    }
   ],
   "source": [
    "new_df = new_df.join(new_df['Stance'].str.get_dummies())\n",
    "new_df"
   ]
  },
  {
   "cell_type": "code",
   "execution_count": 545,
   "metadata": {},
   "outputs": [
    {
     "data": {
      "text/html": [
       "<div>\n",
       "<style scoped>\n",
       "    .dataframe tbody tr th:only-of-type {\n",
       "        vertical-align: middle;\n",
       "    }\n",
       "\n",
       "    .dataframe tbody tr th {\n",
       "        vertical-align: top;\n",
       "    }\n",
       "\n",
       "    .dataframe thead th {\n",
       "        text-align: right;\n",
       "    }\n",
       "</style>\n",
       "<table border=\"1\" class=\"dataframe\">\n",
       "  <thead>\n",
       "    <tr style=\"text-align: right;\">\n",
       "      <th></th>\n",
       "      <th>Headline</th>\n",
       "      <th>Body ID</th>\n",
       "      <th>index</th>\n",
       "      <th>agree</th>\n",
       "      <th>disagree</th>\n",
       "      <th>discuss</th>\n",
       "      <th>unrelated</th>\n",
       "    </tr>\n",
       "  </thead>\n",
       "  <tbody>\n",
       "    <tr>\n",
       "      <th>42476</th>\n",
       "      <td>Christian Bale to play Steve Jobs in upcoming ...</td>\n",
       "      <td>2211</td>\n",
       "      <td>42476</td>\n",
       "      <td>0</td>\n",
       "      <td>1</td>\n",
       "      <td>0</td>\n",
       "      <td>0</td>\n",
       "    </tr>\n",
       "    <tr>\n",
       "      <th>42477</th>\n",
       "      <td>Report: Christian Bale Just Bailed on the Stev...</td>\n",
       "      <td>2211</td>\n",
       "      <td>42477</td>\n",
       "      <td>1</td>\n",
       "      <td>0</td>\n",
       "      <td>0</td>\n",
       "      <td>0</td>\n",
       "    </tr>\n",
       "    <tr>\n",
       "      <th>42478</th>\n",
       "      <td>Gold Apple Watch Edition price? Speculators sa...</td>\n",
       "      <td>2211</td>\n",
       "      <td>42478</td>\n",
       "      <td>0</td>\n",
       "      <td>0</td>\n",
       "      <td>0</td>\n",
       "      <td>1</td>\n",
       "    </tr>\n",
       "    <tr>\n",
       "      <th>42479</th>\n",
       "      <td>Christian Bale Is Steve Jobs</td>\n",
       "      <td>2211</td>\n",
       "      <td>42479</td>\n",
       "      <td>0</td>\n",
       "      <td>1</td>\n",
       "      <td>0</td>\n",
       "      <td>0</td>\n",
       "    </tr>\n",
       "    <tr>\n",
       "      <th>42480</th>\n",
       "      <td>Apple's New MacBook Will Be A Thinner, Cleaner...</td>\n",
       "      <td>2211</td>\n",
       "      <td>42480</td>\n",
       "      <td>0</td>\n",
       "      <td>0</td>\n",
       "      <td>0</td>\n",
       "      <td>1</td>\n",
       "    </tr>\n",
       "    <tr>\n",
       "      <th>42481</th>\n",
       "      <td>Christian Bale set to play Steve Jobs in forth...</td>\n",
       "      <td>2211</td>\n",
       "      <td>42481</td>\n",
       "      <td>0</td>\n",
       "      <td>1</td>\n",
       "      <td>0</td>\n",
       "      <td>0</td>\n",
       "    </tr>\n",
       "    <tr>\n",
       "      <th>42482</th>\n",
       "      <td>Passenger Wears A Hazmat Suit To Dulles Airpor...</td>\n",
       "      <td>2211</td>\n",
       "      <td>42482</td>\n",
       "      <td>0</td>\n",
       "      <td>0</td>\n",
       "      <td>0</td>\n",
       "      <td>1</td>\n",
       "    </tr>\n",
       "    <tr>\n",
       "      <th>42483</th>\n",
       "      <td>Why the Gold Apple Watch Edition Must Cost $10...</td>\n",
       "      <td>2211</td>\n",
       "      <td>42483</td>\n",
       "      <td>0</td>\n",
       "      <td>0</td>\n",
       "      <td>0</td>\n",
       "      <td>1</td>\n",
       "    </tr>\n",
       "    <tr>\n",
       "      <th>42484</th>\n",
       "      <td>Christian Bale In Talks To Play Steve Jobs In ...</td>\n",
       "      <td>2211</td>\n",
       "      <td>42484</td>\n",
       "      <td>0</td>\n",
       "      <td>1</td>\n",
       "      <td>0</td>\n",
       "      <td>0</td>\n",
       "    </tr>\n",
       "    <tr>\n",
       "      <th>42485</th>\n",
       "      <td>Christian Bale quits Steve Jobs movie</td>\n",
       "      <td>2211</td>\n",
       "      <td>42485</td>\n",
       "      <td>1</td>\n",
       "      <td>0</td>\n",
       "      <td>0</td>\n",
       "      <td>0</td>\n",
       "    </tr>\n",
       "    <tr>\n",
       "      <th>42486</th>\n",
       "      <td>Oscar winner Christian Bale to play Steve Jobs...</td>\n",
       "      <td>2211</td>\n",
       "      <td>42486</td>\n",
       "      <td>0</td>\n",
       "      <td>1</td>\n",
       "      <td>0</td>\n",
       "      <td>0</td>\n",
       "    </tr>\n",
       "    <tr>\n",
       "      <th>42487</th>\n",
       "      <td>Why the most expensive Apple Watch will probab...</td>\n",
       "      <td>2211</td>\n",
       "      <td>42487</td>\n",
       "      <td>0</td>\n",
       "      <td>0</td>\n",
       "      <td>0</td>\n",
       "      <td>1</td>\n",
       "    </tr>\n",
       "    <tr>\n",
       "      <th>42488</th>\n",
       "      <td>Who Should Play Steve Jobs Now That Christian ...</td>\n",
       "      <td>2211</td>\n",
       "      <td>42488</td>\n",
       "      <td>1</td>\n",
       "      <td>0</td>\n",
       "      <td>0</td>\n",
       "      <td>0</td>\n",
       "    </tr>\n",
       "    <tr>\n",
       "      <th>42489</th>\n",
       "      <td>Aaron Sorkin Confirms Christian Bale Will Play...</td>\n",
       "      <td>2211</td>\n",
       "      <td>42489</td>\n",
       "      <td>0</td>\n",
       "      <td>1</td>\n",
       "      <td>0</td>\n",
       "      <td>0</td>\n",
       "    </tr>\n",
       "    <tr>\n",
       "      <th>42490</th>\n",
       "      <td>Christian Bale passes on role of Steve Jobs, a...</td>\n",
       "      <td>2211</td>\n",
       "      <td>42490</td>\n",
       "      <td>1</td>\n",
       "      <td>0</td>\n",
       "      <td>0</td>\n",
       "      <td>0</td>\n",
       "    </tr>\n",
       "    <tr>\n",
       "      <th>42491</th>\n",
       "      <td>Batman Set To Play Steve Jobs In Upcoming Biopic</td>\n",
       "      <td>2211</td>\n",
       "      <td>42491</td>\n",
       "      <td>0</td>\n",
       "      <td>1</td>\n",
       "      <td>0</td>\n",
       "      <td>0</td>\n",
       "    </tr>\n",
       "    <tr>\n",
       "      <th>42492</th>\n",
       "      <td>Christian Bale Exits Steve Jobs Movie (Exclusive)</td>\n",
       "      <td>2211</td>\n",
       "      <td>42492</td>\n",
       "      <td>1</td>\n",
       "      <td>0</td>\n",
       "      <td>0</td>\n",
       "      <td>0</td>\n",
       "    </tr>\n",
       "    <tr>\n",
       "      <th>42493</th>\n",
       "      <td>Christian Bale Won't Play Steve Jobs After All</td>\n",
       "      <td>2211</td>\n",
       "      <td>42493</td>\n",
       "      <td>1</td>\n",
       "      <td>0</td>\n",
       "      <td>0</td>\n",
       "      <td>0</td>\n",
       "    </tr>\n",
       "    <tr>\n",
       "      <th>42494</th>\n",
       "      <td>Christian Bale in Talks to Star in Sony's Stev...</td>\n",
       "      <td>2211</td>\n",
       "      <td>42494</td>\n",
       "      <td>0</td>\n",
       "      <td>0</td>\n",
       "      <td>1</td>\n",
       "      <td>0</td>\n",
       "    </tr>\n",
       "    <tr>\n",
       "      <th>42495</th>\n",
       "      <td>Christian Bale Pulls Out of Upcoming Steve Job...</td>\n",
       "      <td>2211</td>\n",
       "      <td>42495</td>\n",
       "      <td>1</td>\n",
       "      <td>0</td>\n",
       "      <td>0</td>\n",
       "      <td>0</td>\n",
       "    </tr>\n",
       "    <tr>\n",
       "      <th>42496</th>\n",
       "      <td>Christian Bale in Talks to Play Steve Jobs (Ex...</td>\n",
       "      <td>2211</td>\n",
       "      <td>42496</td>\n",
       "      <td>0</td>\n",
       "      <td>0</td>\n",
       "      <td>1</td>\n",
       "      <td>0</td>\n",
       "    </tr>\n",
       "    <tr>\n",
       "      <th>42497</th>\n",
       "      <td>Christian Bale won't play Steve Jobs</td>\n",
       "      <td>2211</td>\n",
       "      <td>42497</td>\n",
       "      <td>1</td>\n",
       "      <td>0</td>\n",
       "      <td>0</td>\n",
       "      <td>0</td>\n",
       "    </tr>\n",
       "    <tr>\n",
       "      <th>42498</th>\n",
       "      <td>Would you pay $10,000 for the Apple Watch?</td>\n",
       "      <td>2211</td>\n",
       "      <td>42498</td>\n",
       "      <td>0</td>\n",
       "      <td>0</td>\n",
       "      <td>0</td>\n",
       "      <td>1</td>\n",
       "    </tr>\n",
       "    <tr>\n",
       "      <th>42499</th>\n",
       "      <td>That Was Fast: Christian Bale Bails on Steve J...</td>\n",
       "      <td>2211</td>\n",
       "      <td>42499</td>\n",
       "      <td>1</td>\n",
       "      <td>0</td>\n",
       "      <td>0</td>\n",
       "      <td>0</td>\n",
       "    </tr>\n",
       "    <tr>\n",
       "      <th>42500</th>\n",
       "      <td>Report: Christian Bale Drops Out Of Steve Jobs...</td>\n",
       "      <td>2211</td>\n",
       "      <td>42500</td>\n",
       "      <td>1</td>\n",
       "      <td>0</td>\n",
       "      <td>0</td>\n",
       "      <td>0</td>\n",
       "    </tr>\n",
       "    <tr>\n",
       "      <th>42501</th>\n",
       "      <td>Report: Christian Bale Will Play Steve Jobs</td>\n",
       "      <td>2211</td>\n",
       "      <td>42501</td>\n",
       "      <td>0</td>\n",
       "      <td>0</td>\n",
       "      <td>1</td>\n",
       "      <td>0</td>\n",
       "    </tr>\n",
       "    <tr>\n",
       "      <th>42502</th>\n",
       "      <td>Christian Bale Drops Out of Steve Jobs Biopic</td>\n",
       "      <td>2211</td>\n",
       "      <td>42502</td>\n",
       "      <td>1</td>\n",
       "      <td>0</td>\n",
       "      <td>0</td>\n",
       "      <td>0</td>\n",
       "    </tr>\n",
       "    <tr>\n",
       "      <th>42503</th>\n",
       "      <td>Christian Bale will not play Steve Jobs</td>\n",
       "      <td>2211</td>\n",
       "      <td>42503</td>\n",
       "      <td>1</td>\n",
       "      <td>0</td>\n",
       "      <td>0</td>\n",
       "      <td>0</td>\n",
       "    </tr>\n",
       "    <tr>\n",
       "      <th>42504</th>\n",
       "      <td>Christian Bale in Talks to Play Steve Jobs in ...</td>\n",
       "      <td>2211</td>\n",
       "      <td>42504</td>\n",
       "      <td>0</td>\n",
       "      <td>0</td>\n",
       "      <td>1</td>\n",
       "      <td>0</td>\n",
       "    </tr>\n",
       "  </tbody>\n",
       "</table>\n",
       "</div>"
      ],
      "text/plain": [
       "                                                Headline  Body ID  index  \\\n",
       "42476  Christian Bale to play Steve Jobs in upcoming ...     2211  42476   \n",
       "42477  Report: Christian Bale Just Bailed on the Stev...     2211  42477   \n",
       "42478  Gold Apple Watch Edition price? Speculators sa...     2211  42478   \n",
       "42479                       Christian Bale Is Steve Jobs     2211  42479   \n",
       "42480  Apple's New MacBook Will Be A Thinner, Cleaner...     2211  42480   \n",
       "42481  Christian Bale set to play Steve Jobs in forth...     2211  42481   \n",
       "42482  Passenger Wears A Hazmat Suit To Dulles Airpor...     2211  42482   \n",
       "42483  Why the Gold Apple Watch Edition Must Cost $10...     2211  42483   \n",
       "42484  Christian Bale In Talks To Play Steve Jobs In ...     2211  42484   \n",
       "42485              Christian Bale quits Steve Jobs movie     2211  42485   \n",
       "42486  Oscar winner Christian Bale to play Steve Jobs...     2211  42486   \n",
       "42487  Why the most expensive Apple Watch will probab...     2211  42487   \n",
       "42488  Who Should Play Steve Jobs Now That Christian ...     2211  42488   \n",
       "42489  Aaron Sorkin Confirms Christian Bale Will Play...     2211  42489   \n",
       "42490  Christian Bale passes on role of Steve Jobs, a...     2211  42490   \n",
       "42491   Batman Set To Play Steve Jobs In Upcoming Biopic     2211  42491   \n",
       "42492  Christian Bale Exits Steve Jobs Movie (Exclusive)     2211  42492   \n",
       "42493     Christian Bale Won't Play Steve Jobs After All     2211  42493   \n",
       "42494  Christian Bale in Talks to Star in Sony's Stev...     2211  42494   \n",
       "42495  Christian Bale Pulls Out of Upcoming Steve Job...     2211  42495   \n",
       "42496  Christian Bale in Talks to Play Steve Jobs (Ex...     2211  42496   \n",
       "42497               Christian Bale won't play Steve Jobs     2211  42497   \n",
       "42498         Would you pay $10,000 for the Apple Watch?     2211  42498   \n",
       "42499  That Was Fast: Christian Bale Bails on Steve J...     2211  42499   \n",
       "42500  Report: Christian Bale Drops Out Of Steve Jobs...     2211  42500   \n",
       "42501        Report: Christian Bale Will Play Steve Jobs     2211  42501   \n",
       "42502      Christian Bale Drops Out of Steve Jobs Biopic     2211  42502   \n",
       "42503            Christian Bale will not play Steve Jobs     2211  42503   \n",
       "42504  Christian Bale in Talks to Play Steve Jobs in ...     2211  42504   \n",
       "\n",
       "       agree  disagree  discuss  unrelated  \n",
       "42476      0         1        0          0  \n",
       "42477      1         0        0          0  \n",
       "42478      0         0        0          1  \n",
       "42479      0         1        0          0  \n",
       "42480      0         0        0          1  \n",
       "42481      0         1        0          0  \n",
       "42482      0         0        0          1  \n",
       "42483      0         0        0          1  \n",
       "42484      0         1        0          0  \n",
       "42485      1         0        0          0  \n",
       "42486      0         1        0          0  \n",
       "42487      0         0        0          1  \n",
       "42488      1         0        0          0  \n",
       "42489      0         1        0          0  \n",
       "42490      1         0        0          0  \n",
       "42491      0         1        0          0  \n",
       "42492      1         0        0          0  \n",
       "42493      1         0        0          0  \n",
       "42494      0         0        1          0  \n",
       "42495      1         0        0          0  \n",
       "42496      0         0        1          0  \n",
       "42497      1         0        0          0  \n",
       "42498      0         0        0          1  \n",
       "42499      1         0        0          0  \n",
       "42500      1         0        0          0  \n",
       "42501      0         0        1          0  \n",
       "42502      1         0        0          0  \n",
       "42503      1         0        0          0  \n",
       "42504      0         0        1          0  "
      ]
     },
     "execution_count": 545,
     "metadata": {},
     "output_type": "execute_result"
    }
   ],
   "source": [
    "new_df2 = new_df.drop(columns=['Stance'])\n",
    "new_df2"
   ]
  },
  {
   "cell_type": "markdown",
   "metadata": {},
   "source": [
    "### Data Visualization\n",
    "#### plot the agree and disagree "
   ]
  },
  {
   "cell_type": "code",
   "execution_count": 554,
   "metadata": {},
   "outputs": [
    {
     "data": {
      "text/plain": [
       "Text(0.5,1,'Disagree')"
      ]
     },
     "execution_count": 554,
     "metadata": {},
     "output_type": "execute_result"
    },
    {
     "data": {
      "image/png": "[encoded data removed]",
      "text/plain": [
       "<Figure size 432x288 with 2 Axes>"
      ]
     },
     "metadata": {},
     "output_type": "display_data"
    }
   ],
   "source": [
    "import matplotlib.pyplot as plt\n",
    "%matplotlib inline\n",
    "import seaborn as sns\n",
    "sns.set(style=\"darkgrid\")\n",
    "ax = plt.subplot(1,2,1)\n",
    "sns.countplot(x=\"agree\", data=new_df2, palette = sns.cubehelix_palette(n_colors = 7, start = 2.4, rot = .1), ax = ax)\n",
    "ax.set_title('Agree')\n",
    "\n",
    "ax = plt.subplot(1,2,2)\n",
    "sns.countplot(x=\"disagree\", data=new_df2, palette = sns.cubehelix_palette(n_colors = 7, start = 3, rot = .1), ax = ax)\n",
    "ax.set_title('Disagree')"
   ]
  },
  {
   "cell_type": "code",
   "execution_count": null,
   "metadata": {},
   "outputs": [],
   "source": []
  }
 ],
 "metadata": {
  "kernelspec": {
   "display_name": "Python 3",
   "language": "python",
   "name": "python3"
  },
  "language_info": {
   "codemirror_mode": {
    "name": "ipython",
    "version": 3
   },
   "file_extension": ".py",
   "mimetype": "text/x-python",
   "name": "python",
   "nbconvert_exporter": "python",
   "pygments_lexer": "ipython3",
   "version": "3.6.5"
  }
 },
 "nbformat": 4,
 "nbformat_minor": 2
}
